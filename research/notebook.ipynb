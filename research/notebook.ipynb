{
 "cells": [
  {
   "cell_type": "code",
   "execution_count": 3,
   "metadata": {},
   "outputs": [],
   "source": [
    "import os\n",
    "os.chdir('../')\n",
    "\n",
    "from research.utils import load_vocabulary, Tokenizer\n",
    "from research.scorer import Scorer\n",
    "from research.greedy_optimizer import GreedyOptimizer"
   ]
  },
  {
   "cell_type": "markdown",
   "metadata": {
    "collapsed": true
   },
   "source": [
    "### Model loading"
   ]
  },
  {
   "cell_type": "code",
   "execution_count": 4,
   "metadata": {},
   "outputs": [],
   "source": [
    "vocab = load_vocabulary()\n",
    "tokenizer = Tokenizer()\n",
    "scorer = Scorer()"
   ]
  },
  {
   "cell_type": "markdown",
   "metadata": {},
   "source": [
    "### Translation scoring"
   ]
  },
  {
   "cell_type": "code",
   "execution_count": 5,
   "metadata": {},
   "outputs": [
    {
     "name": "stdout",
     "output_type": "stream",
     "text": [
      "Translation scoring\n",
      "English sentence: I think that machine translation is very interesting subject.\n",
      "Translation from google translate to score: Ich denke, dass maschinelle Übersetzung ein sehr interessantes Thema ist.\n",
      "Log likehood of translation: -7.1561403\n"
     ]
    }
   ],
   "source": [
    "english_sentence = 'I think that machine translation is very interesting subject.'\n",
    "german_translation_from_google = 'Ich denke, dass maschinelle Übersetzung ein sehr interessantes Thema ist.'\n",
    "score = scorer.score_texts(english_sentence, german_translation_from_google)\n",
    "print('Translation scoring')\n",
    "print('English sentence:', english_sentence)\n",
    "print('Translation from google translate to score:', german_translation_from_google)\n",
    "print('Log likehood of translation:', score[0])"
   ]
  },
  {
   "cell_type": "markdown",
   "metadata": {},
   "source": [
    "### Predicting of next word in translation"
   ]
  },
  {
   "cell_type": "code",
   "execution_count": 6,
   "metadata": {},
   "outputs": [
    {
     "name": "stdout",
     "output_type": "stream",
     "text": [
      "English sentence: I think that machine translation is very interesting subject.\n",
      "Unfinished translation: Ich denke, dass maschinelle Übersetzung ein sehr\n",
      "Top 3 next tokens:  ▁interessante ▁interessant ▁Interessant\n"
     ]
    }
   ],
   "source": [
    "unfinished_translation = 'Ich denke, dass maschinelle Übersetzung ein sehr'\n",
    "english_tokens = tokenizer.tokenize(english_sentence)\n",
    "german_tokens = tokenizer.tokenize(unfinished_translation)\n",
    "next_word_probs = scorer.next_word_probabilities([english_tokens], [german_tokens])\n",
    "val, ind = next_word_probs.topk(3)\n",
    "print('English sentence:', english_sentence)\n",
    "print('Unfinished translation:', unfinished_translation )\n",
    "print('Top 3 next tokens: ', vocab.itos[ind[0,0].view(-1)], vocab.itos[ind[0,1].view(-1)], vocab.itos[ind[0,2].view(-1)])"
   ]
  },
  {
   "cell_type": "markdown",
   "metadata": {},
   "source": [
    "### Greedy optimization"
   ]
  },
  {
   "cell_type": "code",
   "execution_count": 12,
   "metadata": {},
   "outputs": [
    {
     "name": "stdout",
     "output_type": "stream",
     "text": [
      "English sentence: I think that machine translation is very interesting subject.\n",
      "Translated tokens ▁Ich ▁denke , ▁dass ▁die ▁ maschine lle ▁Übersetzung ▁sehr ▁interessant ▁ist .\n",
      "Log likehood of translation: -6.6289263\n"
     ]
    }
   ],
   "source": [
    "english_tokens = tokenizer.tokenize(english_sentence)\n",
    "optimizer = GreedyOptimizer(english_sentence)\n",
    "german_tokens = optimizer.optimize()[:-1]\n",
    "print('English sentence:', english_sentence)\n",
    "print('Translated tokens', ' '.join(german_tokens))\n",
    "print('Log likehood of translation:', scorer.score_tokenized_texts([english_tokens], [german_tokens])[0])"
   ]
  },
  {
   "cell_type": "code",
   "execution_count": null,
   "metadata": {},
   "outputs": [],
   "source": []
  }
 ],
 "metadata": {
  "kernelspec": {
   "display_name": "Python 3",
   "language": "python",
   "name": "python3"
  },
  "language_info": {
   "codemirror_mode": {
    "name": "ipython",
    "version": 3
   },
   "file_extension": ".py",
   "mimetype": "text/x-python",
   "name": "python",
   "nbconvert_exporter": "python",
   "pygments_lexer": "ipython3",
   "version": "3.6.5"
  }
 },
 "nbformat": 4,
 "nbformat_minor": 1
}
