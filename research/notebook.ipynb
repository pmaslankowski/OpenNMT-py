{
 "cells": [
  {
   "cell_type": "code",
   "execution_count": 1,
   "metadata": {},
   "outputs": [],
   "source": [
    "import os\n",
    "import subprocess\n",
    "import torch\n",
    "import re\n",
    "os.chdir('../')\n",
    "\n",
    "import numpy as np\n",
    "import matplotlib.pyplot as plt\n",
    "from scipy.stats import entropy\n",
    "\n",
    "from IPython.display import HTML as html_print\n",
    "from research.utils import load_vocabulary, Tokenizer, Aligner, RelaxedTargetField, OneHotEncoder, bleu\n",
    "from research.scorer import Scorer\n",
    "from research.greedy_optimizer import GreedyOptimizer\n",
    "from research.beam_optimizer import BeamOptimizer\n",
    "from research.continuous_optimizer import ContinuousOptimizer"
   ]
  },
  {
   "cell_type": "markdown",
   "metadata": {
    "collapsed": true
   },
   "source": [
    "### Model loading"
   ]
  },
  {
   "cell_type": "code",
   "execution_count": 2,
   "metadata": {},
   "outputs": [],
   "source": [
    "vocab = load_vocabulary()\n",
    "tokenizer = Tokenizer()\n",
    "scorer = Scorer()\n",
    "one_hot_encoder = OneHotEncoder(vocab)"
   ]
  },
  {
   "cell_type": "markdown",
   "metadata": {},
   "source": [
    "### Translation scoring"
   ]
  },
  {
   "cell_type": "code",
   "execution_count": 3,
   "metadata": {},
   "outputs": [
    {
     "name": "stdout",
     "output_type": "stream",
     "text": [
      "Translation scoring\n",
      "English sentence: I think, that machine translation is a very interesting subject.\n",
      "Translation from google translate to score: Ich denke, dass maschinelle Übersetzung ein sehr interessantes Thema ist.\n",
      "Log likehood of translation: -6.253188\n"
     ]
    }
   ],
   "source": [
    "english_sentence = 'I think, that machine translation is a very interesting subject.'\n",
    "german_translation_from_google = 'Ich denke, dass maschinelle Übersetzung ein sehr interessantes Thema ist.'\n",
    "score = scorer.score_texts(english_sentence, german_translation_from_google)\n",
    "print('Translation scoring')\n",
    "print('English sentence:', english_sentence)\n",
    "print('Translation from google translate to score:', german_translation_from_google)\n",
    "print('Log likehood of translation:', score[0])"
   ]
  },
  {
   "cell_type": "markdown",
   "metadata": {},
   "source": [
    "### Predicting of next word in translation"
   ]
  },
  {
   "cell_type": "code",
   "execution_count": 4,
   "metadata": {},
   "outputs": [
    {
     "name": "stdout",
     "output_type": "stream",
     "text": [
      "English sentence: I think, that machine translation is a very interesting subject.\n",
      "Unfinished translation: Ich denke, dass maschinelle Übersetzung ein sehr\n",
      "Top 3 next tokens:  ▁interessante ▁interessant ▁Interessant\n"
     ]
    }
   ],
   "source": [
    "unfinished_translation = 'Ich denke, dass maschinelle Übersetzung ein sehr'\n",
    "english_tokens = tokenizer.tokenize(english_sentence)\n",
    "german_tokens = tokenizer.tokenize(unfinished_translation)\n",
    "next_word_probs = scorer.next_word_probabilities([english_tokens], [german_tokens])\n",
    "val, ind = next_word_probs.topk(3)\n",
    "print('English sentence:', english_sentence)\n",
    "print('Unfinished translation:', unfinished_translation )\n",
    "print('Top 3 next tokens: ', vocab.itos[ind[0,0].view(-1)], vocab.itos[ind[0,1].view(-1)], vocab.itos[ind[0,2].view(-1)])"
   ]
  },
  {
   "cell_type": "markdown",
   "metadata": {},
   "source": [
    "### Greedy optimization"
   ]
  },
  {
   "cell_type": "code",
   "execution_count": 5,
   "metadata": {},
   "outputs": [
    {
     "name": "stdout",
     "output_type": "stream",
     "text": [
      "Optimizer initialized...\n",
      "English sentence: I think, that machine translation is a very interesting subject.\n",
      "Translated tokens ▁Ich ▁denke , ▁dass ▁die ▁ maschine lle ▁Übersetzung ▁ein ▁sehr ▁interessante s ▁Thema ▁ist .\n",
      "Log likehood of translation: -5.41\n"
     ]
    }
   ],
   "source": [
    "english_tokens = tokenizer.tokenize(english_sentence)\n",
    "optimizer = GreedyOptimizer(english_sentence)\n",
    "print('Optimizer initialized...')\n",
    "german_tokens = optimizer.optimize()[:-1]\n",
    "score = scorer.score_tokenized_texts([english_tokens], [german_tokens])[0]\n",
    "print('English sentence:', english_sentence)\n",
    "print('Translated tokens', ' '.join(german_tokens))\n",
    "print(f'Log likehood of translation: {score:.2f}')"
   ]
  },
  {
   "cell_type": "markdown",
   "metadata": {},
   "source": [
    "### Beam search optimization"
   ]
  },
  {
   "cell_type": "code",
   "execution_count": 6,
   "metadata": {},
   "outputs": [
    {
     "name": "stdout",
     "output_type": "stream",
     "text": [
      "Optimizer initialized...\n",
      "English sentence: I think, that machine translation is a very interesting subject.\n",
      "Top 15 translations:\n",
      "1. ▁Ich ▁denke , ▁dass ▁die ▁ maschine lle ▁Übersetzung ▁ein ▁sehr ▁interessante s ▁Thema ▁ist . [p = -5.41]\n",
      "2. ▁Ich ▁glaube , ▁dass ▁die ▁ maschine lle ▁Übersetzung ▁ein ▁sehr ▁interessante s ▁Thema ▁ist . [p = -5.74]\n",
      "3. ▁Ich ▁halte ▁die ▁ maschine lle ▁Übersetzung ▁für ▁ein ▁sehr ▁interessante s ▁Thema . [p = -5.77]\n",
      "4. ▁Ich ▁denke , ▁dass ▁ maschine lle ▁Übersetzung ▁ein ▁sehr ▁interessante s ▁Thema ▁ist . [p = -6.25]\n",
      "5. ▁Ich ▁glaube , ▁dass ▁ maschine lle ▁Übersetzung ▁ein ▁sehr ▁interessante s ▁Thema ▁ist . [p = -6.65]\n",
      "6. ▁Ich ▁finde , ▁dass ▁die ▁ maschine lle ▁Übersetzung ▁ein ▁sehr ▁interessante s ▁Thema ▁ist . [p = -6.70]\n",
      "7. ▁Ich ▁denke , ▁die ▁ maschine lle ▁Übersetzung ▁ist ▁ein ▁sehr ▁interessante s ▁Thema . [p = -6.87]\n",
      "8. ▁Meine s ▁Era chtens ▁ist ▁die ▁ maschine lle ▁Übersetzung ▁ein ▁sehr ▁interessante s ▁Thema . [p = -7.14]\n",
      "9. ▁Ich ▁denke , ▁dass ▁die ▁Maschinen über setzung ▁ein ▁sehr ▁interessante s ▁Thema ▁ist . [p = -7.23]\n",
      "10. ▁Ich ▁denke , ▁dass ▁die ▁Übersetzung ▁von ▁Maschinen ▁ein ▁sehr ▁interessante s ▁Thema ▁ist . [p = -7.51]\n",
      "11. ▁Ich ▁glaube , ▁dass ▁die ▁Übersetzung ▁von ▁Maschinen ▁ein ▁sehr ▁interessante s ▁Thema ▁ist . [p = -7.87]\n",
      "12. ▁Ich ▁denke , ▁dass ▁die ▁Übersetzung ▁der ▁Maschine ▁ein ▁sehr ▁interessante s ▁Thema ▁ist . [p = -8.20]\n",
      "13. ▁Ich ▁denke , ▁dass ▁das ▁Thema ▁der ▁ maschine llen ▁Übersetzung ▁sehr ▁interessant ▁ist . [p = -8.35]\n",
      "14. ▁Ich ▁glaube , ▁dass ▁das ▁Thema ▁der ▁ maschine llen ▁Übersetzung ▁sehr ▁interessant ▁ist . [p = -8.43]\n",
      "15. ▁Ich ▁denke , ▁dass ▁die ▁ maschine lle ▁Übersetzung ▁ein ▁sehr ▁interessante s ▁Thema ▁darstellt . [p = -9.08]\n",
      "Sanity check: log likehood of the best translation = -5.41\n"
     ]
    }
   ],
   "source": [
    "n_beams = 15\n",
    "english_tokens = tokenizer.tokenize(english_sentence)\n",
    "optimizer = BeamOptimizer(english_sentence, n_beams=n_beams)\n",
    "print('Optimizer initialized...')\n",
    "translations, probabilities = optimizer.optimize()\n",
    "print('English sentence:', english_sentence)\n",
    "print('Top', n_beams, 'translations:')\n",
    "for i, translation in enumerate(translations):\n",
    "    print(f\"{i+1}. {' '.join(translation[:-1])} [p = {probabilities[i]:.2f}]\")\n",
    "\n",
    "score = scorer.score_tokenized_texts([english_tokens], [translations[0][:-1]])[0]\n",
    "print(f'Sanity check: log likehood of the best translation = {score:.2f}')"
   ]
  },
  {
   "cell_type": "markdown",
   "metadata": {},
   "source": [
    "### Entropy of conditional probabilities for each word in different translations"
   ]
  },
  {
   "cell_type": "code",
   "execution_count": 7,
   "metadata": {},
   "outputs": [],
   "source": [
    "def plot_entropies(i):\n",
    "    plt.title('Entropy for each word in different translations')\n",
    "    plt.xlabel('Word number')\n",
    "    plt.ylabel('Entropy')\n",
    "    trans = translations[i][:-1]\n",
    "    logprobs = scorer.score_probabilities_for_each_word(english_tokens, trans)\n",
    "    probs = np.exp(logprobs)\n",
    "    words = list(range(probs.shape[0]))\n",
    "    entropies = [entropy(probs[k, :]) for k in words]\n",
    "    plt.scatter(words, entropies, label=f'Translation {i}')\n",
    "    print(f'Translation {i}:\\n{\" | \".join(trans)}')\n",
    "    print()\n",
    "    plt.legend()\n",
    "\n",
    "def plot_aligned_entropies(i, j):\n",
    "    plt.title('Entropy for each word in different translations (aligned)')\n",
    "    plt.xlabel('Word number')\n",
    "    plt.ylabel('Entropy')\n",
    "    \n",
    "    aligner = Aligner()\n",
    "    trans_i = translations[i][:-1]\n",
    "    trans_j = translations[j][:-1]\n",
    "    aligned_i, aligned_j = aligner.align(trans_i, trans_j)\n",
    "    \n",
    "    logprobs_i = scorer.score_probabilities_for_each_word(english_tokens, trans_i)\n",
    "    probs_i = np.exp(logprobs_i)\n",
    "    logprobs_j = scorer.score_probabilities_for_each_word(english_tokens, trans_j)\n",
    "    probs_j = np.exp(logprobs_j)\n",
    "\n",
    "    words = np.arange(len(aligned_i))\n",
    "    entropies_i = []\n",
    "    k = 0\n",
    "    for word in aligned_i:\n",
    "        if word == '[PLACEHOLDER]':\n",
    "            entropies_i += [-1.]\n",
    "        else:\n",
    "            entropies_i += [entropy(probs_i[k, :])]\n",
    "            k += 1\n",
    "    entropies_i = np.array(entropies_i)\n",
    "    \n",
    "    entropies_j = []\n",
    "    k = 0\n",
    "    for word in aligned_j:\n",
    "        if word == '[PLACEHOLDER]':\n",
    "            entropies_j += [-1.]\n",
    "        else:\n",
    "            entropies_j += [entropy(probs_j[k, :])]\n",
    "            k += 1\n",
    "    entropies_j = np.array(entropies_j)\n",
    "    \n",
    "    plt.scatter(words[entropies_i >= 0.], entropies_i[entropies_i >= 0.], label=f'Translation {i}')\n",
    "    plt.scatter(words[entropies_j >= 0.], entropies_j[entropies_j >= 0.], label=f'Translation {j}')\n",
    "    print(f'Translation {i}:\\n{\" | \".join(aligned_i)}')\n",
    "    print(f'Translation {j}:\\n{\" | \".join(aligned_j)}')\n",
    "    print()\n",
    "    plt.legend()\n",
    "    \n",
    "def plot_maxs(i):\n",
    "    plt.title('Max for each word in different translations')\n",
    "    plt.xlabel('Word number')\n",
    "    plt.ylabel('Max')\n",
    "    trans = translations[i][:-1]\n",
    "    logprobs = scorer.score_probabilities_for_each_word(english_tokens, trans)\n",
    "    probs = np.exp(logprobs)\n",
    "    words = list(range(probs.shape[0]))\n",
    "    entropies = [np.max(probs[k, :]) for k in words]\n",
    "    plt.scatter(words, entropies, label=f'Translation {i}')\n",
    "    print(f'Translation {i}:\\n{\" | \".join(trans)}')\n",
    "    print()\n",
    "    plt.legend()\n",
    "    \n",
    "def other_candidates(trans_idx, pos, N = 4):\n",
    "    trans = translations[trans_idx][:-1]\n",
    "    logprobs = scorer.score_probabilities_for_each_word(english_tokens, trans)\n",
    "    probs = np.exp(logprobs)\n",
    "    other_good_choices = np.argsort(probs[pos])[:-6:-1]\n",
    "    print('Best candidates on position', pos, ': ', ' '.join([vocab.itos[idx] for idx in other_good_choices]))\n",
    "    print('Coresponding probabilities:', [probs[pos][idx] for idx in other_good_choices])    "
   ]
  },
  {
   "cell_type": "markdown",
   "metadata": {},
   "source": [
    "#### Comparison of the best and the worst translation"
   ]
  },
  {
   "cell_type": "code",
   "execution_count": 8,
   "metadata": {
    "scrolled": true
   },
   "outputs": [
    {
     "name": "stdout",
     "output_type": "stream",
     "text": [
      "Translation 0:\n",
      "▁Ich | ▁denke | , | ▁dass | ▁die | ▁ | maschine | lle | ▁Übersetzung | ▁ein | ▁sehr | ▁interessante | s | ▁Thema | ▁ist | .\n",
      "\n",
      "Translation 9:\n",
      "▁Ich | ▁denke | , | ▁dass | ▁die | ▁Übersetzung | ▁von | ▁Maschinen | ▁ein | ▁sehr | ▁interessante | s | ▁Thema | ▁ist | .\n",
      "\n"
     ]
    },
    {
     "data": {
      "image/png": "[encoded data removed]",
      "text/plain": [
       "<Figure size 432x288 with 1 Axes>"
      ]
     },
     "metadata": {},
     "output_type": "display_data"
    }
   ],
   "source": [
    "for i in [0, 9]:\n",
    "    plot_entropies(i)\n",
    "plt.show()"
   ]
  },
  {
   "cell_type": "code",
   "execution_count": 9,
   "metadata": {},
   "outputs": [
    {
     "name": "stdout",
     "output_type": "stream",
     "text": [
      "Translation 0:\n",
      "▁Ich | ▁denke | , | ▁dass | ▁die | ▁ | maschine | lle | ▁Übersetzung | ▁ein | ▁sehr | ▁interessante | s | ▁Thema | ▁ist | .\n",
      "\n",
      "Translation 9:\n",
      "▁Ich | ▁denke | , | ▁dass | ▁die | ▁Übersetzung | ▁von | ▁Maschinen | ▁ein | ▁sehr | ▁interessante | s | ▁Thema | ▁ist | .\n",
      "\n"
     ]
    },
    {
     "data": {
      "image/png": "[encoded data removed]",
      "text/plain": [
       "<Figure size 432x288 with 1 Axes>"
      ]
     },
     "metadata": {},
     "output_type": "display_data"
    }
   ],
   "source": [
    "for i in [0, 9]:\n",
    "    plot_maxs(i)\n",
    "plt.show()"
   ]
  },
  {
   "cell_type": "markdown",
   "metadata": {},
   "source": [
    "Entropia z jakiegoś powodu jest bardzo słabą miarą (chyba, że bug). Entropia dla pozycji 0 w zdaniu 9 niewiele różni się od entropi na pozycji 1 w zdaniu 9, a te rozkłady są zupełnie różne (na pozycji 0 mamy tylko 1 prawdopodobną wartość, a na pozycji 1 aż 4). Przykład poniżej:"
   ]
  },
  {
   "cell_type": "markdown",
   "metadata": {},
   "source": [
    "#### Entropies of alligned sentences"
   ]
  },
  {
   "cell_type": "markdown",
   "metadata": {},
   "source": [
    "Best vs worst translation:"
   ]
  },
  {
   "cell_type": "code",
   "execution_count": 11,
   "metadata": {},
   "outputs": [
    {
     "name": "stdout",
     "output_type": "stream",
     "text": [
      "Translation 0:\n",
      "▁Ich | ▁denke | , | ▁dass | ▁die | ▁ | maschine | lle | ▁Übersetzung | ▁ein | ▁sehr | ▁interessante | s | ▁Thema | ▁ist | .\n",
      "Translation 9:\n",
      "▁Ich | ▁denke | , | ▁dass | ▁die | [PLACEHOLDER] | ▁Übersetzung | ▁von | ▁Maschinen | ▁ein | ▁sehr | ▁interessante | s | ▁Thema | ▁ist | .\n",
      "\n"
     ]
    },
    {
     "data": {
      "image/png": "[encoded data removed]",
      "text/plain": [
       "<Figure size 432x288 with 1 Axes>"
      ]
     },
     "metadata": {},
     "output_type": "display_data"
    }
   ],
   "source": [
    "plot_aligned_entropies(0, 9)"
   ]
  },
  {
   "cell_type": "markdown",
   "metadata": {},
   "source": [
    "Beam-10 vs Greedy translation:"
   ]
  },
  {
   "cell_type": "code",
   "execution_count": 12,
   "metadata": {
    "scrolled": true
   },
   "outputs": [
    {
     "name": "stdout",
     "output_type": "stream",
     "text": [
      "Translation 0:\n",
      "▁Ich | ▁denke | , | ▁dass | ▁die | ▁ | maschine | lle | ▁Übersetzung | ▁ein | ▁sehr | ▁interessante | s | ▁Thema | ▁ist | .\n",
      "Translation 3:\n",
      "▁Ich | ▁denke | , | ▁dass | [PLACEHOLDER] | ▁ | maschine | lle | ▁Übersetzung | ▁ein | ▁sehr | ▁interessante | s | ▁Thema | ▁ist | .\n",
      "\n"
     ]
    },
    {
     "data": {
      "image/png": "[encoded data removed]",
      "text/plain": [
       "<Figure size 432x288 with 1 Axes>"
      ]
     },
     "metadata": {},
     "output_type": "display_data"
    }
   ],
   "source": [
    "plot_aligned_entropies(0, 3)"
   ]
  },
  {
   "cell_type": "markdown",
   "metadata": {},
   "source": [
    "Similar translations:"
   ]
  },
  {
   "cell_type": "code",
   "execution_count": 13,
   "metadata": {},
   "outputs": [
    {
     "name": "stdout",
     "output_type": "stream",
     "text": [
      "Translation 3:\n",
      "▁Ich | ▁denke | , | ▁dass | ▁ | maschine | lle | ▁Übersetzung | ▁ein | ▁sehr | ▁interessante | s | ▁Thema | ▁ist | .\n",
      "Translation 4:\n",
      "▁Ich | ▁glaube | , | ▁dass | ▁ | maschine | lle | ▁Übersetzung | ▁ein | ▁sehr | ▁interessante | s | ▁Thema | ▁ist | .\n",
      "\n"
     ]
    },
    {
     "data": {
      "image/png": "[encoded data removed]",
      "text/plain": [
       "<Figure size 432x288 with 1 Axes>"
      ]
     },
     "metadata": {},
     "output_type": "display_data"
    }
   ],
   "source": [
    "plot_aligned_entropies(3, 4)"
   ]
  },
  {
   "cell_type": "code",
   "execution_count": 14,
   "metadata": {},
   "outputs": [
    {
     "name": "stdout",
     "output_type": "stream",
     "text": [
      "Best candidates on position 0 :  ▁Ich ▁Das ▁Die ▁Meiner ▁Meine\n",
      "Coresponding probabilities: [0.5988918, 0.060954917, 0.036728892, 0.024799734, 0.024179423]\n"
     ]
    }
   ],
   "source": [
    "other_candidates(9, 0)"
   ]
  },
  {
   "cell_type": "code",
   "execution_count": 152,
   "metadata": {},
   "outputs": [
    {
     "name": "stdout",
     "output_type": "stream",
     "text": [
      "Best candidates on position 1 :  ▁denke ▁glaube ▁halte ▁finde ▁bin\n",
      "Coresponding probabilities: [0.29839528, 0.25234625, 0.13621552, 0.10573821, 0.043860655]\n"
     ]
    }
   ],
   "source": [
    "other_candidates(9, 1)"
   ]
  },
  {
   "cell_type": "markdown",
   "metadata": {},
   "source": [
    "Zwróćmy też uwagę na niejednoznaczność tokenów: w miejscu, w którym wybieramy token _ prawdopodobieństwo jest małe, oraz entropia duża. Wynika to najprawdopodobniej z tego, że zamiast wybrać token _ , możemy wybrać cały token _ machinelle"
   ]
  },
  {
   "cell_type": "markdown",
   "metadata": {},
   "source": [
    "### Other probable candidates"
   ]
  },
  {
   "cell_type": "code",
   "execution_count": 154,
   "metadata": {},
   "outputs": [
    {
     "name": "stdout",
     "output_type": "stream",
     "text": [
      "Best candidates on position 1 :  ▁denke ▁glaube ▁halte ▁finde ▁bin\n",
      "Coresponding probabilities: [0.29839528, 0.25234625, 0.13621552, 0.10573821, 0.043860655]\n"
     ]
    }
   ],
   "source": [
    "other_candidates(3, 1)"
   ]
  },
  {
   "cell_type": "code",
   "execution_count": 153,
   "metadata": {},
   "outputs": [
    {
     "name": "stdout",
     "output_type": "stream",
     "text": [
      "Best candidates on position 4 :  ▁die ▁ ▁das ▁Maschinen ▁eine\n",
      "Coresponding probabilities: [0.4021218, 0.112477794, 0.079811126, 0.05037697, 0.028617628]\n"
     ]
    }
   ],
   "source": [
    "other_candidates(3, 4)"
   ]
  },
  {
   "cell_type": "code",
   "execution_count": 155,
   "metadata": {},
   "outputs": [
    {
     "name": "stdout",
     "output_type": "stream",
     "text": [
      "Best candidates on position 5 :  ▁ ▁Übersetzung ▁Maschinen ▁technische ▁Maschinenbau\n",
      "Coresponding probabilities: [0.4092544, 0.16365328, 0.06526854, 0.013711214, 0.0103740515]\n"
     ]
    }
   ],
   "source": [
    "other_candidates(3, 5)"
   ]
  },
  {
   "cell_type": "code",
   "execution_count": 156,
   "metadata": {},
   "outputs": [
    {
     "name": "stdout",
     "output_type": "stream",
     "text": [
      "Best candidates on position 12 :  . ▁Thema ▁Themen ▁Gegenstand ▁Subjekt\n",
      "Coresponding probabilities: [0.45098555, 0.357347, 0.021454206, 0.005650598, 0.0052555017]\n"
     ]
    }
   ],
   "source": [
    "other_candidates(3, 12)"
   ]
  },
  {
   "cell_type": "code",
   "execution_count": 9,
   "metadata": {},
   "outputs": [
    {
     "name": "stdout",
     "output_type": "stream",
     "text": [
      "Best candidates on position 5 :  lle llen ll ller elle\n",
      "Coresponding probabilities: [0.89663786, 0.026253838, 0.022556117, 0.012132816, 0.004152786]\n"
     ]
    }
   ],
   "source": [
    "other_candidates(0, 5)"
   ]
  },
  {
   "cell_type": "code",
   "execution_count": 15,
   "metadata": {},
   "outputs": [
    {
     "name": "stdout",
     "output_type": "stream",
     "text": [
      "Best candidates on position 0 :  ▁Ich ▁Das ▁Die ▁Meiner ▁Meine\n",
      "Coresponding probabilities: [0.5988918, 0.060954917, 0.036728892, 0.024799734, 0.024179423]\n"
     ]
    }
   ],
   "source": [
    "other_candidates(0, 0)"
   ]
  },
  {
   "cell_type": "markdown",
   "metadata": {},
   "source": [
    "### More difficult sentences:"
   ]
  },
  {
   "cell_type": "code",
   "execution_count": 3,
   "metadata": {},
   "outputs": [
    {
     "name": "stdout",
     "output_type": "stream",
     "text": [
      "Optimizer initialized...\n",
      "English sentence: Children begin by loving their parents; as they grow older they judge them; sometimes they forgive them.\n",
      "Top 30 translations:\n",
      "1. ▁Kinder ▁beginnen ▁damit , ▁ihre ▁Eltern ▁zu ▁lieben ; ▁wenn ▁sie ▁älte r ▁werden , ▁beurteilen ▁sie ▁sie ; ▁ manchmal ▁verz eihen ▁sie ▁sie ▁ihnen . [p = -11.66]\n",
      "2. ▁Kinder ▁beginnen ▁damit , ▁ihre ▁Eltern ▁zu ▁lieben ; ▁wenn ▁sie ▁älte r ▁werden , ▁beurteilen ▁sie ▁sie ; ▁ manchmal ▁vergeben ▁sie ▁ihnen . [p = -11.69]\n",
      "3. ▁Kinder ▁lieben ▁ihre ▁Eltern ; ▁wenn ▁sie ▁älte r ▁werden , ▁beurteilen ▁sie ▁sie ; ▁ manchmal ▁verz eihen ▁sie ▁sie ▁sie . [p = -11.72]\n",
      "4. ▁Kinder ▁beginnen , ▁ihre ▁Eltern ▁zu ▁lieben ; ▁wenn ▁sie ▁älte r ▁werden , ▁beurteilen ▁sie ▁sie ; ▁ manchmal ▁vergeben ▁sie ▁ihnen . [p = -11.73]\n",
      "5. ▁Kinder ▁beginnen , ▁ihre ▁Eltern ▁zu ▁lieben ; ▁wenn ▁sie ▁älte r ▁werden , ▁beurteilen ▁sie ▁sie ; ▁ manchmal ▁verz eihen ▁sie ▁sie ▁ihnen . [p = -11.83]\n",
      "6. ▁Kinder ▁beginnen ▁damit , ▁ihre ▁Eltern ▁zu ▁lieben ; ▁wenn ▁sie ▁älte r ▁werden , ▁beurteilen ▁sie ▁sie ; ▁ manchmal ▁vergeben ▁sie ▁sie ▁ihnen . [p = -11.85]\n",
      "7. ▁Kinder ▁beginnen , ▁ihre ▁Eltern ▁zu ▁lieben ; ▁wenn ▁sie ▁älte r ▁werden , ▁beurteilen ▁sie ▁sie ; ▁ manchmal ▁vergeben ▁sie ▁sie ▁ihnen . [p = -11.89]\n",
      "8. ▁Kinder ▁beginnen , ▁ihre ▁Eltern ▁zu ▁lieben ; ▁wenn ▁sie ▁älte r ▁werden , ▁beurteilen ▁sie ▁sie ; ▁ manchmal ▁verz eihen ▁sie ▁sie ▁sie . [p = -12.14]\n",
      "9. ▁Kinder ▁beginnen ▁damit , ▁ihre ▁Eltern ▁zu ▁lieben ; ▁wenn ▁sie ▁älte r ▁werden , ▁beurteilen ▁sie ▁sie ; ▁ manchmal ▁vergeben ▁sie ▁sie ▁sie . [p = -12.16]\n",
      "10. ▁Kinder ▁beginnen , ▁ihre ▁Eltern ▁zu ▁lieben ; ▁wenn ▁sie ▁älte r ▁werden , ▁beurteilen ▁sie ▁sie ; ▁ manchmal ▁vergeben ▁sie ▁sie ▁sie . [p = -12.35]\n",
      "11. ▁Kinder ▁beginnen ▁mit ▁der ▁Liebe ▁ihrer ▁Eltern ; ▁wenn ▁sie ▁älte r ▁werden , ▁beurteilen ▁sie ▁sie ; ▁ manchmal ▁vergeben ▁sie ▁ihnen . [p = -12.37]\n",
      "12. ▁Die ▁Kinder ▁beginnen , ▁ihre ▁Eltern ▁zu ▁lieben ; ▁wenn ▁sie ▁älte r ▁werden , ▁beurteilen ▁sie ▁sie ; ▁ manchmal ▁verz eihen ▁sie ▁sie ▁ihnen . [p = -12.38]\n",
      "13. ▁Kinder ▁beginnen ▁damit , ▁ihre ▁Eltern ▁zu ▁lieben ; ▁wenn ▁sie ▁älte r ▁werden , ▁beurteilen ▁sie ▁sie ; ▁ manchmal ▁verz eihen ▁sie ▁sie ▁sie . [p = -12.45]\n",
      "14. ▁Kinder ▁beginnen ▁damit , ▁ihre ▁Eltern ▁zu ▁lieben ; ▁da ▁sie ▁älte r ▁werden , ▁beurteilen ▁sie ▁sie ; ▁ manchmal ▁verz eihen ▁sie ▁sie ▁ihnen . [p = -12.49]\n",
      "15. ▁Kinder ▁beginnen ▁mit ▁der ▁Liebe ▁ihrer ▁Eltern ; ▁wenn ▁sie ▁älte r ▁werden , ▁beurteilen ▁sie ▁sie ; ▁ manchmal ▁vergeben ▁sie ▁sie ▁ihnen . [p = -12.54]\n",
      "16. ▁Die ▁Kinder ▁beginnen , ▁ihre ▁Eltern ▁zu ▁lieben ; ▁wenn ▁sie ▁älte r ▁werden , ▁beurteilen ▁sie ▁sie ; ▁ manchmal ▁vergeben ▁sie ▁ihnen . [p = -12.55]\n",
      "17. ▁Kinder ▁beginnen ▁mit ▁der ▁Liebe ▁ihrer ▁Eltern ; ▁wenn ▁sie ▁älte r ▁werden , ▁beurteilen ▁sie ▁sie ; ▁ manchmal ▁verz eihen ▁sie ▁sie ▁ihnen . [p = -12.55]\n",
      "18. ▁Die ▁Kinder ▁beginnen , ▁ihre ▁Eltern ▁zu ▁lieben ; ▁wenn ▁sie ▁älte r ▁werden , ▁beurteilen ▁sie ▁sie ; ▁ manchmal ▁vergeben ▁sie ▁sie ▁ihnen . [p = -12.62]\n",
      "19. ▁Die ▁Kinder ▁beginnen ▁damit , ▁ihre ▁Eltern ▁zu ▁lieben ; ▁wenn ▁sie ▁älte r ▁werden , ▁beurteilen ▁sie ▁sie ; ▁ manchmal ▁verz eihen ▁sie ▁sie ▁ihnen . [p = -12.63]\n",
      "20. ▁Kinder ▁beginnen ▁damit , ▁ihre ▁Eltern ▁zu ▁lieben ; ▁da ▁sie ▁älte r ▁werden , ▁beurteilen ▁sie ▁sie ; ▁ manchmal ▁vergeben ▁sie ▁ihnen . [p = -12.64]\n",
      "21. ▁Kinder ▁beginnen ▁damit , ▁ihre ▁Eltern ▁zu ▁lieben ; ▁wenn ▁sie ▁älte r ▁werden , ▁beurteilen ▁sie ▁sie , ▁ manchmal ▁vergeben ▁sie ▁ihnen . [p = -12.65]\n",
      "22. ▁Kinder ▁beginnen ▁damit , ▁ihre ▁Eltern ▁zu ▁lieben ; ▁da ▁sie ▁älte r ▁werden , ▁beurteilen ▁sie ▁sie ; ▁ manchmal ▁vergeben ▁sie ▁sie ▁ihnen . [p = -12.72]\n",
      "23. ▁Kinder ▁beginnen ▁mit ▁der ▁Liebe ▁ihrer ▁Eltern ; ▁wenn ▁sie ▁älte r ▁werden , ▁beurteilen ▁sie ▁sie ; ▁ manchmal ▁verz eihen ▁sie ▁sie ▁sie . [p = -12.76]\n",
      "24. ▁Die ▁Kinder ▁beginnen ▁damit , ▁ihre ▁Eltern ▁zu ▁lieben ; ▁wenn ▁sie ▁älte r ▁werden , ▁beurteilen ▁sie ▁sie ; ▁ manchmal ▁vergeben ▁sie ▁sie ▁ihnen . [p = -12.81]\n",
      "25. ▁Die ▁Kinder ▁beginnen ▁damit , ▁ihre ▁Eltern ▁zu ▁lieben ; ▁wenn ▁sie ▁älte r ▁werden , ▁beurteilen ▁sie ▁sie ; ▁ manchmal ▁vergeben ▁sie ▁ihnen . [p = -12.85]\n",
      "26. ▁Kinder ▁beginnen ▁damit , ▁ihre ▁Eltern ▁zu ▁lieben ; ▁wenn ▁sie ▁älte r ▁werden , ▁beurteilen ▁sie ▁sie ; ▁ manchmal ▁verz eihen ▁sie ▁sie . [p = -12.85]\n",
      "27. ▁Kinder ▁beginnen ▁damit , ▁ihre ▁Eltern ▁zu ▁lieben ; ▁wenn ▁sie ▁älte r ▁werden , ▁beurteilen ▁sie ▁sie ; ▁ manchmal ▁verz eihen ▁sie ▁ihnen . [p = -13.04]\n",
      "28. ▁Die ▁Kinder ▁beginnen ▁damit , ▁ihre ▁Eltern ▁zu ▁lieben ; ▁wenn ▁sie ▁älte r ▁werden , ▁beurteilen ▁sie ▁sie ; ▁ manchmal ▁vergeben ▁sie ▁sie ▁sie . [p = -13.10]\n",
      "29. ▁Kinder ▁beginnen ▁damit , ▁ihre ▁Eltern ▁zu ▁lieben ; ▁wenn ▁sie ▁älte r ▁werden , ▁beurteilen ▁sie ▁sie , ▁ manchmal ▁verz eihen ▁sie ▁sie ▁ihnen . [p = -13.17]\n",
      "30. ▁Die ▁Kinder ▁beginnen ▁damit , ▁ihre ▁Eltern ▁zu ▁lieben ; ▁da ▁sie ▁älte r ▁werden , ▁beurteilen ▁sie ▁sie ; ▁ manchmal ▁verz eihen ▁sie ▁sie ▁ihnen . [p = -13.37]\n",
      "Sanity check: log likehood of the best translation = -11.66\n"
     ]
    }
   ],
   "source": [
    "n_beams = 30\n",
    "english_sentence = 'Children begin by loving their parents; as they grow older they judge them; sometimes they forgive them.'\n",
    "english_tokens = tokenizer.tokenize(english_sentence)\n",
    "optimizer = BeamOptimizer(english_sentence, n_beams=n_beams)\n",
    "print('Optimizer initialized...')\n",
    "translations, probabilities = optimizer.optimize()\n",
    "print('English sentence:', english_sentence)\n",
    "print('Top', n_beams, 'translations:')\n",
    "for i, translation in enumerate(translations):\n",
    "    print(f\"{i+1}. {' '.join(translation[:-1])} [p = {probabilities[i]:.2f}]\")\n",
    "\n",
    "score = scorer.score_tokenized_texts([english_tokens], [translations[0][:-1]])[0]\n",
    "print(f'Sanity check: log likehood of the best translation = {score:.2f}')"
   ]
  },
  {
   "cell_type": "code",
   "execution_count": 4,
   "metadata": {},
   "outputs": [
    {
     "name": "stdout",
     "output_type": "stream",
     "text": [
      "Optimizer initialized...\n",
      "English sentence: Children begin by loving their parents; as they grow older they judge them; sometimes they forgive them.\n",
      "Top 1 translations:\n",
      "1. ▁Kinder ▁beginnen ▁damit , ▁ihre ▁Eltern ▁zu ▁lieben ; ▁wenn ▁sie ▁älte r ▁werden , ▁beurteilen ▁sie ▁sie ; ▁ manchmal ▁vergeben ▁sie ▁sie ▁ihnen . [p = -11.85]\n",
      "Sanity check: log likehood of the best translation = -11.85\n"
     ]
    }
   ],
   "source": [
    "n_beams = 1\n",
    "english_tokens = tokenizer.tokenize(english_sentence)\n",
    "optimizer = BeamOptimizer(english_sentence, n_beams=n_beams)\n",
    "print('Optimizer initialized...')\n",
    "translations, probabilities = optimizer.optimize()\n",
    "print('English sentence:', english_sentence)\n",
    "print('Top', n_beams, 'translations:')\n",
    "for i, translation in enumerate(translations):\n",
    "    print(f\"{i+1}. {' '.join(translation[:-1])} [p = {probabilities[i]:.2f}]\")\n",
    "\n",
    "score = scorer.score_tokenized_texts([english_tokens], [translations[0][:-1]])[0]\n",
    "print(f'Sanity check: log likehood of the best translation = {score:.2f}')"
   ]
  },
  {
   "cell_type": "code",
   "execution_count": 7,
   "metadata": {},
   "outputs": [
    {
     "name": "stdout",
     "output_type": "stream",
     "text": [
      "Optimizer initialized...\n",
      "English sentence: There is always something ridiculous about the emotions of people whom one has ceased to love.\n",
      "Top 30 translations:\n",
      "1. ▁Es ▁gibt ▁immer ▁etwas ▁Lä cherlich es ▁über ▁die ▁Emotion en ▁von ▁Menschen , ▁die ▁man ▁auf gehört ▁hat ▁zu ▁lieben . [p = -8.88]\n",
      "2. ▁Es ▁ist ▁immer ▁etwas ▁Lä cherlich es ▁an ▁den ▁Emotion en ▁von ▁Menschen , ▁die ▁man ▁auf gehört ▁hat ▁zu ▁lieben . [p = -9.00]\n",
      "3. ▁Es ▁gibt ▁immer ▁etwas ▁Lä cherlich es ▁an ▁den ▁Emotion en ▁von ▁Menschen , ▁die ▁man ▁auf gehört ▁hat ▁zu ▁lieben . [p = -9.06]\n",
      "4. ▁Es ▁ist ▁immer ▁etwas ▁Lä cherlich es ▁über ▁die ▁Emotion en ▁von ▁Menschen , ▁die ▁man ▁auf gehört ▁hat ▁zu ▁lieben . [p = -9.08]\n",
      "5. ▁Es ▁gibt ▁immer ▁etwas ▁Lä cherlich es ▁über ▁die ▁Emotion en ▁von ▁Menschen , ▁die ▁man ▁auf gehört ▁zu ▁lieben . [p = -9.32]\n",
      "6. ▁Es ▁gibt ▁immer ▁etwas ▁Lä cherlich es ▁über ▁die ▁Gefühl e ▁von ▁Menschen , ▁die ▁man ▁auf gehört ▁hat ▁zu ▁lieben . [p = -9.35]\n",
      "7. ▁Es ▁ist ▁immer ▁etwas ▁Lä cherlich es ▁über ▁die ▁Emotion en ▁von ▁Menschen , ▁die ▁man ▁auf gehört ▁zu ▁lieben . [p = -9.44]\n",
      "8. ▁Es ▁ist ▁immer ▁etwas ▁Lä cherlich es ▁an ▁den ▁Gefühl en ▁von ▁Menschen , ▁die ▁man ▁auf gehört ▁hat ▁zu ▁lieben . [p = -9.44]\n",
      "9. ▁Es ▁gibt ▁immer ▁etwas ▁Lä cherlich es ▁an ▁den ▁Gefühl en ▁von ▁Menschen , ▁die ▁man ▁auf gehört ▁hat ▁zu ▁lieben . [p = -9.44]\n",
      "10. ▁Es ▁ist ▁immer ▁etwas ▁Lä cherlich es ▁an ▁den ▁Emotion en ▁von ▁Menschen , ▁die ▁man ▁auf gehört ▁zu ▁lieben . [p = -9.45]\n",
      "11. ▁Es ▁gibt ▁immer ▁etwas ▁Lä cherlich es ▁über ▁die ▁Emotion en ▁von ▁Menschen , ▁die ▁man ▁nicht ▁mehr ▁lieben . [p = -9.52]\n",
      "12. ▁Es ▁ist ▁immer ▁etwas ▁lä cherlich ▁über ▁die ▁Emotion en ▁von ▁Menschen , ▁die ▁man ▁auf gehört ▁hat ▁zu ▁lieben . [p = -9.59]\n",
      "13. ▁Es ▁gibt ▁immer ▁etwas ▁Lä cherlich es ▁an ▁den ▁Emotion en ▁von ▁Menschen , ▁die ▁man ▁auf gehört ▁zu ▁lieben . [p = -9.60]\n",
      "14. ▁Es ▁ist ▁immer ▁etwas ▁Lä cherlich es ▁an ▁den ▁Emotion en ▁von ▁Menschen , ▁die ▁man ▁nicht ▁mehr ▁lieben . [p = -9.60]\n",
      "15. ▁Es ▁ist ▁immer ▁etwas ▁Lä cherlich es ▁über ▁die ▁Gefühl e ▁von ▁Menschen , ▁die ▁man ▁auf gehört ▁hat ▁zu ▁lieben . [p = -9.65]\n",
      "16. ▁Es ▁ist ▁immer ▁etwas ▁Lä cherlich es ▁über ▁die ▁Emotion en ▁von ▁Menschen , ▁die ▁man ▁nicht ▁mehr ▁lieben . [p = -9.71]\n",
      "17. ▁Es ▁ist ▁immer ▁etwas ▁lä cherlich ▁an ▁den ▁Emotion en ▁von ▁Menschen , ▁die ▁man ▁auf gehört ▁hat ▁zu ▁lieben . [p = -9.75]\n",
      "18. ▁Es ▁gibt ▁immer ▁etwas ▁Lä cherlich es ▁über ▁die ▁Gefühl e ▁von ▁Menschen , ▁die ▁man ▁auf gehört ▁zu ▁lieben . [p = -9.78]\n",
      "19. ▁Es ▁gibt ▁immer ▁etwas ▁Lä cherlich es ▁an ▁den ▁Emotion en ▁von ▁Menschen , ▁die ▁man ▁nicht ▁mehr ▁lieben . [p = -9.80]\n",
      "20. ▁Es ▁ist ▁immer ▁etwas ▁lä cherlich ▁über ▁die ▁Emotion en ▁von ▁Menschen , ▁die ▁man ▁auf gehört ▁zu ▁lieben . [p = -9.84]\n",
      "21. ▁Es ▁gibt ▁immer ▁etwas ▁Lä cherlich es ▁über ▁die ▁Gefühl e ▁von ▁Menschen , ▁die ▁man ▁nicht ▁mehr ▁lieben . [p = -9.94]\n",
      "22. ▁Es ▁ist ▁immer ▁etwas ▁Lä cherlich es ▁an ▁den ▁Gefühl en ▁von ▁Menschen , ▁die ▁man ▁auf gehört ▁zu ▁lieben . [p = -9.94]\n",
      "23. ▁Es ▁ist ▁immer ▁etwas ▁Lä cherlich es ▁an ▁den ▁Gefühl en ▁von ▁Menschen , ▁die ▁man ▁nicht ▁mehr ▁lieben . [p = -9.99]\n",
      "24. ▁Es ▁ist ▁immer ▁etwas ▁Lä cherlich es ▁über ▁die ▁Gefühl e ▁von ▁Menschen , ▁die ▁man ▁auf gehört ▁zu ▁lieben . [p = -10.00]\n",
      "25. ▁Es ▁gibt ▁immer ▁etwas ▁Lä cherlich es ▁an ▁den ▁Gefühl en ▁von ▁Menschen , ▁die ▁man ▁auf gehört ▁zu ▁lieben . [p = -10.04]\n",
      "26. ▁Es ▁ist ▁immer ▁etwas ▁lä cherlich ▁über ▁die ▁Gefühl e ▁von ▁Menschen , ▁die ▁man ▁auf gehört ▁hat ▁zu ▁lieben . [p = -10.05]\n",
      "27. ▁Es ▁gibt ▁immer ▁etwas ▁Lä cherlich es ▁an ▁den ▁Gefühl en ▁von ▁Menschen , ▁die ▁man ▁nicht ▁mehr ▁lieben . [p = -10.06]\n",
      "28. ▁Es ▁gibt ▁immer ▁etwas ▁Lä cherlich es ▁über ▁die ▁Emotion en ▁von ▁Menschen , ▁die ▁man ▁nicht ▁mehr ▁zu ▁lieben . [p = -10.26]\n",
      "29. ▁Es ▁ist ▁immer ▁etwas ▁Lä cherlich es ▁über ▁die ▁Emotion en ▁von ▁Menschen , ▁die ▁man ▁nicht ▁mehr ▁zu ▁lieben . [p = -10.27]\n",
      "30. ▁Es ▁ist ▁immer ▁etwas ▁Lä cherlich es ▁an ▁den ▁Emotion en ▁der ▁Menschen , ▁die ▁man ▁auf gehört ▁hat ▁zu ▁lieben . [p = -10.33]\n",
      "Sanity check: log likehood of the best translation = -8.88\n"
     ]
    }
   ],
   "source": [
    "n_beams = 30\n",
    "english_sentence = \"There is always something ridiculous about the emotions of people whom one has ceased to love.\"\n",
    "english_tokens = tokenizer.tokenize(english_sentence)\n",
    "optimizer = BeamOptimizer(english_sentence, n_beams=n_beams)\n",
    "print('Optimizer initialized...')\n",
    "translations, probabilities = optimizer.optimize()\n",
    "print('English sentence:', english_sentence)\n",
    "print('Top', n_beams, 'translations:')\n",
    "for i, translation in enumerate(translations):\n",
    "    print(f\"{i+1}. {' '.join(translation[:-1])} [p = {probabilities[i]:.2f}]\")\n",
    "\n",
    "score = scorer.score_tokenized_texts([english_tokens], [translations[0][:-1]])[0]\n",
    "print(f'Sanity check: log likehood of the best translation = {score:.2f}')"
   ]
  },
  {
   "cell_type": "code",
   "execution_count": 6,
   "metadata": {},
   "outputs": [
    {
     "name": "stdout",
     "output_type": "stream",
     "text": [
      "Optimizer initialized...\n",
      "English sentence: There is always something ridiculous about the emotions of people whom one has ceased to love.\n",
      "Top 1 translations:\n",
      "1. ▁Es ▁ist ▁immer ▁etwas ▁Lä cherlich es ▁an ▁den ▁Emotion en ▁von ▁Menschen , ▁die ▁man ▁nicht ▁mehr ▁lieben . [p = -9.60]\n",
      "Sanity check: log likehood of the best translation = -9.60\n"
     ]
    }
   ],
   "source": [
    "n_beams = 1\n",
    "english_sentence = \"There is always something ridiculous about the emotions of people whom one has ceased to love.\"\n",
    "english_tokens = tokenizer.tokenize(english_sentence)\n",
    "optimizer = BeamOptimizer(english_sentence, n_beams=n_beams)\n",
    "print('Optimizer initialized...')\n",
    "translations, probabilities = optimizer.optimize()\n",
    "print('English sentence:', english_sentence)\n",
    "print('Top', n_beams, 'translations:')\n",
    "for i, translation in enumerate(translations):\n",
    "    print(f\"{i+1}. {' '.join(translation[:-1])} [p = {probabilities[i]:.2f}]\")\n",
    "\n",
    "score = scorer.score_tokenized_texts([english_tokens], [translations[0][:-1]])[0]\n",
    "print(f'Sanity check: log likehood of the best translation = {score:.2f}')"
   ]
  },
  {
   "cell_type": "code",
   "execution_count": 3,
   "metadata": {},
   "outputs": [
    {
     "name": "stdout",
     "output_type": "stream",
     "text": [
      "Optimizer initialized...\n",
      "English sentence: I count him braver who overcomes his desires than him who conquers his enemies; for the hardest victory is over self.\n",
      "Top 10 translations:\n",
      "1. ▁Ich ▁z ähle ▁ihn ▁mut iger , ▁der ▁seine ▁Wünsche ▁über wind et ▁als ▁der , ▁der ▁seine ▁Fein de ▁erobert ; ▁denn ▁der ▁ härte ste ▁Sieg ▁ist ▁über ▁sich ▁selbst . [p = -9.36]\n",
      "2. ▁Ich ▁z ähle ▁ihn ▁mut iger , ▁der ▁seine ▁Wünsche ▁über wind et ▁als ▁er , ▁der ▁seine ▁Fein de ▁erobert ; ▁denn ▁der ▁ härte ste ▁Sieg ▁ist ▁über ▁sich ▁selbst . [p = -9.37]\n",
      "3. ▁Ich ▁z ähle ▁ihn ▁mut iger , ▁der ▁seine ▁Wünsche ▁über wind et ▁als ▁der j en ige , ▁der ▁seine ▁Fein de ▁erobert ; ▁denn ▁der ▁ härte ste ▁Sieg ▁ist ▁über ▁sich ▁selbst . [p = -9.54]\n",
      "4. ▁Ich ▁z ähle ▁ihn ▁mut iger , ▁der ▁seine ▁Wünsche ▁über wind et , ▁als ▁den , ▁der ▁seine ▁Fein de ▁erobert ; ▁denn ▁der ▁ härte ste ▁Sieg ▁ist ▁über ▁sich ▁selbst . [p = -9.68]\n",
      "5. ▁Ich ▁z ähle ▁ihn ▁mut iger , ▁der ▁seine ▁Wünsche ▁über wind et ▁als ▁er , ▁der ▁seine ▁Fein de ▁er ober t ; ▁denn ▁der ▁ härte ste ▁Sieg ▁ist ▁über ▁sich ▁selbst . [p = -10.36]\n",
      "6. ▁Ich ▁z ähle ▁ihn ▁mut iger , ▁der ▁seine ▁Wünsche ▁über wind et ▁als ▁der , ▁der ▁seine ▁Fein de ▁er ober t ; ▁denn ▁der ▁ härte ste ▁Sieg ▁ist ▁über ▁sich ▁selbst . [p = -10.46]\n",
      "7. ▁Ich ▁z ähle ▁ihn ▁mut iger , ▁der ▁seine ▁Wünsche ▁über wind et ▁als ▁der j en ige , ▁der ▁seine ▁Fein de ▁er ober t ; ▁denn ▁der ▁ härte ste ▁Sieg ▁ist ▁über ▁sich ▁selbst . [p = -10.73]\n",
      "8. ▁Ich ▁z ähle ▁ihn ▁mut iger , ▁der ▁seine ▁Wünsche ▁über wind et ▁als ▁der j en ige , ▁der ▁seine ▁Fein de ▁erobert ; ▁denn ▁der ▁schwer ste ▁Sieg ▁ist ▁über ▁sich ▁selbst . [p = -10.74]\n",
      "9. ▁Ich ▁z ähle ▁ihn ▁mut iger , ▁der ▁seine ▁Wünsche ▁über wind et ▁als ▁der j en ige , ▁der ▁seine ▁Fein de ▁besieg t ; ▁denn ▁der ▁ härte ste ▁Sieg ▁ist ▁über ▁sich ▁selbst . [p = -10.75]\n",
      "10. ▁Ich ▁z ähle ▁ihn ▁mut iger , ▁der ▁seine ▁Wünsche ▁über wind et , ▁als ▁den , ▁der ▁seine ▁Fein de ▁er ober t ; ▁denn ▁der ▁ härte ste ▁Sieg ▁ist ▁über ▁sich ▁selbst . [p = -10.77]\n",
      "Sanity check: log likehood of the best translation = -9.36\n"
     ]
    }
   ],
   "source": [
    "n_beams = 10\n",
    "english_sentence = \"I count him braver who overcomes his desires than him who conquers his enemies; for the hardest victory is over self.\"\n",
    "english_tokens = tokenizer.tokenize(english_sentence)\n",
    "optimizer = BeamOptimizer(english_sentence, n_beams=n_beams)\n",
    "print('Optimizer initialized...')\n",
    "translations, probabilities = optimizer.optimize()\n",
    "print('English sentence:', english_sentence)\n",
    "print('Top', n_beams, 'translations:')\n",
    "for i, translation in enumerate(translations):\n",
    "    print(f\"{i+1}. {' '.join(translation[:-1])} [p = {probabilities[i]:.2f}]\")\n",
    "\n",
    "score = scorer.score_tokenized_texts([english_tokens], [translations[0][:-1]])[0]\n",
    "print(f'Sanity check: log likehood of the best translation = {score:.2f}')"
   ]
  },
  {
   "cell_type": "code",
   "execution_count": 8,
   "metadata": {},
   "outputs": [
    {
     "name": "stdout",
     "output_type": "stream",
     "text": [
      "Optimizer initialized...\n",
      "English sentence: I count him braver who overcomes his desires than him who conquers his enemies; for the hardest victory is over self.\n",
      "Top 1 translations:\n",
      "1. ▁Ich ▁z ähle ▁ihn ▁mut iger , ▁der ▁seine ▁Wünsche ▁über wind et ▁als ▁der j en ige , ▁der ▁seine ▁Fein de ▁erobert ; ▁denn ▁der ▁ härte ste ▁Sieg ▁ist ▁über ▁sich ▁selbst . [p = -9.54]\n",
      "Sanity check: log likehood of the best translation = -9.54\n"
     ]
    }
   ],
   "source": [
    "n_beams = 1\n",
    "english_sentence = \"I count him braver who overcomes his desires than him who conquers his enemies; for the hardest victory is over self.\"\n",
    "english_tokens = tokenizer.tokenize(english_sentence)\n",
    "optimizer = BeamOptimizer(english_sentence, n_beams=n_beams)\n",
    "print('Optimizer initialized...')\n",
    "translations, probabilities = optimizer.optimize()\n",
    "print('English sentence:', english_sentence)\n",
    "print('Top', n_beams, 'translations:')\n",
    "for i, translation in enumerate(translations):\n",
    "    print(f\"{i+1}. {' '.join(translation[:-1])} [p = {probabilities[i]:.2f}]\")\n",
    "\n",
    "score = scorer.score_tokenized_texts([english_tokens], [translations[0][:-1]])[0]\n",
    "print(f'Sanity check: log likehood of the best translation = {score:.2f}')"
   ]
  },
  {
   "cell_type": "markdown",
   "metadata": {},
   "source": [
    "### Continuous optimization"
   ]
  },
  {
   "cell_type": "markdown",
   "metadata": {},
   "source": [
    "#### Uniform initialization"
   ]
  },
  {
   "cell_type": "code",
   "execution_count": 36,
   "metadata": {},
   "outputs": [
    {
     "name": "stdout",
     "output_type": "stream",
     "text": [
      "Optimization starts...\n",
      "Score at step  0 = tensor([24.4894], grad_fn=<NegBackward>) max grad component =  lr =  99.0\n",
      "Score at step  1 = tensor([24.4894], grad_fn=<NegBackward>) max grad component = tensor(0.0002) lr =  59.4\n",
      "Score at step  2 = tensor([24.4894], grad_fn=<NegBackward>) max grad component = tensor(0.0002) lr =  35.64\n",
      "Score at step  3 = tensor([24.4894], grad_fn=<NegBackward>) max grad component = tensor(0.0002) lr =  21.384\n",
      "Score at step  4 = tensor([24.4894], grad_fn=<NegBackward>) max grad component = tensor(0.0002) lr =  12.8304\n",
      "Score at step  5 = tensor([24.4894], grad_fn=<NegBackward>) max grad component = tensor(0.0002) lr =  7.698239999999999\n",
      "Score at step  6 = tensor([24.4894], grad_fn=<NegBackward>) max grad component = tensor(0.0002) lr =  4.618943999999999\n",
      "Score at step  7 = tensor([24.4894], grad_fn=<NegBackward>) max grad component = tensor(0.0002) lr =  2.7713663999999993\n",
      "Score at step  8 = tensor([24.4894], grad_fn=<NegBackward>) max grad component = tensor(0.0002) lr =  1.6628198399999996\n",
      "Score at step  9 = tensor([24.4894], grad_fn=<NegBackward>) max grad component = tensor(0.0002) lr =  0.9976919039999997\n",
      "Score at step  10 = tensor([24.4894], grad_fn=<NegBackward>) max grad component = tensor(0.0002) lr =  0.5986151423999998\n",
      "Score at step  11 = tensor([24.4894], grad_fn=<NegBackward>) max grad component = tensor(0.0002) lr =  0.35916908543999987\n",
      "Score at step  12 = tensor([24.4894], grad_fn=<NegBackward>) max grad component = tensor(0.0002) lr =  0.21550145126399992\n",
      "Score at step  13 = tensor([24.4894], grad_fn=<NegBackward>) max grad component = tensor(0.0002) lr =  0.12930087075839994\n",
      "Score at step  14 = tensor([24.4894], grad_fn=<NegBackward>) max grad component = tensor(0.0002) lr =  0.07758052245503996\n",
      "Score at step  15 = tensor([24.4894], grad_fn=<NegBackward>) max grad component = tensor(0.0002) lr =  0.046548313473023975\n",
      "Score at step  16 = tensor([24.4894], grad_fn=<NegBackward>) max grad component = tensor(0.0002) lr =  0.027928988083814384\n",
      "Score at step  17 = tensor([24.4894], grad_fn=<NegBackward>) max grad component = tensor(0.0002) lr =  0.01675739285028863\n",
      "Score at step  18 = tensor([24.4894], grad_fn=<NegBackward>) max grad component = tensor(0.0002) lr =  0.010054435710173178\n",
      "Score at step  19 = tensor([24.4894], grad_fn=<NegBackward>) max grad component = tensor(0.0002) lr =  0.006032661426103906\n",
      "Score at step  20 = tensor([24.4894], grad_fn=<NegBackward>) max grad component = tensor(0.0002) lr =  0.0036195968556623436\n",
      "Score at step  21 = tensor([24.4894], grad_fn=<NegBackward>) max grad component = tensor(0.0002) lr =  0.0021717581133974062\n",
      "Score at step  22 = tensor([24.4894], grad_fn=<NegBackward>) max grad component = tensor(0.0002) lr =  0.0013030548680384437\n",
      "Score at step  23 = tensor([24.4894], grad_fn=<NegBackward>) max grad component = tensor(0.0002) lr =  0.0007818329208230662\n",
      "Score at step  24 = tensor([24.4894], grad_fn=<NegBackward>) max grad component = tensor(0.0002) lr =  0.0004690997524938397\n",
      "Score at step  25 = tensor([24.4894], grad_fn=<NegBackward>) max grad component = tensor(0.0002) lr =  0.0002814598514963038\n",
      "Score at step  26 = tensor([24.4894], grad_fn=<NegBackward>) max grad component = tensor(0.0002) lr =  0.00016887591089778228\n",
      "Score at step  27 = tensor([24.4894], grad_fn=<NegBackward>) max grad component = tensor(0.0002) lr =  0.00010132554653866937\n",
      "Score at step  28 = tensor([24.4894], grad_fn=<NegBackward>) max grad component = tensor(0.0002) lr =  6.079532792320162e-05\n",
      "Score at step  29 = tensor([24.4894], grad_fn=<NegBackward>) max grad component = tensor(0.0002) lr =  3.6477196753920966e-05\n",
      "Score at step  30 = tensor([24.4894], grad_fn=<NegBackward>) max grad component = tensor(0.0002) lr =  2.188631805235258e-05\n",
      "Score at step  31 = tensor([24.4894], grad_fn=<NegBackward>) max grad component = tensor(0.0002) lr =  1.3131790831411547e-05\n",
      "Score at step  32 = tensor([24.4894], grad_fn=<NegBackward>) max grad component = tensor(0.0002) lr =  7.879074498846928e-06\n",
      "Score at step  33 = tensor([24.4894], grad_fn=<NegBackward>) max grad component = tensor(0.0002) lr =  4.727444699308157e-06\n",
      "Score at step  34 = tensor([24.4894], grad_fn=<NegBackward>) max grad component = tensor(0.0002) lr =  2.836466819584894e-06\n",
      "Score at step  35 = tensor([24.4894], grad_fn=<NegBackward>) max grad component = tensor(0.0002) lr =  1.7018800917509363e-06\n",
      "Score at step  36 = tensor([24.4894], grad_fn=<NegBackward>) max grad component = tensor(0.0002) lr =  1.0211280550505618e-06\n",
      "Score at step  37 = tensor([24.4894], grad_fn=<NegBackward>) max grad component = tensor(0.0002) lr =  6.12676833030337e-07\n",
      "Score at step  38 = tensor([24.4894], grad_fn=<NegBackward>) max grad component = tensor(0.0002) lr =  3.676060998182022e-07\n",
      "Score at step  39 = tensor([24.4894], grad_fn=<NegBackward>) max grad component = tensor(0.0002) lr =  2.2056365989092132e-07\n",
      "Score at step  40 = tensor([24.4894], grad_fn=<NegBackward>) max grad component = tensor(0.0002) lr =  1.3233819593455278e-07\n",
      "Score at step  41 = tensor([24.4894], grad_fn=<NegBackward>) max grad component = tensor(0.0002) lr =  7.940291756073167e-08\n",
      "Score at step  42 = tensor([24.4894], grad_fn=<NegBackward>) max grad component = tensor(0.0002) lr =  4.7641750536439e-08\n",
      "Score at step  43 = tensor([24.4894], grad_fn=<NegBackward>) max grad component = tensor(0.0002) lr =  2.8585050321863398e-08\n",
      "Score at step  44 = tensor([24.4894], grad_fn=<NegBackward>) max grad component = tensor(0.0002) lr =  1.7151030193118038e-08\n",
      "Score at step  45 = tensor([24.4894], grad_fn=<NegBackward>) max grad component = tensor(0.0002) lr =  1.0290618115870823e-08\n",
      "Score at step  46 = tensor([24.4894], grad_fn=<NegBackward>) max grad component = tensor(0.0002) lr =  6.1743708695224934e-09\n",
      "Score at step  47 = tensor([24.4894], grad_fn=<NegBackward>) max grad component = tensor(0.0002) lr =  3.704622521713496e-09\n",
      "Score at step  48 = tensor([24.4894], grad_fn=<NegBackward>) max grad component = tensor(0.0002) lr =  2.2227735130280976e-09\n",
      "Score at step  49 = tensor([24.4894], grad_fn=<NegBackward>) max grad component = tensor(0.0002) lr =  1.3336641078168584e-09\n",
      "Score at step  50 = tensor([24.4894], grad_fn=<NegBackward>) max grad component = tensor(0.0002) lr =  8.001984646901151e-10\n",
      "Score at step  51 = tensor([24.4894], grad_fn=<NegBackward>) max grad component = tensor(0.0002) lr =  4.80119078814069e-10\n",
      "Score at step  52 = tensor([24.4894], grad_fn=<NegBackward>) max grad component = tensor(0.0002) lr =  2.880714472884414e-10\n",
      "Score at step  53 = tensor([24.4894], grad_fn=<NegBackward>) max grad component = tensor(0.0002) lr =  1.728428683730648e-10\n",
      "Score at step  54 = tensor([24.4894], grad_fn=<NegBackward>) max grad component = tensor(0.0002) lr =  1.0370572102383888e-10\n",
      "Score at step  55 = tensor([24.4894], grad_fn=<NegBackward>) max grad component = tensor(0.0002) lr =  6.222343261430333e-11\n",
      "Score at step  56 = tensor([24.4894], grad_fn=<NegBackward>) max grad component = tensor(0.0002) lr =  3.733405956858199e-11\n",
      "Score at step  57 = tensor([24.4894], grad_fn=<NegBackward>) max grad component = tensor(0.0002) lr =  2.2400435741149196e-11\n",
      "Score at step  58 = tensor([24.4894], grad_fn=<NegBackward>) max grad component = tensor(0.0002) lr =  1.3440261444689517e-11\n",
      "Score at step  59 = tensor([24.4894], grad_fn=<NegBackward>) max grad component = tensor(0.0002) lr =  8.064156866813709e-12\n",
      "Score at step  60 = tensor([24.4894], grad_fn=<NegBackward>) max grad component = tensor(0.0002) lr =  4.838494120088225e-12\n",
      "Score at step  61 = tensor([24.4894], grad_fn=<NegBackward>) max grad component = tensor(0.0002) lr =  2.9030964720529352e-12\n",
      "Score at step  62 = tensor([24.4894], grad_fn=<NegBackward>) max grad component = tensor(0.0002) lr =  1.741857883231761e-12\n",
      "Score at step  63 = tensor([24.4894], grad_fn=<NegBackward>) max grad component = tensor(0.0002) lr =  1.0451147299390565e-12\n",
      "Score at step  64 = tensor([24.4894], grad_fn=<NegBackward>) max grad component = tensor(0.0002) lr =  6.270688379634339e-13\n",
      "Score at step  65 = tensor([24.4894], grad_fn=<NegBackward>) max grad component = tensor(0.0002) lr =  3.7624130277806035e-13\n",
      "Score at step  66 = tensor([24.4894], grad_fn=<NegBackward>) max grad component = tensor(0.0002) lr =  2.257447816668362e-13\n"
     ]
    },
    {
     "name": "stdout",
     "output_type": "stream",
     "text": [
      "Score at step  67 = tensor([24.4894], grad_fn=<NegBackward>) max grad component = tensor(0.0002) lr =  1.3544686900010173e-13\n",
      "Score at step  68 = tensor([24.4894], grad_fn=<NegBackward>) max grad component = tensor(0.0002) lr =  8.126812140006103e-14\n",
      "Score at step  69 = tensor([24.4894], grad_fn=<NegBackward>) max grad component = tensor(0.0002) lr =  4.876087284003662e-14\n",
      "Score at step  70 = tensor([24.4894], grad_fn=<NegBackward>) max grad component = tensor(0.0002) lr =  2.925652370402197e-14\n",
      "Score at step  71 = tensor([24.4894], grad_fn=<NegBackward>) max grad component = tensor(0.0002) lr =  1.7553914222413183e-14\n",
      "Score at step  72 = tensor([24.4894], grad_fn=<NegBackward>) max grad component = tensor(0.0002) lr =  1.053234853344791e-14\n",
      "Score at step  73 = tensor([24.4894], grad_fn=<NegBackward>) max grad component = tensor(0.0002) lr =  6.319409120068745e-15\n",
      "Score at step  74 = tensor([24.4894], grad_fn=<NegBackward>) max grad component = tensor(0.0002) lr =  3.791645472041247e-15\n",
      "Score at step  75 = tensor([24.4894], grad_fn=<NegBackward>) max grad component = tensor(0.0002) lr =  2.2749872832247482e-15\n",
      "Score at step  76 = tensor([24.4894], grad_fn=<NegBackward>) max grad component = tensor(0.0002) lr =  1.3649923699348489e-15\n",
      "Score at step  77 = tensor([24.4894], grad_fn=<NegBackward>) max grad component = tensor(0.0002) lr =  8.189954219609093e-16\n",
      "Score at step  78 = tensor([24.4894], grad_fn=<NegBackward>) max grad component = tensor(0.0002) lr =  4.913972531765455e-16\n",
      "Score at step  79 = tensor([24.4894], grad_fn=<NegBackward>) max grad component = tensor(0.0002) lr =  2.948383519059273e-16\n",
      "Score at step  80 = tensor([24.4894], grad_fn=<NegBackward>) max grad component = tensor(0.0002) lr =  1.7690301114355639e-16\n",
      "Score at step  81 = tensor([24.4894], grad_fn=<NegBackward>) max grad component = tensor(0.0002) lr =  1.0614180668613382e-16\n",
      "Score at step  82 = tensor([24.4894], grad_fn=<NegBackward>) max grad component = tensor(0.0002) lr =  6.368508401168029e-17\n",
      "Score at step  83 = tensor([24.4894], grad_fn=<NegBackward>) max grad component = tensor(0.0002) lr =  3.821105040700817e-17\n",
      "Score at step  84 = tensor([24.4894], grad_fn=<NegBackward>) max grad component = tensor(0.0002) lr =  2.2926630244204903e-17\n",
      "Score at step  85 = tensor([24.4894], grad_fn=<NegBackward>) max grad component = tensor(0.0002) lr =  1.3755978146522941e-17\n",
      "Score at step  86 = tensor([24.4894], grad_fn=<NegBackward>) max grad component = tensor(0.0002) lr =  8.253586887913764e-18\n",
      "Score at step  87 = tensor([24.4894], grad_fn=<NegBackward>) max grad component = tensor(0.0002) lr =  4.952152132748258e-18\n",
      "Score at step  88 = tensor([24.4894], grad_fn=<NegBackward>) max grad component = tensor(0.0002) lr =  2.9712912796489548e-18\n",
      "Score at step  89 = tensor([24.4894], grad_fn=<NegBackward>) max grad component = tensor(0.0002) lr =  1.782774767789373e-18\n",
      "Score at step  90 = tensor([24.4894], grad_fn=<NegBackward>) max grad component = tensor(0.0002) lr =  1.0696648606736238e-18\n",
      "Score at step  91 = tensor([24.4894], grad_fn=<NegBackward>) max grad component = tensor(0.0002) lr =  6.417989164041743e-19\n",
      "Score at step  92 = tensor([24.4894], grad_fn=<NegBackward>) max grad component = tensor(0.0002) lr =  3.8507934984250455e-19\n",
      "Score at step  93 = tensor([24.4894], grad_fn=<NegBackward>) max grad component = tensor(0.0002) lr =  2.310476099055027e-19\n",
      "Score at step  94 = tensor([24.4894], grad_fn=<NegBackward>) max grad component = tensor(0.0002) lr =  1.386285659433016e-19\n",
      "Score at step  95 = tensor([24.4894], grad_fn=<NegBackward>) max grad component = tensor(0.0002) lr =  8.317713956598096e-20\n",
      "Score at step  96 = tensor([24.4894], grad_fn=<NegBackward>) max grad component = tensor(0.0002) lr =  4.9906283739588574e-20\n",
      "Score at step  97 = tensor([24.4894], grad_fn=<NegBackward>) max grad component = tensor(0.0002) lr =  2.994377024375314e-20\n",
      "Score at step  98 = tensor([24.4894], grad_fn=<NegBackward>) max grad component = tensor(0.0002) lr =  1.7966262146251886e-20\n",
      "Score at step  99 = tensor([24.4894], grad_fn=<NegBackward>) max grad component = tensor(0.0002) lr =  1.0779757287751132e-20\n",
      "Score at step  100 = tensor([24.4894], grad_fn=<NegBackward>) max grad component = tensor(0.0002) lr =  6.467854372650679e-21\n",
      "Score at step  101 = tensor([24.4894], grad_fn=<NegBackward>) max grad component = tensor(0.0002) lr =  3.880712623590407e-21\n",
      "Score at step  102 = tensor([24.4894], grad_fn=<NegBackward>) max grad component = tensor(0.0002) lr =  2.328427574154244e-21\n",
      "Score at step  103 = tensor([24.4894], grad_fn=<NegBackward>) max grad component = tensor(0.0002) lr =  1.3970565444925465e-21\n",
      "Score at step  104 = tensor([24.4894], grad_fn=<NegBackward>) max grad component = tensor(0.0002) lr =  8.382339266955279e-22\n",
      "Score at step  105 = tensor([24.4894], grad_fn=<NegBackward>) max grad component = tensor(0.0002) lr =  5.0294035601731675e-22\n",
      "Score at step  106 = tensor([24.4894], grad_fn=<NegBackward>) max grad component = tensor(0.0002) lr =  3.0176421361039005e-22\n",
      "Score at step  107 = tensor([24.4894], grad_fn=<NegBackward>) max grad component = tensor(0.0002) lr =  1.8105852816623403e-22\n",
      "Score at step  108 = tensor([24.4894], grad_fn=<NegBackward>) max grad component = tensor(0.0002) lr =  1.0863511689974042e-22\n",
      "Score at step  109 = tensor([24.4894], grad_fn=<NegBackward>) max grad component = tensor(0.0002) lr =  6.518107013984425e-23\n",
      "Score at step  110 = tensor([24.4894], grad_fn=<NegBackward>) max grad component = tensor(0.0002) lr =  3.910864208390655e-23\n",
      "Score at step  111 = tensor([24.4894], grad_fn=<NegBackward>) max grad component = tensor(0.0002) lr =  2.346518525034393e-23\n",
      "Score at step  112 = tensor([24.4894], grad_fn=<NegBackward>) max grad component = tensor(0.0002) lr =  1.4079111150206355e-23\n",
      "Score at step  113 = tensor([24.4894], grad_fn=<NegBackward>) max grad component = tensor(0.0002) lr =  8.447466690123813e-24\n",
      "Score at step  114 = tensor([24.4894], grad_fn=<NegBackward>) max grad component = tensor(0.0002) lr =  5.068480014074288e-24\n",
      "Score at step  115 = tensor([24.4894], grad_fn=<NegBackward>) max grad component = tensor(0.0002) lr =  3.0410880084445728e-24\n",
      "Score at step  116 = tensor([24.4894], grad_fn=<NegBackward>) max grad component = tensor(0.0002) lr =  1.8246528050667436e-24\n",
      "Score at step  117 = tensor([24.4894], grad_fn=<NegBackward>) max grad component = tensor(0.0002) lr =  1.0947916830400462e-24\n",
      "Score at step  118 = tensor([24.4894], grad_fn=<NegBackward>) max grad component = tensor(0.0002) lr =  6.568750098240277e-25\n",
      "Score at step  119 = tensor([24.4894], grad_fn=<NegBackward>) max grad component = tensor(0.0002) lr =  3.941250058944166e-25\n",
      "Score at step  120 = tensor([24.4894], grad_fn=<NegBackward>) max grad component = tensor(0.0002) lr =  2.3647500353664997e-25\n",
      "Score at step  121 = tensor([24.4894], grad_fn=<NegBackward>) max grad component = tensor(0.0002) lr =  1.4188500212198997e-25\n",
      "Score at step  122 = tensor([24.4894], grad_fn=<NegBackward>) max grad component = tensor(0.0002) lr =  8.513100127319398e-26\n",
      "Score at step  123 = tensor([24.4894], grad_fn=<NegBackward>) max grad component = tensor(0.0002) lr =  5.107860076391639e-26\n",
      "Score at step  124 = tensor([24.4894], grad_fn=<NegBackward>) max grad component = tensor(0.0002) lr =  3.064716045834983e-26\n",
      "Score at step  125 = tensor([24.4894], grad_fn=<NegBackward>) max grad component = tensor(0.0002) lr =  1.83882962750099e-26\n",
      "Score at step  126 = tensor([24.4894], grad_fn=<NegBackward>) max grad component = tensor(0.0002) lr =  1.103297776500594e-26\n",
      "Score at step  127 = tensor([24.4894], grad_fn=<NegBackward>) max grad component = tensor(0.0002) lr =  6.619786659003563e-27\n",
      "Score at step  128 = tensor([24.4894], grad_fn=<NegBackward>) max grad component = tensor(0.0002) lr =  3.9718719954021375e-27\n",
      "Score at step  129 = tensor([24.4894], grad_fn=<NegBackward>) max grad component = tensor(0.0002) lr =  2.3831231972412826e-27\n",
      "Score at step  130 = tensor([24.4894], grad_fn=<NegBackward>) max grad component = tensor(0.0002) lr =  1.4298739183447696e-27\n",
      "Score at step  131 = tensor([24.4894], grad_fn=<NegBackward>) max grad component = tensor(0.0002) lr =  8.579243510068617e-28\n",
      "Score at step  132 = tensor([24.4894], grad_fn=<NegBackward>) max grad component = tensor(0.0002) lr =  5.14754610604117e-28\n",
      "Score at step  133 = tensor([24.4894], grad_fn=<NegBackward>) max grad component = tensor(0.0002) lr =  3.0885276636247017e-28\n"
     ]
    },
    {
     "name": "stdout",
     "output_type": "stream",
     "text": [
      "Score at step  134 = tensor([24.4894], grad_fn=<NegBackward>) max grad component = tensor(0.0002) lr =  1.853116598174821e-28\n",
      "Score at step  135 = tensor([24.4894], grad_fn=<NegBackward>) max grad component = tensor(0.0002) lr =  1.1118699589048926e-28\n",
      "Score at step  136 = tensor([24.4894], grad_fn=<NegBackward>) max grad component = tensor(0.0002) lr =  6.671219753429356e-29\n",
      "Score at step  137 = tensor([24.4894], grad_fn=<NegBackward>) max grad component = tensor(0.0002) lr =  4.0027318520576135e-29\n",
      "Score at step  138 = tensor([24.4894], grad_fn=<NegBackward>) max grad component = tensor(0.0002) lr =  2.401639111234568e-29\n",
      "Score at step  139 = tensor([24.4894], grad_fn=<NegBackward>) max grad component = tensor(0.0002) lr =  1.4409834667407408e-29\n",
      "Score at step  140 = tensor([24.4894], grad_fn=<NegBackward>) max grad component = tensor(0.0002) lr =  8.645900800444445e-30\n",
      "Score at step  141 = tensor([24.4894], grad_fn=<NegBackward>) max grad component = tensor(0.0002) lr =  5.187540480266667e-30\n",
      "Score at step  142 = tensor([24.4894], grad_fn=<NegBackward>) max grad component = tensor(0.0002) lr =  3.11252428816e-30\n",
      "Score at step  143 = tensor([24.4894], grad_fn=<NegBackward>) max grad component = tensor(0.0002) lr =  1.867514572896e-30\n",
      "Score at step  144 = tensor([24.4894], grad_fn=<NegBackward>) max grad component = tensor(0.0002) lr =  1.1205087437376e-30\n",
      "Score at step  145 = tensor([24.4894], grad_fn=<NegBackward>) max grad component = tensor(0.0002) lr =  6.723052462425599e-31\n",
      "Score at step  146 = tensor([24.4894], grad_fn=<NegBackward>) max grad component = tensor(0.0002) lr =  4.0338314774553595e-31\n",
      "Score at step  147 = tensor([24.4894], grad_fn=<NegBackward>) max grad component = tensor(0.0002) lr =  2.4202988864732154e-31\n",
      "Score at step  148 = tensor([24.4894], grad_fn=<NegBackward>) max grad component = tensor(0.0002) lr =  1.4521793318839292e-31\n",
      "Score at step  149 = tensor([24.4894], grad_fn=<NegBackward>) max grad component = tensor(0.0002) lr =  8.713075991303575e-32\n",
      "Score at step  150 = tensor([24.4894], grad_fn=<NegBackward>) max grad component = tensor(0.0002) lr =  5.227845594782145e-32\n",
      "Score at step  151 = tensor([24.4894], grad_fn=<NegBackward>) max grad component = tensor(0.0002) lr =  3.1367073568692866e-32\n",
      "Score at step  152 = tensor([24.4894], grad_fn=<NegBackward>) max grad component = tensor(0.0002) lr =  1.882024414121572e-32\n",
      "Score at step  153 = tensor([24.4894], grad_fn=<NegBackward>) max grad component = tensor(0.0002) lr =  1.1292146484729432e-32\n",
      "Score at step  154 = tensor([24.4894], grad_fn=<NegBackward>) max grad component = tensor(0.0002) lr =  6.775287890837659e-33\n",
      "Score at step  155 = tensor([24.4894], grad_fn=<NegBackward>) max grad component = tensor(0.0002) lr =  4.0651727345025953e-33\n",
      "Score at step  156 = tensor([24.4894], grad_fn=<NegBackward>) max grad component = tensor(0.0002) lr =  2.439103640701557e-33\n",
      "Score at step  157 = tensor([24.4894], grad_fn=<NegBackward>) max grad component = tensor(0.0002) lr =  1.4634621844209341e-33\n",
      "Score at step  158 = tensor([24.4894], grad_fn=<NegBackward>) max grad component = tensor(0.0002) lr =  8.780773106525605e-34\n",
      "Score at step  159 = tensor([24.4894], grad_fn=<NegBackward>) max grad component = tensor(0.0002) lr =  5.2684638639153624e-34\n",
      "Score at step  160 = tensor([24.4894], grad_fn=<NegBackward>) max grad component = tensor(0.0002) lr =  3.161078318349217e-34\n",
      "Score at step  161 = tensor([24.4894], grad_fn=<NegBackward>) max grad component = tensor(0.0002) lr =  1.8966469910095302e-34\n",
      "Score at step  162 = tensor([24.4894], grad_fn=<NegBackward>) max grad component = tensor(0.0002) lr =  1.1379881946057182e-34\n",
      "Score at step  163 = tensor([24.4894], grad_fn=<NegBackward>) max grad component = tensor(0.0002) lr =  6.827929167634309e-35\n",
      "Score at step  164 = tensor([24.4894], grad_fn=<NegBackward>) max grad component = tensor(0.0002) lr =  4.096757500580585e-35\n",
      "Score at step  165 = tensor([24.4894], grad_fn=<NegBackward>) max grad component = tensor(0.0002) lr =  2.458054500348351e-35\n",
      "Score at step  166 = tensor([24.4894], grad_fn=<NegBackward>) max grad component = tensor(0.0002) lr =  1.4748327002090104e-35\n",
      "Score at step  167 = tensor([24.4894], grad_fn=<NegBackward>) max grad component = tensor(0.0002) lr =  8.848996201254062e-36\n",
      "Score at step  168 = tensor([24.4894], grad_fn=<NegBackward>) max grad component = tensor(0.0002) lr =  5.3093977207524374e-36\n",
      "Score at step  169 = tensor([24.4894], grad_fn=<NegBackward>) max grad component = tensor(0.0002) lr =  3.185638632451462e-36\n",
      "Score at step  170 = tensor([24.4894], grad_fn=<NegBackward>) max grad component = tensor(0.0002) lr =  1.9113831794708772e-36\n",
      "Score at step  171 = tensor([24.4894], grad_fn=<NegBackward>) max grad component = tensor(0.0002) lr =  1.1468299076825262e-36\n",
      "Score at step  172 = tensor([24.4894], grad_fn=<NegBackward>) max grad component = tensor(0.0002) lr =  6.880979446095157e-37\n",
      "Score at step  173 = tensor([24.4894], grad_fn=<NegBackward>) max grad component = tensor(0.0002) lr =  4.128587667657094e-37\n",
      "Score at step  174 = tensor([24.4894], grad_fn=<NegBackward>) max grad component = tensor(0.0002) lr =  2.4771526005942564e-37\n",
      "Score at step  175 = tensor([24.4894], grad_fn=<NegBackward>) max grad component = tensor(0.0002) lr =  1.4862915603565537e-37\n",
      "Score at step  176 = tensor([24.4894], grad_fn=<NegBackward>) max grad component = tensor(0.0002) lr =  8.917749362139322e-38\n",
      "Score at step  177 = tensor([24.4894], grad_fn=<NegBackward>) max grad component = tensor(0.0002) lr =  5.350649617283593e-38\n",
      "Score at step  178 = tensor([24.4894], grad_fn=<NegBackward>) max grad component = tensor(0.0002) lr =  3.210389770370156e-38\n",
      "Score at step  179 = tensor([24.4894], grad_fn=<NegBackward>) max grad component = tensor(0.0002) lr =  1.9262338622220935e-38\n",
      "Score at step  180 = tensor([24.4894], grad_fn=<NegBackward>) max grad component = tensor(0.0002) lr =  1.155740317333256e-38\n",
      "Score at step  181 = tensor([24.4894], grad_fn=<NegBackward>) max grad component = tensor(0.0002) lr =  6.934441903999535e-39\n",
      "Score at step  182 = tensor([24.4894], grad_fn=<NegBackward>) max grad component = tensor(0.0002) lr =  4.160665142399721e-39\n",
      "Score at step  183 = tensor([24.4894], grad_fn=<NegBackward>) max grad component = tensor(0.0002) lr =  2.4963990854398326e-39\n",
      "Score at step  184 = tensor([24.4894], grad_fn=<NegBackward>) max grad component = tensor(0.0002) lr =  1.4978394512638996e-39\n",
      "Score at step  185 = tensor([24.4894], grad_fn=<NegBackward>) max grad component = tensor(0.0002) lr =  8.987036707583397e-40\n",
      "Score at step  186 = tensor([24.4894], grad_fn=<NegBackward>) max grad component = tensor(0.0002) lr =  5.392222024550038e-40\n",
      "Score at step  187 = tensor([24.4894], grad_fn=<NegBackward>) max grad component = tensor(0.0002) lr =  3.235333214730023e-40\n",
      "Score at step  188 = tensor([24.4894], grad_fn=<NegBackward>) max grad component = tensor(0.0002) lr =  1.9411999288380138e-40\n",
      "Score at step  189 = tensor([24.4894], grad_fn=<NegBackward>) max grad component = tensor(0.0002) lr =  1.1647199573028083e-40\n",
      "Score at step  190 = tensor([24.4894], grad_fn=<NegBackward>) max grad component = tensor(0.0002) lr =  6.98831974381685e-41\n",
      "Score at step  191 = tensor([24.4894], grad_fn=<NegBackward>) max grad component = tensor(0.0002) lr =  4.1929918462901096e-41\n",
      "Score at step  192 = tensor([24.4894], grad_fn=<NegBackward>) max grad component = tensor(0.0002) lr =  2.515795107774066e-41\n",
      "Score at step  193 = tensor([24.4894], grad_fn=<NegBackward>) max grad component = tensor(0.0002) lr =  1.5094770646644394e-41\n",
      "Score at step  194 = tensor([24.4894], grad_fn=<NegBackward>) max grad component = tensor(0.0002) lr =  9.056862387986636e-42\n",
      "Score at step  195 = tensor([24.4894], grad_fn=<NegBackward>) max grad component = tensor(0.0002) lr =  5.434117432791981e-42\n",
      "Score at step  196 = tensor([24.4894], grad_fn=<NegBackward>) max grad component = tensor(0.0002) lr =  3.260470459675189e-42\n",
      "Score at step  197 = tensor([24.4894], grad_fn=<NegBackward>) max grad component = tensor(0.0002) lr =  1.9562822758051133e-42\n",
      "Score at step  198 = tensor([24.4894], grad_fn=<NegBackward>) max grad component = tensor(0.0002) lr =  1.173769365483068e-42\n",
      "Score at step  199 = tensor([24.4894], grad_fn=<NegBackward>) max grad component = tensor(0.0002) lr =  7.042616192898407e-43\n"
     ]
    },
    {
     "name": "stdout",
     "output_type": "stream",
     "text": [
      "Score at step  200 = tensor([24.4894], grad_fn=<NegBackward>) max grad component = tensor(0.0002) lr =  4.225569715739044e-43\n",
      "Score at step  201 = tensor([24.4894], grad_fn=<NegBackward>) max grad component = tensor(0.0002) lr =  2.535341829443426e-43\n",
      "Score at step  202 = tensor([24.4894], grad_fn=<NegBackward>) max grad component = tensor(0.0002) lr =  1.5212050976660558e-43\n",
      "Score at step  203 = tensor([24.4894], grad_fn=<NegBackward>) max grad component = tensor(0.0002) lr =  9.127230585996333e-44\n",
      "Score at step  204 = tensor([24.4894], grad_fn=<NegBackward>) max grad component = tensor(0.0002) lr =  5.476338351597799e-44\n",
      "Score at step  205 = tensor([24.4894], grad_fn=<NegBackward>) max grad component = tensor(0.0002) lr =  3.2858030109586797e-44\n",
      "Score at step  206 = tensor([24.4894], grad_fn=<NegBackward>) max grad component = tensor(0.0002) lr =  1.9714818065752077e-44\n",
      "Score at step  207 = tensor([24.4894], grad_fn=<NegBackward>) max grad component = tensor(0.0002) lr =  1.1828890839451247e-44\n",
      "Score at step  208 = tensor([24.4894], grad_fn=<NegBackward>) max grad component = tensor(0.0002) lr =  7.097334503670747e-45\n",
      "Score at step  209 = tensor([24.4894], grad_fn=<NegBackward>) max grad component = tensor(0.0002) lr =  4.258400702202448e-45\n",
      "Score at step  210 = tensor([24.4894], grad_fn=<NegBackward>) max grad component = tensor(0.0002) lr =  2.5550404213214687e-45\n",
      "Score at step  211 = tensor([24.4894], grad_fn=<NegBackward>) max grad component = tensor(0.0002) lr =  1.5330242527928812e-45\n",
      "Score at step  212 = tensor([24.4894], grad_fn=<NegBackward>) max grad component = tensor(0.0002) lr =  9.198145516757287e-46\n",
      "Score at step  213 = tensor([24.4894], grad_fn=<NegBackward>) max grad component = tensor(0.0002) lr =  5.518887310054372e-46\n",
      "Score at step  214 = tensor([24.4894], grad_fn=<NegBackward>) max grad component = tensor(0.0002) lr =  3.3113323860326232e-46\n",
      "Score at step  215 = tensor([24.4894], grad_fn=<NegBackward>) max grad component = tensor(0.0002) lr =  1.9867994316195737e-46\n",
      "Score at step  216 = tensor([24.4894], grad_fn=<NegBackward>) max grad component = tensor(0.0002) lr =  1.1920796589717442e-46\n",
      "Score at step  217 = tensor([24.4894], grad_fn=<NegBackward>) max grad component = tensor(0.0002) lr =  7.152477953830465e-47\n",
      "Score at step  218 = tensor([24.4894], grad_fn=<NegBackward>) max grad component = tensor(0.0002) lr =  4.2914867722982787e-47\n",
      "Score at step  219 = tensor([24.4894], grad_fn=<NegBackward>) max grad component = tensor(0.0002) lr =  2.5748920633789673e-47\n",
      "Score at step  220 = tensor([24.4894], grad_fn=<NegBackward>) max grad component = tensor(0.0002) lr =  1.5449352380273802e-47\n",
      "Score at step  221 = tensor([24.4894], grad_fn=<NegBackward>) max grad component = tensor(0.0002) lr =  9.269611428164281e-48\n",
      "Score at step  222 = tensor([24.4894], grad_fn=<NegBackward>) max grad component = tensor(0.0002) lr =  5.561766856898568e-48\n",
      "Score at step  223 = tensor([24.4894], grad_fn=<NegBackward>) max grad component = tensor(0.0002) lr =  3.3370601141391407e-48\n",
      "Score at step  224 = tensor([24.4894], grad_fn=<NegBackward>) max grad component = tensor(0.0002) lr =  2.0022360684834844e-48\n",
      "Score at step  225 = tensor([24.4894], grad_fn=<NegBackward>) max grad component = tensor(0.0002) lr =  1.2013416410900906e-48\n",
      "Score at step  226 = tensor([24.4894], grad_fn=<NegBackward>) max grad component = tensor(0.0002) lr =  7.208049846540544e-49\n",
      "Score at step  227 = tensor([24.4894], grad_fn=<NegBackward>) max grad component = tensor(0.0002) lr =  4.3248299079243266e-49\n",
      "Score at step  228 = tensor([24.4894], grad_fn=<NegBackward>) max grad component = tensor(0.0002) lr =  2.594897944754596e-49\n",
      "Score at step  229 = tensor([24.4894], grad_fn=<NegBackward>) max grad component = tensor(0.0002) lr =  1.5569387668527576e-49\n",
      "Score at step  230 = tensor([24.4894], grad_fn=<NegBackward>) max grad component = tensor(0.0002) lr =  9.341632601116546e-50\n",
      "Score at step  231 = tensor([24.4894], grad_fn=<NegBackward>) max grad component = tensor(0.0002) lr =  5.604979560669927e-50\n",
      "Score at step  232 = tensor([24.4894], grad_fn=<NegBackward>) max grad component = tensor(0.0002) lr =  3.3629877364019564e-50\n",
      "Score at step  233 = tensor([24.4894], grad_fn=<NegBackward>) max grad component = tensor(0.0002) lr =  2.0177926418411739e-50\n",
      "Score at step  234 = tensor([24.4894], grad_fn=<NegBackward>) max grad component = tensor(0.0002) lr =  1.2106755851047043e-50\n",
      "Score at step  235 = tensor([24.4894], grad_fn=<NegBackward>) max grad component = tensor(0.0002) lr =  7.264053510628226e-51\n",
      "Score at step  236 = tensor([24.4894], grad_fn=<NegBackward>) max grad component = tensor(0.0002) lr =  4.3584321063769353e-51\n",
      "Score at step  237 = tensor([24.4894], grad_fn=<NegBackward>) max grad component = tensor(0.0002) lr =  2.6150592638261612e-51\n",
      "Score at step  238 = tensor([24.4894], grad_fn=<NegBackward>) max grad component = tensor(0.0002) lr =  1.5690355582956967e-51\n",
      "Score at step  239 = tensor([24.4894], grad_fn=<NegBackward>) max grad component = tensor(0.0002) lr =  9.41421334977418e-52\n",
      "Score at step  240 = tensor([24.4894], grad_fn=<NegBackward>) max grad component = tensor(0.0002) lr =  5.648528009864508e-52\n",
      "Score at step  241 = tensor([24.4894], grad_fn=<NegBackward>) max grad component = tensor(0.0002) lr =  3.3891168059187045e-52\n",
      "Score at step  242 = tensor([24.4894], grad_fn=<NegBackward>) max grad component = tensor(0.0002) lr =  2.0334700835512227e-52\n",
      "Score at step  243 = tensor([24.4894], grad_fn=<NegBackward>) max grad component = tensor(0.0002) lr =  1.2200820501307336e-52\n",
      "Score at step  244 = tensor([24.4894], grad_fn=<NegBackward>) max grad component = tensor(0.0002) lr =  7.320492300784401e-53\n",
      "Score at step  245 = tensor([24.4894], grad_fn=<NegBackward>) max grad component = tensor(0.0002) lr =  4.392295380470641e-53\n",
      "Score at step  246 = tensor([24.4894], grad_fn=<NegBackward>) max grad component = tensor(0.0002) lr =  2.6353772282823845e-53\n",
      "Score at step  247 = tensor([24.4894], grad_fn=<NegBackward>) max grad component = tensor(0.0002) lr =  1.5812263369694307e-53\n",
      "Score at step  248 = tensor([24.4894], grad_fn=<NegBackward>) max grad component = tensor(0.0002) lr =  9.487358021816584e-54\n",
      "Score at step  249 = tensor([24.4894], grad_fn=<NegBackward>) max grad component = tensor(0.0002) lr =  5.69241481308995e-54\n",
      "Score at step  250 = tensor([24.4894], grad_fn=<NegBackward>) max grad component = tensor(0.0002) lr =  3.41544888785397e-54\n",
      "Score at step  251 = tensor([24.4894], grad_fn=<NegBackward>) max grad component = tensor(0.0002) lr =  2.049269332712382e-54\n",
      "Score at step  252 = tensor([24.4894], grad_fn=<NegBackward>) max grad component = tensor(0.0002) lr =  1.229561599627429e-54\n",
      "Score at step  253 = tensor([24.4894], grad_fn=<NegBackward>) max grad component = tensor(0.0002) lr =  7.377369597764574e-55\n",
      "Score at step  254 = tensor([24.4894], grad_fn=<NegBackward>) max grad component = tensor(0.0002) lr =  4.426421758658744e-55\n",
      "Score at step  255 = tensor([24.4894], grad_fn=<NegBackward>) max grad component = tensor(0.0002) lr =  2.6558530551952465e-55\n",
      "Score at step  256 = tensor([24.4894], grad_fn=<NegBackward>) max grad component = tensor(0.0002) lr =  1.5935118331171479e-55\n",
      "Score at step  257 = tensor([24.4894], grad_fn=<NegBackward>) max grad component = tensor(0.0002) lr =  9.561070998702888e-56\n",
      "Score at step  258 = tensor([24.4894], grad_fn=<NegBackward>) max grad component = tensor(0.0002) lr =  5.736642599221733e-56\n",
      "Score at step  259 = tensor([24.4894], grad_fn=<NegBackward>) max grad component = tensor(0.0002) lr =  3.4419855595330397e-56\n",
      "Score at step  260 = tensor([24.4894], grad_fn=<NegBackward>) max grad component = tensor(0.0002) lr =  2.065191335719824e-56\n",
      "Score at step  261 = tensor([24.4894], grad_fn=<NegBackward>) max grad component = tensor(0.0002) lr =  1.2391148014318942e-56\n",
      "Score at step  262 = tensor([24.4894], grad_fn=<NegBackward>) max grad component = tensor(0.0002) lr =  7.434688808591365e-57\n",
      "Score at step  263 = tensor([24.4894], grad_fn=<NegBackward>) max grad component = tensor(0.0002) lr =  4.4608132851548185e-57\n",
      "Score at step  264 = tensor([24.4894], grad_fn=<NegBackward>) max grad component = tensor(0.0002) lr =  2.676487971092891e-57\n",
      "Score at step  265 = tensor([24.4894], grad_fn=<NegBackward>) max grad component = tensor(0.0002) lr =  1.6058927826557346e-57\n"
     ]
    },
    {
     "name": "stdout",
     "output_type": "stream",
     "text": [
      "Score at step  266 = tensor([24.4894], grad_fn=<NegBackward>) max grad component = tensor(0.0002) lr =  9.635356695934406e-58\n",
      "Score at step  267 = tensor([24.4894], grad_fn=<NegBackward>) max grad component = tensor(0.0002) lr =  5.7812140175606435e-58\n",
      "Score at step  268 = tensor([24.4894], grad_fn=<NegBackward>) max grad component = tensor(0.0002) lr =  3.468728410536386e-58\n",
      "Score at step  269 = tensor([24.4894], grad_fn=<NegBackward>) max grad component = tensor(0.0002) lr =  2.0812370463218313e-58\n",
      "Score at step  270 = tensor([24.4894], grad_fn=<NegBackward>) max grad component = tensor(0.0002) lr =  1.2487422277930988e-58\n",
      "Score at step  271 = tensor([24.4894], grad_fn=<NegBackward>) max grad component = tensor(0.0002) lr =  7.492453366758592e-59\n",
      "Score at step  272 = tensor([24.4894], grad_fn=<NegBackward>) max grad component = tensor(0.0002) lr =  4.495472020055155e-59\n",
      "Score at step  273 = tensor([24.4894], grad_fn=<NegBackward>) max grad component = tensor(0.0002) lr =  2.697283212033093e-59\n",
      "Score at step  274 = tensor([24.4894], grad_fn=<NegBackward>) max grad component = tensor(0.0002) lr =  1.6183699272198558e-59\n",
      "Score at step  275 = tensor([24.4894], grad_fn=<NegBackward>) max grad component = tensor(0.0002) lr =  9.710219563319135e-60\n",
      "Score at step  276 = tensor([24.4894], grad_fn=<NegBackward>) max grad component = tensor(0.0002) lr =  5.826131737991481e-60\n",
      "Score at step  277 = tensor([24.4894], grad_fn=<NegBackward>) max grad component = tensor(0.0002) lr =  3.4956790427948885e-60\n",
      "Score at step  278 = tensor([24.4894], grad_fn=<NegBackward>) max grad component = tensor(0.0002) lr =  2.097407425676933e-60\n",
      "Score at step  279 = tensor([24.4894], grad_fn=<NegBackward>) max grad component = tensor(0.0002) lr =  1.2584444554061598e-60\n",
      "Score at step  280 = tensor([24.4894], grad_fn=<NegBackward>) max grad component = tensor(0.0002) lr =  7.550666732436959e-61\n",
      "Score at step  281 = tensor([24.4894], grad_fn=<NegBackward>) max grad component = tensor(0.0002) lr =  4.5304000394621755e-61\n",
      "Score at step  282 = tensor([24.4894], grad_fn=<NegBackward>) max grad component = tensor(0.0002) lr =  2.718240023677305e-61\n",
      "Score at step  283 = tensor([24.4894], grad_fn=<NegBackward>) max grad component = tensor(0.0002) lr =  1.630944014206383e-61\n",
      "Score at step  284 = tensor([24.4894], grad_fn=<NegBackward>) max grad component = tensor(0.0002) lr =  9.785664085238298e-62\n",
      "Score at step  285 = tensor([24.4894], grad_fn=<NegBackward>) max grad component = tensor(0.0002) lr =  5.871398451142979e-62\n",
      "Score at step  286 = tensor([24.4894], grad_fn=<NegBackward>) max grad component = tensor(0.0002) lr =  3.522839070685787e-62\n",
      "Score at step  287 = tensor([24.4894], grad_fn=<NegBackward>) max grad component = tensor(0.0002) lr =  2.113703442411472e-62\n",
      "Score at step  288 = tensor([24.4894], grad_fn=<NegBackward>) max grad component = tensor(0.0002) lr =  1.2682220654468831e-62\n",
      "Score at step  289 = tensor([24.4894], grad_fn=<NegBackward>) max grad component = tensor(0.0002) lr =  7.609332392681298e-63\n",
      "Score at step  290 = tensor([24.4894], grad_fn=<NegBackward>) max grad component = tensor(0.0002) lr =  4.5655994356087784e-63\n",
      "Score at step  291 = tensor([24.4894], grad_fn=<NegBackward>) max grad component = tensor(0.0002) lr =  2.739359661365267e-63\n",
      "Score at step  292 = tensor([24.4894], grad_fn=<NegBackward>) max grad component = tensor(0.0002) lr =  1.64361579681916e-63\n",
      "Score at step  293 = tensor([24.4894], grad_fn=<NegBackward>) max grad component = tensor(0.0002) lr =  9.86169478091496e-64\n",
      "Score at step  294 = tensor([24.4894], grad_fn=<NegBackward>) max grad component = tensor(0.0002) lr =  5.917016868548976e-64\n",
      "Score at step  295 = tensor([24.4894], grad_fn=<NegBackward>) max grad component = tensor(0.0002) lr =  3.5502101211293856e-64\n",
      "Score at step  296 = tensor([24.4894], grad_fn=<NegBackward>) max grad component = tensor(0.0002) lr =  2.130126072677631e-64\n",
      "Score at step  297 = tensor([24.4894], grad_fn=<NegBackward>) max grad component = tensor(0.0002) lr =  1.2780756436065786e-64\n",
      "Score at step  298 = tensor([24.4894], grad_fn=<NegBackward>) max grad component = tensor(0.0002) lr =  7.668453861639471e-65\n",
      "Score at step  299 = tensor([24.4894], grad_fn=<NegBackward>) max grad component = tensor(0.0002) lr =  4.601072316983682e-65\n",
      "Score at step  300 = tensor([24.4894], grad_fn=<NegBackward>) max grad component = tensor(0.0002) lr =  2.760643390190209e-65\n",
      "Score at step  301 = tensor([24.4894], grad_fn=<NegBackward>) max grad component = tensor(0.0002) lr =  1.6563860341141255e-65\n",
      "Score at step  302 = tensor([24.4894], grad_fn=<NegBackward>) max grad component = tensor(0.0002) lr =  9.938316204684752e-66\n",
      "Score at step  303 = tensor([24.4894], grad_fn=<NegBackward>) max grad component = tensor(0.0002) lr =  5.962989722810851e-66\n",
      "Score at step  304 = tensor([24.4894], grad_fn=<NegBackward>) max grad component = tensor(0.0002) lr =  3.5777938336865106e-66\n",
      "Score at step  305 = tensor([24.4894], grad_fn=<NegBackward>) max grad component = tensor(0.0002) lr =  2.1466763002119063e-66\n",
      "Score at step  306 = tensor([24.4894], grad_fn=<NegBackward>) max grad component = tensor(0.0002) lr =  1.2880057801271437e-66\n",
      "Score at step  307 = tensor([24.4894], grad_fn=<NegBackward>) max grad component = tensor(0.0002) lr =  7.728034680762862e-67\n",
      "Score at step  308 = tensor([24.4894], grad_fn=<NegBackward>) max grad component = tensor(0.0002) lr =  4.636820808457717e-67\n",
      "Score at step  309 = tensor([24.4894], grad_fn=<NegBackward>) max grad component = tensor(0.0002) lr =  2.7820924850746304e-67\n",
      "Score at step  310 = tensor([24.4894], grad_fn=<NegBackward>) max grad component = tensor(0.0002) lr =  1.6692554910447783e-67\n",
      "Score at step  311 = tensor([24.4894], grad_fn=<NegBackward>) max grad component = tensor(0.0002) lr =  1.0015532946268669e-67\n",
      "Score at step  312 = tensor([24.4894], grad_fn=<NegBackward>) max grad component = tensor(0.0002) lr =  6.0093197677612015e-68\n",
      "Score at step  313 = tensor([24.4894], grad_fn=<NegBackward>) max grad component = tensor(0.0002) lr =  3.6055918606567207e-68\n",
      "Score at step  314 = tensor([24.4894], grad_fn=<NegBackward>) max grad component = tensor(0.0002) lr =  2.163355116394032e-68\n",
      "Score at step  315 = tensor([24.4894], grad_fn=<NegBackward>) max grad component = tensor(0.0002) lr =  1.2980130698364192e-68\n",
      "Score at step  316 = tensor([24.4894], grad_fn=<NegBackward>) max grad component = tensor(0.0002) lr =  7.788078419018515e-69\n",
      "Score at step  317 = tensor([24.4894], grad_fn=<NegBackward>) max grad component = tensor(0.0002) lr =  4.672847051411109e-69\n",
      "Score at step  318 = tensor([24.4894], grad_fn=<NegBackward>) max grad component = tensor(0.0002) lr =  2.8037082308466653e-69\n",
      "Score at step  319 = tensor([24.4894], grad_fn=<NegBackward>) max grad component = tensor(0.0002) lr =  1.6822249385079992e-69\n",
      "Score at step  320 = tensor([24.4894], grad_fn=<NegBackward>) max grad component = tensor(0.0002) lr =  1.0093349631047995e-69\n",
      "Score at step  321 = tensor([24.4894], grad_fn=<NegBackward>) max grad component = tensor(0.0002) lr =  6.056009778628797e-70\n",
      "Score at step  322 = tensor([24.4894], grad_fn=<NegBackward>) max grad component = tensor(0.0002) lr =  3.633605867177278e-70\n",
      "Score at step  323 = tensor([24.4894], grad_fn=<NegBackward>) max grad component = tensor(0.0002) lr =  2.180163520306367e-70\n",
      "Score at step  324 = tensor([24.4894], grad_fn=<NegBackward>) max grad component = tensor(0.0002) lr =  1.3080981121838202e-70\n",
      "Score at step  325 = tensor([24.4894], grad_fn=<NegBackward>) max grad component = tensor(0.0002) lr =  7.848588673102921e-71\n",
      "Score at step  326 = tensor([24.4894], grad_fn=<NegBackward>) max grad component = tensor(0.0002) lr =  4.709153203861752e-71\n",
      "Score at step  327 = tensor([24.4894], grad_fn=<NegBackward>) max grad component = tensor(0.0002) lr =  2.8254919223170513e-71\n",
      "Score at step  328 = tensor([24.4894], grad_fn=<NegBackward>) max grad component = tensor(0.0002) lr =  1.6952951533902307e-71\n",
      "Score at step  329 = tensor([24.4894], grad_fn=<NegBackward>) max grad component = tensor(0.0002) lr =  1.0171770920341384e-71\n",
      "Score at step  330 = tensor([24.4894], grad_fn=<NegBackward>) max grad component = tensor(0.0002) lr =  6.10306255220483e-72\n"
     ]
    },
    {
     "name": "stdout",
     "output_type": "stream",
     "text": [
      "Score at step  331 = tensor([24.4894], grad_fn=<NegBackward>) max grad component = tensor(0.0002) lr =  3.661837531322898e-72\n",
      "Score at step  332 = tensor([24.4894], grad_fn=<NegBackward>) max grad component = tensor(0.0002) lr =  2.1971025187937385e-72\n",
      "Score at step  333 = tensor([24.4894], grad_fn=<NegBackward>) max grad component = tensor(0.0002) lr =  1.318261511276243e-72\n",
      "Score at step  334 = tensor([24.4894], grad_fn=<NegBackward>) max grad component = tensor(0.0002) lr =  7.909569067657458e-73\n",
      "Score at step  335 = tensor([24.4894], grad_fn=<NegBackward>) max grad component = tensor(0.0002) lr =  4.7457414405944743e-73\n",
      "Score at step  336 = tensor([24.4894], grad_fn=<NegBackward>) max grad component = tensor(0.0002) lr =  2.8474448643566843e-73\n",
      "Score at step  337 = tensor([24.4894], grad_fn=<NegBackward>) max grad component = tensor(0.0002) lr =  1.7084669186140106e-73\n",
      "Score at step  338 = tensor([24.4894], grad_fn=<NegBackward>) max grad component = tensor(0.0002) lr =  1.0250801511684063e-73\n",
      "Score at step  339 = tensor([24.4894], grad_fn=<NegBackward>) max grad component = tensor(0.0002) lr =  6.150480907010438e-74\n",
      "Score at step  340 = tensor([24.4894], grad_fn=<NegBackward>) max grad component = tensor(0.0002) lr =  3.690288544206262e-74\n",
      "Score at step  341 = tensor([24.4894], grad_fn=<NegBackward>) max grad component = tensor(0.0002) lr =  2.214173126523757e-74\n",
      "Score at step  342 = tensor([24.4894], grad_fn=<NegBackward>) max grad component = tensor(0.0002) lr =  1.3285038759142543e-74\n",
      "Score at step  343 = tensor([24.4894], grad_fn=<NegBackward>) max grad component = tensor(0.0002) lr =  7.971023255485526e-75\n",
      "Score at step  344 = tensor([24.4894], grad_fn=<NegBackward>) max grad component = tensor(0.0002) lr =  4.782613953291315e-75\n",
      "Score at step  345 = tensor([24.4894], grad_fn=<NegBackward>) max grad component = tensor(0.0002) lr =  2.869568371974789e-75\n",
      "Score at step  346 = tensor([24.4894], grad_fn=<NegBackward>) max grad component = tensor(0.0002) lr =  1.7217410231848733e-75\n",
      "Score at step  347 = tensor([24.4894], grad_fn=<NegBackward>) max grad component = tensor(0.0002) lr =  1.033044613910924e-75\n",
      "Score at step  348 = tensor([24.4894], grad_fn=<NegBackward>) max grad component = tensor(0.0002) lr =  6.198267683465544e-76\n",
      "Score at step  349 = tensor([24.4894], grad_fn=<NegBackward>) max grad component = tensor(0.0002) lr =  3.718960610079326e-76\n",
      "Score at step  350 = tensor([24.4894], grad_fn=<NegBackward>) max grad component = tensor(0.0002) lr =  2.2313763660475958e-76\n",
      "Score at step  351 = tensor([24.4894], grad_fn=<NegBackward>) max grad component = tensor(0.0002) lr =  1.3388258196285573e-76\n",
      "Score at step  352 = tensor([24.4894], grad_fn=<NegBackward>) max grad component = tensor(0.0002) lr =  8.032954917771343e-77\n",
      "Score at step  353 = tensor([24.4894], grad_fn=<NegBackward>) max grad component = tensor(0.0002) lr =  4.8197729506628054e-77\n",
      "Score at step  354 = tensor([24.4894], grad_fn=<NegBackward>) max grad component = tensor(0.0002) lr =  2.891863770397683e-77\n",
      "Score at step  355 = tensor([24.4894], grad_fn=<NegBackward>) max grad component = tensor(0.0002) lr =  1.73511826223861e-77\n",
      "Score at step  356 = tensor([24.4894], grad_fn=<NegBackward>) max grad component = tensor(0.0002) lr =  1.0410709573431659e-77\n",
      "Score at step  357 = tensor([24.4894], grad_fn=<NegBackward>) max grad component = tensor(0.0002) lr =  6.246425744058995e-78\n",
      "Score at step  358 = tensor([24.4894], grad_fn=<NegBackward>) max grad component = tensor(0.0002) lr =  3.747855446435397e-78\n",
      "Score at step  359 = tensor([24.4894], grad_fn=<NegBackward>) max grad component = tensor(0.0002) lr =  2.248713267861238e-78\n",
      "Score at step  360 = tensor([24.4894], grad_fn=<NegBackward>) max grad component = tensor(0.0002) lr =  1.3492279607167426e-78\n",
      "Score at step  361 = tensor([24.4894], grad_fn=<NegBackward>) max grad component = tensor(0.0002) lr =  8.095367764300455e-79\n",
      "Score at step  362 = tensor([24.4894], grad_fn=<NegBackward>) max grad component = tensor(0.0002) lr =  4.857220658580273e-79\n",
      "Score at step  363 = tensor([24.4894], grad_fn=<NegBackward>) max grad component = tensor(0.0002) lr =  2.914332395148164e-79\n",
      "Score at step  364 = tensor([24.4894], grad_fn=<NegBackward>) max grad component = tensor(0.0002) lr =  1.7485994370888983e-79\n",
      "Score at step  365 = tensor([24.4894], grad_fn=<NegBackward>) max grad component = tensor(0.0002) lr =  1.0491596622533389e-79\n",
      "Score at step  366 = tensor([24.4894], grad_fn=<NegBackward>) max grad component = tensor(0.0002) lr =  6.294957973520033e-80\n",
      "Score at step  367 = tensor([24.4894], grad_fn=<NegBackward>) max grad component = tensor(0.0002) lr =  3.776974784112019e-80\n",
      "Score at step  368 = tensor([24.4894], grad_fn=<NegBackward>) max grad component = tensor(0.0002) lr =  2.2661848704672114e-80\n",
      "Score at step  369 = tensor([24.4894], grad_fn=<NegBackward>) max grad component = tensor(0.0002) lr =  1.3597109222803267e-80\n",
      "Score at step  370 = tensor([24.4894], grad_fn=<NegBackward>) max grad component = tensor(0.0002) lr =  8.15826553368196e-81\n",
      "Score at step  371 = tensor([24.4894], grad_fn=<NegBackward>) max grad component = tensor(0.0002) lr =  4.894959320209176e-81\n",
      "Score at step  372 = tensor([24.4894], grad_fn=<NegBackward>) max grad component = tensor(0.0002) lr =  2.9369755921255054e-81\n",
      "Score at step  373 = tensor([24.4894], grad_fn=<NegBackward>) max grad component = tensor(0.0002) lr =  1.762185355275303e-81\n",
      "Score at step  374 = tensor([24.4894], grad_fn=<NegBackward>) max grad component = tensor(0.0002) lr =  1.0573112131651817e-81\n",
      "Score at step  375 = tensor([24.4894], grad_fn=<NegBackward>) max grad component = tensor(0.0002) lr =  6.34386727899109e-82\n",
      "Score at step  376 = tensor([24.4894], grad_fn=<NegBackward>) max grad component = tensor(0.0002) lr =  3.806320367394654e-82\n",
      "Score at step  377 = tensor([24.4894], grad_fn=<NegBackward>) max grad component = tensor(0.0002) lr =  2.2837922204367922e-82\n",
      "Score at step  378 = tensor([24.4894], grad_fn=<NegBackward>) max grad component = tensor(0.0002) lr =  1.3702753322620754e-82\n",
      "Score at step  379 = tensor([24.4894], grad_fn=<NegBackward>) max grad component = tensor(0.0002) lr =  8.221651993572452e-83\n",
      "Score at step  380 = tensor([24.4894], grad_fn=<NegBackward>) max grad component = tensor(0.0002) lr =  4.932991196143471e-83\n",
      "Score at step  381 = tensor([24.4894], grad_fn=<NegBackward>) max grad component = tensor(0.0002) lr =  2.9597947176860826e-83\n",
      "Score at step  382 = tensor([24.4894], grad_fn=<NegBackward>) max grad component = tensor(0.0002) lr =  1.7758768306116497e-83\n",
      "Score at step  383 = tensor([24.4894], grad_fn=<NegBackward>) max grad component = tensor(0.0002) lr =  1.0655260983669898e-83\n",
      "Score at step  384 = tensor([24.4894], grad_fn=<NegBackward>) max grad component = tensor(0.0002) lr =  6.393156590201938e-84\n",
      "Score at step  385 = tensor([24.4894], grad_fn=<NegBackward>) max grad component = tensor(0.0002) lr =  3.8358939541211624e-84\n",
      "Score at step  386 = tensor([24.4894], grad_fn=<NegBackward>) max grad component = tensor(0.0002) lr =  2.301536372472697e-84\n",
      "Score at step  387 = tensor([24.4894], grad_fn=<NegBackward>) max grad component = tensor(0.0002) lr =  1.3809218234836183e-84\n",
      "Score at step  388 = tensor([24.4894], grad_fn=<NegBackward>) max grad component = tensor(0.0002) lr =  8.28553094090171e-85\n",
      "Score at step  389 = tensor([24.4894], grad_fn=<NegBackward>) max grad component = tensor(0.0002) lr =  4.9713185645410253e-85\n",
      "Score at step  390 = tensor([24.4894], grad_fn=<NegBackward>) max grad component = tensor(0.0002) lr =  2.982791138724615e-85\n",
      "Score at step  391 = tensor([24.4894], grad_fn=<NegBackward>) max grad component = tensor(0.0002) lr =  1.789674683234769e-85\n",
      "Score at step  392 = tensor([24.4894], grad_fn=<NegBackward>) max grad component = tensor(0.0002) lr =  1.0738048099408614e-85\n",
      "Score at step  393 = tensor([24.4894], grad_fn=<NegBackward>) max grad component = tensor(0.0002) lr =  6.442828859645168e-86\n",
      "Score at step  394 = tensor([24.4894], grad_fn=<NegBackward>) max grad component = tensor(0.0002) lr =  3.865697315787101e-86\n",
      "Score at step  395 = tensor([24.4894], grad_fn=<NegBackward>) max grad component = tensor(0.0002) lr =  2.3194183894722603e-86\n",
      "Score at step  396 = tensor([24.4894], grad_fn=<NegBackward>) max grad component = tensor(0.0002) lr =  1.3916510336833561e-86\n"
     ]
    },
    {
     "name": "stdout",
     "output_type": "stream",
     "text": [
      "Score at step  397 = tensor([24.4894], grad_fn=<NegBackward>) max grad component = tensor(0.0002) lr =  8.349906202100137e-87\n",
      "Score at step  398 = tensor([24.4894], grad_fn=<NegBackward>) max grad component = tensor(0.0002) lr =  5.009943721260082e-87\n",
      "Score at step  399 = tensor([24.4894], grad_fn=<NegBackward>) max grad component = tensor(0.0002) lr =  3.0059662327560493e-87\n",
      "Score at step  400 = tensor([24.4894], grad_fn=<NegBackward>) max grad component = tensor(0.0002) lr =  1.8035797396536294e-87\n",
      "Score at step  401 = tensor([24.4894], grad_fn=<NegBackward>) max grad component = tensor(0.0002) lr =  1.0821478437921776e-87\n",
      "Score at step  402 = tensor([24.4894], grad_fn=<NegBackward>) max grad component = tensor(0.0002) lr =  6.492887062753065e-88\n",
      "Score at step  403 = tensor([24.4894], grad_fn=<NegBackward>) max grad component = tensor(0.0002) lr =  3.895732237651839e-88\n",
      "Score at step  404 = tensor([24.4894], grad_fn=<NegBackward>) max grad component = tensor(0.0002) lr =  2.3374393425911033e-88\n",
      "Score at step  405 = tensor([24.4894], grad_fn=<NegBackward>) max grad component = tensor(0.0002) lr =  1.402463605554662e-88\n",
      "Score at step  406 = tensor([24.4894], grad_fn=<NegBackward>) max grad component = tensor(0.0002) lr =  8.414781633327971e-89\n",
      "Score at step  407 = tensor([24.4894], grad_fn=<NegBackward>) max grad component = tensor(0.0002) lr =  5.048868979996782e-89\n",
      "Score at step  408 = tensor([24.4894], grad_fn=<NegBackward>) max grad component = tensor(0.0002) lr =  3.0293213879980693e-89\n",
      "Score at step  409 = tensor([24.4894], grad_fn=<NegBackward>) max grad component = tensor(0.0002) lr =  1.8175928327988417e-89\n",
      "Score at step  410 = tensor([24.4894], grad_fn=<NegBackward>) max grad component = tensor(0.0002) lr =  1.090555699679305e-89\n",
      "Score at step  411 = tensor([24.4894], grad_fn=<NegBackward>) max grad component = tensor(0.0002) lr =  6.54333419807583e-90\n",
      "Score at step  412 = tensor([24.4894], grad_fn=<NegBackward>) max grad component = tensor(0.0002) lr =  3.926000518845498e-90\n",
      "Score at step  413 = tensor([24.4894], grad_fn=<NegBackward>) max grad component = tensor(0.0002) lr =  2.3556003113072986e-90\n",
      "Score at step  414 = tensor([24.4894], grad_fn=<NegBackward>) max grad component = tensor(0.0002) lr =  1.4133601867843791e-90\n",
      "Score at step  415 = tensor([24.4894], grad_fn=<NegBackward>) max grad component = tensor(0.0002) lr =  8.480161120706275e-91\n",
      "Score at step  416 = tensor([24.4894], grad_fn=<NegBackward>) max grad component = tensor(0.0002) lr =  5.088096672423765e-91\n",
      "Score at step  417 = tensor([24.4894], grad_fn=<NegBackward>) max grad component = tensor(0.0002) lr =  3.0528580034542586e-91\n",
      "Score at step  418 = tensor([24.4894], grad_fn=<NegBackward>) max grad component = tensor(0.0002) lr =  1.8317148020725552e-91\n",
      "Score at step  419 = tensor([24.4894], grad_fn=<NegBackward>) max grad component = tensor(0.0002) lr =  1.099028881243533e-91\n",
      "Score at step  420 = tensor([24.4894], grad_fn=<NegBackward>) max grad component = tensor(0.0002) lr =  6.594173287461197e-92\n",
      "Score at step  421 = tensor([24.4894], grad_fn=<NegBackward>) max grad component = tensor(0.0002) lr =  3.956503972476718e-92\n",
      "Score at step  422 = tensor([24.4894], grad_fn=<NegBackward>) max grad component = tensor(0.0002) lr =  2.373902383486031e-92\n",
      "Score at step  423 = tensor([24.4894], grad_fn=<NegBackward>) max grad component = tensor(0.0002) lr =  1.4243414300916184e-92\n",
      "Score at step  424 = tensor([24.4894], grad_fn=<NegBackward>) max grad component = tensor(0.0002) lr =  8.54604858054971e-93\n",
      "Score at step  425 = tensor([24.4894], grad_fn=<NegBackward>) max grad component = tensor(0.0002) lr =  5.127629148329826e-93\n",
      "Score at step  426 = tensor([24.4894], grad_fn=<NegBackward>) max grad component = tensor(0.0002) lr =  3.0765774889978955e-93\n",
      "Score at step  427 = tensor([24.4894], grad_fn=<NegBackward>) max grad component = tensor(0.0002) lr =  1.8459464933987372e-93\n",
      "Score at step  428 = tensor([24.4894], grad_fn=<NegBackward>) max grad component = tensor(0.0002) lr =  1.1075678960392423e-93\n",
      "Score at step  429 = tensor([24.4894], grad_fn=<NegBackward>) max grad component = tensor(0.0002) lr =  6.645407376235454e-94\n",
      "Score at step  430 = tensor([24.4894], grad_fn=<NegBackward>) max grad component = tensor(0.0002) lr =  3.987244425741272e-94\n",
      "Score at step  431 = tensor([24.4894], grad_fn=<NegBackward>) max grad component = tensor(0.0002) lr =  2.392346655444763e-94\n",
      "Score at step  432 = tensor([24.4894], grad_fn=<NegBackward>) max grad component = tensor(0.0002) lr =  1.4354079932668578e-94\n",
      "Score at step  433 = tensor([24.4894], grad_fn=<NegBackward>) max grad component = tensor(0.0002) lr =  8.612447959601146e-95\n",
      "Score at step  434 = tensor([24.4894], grad_fn=<NegBackward>) max grad component = tensor(0.0002) lr =  5.167468775760688e-95\n",
      "Score at step  435 = tensor([24.4894], grad_fn=<NegBackward>) max grad component = tensor(0.0002) lr =  3.1004812654564125e-95\n",
      "Score at step  436 = tensor([24.4894], grad_fn=<NegBackward>) max grad component = tensor(0.0002) lr =  1.8602887592738474e-95\n",
      "Score at step  437 = tensor([24.4894], grad_fn=<NegBackward>) max grad component = tensor(0.0002) lr =  1.1161732555643083e-95\n",
      "Score at step  438 = tensor([24.4894], grad_fn=<NegBackward>) max grad component = tensor(0.0002) lr =  6.69703953338585e-96\n",
      "Score at step  439 = tensor([24.4894], grad_fn=<NegBackward>) max grad component = tensor(0.0002) lr =  4.01822372003151e-96\n",
      "Score at step  440 = tensor([24.4894], grad_fn=<NegBackward>) max grad component = tensor(0.0002) lr =  2.410934232018906e-96\n",
      "Score at step  441 = tensor([24.4894], grad_fn=<NegBackward>) max grad component = tensor(0.0002) lr =  1.4465605392113436e-96\n",
      "Score at step  442 = tensor([24.4894], grad_fn=<NegBackward>) max grad component = tensor(0.0002) lr =  8.679363235268061e-97\n",
      "Score at step  443 = tensor([24.4894], grad_fn=<NegBackward>) max grad component = tensor(0.0002) lr =  5.207617941160836e-97\n",
      "Score at step  444 = tensor([24.4894], grad_fn=<NegBackward>) max grad component = tensor(0.0002) lr =  3.1245707646965015e-97\n",
      "Score at step  445 = tensor([24.4894], grad_fn=<NegBackward>) max grad component = tensor(0.0002) lr =  1.874742458817901e-97\n",
      "Score at step  446 = tensor([24.4894], grad_fn=<NegBackward>) max grad component = tensor(0.0002) lr =  1.1248454752907405e-97\n",
      "Score at step  447 = tensor([24.4894], grad_fn=<NegBackward>) max grad component = tensor(0.0002) lr =  6.749072851744443e-98\n",
      "Score at step  448 = tensor([24.4894], grad_fn=<NegBackward>) max grad component = tensor(0.0002) lr =  4.049443711046666e-98\n",
      "Score at step  449 = tensor([24.4894], grad_fn=<NegBackward>) max grad component = tensor(0.0002) lr =  2.4296662266279993e-98\n",
      "Score at step  450 = tensor([24.4894], grad_fn=<NegBackward>) max grad component = tensor(0.0002) lr =  1.4577997359767995e-98\n",
      "Score at step  451 = tensor([24.4894], grad_fn=<NegBackward>) max grad component = tensor(0.0002) lr =  8.746798415860796e-99\n",
      "Score at step  452 = tensor([24.4894], grad_fn=<NegBackward>) max grad component = tensor(0.0002) lr =  5.248079049516477e-99\n",
      "Score at step  453 = tensor([24.4894], grad_fn=<NegBackward>) max grad component = tensor(0.0002) lr =  3.1488474297098865e-99\n",
      "Score at step  454 = tensor([24.4894], grad_fn=<NegBackward>) max grad component = tensor(0.0002) lr =  1.8893084578259316e-99\n",
      "Score at step  455 = tensor([24.4894], grad_fn=<NegBackward>) max grad component = tensor(0.0002) lr =  1.133585074695559e-99\n",
      "Score at step  456 = tensor([24.4894], grad_fn=<NegBackward>) max grad component = tensor(0.0002) lr =  6.801510448173354e-100\n",
      "Score at step  457 = tensor([24.4894], grad_fn=<NegBackward>) max grad component = tensor(0.0002) lr =  4.080906268904012e-100\n",
      "Score at step  458 = tensor([24.4894], grad_fn=<NegBackward>) max grad component = tensor(0.0002) lr =  2.4485437613424074e-100\n",
      "Score at step  459 = tensor([24.4894], grad_fn=<NegBackward>) max grad component = tensor(0.0002) lr =  1.4691262568054445e-100\n",
      "Score at step  460 = tensor([24.4894], grad_fn=<NegBackward>) max grad component = tensor(0.0002) lr =  8.814757540832667e-101\n",
      "Score at step  461 = tensor([24.4894], grad_fn=<NegBackward>) max grad component = tensor(0.0002) lr =  5.2888545244995996e-101\n",
      "Score at step  462 = tensor([24.4894], grad_fn=<NegBackward>) max grad component = tensor(0.0002) lr =  3.17331271469976e-101\n"
     ]
    },
    {
     "name": "stdout",
     "output_type": "stream",
     "text": [
      "Score at step  463 = tensor([24.4894], grad_fn=<NegBackward>) max grad component = tensor(0.0002) lr =  1.9039876288198557e-101\n",
      "Score at step  464 = tensor([24.4894], grad_fn=<NegBackward>) max grad component = tensor(0.0002) lr =  1.1423925772919134e-101\n",
      "Score at step  465 = tensor([24.4894], grad_fn=<NegBackward>) max grad component = tensor(0.0002) lr =  6.8543554637514805e-102\n",
      "Score at step  466 = tensor([24.4894], grad_fn=<NegBackward>) max grad component = tensor(0.0002) lr =  4.1126132782508884e-102\n",
      "Score at step  467 = tensor([24.4894], grad_fn=<NegBackward>) max grad component = tensor(0.0002) lr =  2.467567966950533e-102\n",
      "Score at step  468 = tensor([24.4894], grad_fn=<NegBackward>) max grad component = tensor(0.0002) lr =  1.4805407801703196e-102\n",
      "Score at step  469 = tensor([24.4894], grad_fn=<NegBackward>) max grad component = tensor(0.0002) lr =  8.883244681021917e-103\n",
      "Score at step  470 = tensor([24.4894], grad_fn=<NegBackward>) max grad component = tensor(0.0002) lr =  5.32994680861315e-103\n",
      "Score at step  471 = tensor([24.4894], grad_fn=<NegBackward>) max grad component = tensor(0.0002) lr =  3.19796808516789e-103\n",
      "Score at step  472 = tensor([24.4894], grad_fn=<NegBackward>) max grad component = tensor(0.0002) lr =  1.918780851100734e-103\n",
      "Score at step  473 = tensor([24.4894], grad_fn=<NegBackward>) max grad component = tensor(0.0002) lr =  1.1512685106604403e-103\n",
      "Score at step  474 = tensor([24.4894], grad_fn=<NegBackward>) max grad component = tensor(0.0002) lr =  6.907611063962642e-104\n",
      "Score at step  475 = tensor([24.4894], grad_fn=<NegBackward>) max grad component = tensor(0.0002) lr =  4.144566638377585e-104\n",
      "Score at step  476 = tensor([24.4894], grad_fn=<NegBackward>) max grad component = tensor(0.0002) lr =  2.4867399830265508e-104\n",
      "Score at step  477 = tensor([24.4894], grad_fn=<NegBackward>) max grad component = tensor(0.0002) lr =  1.4920439898159305e-104\n",
      "Score at step  478 = tensor([24.4894], grad_fn=<NegBackward>) max grad component = tensor(0.0002) lr =  8.952263938895583e-105\n",
      "Score at step  479 = tensor([24.4894], grad_fn=<NegBackward>) max grad component = tensor(0.0002) lr =  5.37135836333735e-105\n",
      "Score at step  480 = tensor([24.4894], grad_fn=<NegBackward>) max grad component = tensor(0.0002) lr =  3.2228150180024095e-105\n",
      "Score at step  481 = tensor([24.4894], grad_fn=<NegBackward>) max grad component = tensor(0.0002) lr =  1.9336890108014457e-105\n",
      "Score at step  482 = tensor([24.4894], grad_fn=<NegBackward>) max grad component = tensor(0.0002) lr =  1.1602134064808673e-105\n",
      "Score at step  483 = tensor([24.4894], grad_fn=<NegBackward>) max grad component = tensor(0.0002) lr =  6.961280438885203e-106\n",
      "Score at step  484 = tensor([24.4894], grad_fn=<NegBackward>) max grad component = tensor(0.0002) lr =  4.1767682633311215e-106\n",
      "Score at step  485 = tensor([24.4894], grad_fn=<NegBackward>) max grad component = tensor(0.0002) lr =  2.5060609579986726e-106\n",
      "Score at step  486 = tensor([24.4894], grad_fn=<NegBackward>) max grad component = tensor(0.0002) lr =  1.5036365747992035e-106\n",
      "Score at step  487 = tensor([24.4894], grad_fn=<NegBackward>) max grad component = tensor(0.0002) lr =  9.021819448795221e-107\n",
      "Score at step  488 = tensor([24.4894], grad_fn=<NegBackward>) max grad component = tensor(0.0002) lr =  5.413091669277132e-107\n",
      "Score at step  489 = tensor([24.4894], grad_fn=<NegBackward>) max grad component = tensor(0.0002) lr =  3.247855001566279e-107\n",
      "Score at step  490 = tensor([24.4894], grad_fn=<NegBackward>) max grad component = tensor(0.0002) lr =  1.948713000939767e-107\n",
      "Score at step  491 = tensor([24.4894], grad_fn=<NegBackward>) max grad component = tensor(0.0002) lr =  1.1692278005638602e-107\n",
      "Score at step  492 = tensor([24.4894], grad_fn=<NegBackward>) max grad component = tensor(0.0002) lr =  7.015366803383161e-108\n",
      "Score at step  493 = tensor([24.4894], grad_fn=<NegBackward>) max grad component = tensor(0.0002) lr =  4.209220082029897e-108\n",
      "Score at step  494 = tensor([24.4894], grad_fn=<NegBackward>) max grad component = tensor(0.0002) lr =  2.525532049217938e-108\n",
      "Score at step  495 = tensor([24.4894], grad_fn=<NegBackward>) max grad component = tensor(0.0002) lr =  1.5153192295307626e-108\n",
      "Score at step  496 = tensor([24.4894], grad_fn=<NegBackward>) max grad component = tensor(0.0002) lr =  9.091915377184575e-109\n",
      "Score at step  497 = tensor([24.4894], grad_fn=<NegBackward>) max grad component = tensor(0.0002) lr =  5.455149226310745e-109\n",
      "Score at step  498 = tensor([24.4894], grad_fn=<NegBackward>) max grad component = tensor(0.0002) lr =  3.273089535786447e-109\n",
      "Score at step  499 = tensor([24.4894], grad_fn=<NegBackward>) max grad component = tensor(0.0002) lr =  1.963853721471868e-109\n",
      "Max(Y) =  tensor([0.0000, 0.0000, 0.0000, 0.0000, 0.0000, 0.0000, 0.0000, 0.0000, 0.0000,\n",
      "        0.0000, 0.0000, 0.0000, 0.0000, 0.0000, 0.0000, 0.0000, 0.0000, 0.0000,\n",
      "        0.0000, 0.0000, 0.0000, 0.0000, 0.0000, 0.0000],\n",
      "       grad_fn=<MaxBackward0>)\n",
      "['▁Zwar', 'staatlich', 'staatlich', 'örtlich', '▁Grenz', '▁Grenz', '▁Grenz', '▁Sollte', '▁Sollte', '▁Gas', '▁Gas', '▁Gas', '▁Bade', '▁Jede', '▁Plan', '▁Grenz', '▁Jede', '▁Denn', '▁Einzel', '▁Einzel', '▁Bade', '▁Grenz', '▁Grenz', '?']\n"
     ]
    }
   ],
   "source": [
    "english_sentence = 'I think, that machine translation is a very interesting subject.'\n",
    "english_tok = tokenizer.tokenize(english_sentence)\n",
    "optimizer = ContinuousOptimizer(english_sentence)\n",
    "print('Optimization starts...')\n",
    "res = optimizer.optimize()\n",
    "print(res)"
   ]
  },
  {
   "cell_type": "markdown",
   "metadata": {},
   "source": [
    "#### Greedy initialization with one hot vectors"
   ]
  },
  {
   "cell_type": "code",
   "execution_count": 31,
   "metadata": {},
   "outputs": [
    {
     "name": "stdout",
     "output_type": "stream",
     "text": [
      "Optimization starts...\n",
      "Score at step  0 = tensor([0.4511], grad_fn=<NegBackward>) max grad component =  lr =  99.0\n",
      "Score at step  1 = tensor([0.4511], grad_fn=<NegBackward>) max grad component = tensor(-0.) lr =  59.4\n",
      "Score at step  2 = tensor([0.4511], grad_fn=<NegBackward>) max grad component = tensor(-0.) lr =  35.64\n",
      "Score at step  3 = tensor([0.4511], grad_fn=<NegBackward>) max grad component = tensor(-0.) lr =  21.384\n",
      "Score at step  4 = tensor([0.4511], grad_fn=<NegBackward>) max grad component = tensor(-0.) lr =  12.8304\n",
      "Score at step  5 = tensor([0.4511], grad_fn=<NegBackward>) max grad component = tensor(-0.) lr =  7.698239999999999\n",
      "Score at step  6 = tensor([0.4511], grad_fn=<NegBackward>) max grad component = tensor(-0.) lr =  4.618943999999999\n",
      "Score at step  7 = tensor([0.4511], grad_fn=<NegBackward>) max grad component = tensor(-0.) lr =  2.7713663999999993\n",
      "Score at step  8 = tensor([0.4511], grad_fn=<NegBackward>) max grad component = tensor(-0.) lr =  1.6628198399999996\n",
      "Score at step  9 = tensor([0.4511], grad_fn=<NegBackward>) max grad component = tensor(-0.) lr =  0.9976919039999997\n",
      "Score at step  10 = tensor([0.4511], grad_fn=<NegBackward>) max grad component = tensor(-0.) lr =  0.5986151423999998\n",
      "Score at step  11 = tensor([0.4511], grad_fn=<NegBackward>) max grad component = tensor(-0.) lr =  0.35916908543999987\n",
      "Score at step  12 = tensor([0.4511], grad_fn=<NegBackward>) max grad component = tensor(-0.) lr =  0.21550145126399992\n",
      "Score at step  13 = tensor([0.4511], grad_fn=<NegBackward>) max grad component = tensor(-0.) lr =  0.12930087075839994\n",
      "Score at step  14 = tensor([0.4511], grad_fn=<NegBackward>) max grad component = tensor(-0.) lr =  0.07758052245503996\n",
      "Score at step  15 = tensor([0.4511], grad_fn=<NegBackward>) max grad component = tensor(-0.) lr =  0.046548313473023975\n",
      "Score at step  16 = tensor([0.4511], grad_fn=<NegBackward>) max grad component = tensor(-0.) lr =  0.027928988083814384\n",
      "Score at step  17 = tensor([0.4511], grad_fn=<NegBackward>) max grad component = tensor(-0.) lr =  0.01675739285028863\n",
      "Score at step  18 = tensor([0.4511], grad_fn=<NegBackward>) max grad component = tensor(-0.) lr =  0.010054435710173178\n",
      "Score at step  19 = tensor([0.4511], grad_fn=<NegBackward>) max grad component = tensor(-0.) lr =  0.006032661426103906\n",
      "Score at step  20 = tensor([0.4511], grad_fn=<NegBackward>) max grad component = tensor(-0.) lr =  0.0036195968556623436\n",
      "Score at step  21 = tensor([0.4511], grad_fn=<NegBackward>) max grad component = tensor(-0.) lr =  0.0021717581133974062\n",
      "Score at step  22 = tensor([0.4511], grad_fn=<NegBackward>) max grad component = tensor(-0.) lr =  0.0013030548680384437\n",
      "Score at step  23 = tensor([0.4511], grad_fn=<NegBackward>) max grad component = tensor(-0.) lr =  0.0007818329208230662\n",
      "Score at step  24 = tensor([0.4511], grad_fn=<NegBackward>) max grad component = tensor(-0.) lr =  0.0004690997524938397\n",
      "Score at step  25 = tensor([0.4511], grad_fn=<NegBackward>) max grad component = tensor(-0.) lr =  0.0002814598514963038\n",
      "Score at step  26 = tensor([0.4511], grad_fn=<NegBackward>) max grad component = tensor(-0.) lr =  0.00016887591089778228\n",
      "Score at step  27 = tensor([0.4511], grad_fn=<NegBackward>) max grad component = tensor(-0.) lr =  0.00010132554653866937\n",
      "Score at step  28 = tensor([0.4511], grad_fn=<NegBackward>) max grad component = tensor(-0.) lr =  6.079532792320162e-05\n",
      "Score at step  29 = tensor([0.4511], grad_fn=<NegBackward>) max grad component = tensor(-0.) lr =  3.6477196753920966e-05\n",
      "Score at step  30 = tensor([0.4511], grad_fn=<NegBackward>) max grad component = tensor(-0.) lr =  2.188631805235258e-05\n",
      "Score at step  31 = tensor([0.4511], grad_fn=<NegBackward>) max grad component = tensor(-0.) lr =  1.3131790831411547e-05\n",
      "Score at step  32 = tensor([0.4511], grad_fn=<NegBackward>) max grad component = tensor(-0.) lr =  7.879074498846928e-06\n",
      "Score at step  33 = tensor([0.4511], grad_fn=<NegBackward>) max grad component = tensor(-0.) lr =  4.727444699308157e-06\n",
      "Score at step  34 = tensor([0.4511], grad_fn=<NegBackward>) max grad component = tensor(-0.) lr =  2.836466819584894e-06\n",
      "Score at step  35 = tensor([0.4511], grad_fn=<NegBackward>) max grad component = tensor(-0.) lr =  1.7018800917509363e-06\n",
      "Score at step  36 = tensor([0.4511], grad_fn=<NegBackward>) max grad component = tensor(-0.) lr =  1.0211280550505618e-06\n",
      "Score at step  37 = tensor([0.4511], grad_fn=<NegBackward>) max grad component = tensor(-0.) lr =  6.12676833030337e-07\n",
      "Score at step  38 = tensor([0.4511], grad_fn=<NegBackward>) max grad component = tensor(-0.) lr =  3.676060998182022e-07\n",
      "Score at step  39 = tensor([0.4511], grad_fn=<NegBackward>) max grad component = tensor(-0.) lr =  2.2056365989092132e-07\n",
      "Score at step  40 = tensor([0.4511], grad_fn=<NegBackward>) max grad component = tensor(-0.) lr =  1.3233819593455278e-07\n",
      "Score at step  41 = tensor([0.4511], grad_fn=<NegBackward>) max grad component = tensor(-0.) lr =  7.940291756073167e-08\n",
      "Score at step  42 = tensor([0.4511], grad_fn=<NegBackward>) max grad component = tensor(-0.) lr =  4.7641750536439e-08\n",
      "Score at step  43 = tensor([0.4511], grad_fn=<NegBackward>) max grad component = tensor(-0.) lr =  2.8585050321863398e-08\n",
      "Score at step  44 = tensor([0.4511], grad_fn=<NegBackward>) max grad component = tensor(-0.) lr =  1.7151030193118038e-08\n",
      "Score at step  45 = tensor([0.4511], grad_fn=<NegBackward>) max grad component = tensor(-0.) lr =  1.0290618115870823e-08\n",
      "Score at step  46 = tensor([0.4511], grad_fn=<NegBackward>) max grad component = tensor(-0.) lr =  6.1743708695224934e-09\n",
      "Score at step  47 = tensor([0.4511], grad_fn=<NegBackward>) max grad component = tensor(-0.) lr =  3.704622521713496e-09\n",
      "Score at step  48 = tensor([0.4511], grad_fn=<NegBackward>) max grad component = tensor(-0.) lr =  2.2227735130280976e-09\n",
      "Score at step  49 = tensor([0.4511], grad_fn=<NegBackward>) max grad component = tensor(-0.) lr =  1.3336641078168584e-09\n",
      "Score at step  50 = tensor([0.4511], grad_fn=<NegBackward>) max grad component = tensor(-0.) lr =  8.001984646901151e-10\n",
      "Score at step  51 = tensor([0.4511], grad_fn=<NegBackward>) max grad component = tensor(-0.) lr =  4.80119078814069e-10\n",
      "Score at step  52 = tensor([0.4511], grad_fn=<NegBackward>) max grad component = tensor(-0.) lr =  2.880714472884414e-10\n",
      "Score at step  53 = tensor([0.4511], grad_fn=<NegBackward>) max grad component = tensor(-0.) lr =  1.728428683730648e-10\n",
      "Score at step  54 = tensor([0.4511], grad_fn=<NegBackward>) max grad component = tensor(-0.) lr =  1.0370572102383888e-10\n",
      "Score at step  55 = tensor([0.4511], grad_fn=<NegBackward>) max grad component = tensor(-0.) lr =  6.222343261430333e-11\n",
      "Score at step  56 = tensor([0.4511], grad_fn=<NegBackward>) max grad component = tensor(-0.) lr =  3.733405956858199e-11\n",
      "Score at step  57 = tensor([0.4511], grad_fn=<NegBackward>) max grad component = tensor(-0.) lr =  2.2400435741149196e-11\n",
      "Score at step  58 = tensor([0.4511], grad_fn=<NegBackward>) max grad component = tensor(-0.) lr =  1.3440261444689517e-11\n",
      "Score at step  59 = tensor([0.4511], grad_fn=<NegBackward>) max grad component = tensor(-0.) lr =  8.064156866813709e-12\n",
      "Score at step  60 = tensor([0.4511], grad_fn=<NegBackward>) max grad component = tensor(-0.) lr =  4.838494120088225e-12\n",
      "Score at step  61 = tensor([0.4511], grad_fn=<NegBackward>) max grad component = tensor(-0.) lr =  2.9030964720529352e-12\n",
      "Score at step  62 = tensor([0.4511], grad_fn=<NegBackward>) max grad component = tensor(-0.) lr =  1.741857883231761e-12\n",
      "Score at step  63 = tensor([0.4511], grad_fn=<NegBackward>) max grad component = tensor(-0.) lr =  1.0451147299390565e-12\n",
      "Score at step  64 = tensor([0.4511], grad_fn=<NegBackward>) max grad component = tensor(-0.) lr =  6.270688379634339e-13\n",
      "Score at step  65 = tensor([0.4511], grad_fn=<NegBackward>) max grad component = tensor(-0.) lr =  3.7624130277806035e-13\n",
      "Score at step  66 = tensor([0.4511], grad_fn=<NegBackward>) max grad component = tensor(-0.) lr =  2.257447816668362e-13\n",
      "Score at step  67 = tensor([0.4511], grad_fn=<NegBackward>) max grad component = tensor(-0.) lr =  1.3544686900010173e-13\n",
      "Score at step  68 = tensor([0.4511], grad_fn=<NegBackward>) max grad component = tensor(-0.) lr =  8.126812140006103e-14\n",
      "Score at step  69 = tensor([0.4511], grad_fn=<NegBackward>) max grad component = tensor(-0.) lr =  4.876087284003662e-14\n"
     ]
    },
    {
     "name": "stdout",
     "output_type": "stream",
     "text": [
      "Score at step  70 = tensor([0.4511], grad_fn=<NegBackward>) max grad component = tensor(-0.) lr =  2.925652370402197e-14\n",
      "Score at step  71 = tensor([0.4511], grad_fn=<NegBackward>) max grad component = tensor(-0.) lr =  1.7553914222413183e-14\n",
      "Score at step  72 = tensor([0.4511], grad_fn=<NegBackward>) max grad component = tensor(-0.) lr =  1.053234853344791e-14\n",
      "Score at step  73 = tensor([0.4511], grad_fn=<NegBackward>) max grad component = tensor(-0.) lr =  6.319409120068745e-15\n",
      "Score at step  74 = tensor([0.4511], grad_fn=<NegBackward>) max grad component = tensor(-0.) lr =  3.791645472041247e-15\n",
      "Score at step  75 = tensor([0.4511], grad_fn=<NegBackward>) max grad component = tensor(-0.) lr =  2.2749872832247482e-15\n",
      "Score at step  76 = tensor([0.4511], grad_fn=<NegBackward>) max grad component = tensor(-0.) lr =  1.3649923699348489e-15\n",
      "Score at step  77 = tensor([0.4511], grad_fn=<NegBackward>) max grad component = tensor(-0.) lr =  8.189954219609093e-16\n",
      "Score at step  78 = tensor([0.4511], grad_fn=<NegBackward>) max grad component = tensor(-0.) lr =  4.913972531765455e-16\n",
      "Score at step  79 = tensor([0.4511], grad_fn=<NegBackward>) max grad component = tensor(-0.) lr =  2.948383519059273e-16\n",
      "Score at step  80 = tensor([0.4511], grad_fn=<NegBackward>) max grad component = tensor(-0.) lr =  1.7690301114355639e-16\n",
      "Score at step  81 = tensor([0.4511], grad_fn=<NegBackward>) max grad component = tensor(-0.) lr =  1.0614180668613382e-16\n",
      "Score at step  82 = tensor([0.4511], grad_fn=<NegBackward>) max grad component = tensor(-0.) lr =  6.368508401168029e-17\n",
      "Score at step  83 = tensor([0.4511], grad_fn=<NegBackward>) max grad component = tensor(-0.) lr =  3.821105040700817e-17\n",
      "Score at step  84 = tensor([0.4511], grad_fn=<NegBackward>) max grad component = tensor(-0.) lr =  2.2926630244204903e-17\n",
      "Score at step  85 = tensor([0.4511], grad_fn=<NegBackward>) max grad component = tensor(-0.) lr =  1.3755978146522941e-17\n",
      "Score at step  86 = tensor([0.4511], grad_fn=<NegBackward>) max grad component = tensor(-0.) lr =  8.253586887913764e-18\n",
      "Score at step  87 = tensor([0.4511], grad_fn=<NegBackward>) max grad component = tensor(-0.) lr =  4.952152132748258e-18\n",
      "Score at step  88 = tensor([0.4511], grad_fn=<NegBackward>) max grad component = tensor(-0.) lr =  2.9712912796489548e-18\n",
      "Score at step  89 = tensor([0.4511], grad_fn=<NegBackward>) max grad component = tensor(-0.) lr =  1.782774767789373e-18\n",
      "Score at step  90 = tensor([0.4511], grad_fn=<NegBackward>) max grad component = tensor(-0.) lr =  1.0696648606736238e-18\n",
      "Score at step  91 = tensor([0.4511], grad_fn=<NegBackward>) max grad component = tensor(-0.) lr =  6.417989164041743e-19\n",
      "Score at step  92 = tensor([0.4511], grad_fn=<NegBackward>) max grad component = tensor(-0.) lr =  3.8507934984250455e-19\n",
      "Score at step  93 = tensor([0.4511], grad_fn=<NegBackward>) max grad component = tensor(-0.) lr =  2.310476099055027e-19\n",
      "Score at step  94 = tensor([0.4511], grad_fn=<NegBackward>) max grad component = tensor(-0.) lr =  1.386285659433016e-19\n",
      "Score at step  95 = tensor([0.4511], grad_fn=<NegBackward>) max grad component = tensor(-0.) lr =  8.317713956598096e-20\n",
      "Score at step  96 = tensor([0.4511], grad_fn=<NegBackward>) max grad component = tensor(-0.) lr =  4.9906283739588574e-20\n",
      "Score at step  97 = tensor([0.4511], grad_fn=<NegBackward>) max grad component = tensor(-0.) lr =  2.994377024375314e-20\n",
      "Score at step  98 = tensor([0.4511], grad_fn=<NegBackward>) max grad component = tensor(-0.) lr =  1.7966262146251886e-20\n",
      "Score at step  99 = tensor([0.4511], grad_fn=<NegBackward>) max grad component = tensor(-0.) lr =  1.0779757287751132e-20\n",
      "Score at step  100 = tensor([0.4511], grad_fn=<NegBackward>) max grad component = tensor(-0.) lr =  6.467854372650679e-21\n",
      "Score at step  101 = tensor([0.4511], grad_fn=<NegBackward>) max grad component = tensor(-0.) lr =  3.880712623590407e-21\n",
      "Score at step  102 = tensor([0.4511], grad_fn=<NegBackward>) max grad component = tensor(-0.) lr =  2.328427574154244e-21\n",
      "Score at step  103 = tensor([0.4511], grad_fn=<NegBackward>) max grad component = tensor(-0.) lr =  1.3970565444925465e-21\n",
      "Score at step  104 = tensor([0.4511], grad_fn=<NegBackward>) max grad component = tensor(-0.) lr =  8.382339266955279e-22\n",
      "Score at step  105 = tensor([0.4511], grad_fn=<NegBackward>) max grad component = tensor(-0.) lr =  5.0294035601731675e-22\n",
      "Score at step  106 = tensor([0.4511], grad_fn=<NegBackward>) max grad component = tensor(-0.) lr =  3.0176421361039005e-22\n",
      "Score at step  107 = tensor([0.4511], grad_fn=<NegBackward>) max grad component = tensor(-0.) lr =  1.8105852816623403e-22\n",
      "Score at step  108 = tensor([0.4511], grad_fn=<NegBackward>) max grad component = tensor(-0.) lr =  1.0863511689974042e-22\n",
      "Score at step  109 = tensor([0.4511], grad_fn=<NegBackward>) max grad component = tensor(-0.) lr =  6.518107013984425e-23\n",
      "Score at step  110 = tensor([0.4511], grad_fn=<NegBackward>) max grad component = tensor(-0.) lr =  3.910864208390655e-23\n",
      "Score at step  111 = tensor([0.4511], grad_fn=<NegBackward>) max grad component = tensor(-0.) lr =  2.346518525034393e-23\n",
      "Score at step  112 = tensor([0.4511], grad_fn=<NegBackward>) max grad component = tensor(-0.) lr =  1.4079111150206355e-23\n",
      "Score at step  113 = tensor([0.4511], grad_fn=<NegBackward>) max grad component = tensor(-0.) lr =  8.447466690123813e-24\n",
      "Score at step  114 = tensor([0.4511], grad_fn=<NegBackward>) max grad component = tensor(-0.) lr =  5.068480014074288e-24\n",
      "Score at step  115 = tensor([0.4511], grad_fn=<NegBackward>) max grad component = tensor(-0.) lr =  3.0410880084445728e-24\n",
      "Score at step  116 = tensor([0.4511], grad_fn=<NegBackward>) max grad component = tensor(-0.) lr =  1.8246528050667436e-24\n",
      "Score at step  117 = tensor([0.4511], grad_fn=<NegBackward>) max grad component = tensor(-0.) lr =  1.0947916830400462e-24\n",
      "Score at step  118 = tensor([0.4511], grad_fn=<NegBackward>) max grad component = tensor(-0.) lr =  6.568750098240277e-25\n",
      "Score at step  119 = tensor([0.4511], grad_fn=<NegBackward>) max grad component = tensor(-0.) lr =  3.941250058944166e-25\n",
      "Score at step  120 = tensor([0.4511], grad_fn=<NegBackward>) max grad component = tensor(-0.) lr =  2.3647500353664997e-25\n",
      "Score at step  121 = tensor([0.4511], grad_fn=<NegBackward>) max grad component = tensor(-0.) lr =  1.4188500212198997e-25\n",
      "Score at step  122 = tensor([0.4511], grad_fn=<NegBackward>) max grad component = tensor(-0.) lr =  8.513100127319398e-26\n",
      "Score at step  123 = tensor([0.4511], grad_fn=<NegBackward>) max grad component = tensor(-0.) lr =  5.107860076391639e-26\n",
      "Score at step  124 = tensor([0.4511], grad_fn=<NegBackward>) max grad component = tensor(-0.) lr =  3.064716045834983e-26\n",
      "Score at step  125 = tensor([0.4511], grad_fn=<NegBackward>) max grad component = tensor(-0.) lr =  1.83882962750099e-26\n",
      "Score at step  126 = tensor([0.4511], grad_fn=<NegBackward>) max grad component = tensor(-0.) lr =  1.103297776500594e-26\n",
      "Score at step  127 = tensor([0.4511], grad_fn=<NegBackward>) max grad component = tensor(-0.) lr =  6.619786659003563e-27\n",
      "Score at step  128 = tensor([0.4511], grad_fn=<NegBackward>) max grad component = tensor(-0.) lr =  3.9718719954021375e-27\n",
      "Score at step  129 = tensor([0.4511], grad_fn=<NegBackward>) max grad component = tensor(-0.) lr =  2.3831231972412826e-27\n",
      "Score at step  130 = tensor([0.4511], grad_fn=<NegBackward>) max grad component = tensor(-0.) lr =  1.4298739183447696e-27\n",
      "Score at step  131 = tensor([0.4511], grad_fn=<NegBackward>) max grad component = tensor(-0.) lr =  8.579243510068617e-28\n",
      "Score at step  132 = tensor([0.4511], grad_fn=<NegBackward>) max grad component = tensor(-0.) lr =  5.14754610604117e-28\n",
      "Score at step  133 = tensor([0.4511], grad_fn=<NegBackward>) max grad component = tensor(-0.) lr =  3.0885276636247017e-28\n",
      "Score at step  134 = tensor([0.4511], grad_fn=<NegBackward>) max grad component = tensor(-0.) lr =  1.853116598174821e-28\n",
      "Score at step  135 = tensor([0.4511], grad_fn=<NegBackward>) max grad component = tensor(-0.) lr =  1.1118699589048926e-28\n",
      "Score at step  136 = tensor([0.4511], grad_fn=<NegBackward>) max grad component = tensor(-0.) lr =  6.671219753429356e-29\n",
      "Score at step  137 = tensor([0.4511], grad_fn=<NegBackward>) max grad component = tensor(-0.) lr =  4.0027318520576135e-29\n"
     ]
    },
    {
     "name": "stdout",
     "output_type": "stream",
     "text": [
      "Score at step  138 = tensor([0.4511], grad_fn=<NegBackward>) max grad component = tensor(-0.) lr =  2.401639111234568e-29\n",
      "Score at step  139 = tensor([0.4511], grad_fn=<NegBackward>) max grad component = tensor(-0.) lr =  1.4409834667407408e-29\n",
      "Score at step  140 = tensor([0.4511], grad_fn=<NegBackward>) max grad component = tensor(-0.) lr =  8.645900800444445e-30\n",
      "Score at step  141 = tensor([0.4511], grad_fn=<NegBackward>) max grad component = tensor(-0.) lr =  5.187540480266667e-30\n",
      "Score at step  142 = tensor([0.4511], grad_fn=<NegBackward>) max grad component = tensor(-0.) lr =  3.11252428816e-30\n",
      "Score at step  143 = tensor([0.4511], grad_fn=<NegBackward>) max grad component = tensor(-0.) lr =  1.867514572896e-30\n",
      "Score at step  144 = tensor([0.4511], grad_fn=<NegBackward>) max grad component = tensor(-0.) lr =  1.1205087437376e-30\n",
      "Score at step  145 = tensor([0.4511], grad_fn=<NegBackward>) max grad component = tensor(-0.) lr =  6.723052462425599e-31\n",
      "Score at step  146 = tensor([0.4511], grad_fn=<NegBackward>) max grad component = tensor(-0.) lr =  4.0338314774553595e-31\n",
      "Score at step  147 = tensor([0.4511], grad_fn=<NegBackward>) max grad component = tensor(-0.) lr =  2.4202988864732154e-31\n",
      "Score at step  148 = tensor([0.4511], grad_fn=<NegBackward>) max grad component = tensor(-0.) lr =  1.4521793318839292e-31\n",
      "Score at step  149 = tensor([0.4511], grad_fn=<NegBackward>) max grad component = tensor(-0.) lr =  8.713075991303575e-32\n",
      "Score at step  150 = tensor([0.4511], grad_fn=<NegBackward>) max grad component = tensor(-0.) lr =  5.227845594782145e-32\n",
      "Score at step  151 = tensor([0.4511], grad_fn=<NegBackward>) max grad component = tensor(-0.) lr =  3.1367073568692866e-32\n",
      "Score at step  152 = tensor([0.4511], grad_fn=<NegBackward>) max grad component = tensor(-0.) lr =  1.882024414121572e-32\n",
      "Score at step  153 = tensor([0.4511], grad_fn=<NegBackward>) max grad component = tensor(-0.) lr =  1.1292146484729432e-32\n",
      "Score at step  154 = tensor([0.4511], grad_fn=<NegBackward>) max grad component = tensor(-0.) lr =  6.775287890837659e-33\n",
      "Score at step  155 = tensor([0.4511], grad_fn=<NegBackward>) max grad component = tensor(-0.) lr =  4.0651727345025953e-33\n",
      "Score at step  156 = tensor([0.4511], grad_fn=<NegBackward>) max grad component = tensor(-0.) lr =  2.439103640701557e-33\n",
      "Score at step  157 = tensor([0.4511], grad_fn=<NegBackward>) max grad component = tensor(-0.) lr =  1.4634621844209341e-33\n",
      "Score at step  158 = tensor([0.4511], grad_fn=<NegBackward>) max grad component = tensor(-0.) lr =  8.780773106525605e-34\n",
      "Score at step  159 = tensor([0.4511], grad_fn=<NegBackward>) max grad component = tensor(-0.) lr =  5.2684638639153624e-34\n",
      "Score at step  160 = tensor([0.4511], grad_fn=<NegBackward>) max grad component = tensor(-0.) lr =  3.161078318349217e-34\n",
      "Score at step  161 = tensor([0.4511], grad_fn=<NegBackward>) max grad component = tensor(-0.) lr =  1.8966469910095302e-34\n",
      "Score at step  162 = tensor([0.4511], grad_fn=<NegBackward>) max grad component = tensor(-0.) lr =  1.1379881946057182e-34\n",
      "Score at step  163 = tensor([0.4511], grad_fn=<NegBackward>) max grad component = tensor(-0.) lr =  6.827929167634309e-35\n",
      "Score at step  164 = tensor([0.4511], grad_fn=<NegBackward>) max grad component = tensor(-0.) lr =  4.096757500580585e-35\n",
      "Score at step  165 = tensor([0.4511], grad_fn=<NegBackward>) max grad component = tensor(-0.) lr =  2.458054500348351e-35\n",
      "Score at step  166 = tensor([0.4511], grad_fn=<NegBackward>) max grad component = tensor(-0.) lr =  1.4748327002090104e-35\n",
      "Score at step  167 = tensor([0.4511], grad_fn=<NegBackward>) max grad component = tensor(-0.) lr =  8.848996201254062e-36\n",
      "Score at step  168 = tensor([0.4511], grad_fn=<NegBackward>) max grad component = tensor(-0.) lr =  5.3093977207524374e-36\n",
      "Score at step  169 = tensor([0.4511], grad_fn=<NegBackward>) max grad component = tensor(-0.) lr =  3.185638632451462e-36\n",
      "Score at step  170 = tensor([0.4511], grad_fn=<NegBackward>) max grad component = tensor(-0.) lr =  1.9113831794708772e-36\n",
      "Score at step  171 = tensor([0.4511], grad_fn=<NegBackward>) max grad component = tensor(-0.) lr =  1.1468299076825262e-36\n",
      "Score at step  172 = tensor([0.4511], grad_fn=<NegBackward>) max grad component = tensor(-0.) lr =  6.880979446095157e-37\n",
      "Score at step  173 = tensor([0.4511], grad_fn=<NegBackward>) max grad component = tensor(-0.) lr =  4.128587667657094e-37\n",
      "Score at step  174 = tensor([0.4511], grad_fn=<NegBackward>) max grad component = tensor(-0.) lr =  2.4771526005942564e-37\n",
      "Score at step  175 = tensor([0.4511], grad_fn=<NegBackward>) max grad component = tensor(-0.) lr =  1.4862915603565537e-37\n",
      "Score at step  176 = tensor([0.4511], grad_fn=<NegBackward>) max grad component = tensor(-0.) lr =  8.917749362139322e-38\n",
      "Score at step  177 = tensor([0.4511], grad_fn=<NegBackward>) max grad component = tensor(-0.) lr =  5.350649617283593e-38\n",
      "Score at step  178 = tensor([0.4511], grad_fn=<NegBackward>) max grad component = tensor(-0.) lr =  3.210389770370156e-38\n",
      "Score at step  179 = tensor([0.4511], grad_fn=<NegBackward>) max grad component = tensor(-0.) lr =  1.9262338622220935e-38\n",
      "Score at step  180 = tensor([0.4511], grad_fn=<NegBackward>) max grad component = tensor(-0.) lr =  1.155740317333256e-38\n",
      "Score at step  181 = tensor([0.4511], grad_fn=<NegBackward>) max grad component = tensor(-0.) lr =  6.934441903999535e-39\n",
      "Score at step  182 = tensor([0.4511], grad_fn=<NegBackward>) max grad component = tensor(-0.) lr =  4.160665142399721e-39\n",
      "Score at step  183 = tensor([0.4511], grad_fn=<NegBackward>) max grad component = tensor(-0.) lr =  2.4963990854398326e-39\n",
      "Score at step  184 = tensor([0.4511], grad_fn=<NegBackward>) max grad component = tensor(-0.) lr =  1.4978394512638996e-39\n",
      "Score at step  185 = tensor([0.4511], grad_fn=<NegBackward>) max grad component = tensor(-0.) lr =  8.987036707583397e-40\n",
      "Score at step  186 = tensor([0.4511], grad_fn=<NegBackward>) max grad component = tensor(-0.) lr =  5.392222024550038e-40\n",
      "Score at step  187 = tensor([0.4511], grad_fn=<NegBackward>) max grad component = tensor(-0.) lr =  3.235333214730023e-40\n",
      "Score at step  188 = tensor([0.4511], grad_fn=<NegBackward>) max grad component = tensor(-0.) lr =  1.9411999288380138e-40\n",
      "Score at step  189 = tensor([0.4511], grad_fn=<NegBackward>) max grad component = tensor(-0.) lr =  1.1647199573028083e-40\n",
      "Score at step  190 = tensor([0.4511], grad_fn=<NegBackward>) max grad component = tensor(-0.) lr =  6.98831974381685e-41\n",
      "Score at step  191 = tensor([0.4511], grad_fn=<NegBackward>) max grad component = tensor(-0.) lr =  4.1929918462901096e-41\n",
      "Score at step  192 = tensor([0.4511], grad_fn=<NegBackward>) max grad component = tensor(-0.) lr =  2.515795107774066e-41\n",
      "Score at step  193 = tensor([0.4511], grad_fn=<NegBackward>) max grad component = tensor(-0.) lr =  1.5094770646644394e-41\n",
      "Score at step  194 = tensor([0.4511], grad_fn=<NegBackward>) max grad component = tensor(-0.) lr =  9.056862387986636e-42\n",
      "Score at step  195 = tensor([0.4511], grad_fn=<NegBackward>) max grad component = tensor(-0.) lr =  5.434117432791981e-42\n",
      "Score at step  196 = tensor([0.4511], grad_fn=<NegBackward>) max grad component = tensor(-0.) lr =  3.260470459675189e-42\n",
      "Score at step  197 = tensor([0.4511], grad_fn=<NegBackward>) max grad component = tensor(-0.) lr =  1.9562822758051133e-42\n",
      "Score at step  198 = tensor([0.4511], grad_fn=<NegBackward>) max grad component = tensor(-0.) lr =  1.173769365483068e-42\n",
      "Score at step  199 = tensor([0.4511], grad_fn=<NegBackward>) max grad component = tensor(-0.) lr =  7.042616192898407e-43\n",
      "Score at step  200 = tensor([0.4511], grad_fn=<NegBackward>) max grad component = tensor(-0.) lr =  4.225569715739044e-43\n",
      "Score at step  201 = tensor([0.4511], grad_fn=<NegBackward>) max grad component = tensor(-0.) lr =  2.535341829443426e-43\n",
      "Score at step  202 = tensor([0.4511], grad_fn=<NegBackward>) max grad component = tensor(-0.) lr =  1.5212050976660558e-43\n",
      "Score at step  203 = tensor([0.4511], grad_fn=<NegBackward>) max grad component = tensor(-0.) lr =  9.127230585996333e-44\n",
      "Score at step  204 = tensor([0.4511], grad_fn=<NegBackward>) max grad component = tensor(-0.) lr =  5.476338351597799e-44\n",
      "Score at step  205 = tensor([0.4511], grad_fn=<NegBackward>) max grad component = tensor(-0.) lr =  3.2858030109586797e-44\n"
     ]
    },
    {
     "name": "stdout",
     "output_type": "stream",
     "text": [
      "Score at step  206 = tensor([0.4511], grad_fn=<NegBackward>) max grad component = tensor(-0.) lr =  1.9714818065752077e-44\n",
      "Score at step  207 = tensor([0.4511], grad_fn=<NegBackward>) max grad component = tensor(-0.) lr =  1.1828890839451247e-44\n",
      "Score at step  208 = tensor([0.4511], grad_fn=<NegBackward>) max grad component = tensor(-0.) lr =  7.097334503670747e-45\n",
      "Score at step  209 = tensor([0.4511], grad_fn=<NegBackward>) max grad component = tensor(-0.) lr =  4.258400702202448e-45\n",
      "Score at step  210 = tensor([0.4511], grad_fn=<NegBackward>) max grad component = tensor(-0.) lr =  2.5550404213214687e-45\n",
      "Score at step  211 = tensor([0.4511], grad_fn=<NegBackward>) max grad component = tensor(-0.) lr =  1.5330242527928812e-45\n",
      "Score at step  212 = tensor([0.4511], grad_fn=<NegBackward>) max grad component = tensor(-0.) lr =  9.198145516757287e-46\n",
      "Score at step  213 = tensor([0.4511], grad_fn=<NegBackward>) max grad component = tensor(-0.) lr =  5.518887310054372e-46\n",
      "Score at step  214 = tensor([0.4511], grad_fn=<NegBackward>) max grad component = tensor(-0.) lr =  3.3113323860326232e-46\n",
      "Score at step  215 = tensor([0.4511], grad_fn=<NegBackward>) max grad component = tensor(-0.) lr =  1.9867994316195737e-46\n",
      "Score at step  216 = tensor([0.4511], grad_fn=<NegBackward>) max grad component = tensor(-0.) lr =  1.1920796589717442e-46\n",
      "Score at step  217 = tensor([0.4511], grad_fn=<NegBackward>) max grad component = tensor(-0.) lr =  7.152477953830465e-47\n",
      "Score at step  218 = tensor([0.4511], grad_fn=<NegBackward>) max grad component = tensor(-0.) lr =  4.2914867722982787e-47\n",
      "Score at step  219 = tensor([0.4511], grad_fn=<NegBackward>) max grad component = tensor(-0.) lr =  2.5748920633789673e-47\n",
      "Score at step  220 = tensor([0.4511], grad_fn=<NegBackward>) max grad component = tensor(-0.) lr =  1.5449352380273802e-47\n",
      "Score at step  221 = tensor([0.4511], grad_fn=<NegBackward>) max grad component = tensor(-0.) lr =  9.269611428164281e-48\n",
      "Score at step  222 = tensor([0.4511], grad_fn=<NegBackward>) max grad component = tensor(-0.) lr =  5.561766856898568e-48\n",
      "Score at step  223 = tensor([0.4511], grad_fn=<NegBackward>) max grad component = tensor(-0.) lr =  3.3370601141391407e-48\n",
      "Score at step  224 = tensor([0.4511], grad_fn=<NegBackward>) max grad component = tensor(-0.) lr =  2.0022360684834844e-48\n",
      "Score at step  225 = tensor([0.4511], grad_fn=<NegBackward>) max grad component = tensor(-0.) lr =  1.2013416410900906e-48\n",
      "Score at step  226 = tensor([0.4511], grad_fn=<NegBackward>) max grad component = tensor(-0.) lr =  7.208049846540544e-49\n",
      "Score at step  227 = tensor([0.4511], grad_fn=<NegBackward>) max grad component = tensor(-0.) lr =  4.3248299079243266e-49\n",
      "Score at step  228 = tensor([0.4511], grad_fn=<NegBackward>) max grad component = tensor(-0.) lr =  2.594897944754596e-49\n",
      "Score at step  229 = tensor([0.4511], grad_fn=<NegBackward>) max grad component = tensor(-0.) lr =  1.5569387668527576e-49\n",
      "Score at step  230 = tensor([0.4511], grad_fn=<NegBackward>) max grad component = tensor(-0.) lr =  9.341632601116546e-50\n",
      "Score at step  231 = tensor([0.4511], grad_fn=<NegBackward>) max grad component = tensor(-0.) lr =  5.604979560669927e-50\n",
      "Score at step  232 = tensor([0.4511], grad_fn=<NegBackward>) max grad component = tensor(-0.) lr =  3.3629877364019564e-50\n",
      "Score at step  233 = tensor([0.4511], grad_fn=<NegBackward>) max grad component = tensor(-0.) lr =  2.0177926418411739e-50\n",
      "Score at step  234 = tensor([0.4511], grad_fn=<NegBackward>) max grad component = tensor(-0.) lr =  1.2106755851047043e-50\n",
      "Score at step  235 = tensor([0.4511], grad_fn=<NegBackward>) max grad component = tensor(-0.) lr =  7.264053510628226e-51\n",
      "Score at step  236 = tensor([0.4511], grad_fn=<NegBackward>) max grad component = tensor(-0.) lr =  4.3584321063769353e-51\n",
      "Score at step  237 = tensor([0.4511], grad_fn=<NegBackward>) max grad component = tensor(-0.) lr =  2.6150592638261612e-51\n",
      "Score at step  238 = tensor([0.4511], grad_fn=<NegBackward>) max grad component = tensor(-0.) lr =  1.5690355582956967e-51\n",
      "Score at step  239 = tensor([0.4511], grad_fn=<NegBackward>) max grad component = tensor(-0.) lr =  9.41421334977418e-52\n",
      "Score at step  240 = tensor([0.4511], grad_fn=<NegBackward>) max grad component = tensor(-0.) lr =  5.648528009864508e-52\n",
      "Score at step  241 = tensor([0.4511], grad_fn=<NegBackward>) max grad component = tensor(-0.) lr =  3.3891168059187045e-52\n",
      "Score at step  242 = tensor([0.4511], grad_fn=<NegBackward>) max grad component = tensor(-0.) lr =  2.0334700835512227e-52\n",
      "Score at step  243 = tensor([0.4511], grad_fn=<NegBackward>) max grad component = tensor(-0.) lr =  1.2200820501307336e-52\n",
      "Score at step  244 = tensor([0.4511], grad_fn=<NegBackward>) max grad component = tensor(-0.) lr =  7.320492300784401e-53\n",
      "Score at step  245 = tensor([0.4511], grad_fn=<NegBackward>) max grad component = tensor(-0.) lr =  4.392295380470641e-53\n",
      "Score at step  246 = tensor([0.4511], grad_fn=<NegBackward>) max grad component = tensor(-0.) lr =  2.6353772282823845e-53\n",
      "Score at step  247 = tensor([0.4511], grad_fn=<NegBackward>) max grad component = tensor(-0.) lr =  1.5812263369694307e-53\n",
      "Score at step  248 = tensor([0.4511], grad_fn=<NegBackward>) max grad component = tensor(-0.) lr =  9.487358021816584e-54\n",
      "Score at step  249 = tensor([0.4511], grad_fn=<NegBackward>) max grad component = tensor(-0.) lr =  5.69241481308995e-54\n",
      "Score at step  250 = tensor([0.4511], grad_fn=<NegBackward>) max grad component = tensor(-0.) lr =  3.41544888785397e-54\n",
      "Score at step  251 = tensor([0.4511], grad_fn=<NegBackward>) max grad component = tensor(-0.) lr =  2.049269332712382e-54\n",
      "Score at step  252 = tensor([0.4511], grad_fn=<NegBackward>) max grad component = tensor(-0.) lr =  1.229561599627429e-54\n",
      "Score at step  253 = tensor([0.4511], grad_fn=<NegBackward>) max grad component = tensor(-0.) lr =  7.377369597764574e-55\n",
      "Score at step  254 = tensor([0.4511], grad_fn=<NegBackward>) max grad component = tensor(-0.) lr =  4.426421758658744e-55\n",
      "Score at step  255 = tensor([0.4511], grad_fn=<NegBackward>) max grad component = tensor(-0.) lr =  2.6558530551952465e-55\n",
      "Score at step  256 = tensor([0.4511], grad_fn=<NegBackward>) max grad component = tensor(-0.) lr =  1.5935118331171479e-55\n",
      "Score at step  257 = tensor([0.4511], grad_fn=<NegBackward>) max grad component = tensor(-0.) lr =  9.561070998702888e-56\n",
      "Score at step  258 = tensor([0.4511], grad_fn=<NegBackward>) max grad component = tensor(-0.) lr =  5.736642599221733e-56\n",
      "Score at step  259 = tensor([0.4511], grad_fn=<NegBackward>) max grad component = tensor(-0.) lr =  3.4419855595330397e-56\n",
      "Score at step  260 = tensor([0.4511], grad_fn=<NegBackward>) max grad component = tensor(-0.) lr =  2.065191335719824e-56\n",
      "Score at step  261 = tensor([0.4511], grad_fn=<NegBackward>) max grad component = tensor(-0.) lr =  1.2391148014318942e-56\n",
      "Score at step  262 = tensor([0.4511], grad_fn=<NegBackward>) max grad component = tensor(-0.) lr =  7.434688808591365e-57\n",
      "Score at step  263 = tensor([0.4511], grad_fn=<NegBackward>) max grad component = tensor(-0.) lr =  4.4608132851548185e-57\n",
      "Score at step  264 = tensor([0.4511], grad_fn=<NegBackward>) max grad component = tensor(-0.) lr =  2.676487971092891e-57\n",
      "Score at step  265 = tensor([0.4511], grad_fn=<NegBackward>) max grad component = tensor(-0.) lr =  1.6058927826557346e-57\n",
      "Score at step  266 = tensor([0.4511], grad_fn=<NegBackward>) max grad component = tensor(-0.) lr =  9.635356695934406e-58\n",
      "Score at step  267 = tensor([0.4511], grad_fn=<NegBackward>) max grad component = tensor(-0.) lr =  5.7812140175606435e-58\n",
      "Score at step  268 = tensor([0.4511], grad_fn=<NegBackward>) max grad component = tensor(-0.) lr =  3.468728410536386e-58\n",
      "Score at step  269 = tensor([0.4511], grad_fn=<NegBackward>) max grad component = tensor(-0.) lr =  2.0812370463218313e-58\n",
      "Score at step  270 = tensor([0.4511], grad_fn=<NegBackward>) max grad component = tensor(-0.) lr =  1.2487422277930988e-58\n",
      "Score at step  271 = tensor([0.4511], grad_fn=<NegBackward>) max grad component = tensor(-0.) lr =  7.492453366758592e-59\n",
      "Score at step  272 = tensor([0.4511], grad_fn=<NegBackward>) max grad component = tensor(-0.) lr =  4.495472020055155e-59\n",
      "Score at step  273 = tensor([0.4511], grad_fn=<NegBackward>) max grad component = tensor(-0.) lr =  2.697283212033093e-59\n"
     ]
    },
    {
     "name": "stdout",
     "output_type": "stream",
     "text": [
      "Score at step  274 = tensor([0.4511], grad_fn=<NegBackward>) max grad component = tensor(-0.) lr =  1.6183699272198558e-59\n",
      "Score at step  275 = tensor([0.4511], grad_fn=<NegBackward>) max grad component = tensor(-0.) lr =  9.710219563319135e-60\n",
      "Score at step  276 = tensor([0.4511], grad_fn=<NegBackward>) max grad component = tensor(-0.) lr =  5.826131737991481e-60\n",
      "Score at step  277 = tensor([0.4511], grad_fn=<NegBackward>) max grad component = tensor(-0.) lr =  3.4956790427948885e-60\n",
      "Score at step  278 = tensor([0.4511], grad_fn=<NegBackward>) max grad component = tensor(-0.) lr =  2.097407425676933e-60\n",
      "Score at step  279 = tensor([0.4511], grad_fn=<NegBackward>) max grad component = tensor(-0.) lr =  1.2584444554061598e-60\n",
      "Score at step  280 = tensor([0.4511], grad_fn=<NegBackward>) max grad component = tensor(-0.) lr =  7.550666732436959e-61\n",
      "Score at step  281 = tensor([0.4511], grad_fn=<NegBackward>) max grad component = tensor(-0.) lr =  4.5304000394621755e-61\n",
      "Score at step  282 = tensor([0.4511], grad_fn=<NegBackward>) max grad component = tensor(-0.) lr =  2.718240023677305e-61\n",
      "Score at step  283 = tensor([0.4511], grad_fn=<NegBackward>) max grad component = tensor(-0.) lr =  1.630944014206383e-61\n",
      "Score at step  284 = tensor([0.4511], grad_fn=<NegBackward>) max grad component = tensor(-0.) lr =  9.785664085238298e-62\n",
      "Score at step  285 = tensor([0.4511], grad_fn=<NegBackward>) max grad component = tensor(-0.) lr =  5.871398451142979e-62\n",
      "Score at step  286 = tensor([0.4511], grad_fn=<NegBackward>) max grad component = tensor(-0.) lr =  3.522839070685787e-62\n",
      "Score at step  287 = tensor([0.4511], grad_fn=<NegBackward>) max grad component = tensor(-0.) lr =  2.113703442411472e-62\n",
      "Score at step  288 = tensor([0.4511], grad_fn=<NegBackward>) max grad component = tensor(-0.) lr =  1.2682220654468831e-62\n",
      "Score at step  289 = tensor([0.4511], grad_fn=<NegBackward>) max grad component = tensor(-0.) lr =  7.609332392681298e-63\n",
      "Score at step  290 = tensor([0.4511], grad_fn=<NegBackward>) max grad component = tensor(-0.) lr =  4.5655994356087784e-63\n",
      "Score at step  291 = tensor([0.4511], grad_fn=<NegBackward>) max grad component = tensor(-0.) lr =  2.739359661365267e-63\n",
      "Score at step  292 = tensor([0.4511], grad_fn=<NegBackward>) max grad component = tensor(-0.) lr =  1.64361579681916e-63\n",
      "Score at step  293 = tensor([0.4511], grad_fn=<NegBackward>) max grad component = tensor(-0.) lr =  9.86169478091496e-64\n",
      "Score at step  294 = tensor([0.4511], grad_fn=<NegBackward>) max grad component = tensor(-0.) lr =  5.917016868548976e-64\n",
      "Score at step  295 = tensor([0.4511], grad_fn=<NegBackward>) max grad component = tensor(-0.) lr =  3.5502101211293856e-64\n",
      "Score at step  296 = tensor([0.4511], grad_fn=<NegBackward>) max grad component = tensor(-0.) lr =  2.130126072677631e-64\n",
      "Score at step  297 = tensor([0.4511], grad_fn=<NegBackward>) max grad component = tensor(-0.) lr =  1.2780756436065786e-64\n",
      "Score at step  298 = tensor([0.4511], grad_fn=<NegBackward>) max grad component = tensor(-0.) lr =  7.668453861639471e-65\n",
      "Score at step  299 = tensor([0.4511], grad_fn=<NegBackward>) max grad component = tensor(-0.) lr =  4.601072316983682e-65\n",
      "Score at step  300 = tensor([0.4511], grad_fn=<NegBackward>) max grad component = tensor(-0.) lr =  2.760643390190209e-65\n",
      "Score at step  301 = tensor([0.4511], grad_fn=<NegBackward>) max grad component = tensor(-0.) lr =  1.6563860341141255e-65\n",
      "Score at step  302 = tensor([0.4511], grad_fn=<NegBackward>) max grad component = tensor(-0.) lr =  9.938316204684752e-66\n",
      "Score at step  303 = tensor([0.4511], grad_fn=<NegBackward>) max grad component = tensor(-0.) lr =  5.962989722810851e-66\n",
      "Score at step  304 = tensor([0.4511], grad_fn=<NegBackward>) max grad component = tensor(-0.) lr =  3.5777938336865106e-66\n",
      "Score at step  305 = tensor([0.4511], grad_fn=<NegBackward>) max grad component = tensor(-0.) lr =  2.1466763002119063e-66\n",
      "Score at step  306 = tensor([0.4511], grad_fn=<NegBackward>) max grad component = tensor(-0.) lr =  1.2880057801271437e-66\n",
      "Score at step  307 = tensor([0.4511], grad_fn=<NegBackward>) max grad component = tensor(-0.) lr =  7.728034680762862e-67\n",
      "Score at step  308 = tensor([0.4511], grad_fn=<NegBackward>) max grad component = tensor(-0.) lr =  4.636820808457717e-67\n",
      "Score at step  309 = tensor([0.4511], grad_fn=<NegBackward>) max grad component = tensor(-0.) lr =  2.7820924850746304e-67\n",
      "Score at step  310 = tensor([0.4511], grad_fn=<NegBackward>) max grad component = tensor(-0.) lr =  1.6692554910447783e-67\n",
      "Score at step  311 = tensor([0.4511], grad_fn=<NegBackward>) max grad component = tensor(-0.) lr =  1.0015532946268669e-67\n",
      "Score at step  312 = tensor([0.4511], grad_fn=<NegBackward>) max grad component = tensor(-0.) lr =  6.0093197677612015e-68\n",
      "Score at step  313 = tensor([0.4511], grad_fn=<NegBackward>) max grad component = tensor(-0.) lr =  3.6055918606567207e-68\n",
      "Score at step  314 = tensor([0.4511], grad_fn=<NegBackward>) max grad component = tensor(-0.) lr =  2.163355116394032e-68\n",
      "Score at step  315 = tensor([0.4511], grad_fn=<NegBackward>) max grad component = tensor(-0.) lr =  1.2980130698364192e-68\n",
      "Score at step  316 = tensor([0.4511], grad_fn=<NegBackward>) max grad component = tensor(-0.) lr =  7.788078419018515e-69\n",
      "Score at step  317 = tensor([0.4511], grad_fn=<NegBackward>) max grad component = tensor(-0.) lr =  4.672847051411109e-69\n",
      "Score at step  318 = tensor([0.4511], grad_fn=<NegBackward>) max grad component = tensor(-0.) lr =  2.8037082308466653e-69\n",
      "Score at step  319 = tensor([0.4511], grad_fn=<NegBackward>) max grad component = tensor(-0.) lr =  1.6822249385079992e-69\n",
      "Score at step  320 = tensor([0.4511], grad_fn=<NegBackward>) max grad component = tensor(-0.) lr =  1.0093349631047995e-69\n",
      "Score at step  321 = tensor([0.4511], grad_fn=<NegBackward>) max grad component = tensor(-0.) lr =  6.056009778628797e-70\n",
      "Score at step  322 = tensor([0.4511], grad_fn=<NegBackward>) max grad component = tensor(-0.) lr =  3.633605867177278e-70\n",
      "Score at step  323 = tensor([0.4511], grad_fn=<NegBackward>) max grad component = tensor(-0.) lr =  2.180163520306367e-70\n",
      "Score at step  324 = tensor([0.4511], grad_fn=<NegBackward>) max grad component = tensor(-0.) lr =  1.3080981121838202e-70\n",
      "Score at step  325 = tensor([0.4511], grad_fn=<NegBackward>) max grad component = tensor(-0.) lr =  7.848588673102921e-71\n",
      "Score at step  326 = tensor([0.4511], grad_fn=<NegBackward>) max grad component = tensor(-0.) lr =  4.709153203861752e-71\n",
      "Score at step  327 = tensor([0.4511], grad_fn=<NegBackward>) max grad component = tensor(-0.) lr =  2.8254919223170513e-71\n",
      "Score at step  328 = tensor([0.4511], grad_fn=<NegBackward>) max grad component = tensor(-0.) lr =  1.6952951533902307e-71\n",
      "Score at step  329 = tensor([0.4511], grad_fn=<NegBackward>) max grad component = tensor(-0.) lr =  1.0171770920341384e-71\n",
      "Score at step  330 = tensor([0.4511], grad_fn=<NegBackward>) max grad component = tensor(-0.) lr =  6.10306255220483e-72\n",
      "Score at step  331 = tensor([0.4511], grad_fn=<NegBackward>) max grad component = tensor(-0.) lr =  3.661837531322898e-72\n",
      "Score at step  332 = tensor([0.4511], grad_fn=<NegBackward>) max grad component = tensor(-0.) lr =  2.1971025187937385e-72\n",
      "Score at step  333 = tensor([0.4511], grad_fn=<NegBackward>) max grad component = tensor(-0.) lr =  1.318261511276243e-72\n",
      "Score at step  334 = tensor([0.4511], grad_fn=<NegBackward>) max grad component = tensor(-0.) lr =  7.909569067657458e-73\n",
      "Score at step  335 = tensor([0.4511], grad_fn=<NegBackward>) max grad component = tensor(-0.) lr =  4.7457414405944743e-73\n",
      "Score at step  336 = tensor([0.4511], grad_fn=<NegBackward>) max grad component = tensor(-0.) lr =  2.8474448643566843e-73\n",
      "Score at step  337 = tensor([0.4511], grad_fn=<NegBackward>) max grad component = tensor(-0.) lr =  1.7084669186140106e-73\n",
      "Score at step  338 = tensor([0.4511], grad_fn=<NegBackward>) max grad component = tensor(-0.) lr =  1.0250801511684063e-73\n",
      "Score at step  339 = tensor([0.4511], grad_fn=<NegBackward>) max grad component = tensor(-0.) lr =  6.150480907010438e-74\n",
      "Score at step  340 = tensor([0.4511], grad_fn=<NegBackward>) max grad component = tensor(-0.) lr =  3.690288544206262e-74\n",
      "Score at step  341 = tensor([0.4511], grad_fn=<NegBackward>) max grad component = tensor(-0.) lr =  2.214173126523757e-74\n"
     ]
    },
    {
     "name": "stdout",
     "output_type": "stream",
     "text": [
      "Score at step  342 = tensor([0.4511], grad_fn=<NegBackward>) max grad component = tensor(-0.) lr =  1.3285038759142543e-74\n",
      "Score at step  343 = tensor([0.4511], grad_fn=<NegBackward>) max grad component = tensor(-0.) lr =  7.971023255485526e-75\n",
      "Score at step  344 = tensor([0.4511], grad_fn=<NegBackward>) max grad component = tensor(-0.) lr =  4.782613953291315e-75\n",
      "Score at step  345 = tensor([0.4511], grad_fn=<NegBackward>) max grad component = tensor(-0.) lr =  2.869568371974789e-75\n",
      "Score at step  346 = tensor([0.4511], grad_fn=<NegBackward>) max grad component = tensor(-0.) lr =  1.7217410231848733e-75\n",
      "Score at step  347 = tensor([0.4511], grad_fn=<NegBackward>) max grad component = tensor(-0.) lr =  1.033044613910924e-75\n",
      "Score at step  348 = tensor([0.4511], grad_fn=<NegBackward>) max grad component = tensor(-0.) lr =  6.198267683465544e-76\n",
      "Score at step  349 = tensor([0.4511], grad_fn=<NegBackward>) max grad component = tensor(-0.) lr =  3.718960610079326e-76\n",
      "Score at step  350 = tensor([0.4511], grad_fn=<NegBackward>) max grad component = tensor(-0.) lr =  2.2313763660475958e-76\n",
      "Score at step  351 = tensor([0.4511], grad_fn=<NegBackward>) max grad component = tensor(-0.) lr =  1.3388258196285573e-76\n",
      "Score at step  352 = tensor([0.4511], grad_fn=<NegBackward>) max grad component = tensor(-0.) lr =  8.032954917771343e-77\n",
      "Score at step  353 = tensor([0.4511], grad_fn=<NegBackward>) max grad component = tensor(-0.) lr =  4.8197729506628054e-77\n",
      "Score at step  354 = tensor([0.4511], grad_fn=<NegBackward>) max grad component = tensor(-0.) lr =  2.891863770397683e-77\n",
      "Score at step  355 = tensor([0.4511], grad_fn=<NegBackward>) max grad component = tensor(-0.) lr =  1.73511826223861e-77\n",
      "Score at step  356 = tensor([0.4511], grad_fn=<NegBackward>) max grad component = tensor(-0.) lr =  1.0410709573431659e-77\n",
      "Score at step  357 = tensor([0.4511], grad_fn=<NegBackward>) max grad component = tensor(-0.) lr =  6.246425744058995e-78\n",
      "Score at step  358 = tensor([0.4511], grad_fn=<NegBackward>) max grad component = tensor(-0.) lr =  3.747855446435397e-78\n",
      "Score at step  359 = tensor([0.4511], grad_fn=<NegBackward>) max grad component = tensor(-0.) lr =  2.248713267861238e-78\n",
      "Score at step  360 = tensor([0.4511], grad_fn=<NegBackward>) max grad component = tensor(-0.) lr =  1.3492279607167426e-78\n",
      "Score at step  361 = tensor([0.4511], grad_fn=<NegBackward>) max grad component = tensor(-0.) lr =  8.095367764300455e-79\n",
      "Score at step  362 = tensor([0.4511], grad_fn=<NegBackward>) max grad component = tensor(-0.) lr =  4.857220658580273e-79\n",
      "Score at step  363 = tensor([0.4511], grad_fn=<NegBackward>) max grad component = tensor(-0.) lr =  2.914332395148164e-79\n",
      "Score at step  364 = tensor([0.4511], grad_fn=<NegBackward>) max grad component = tensor(-0.) lr =  1.7485994370888983e-79\n",
      "Score at step  365 = tensor([0.4511], grad_fn=<NegBackward>) max grad component = tensor(-0.) lr =  1.0491596622533389e-79\n",
      "Score at step  366 = tensor([0.4511], grad_fn=<NegBackward>) max grad component = tensor(-0.) lr =  6.294957973520033e-80\n",
      "Score at step  367 = tensor([0.4511], grad_fn=<NegBackward>) max grad component = tensor(-0.) lr =  3.776974784112019e-80\n",
      "Score at step  368 = tensor([0.4511], grad_fn=<NegBackward>) max grad component = tensor(-0.) lr =  2.2661848704672114e-80\n",
      "Score at step  369 = tensor([0.4511], grad_fn=<NegBackward>) max grad component = tensor(-0.) lr =  1.3597109222803267e-80\n",
      "Score at step  370 = tensor([0.4511], grad_fn=<NegBackward>) max grad component = tensor(-0.) lr =  8.15826553368196e-81\n",
      "Score at step  371 = tensor([0.4511], grad_fn=<NegBackward>) max grad component = tensor(-0.) lr =  4.894959320209176e-81\n",
      "Score at step  372 = tensor([0.4511], grad_fn=<NegBackward>) max grad component = tensor(-0.) lr =  2.9369755921255054e-81\n",
      "Score at step  373 = tensor([0.4511], grad_fn=<NegBackward>) max grad component = tensor(-0.) lr =  1.762185355275303e-81\n",
      "Score at step  374 = tensor([0.4511], grad_fn=<NegBackward>) max grad component = tensor(-0.) lr =  1.0573112131651817e-81\n",
      "Score at step  375 = tensor([0.4511], grad_fn=<NegBackward>) max grad component = tensor(-0.) lr =  6.34386727899109e-82\n",
      "Score at step  376 = tensor([0.4511], grad_fn=<NegBackward>) max grad component = tensor(-0.) lr =  3.806320367394654e-82\n",
      "Score at step  377 = tensor([0.4511], grad_fn=<NegBackward>) max grad component = tensor(-0.) lr =  2.2837922204367922e-82\n",
      "Score at step  378 = tensor([0.4511], grad_fn=<NegBackward>) max grad component = tensor(-0.) lr =  1.3702753322620754e-82\n",
      "Score at step  379 = tensor([0.4511], grad_fn=<NegBackward>) max grad component = tensor(-0.) lr =  8.221651993572452e-83\n",
      "Score at step  380 = tensor([0.4511], grad_fn=<NegBackward>) max grad component = tensor(-0.) lr =  4.932991196143471e-83\n",
      "Score at step  381 = tensor([0.4511], grad_fn=<NegBackward>) max grad component = tensor(-0.) lr =  2.9597947176860826e-83\n",
      "Score at step  382 = tensor([0.4511], grad_fn=<NegBackward>) max grad component = tensor(-0.) lr =  1.7758768306116497e-83\n",
      "Score at step  383 = tensor([0.4511], grad_fn=<NegBackward>) max grad component = tensor(-0.) lr =  1.0655260983669898e-83\n",
      "Score at step  384 = tensor([0.4511], grad_fn=<NegBackward>) max grad component = tensor(-0.) lr =  6.393156590201938e-84\n",
      "Score at step  385 = tensor([0.4511], grad_fn=<NegBackward>) max grad component = tensor(-0.) lr =  3.8358939541211624e-84\n",
      "Score at step  386 = tensor([0.4511], grad_fn=<NegBackward>) max grad component = tensor(-0.) lr =  2.301536372472697e-84\n",
      "Score at step  387 = tensor([0.4511], grad_fn=<NegBackward>) max grad component = tensor(-0.) lr =  1.3809218234836183e-84\n",
      "Score at step  388 = tensor([0.4511], grad_fn=<NegBackward>) max grad component = tensor(-0.) lr =  8.28553094090171e-85\n",
      "Score at step  389 = tensor([0.4511], grad_fn=<NegBackward>) max grad component = tensor(-0.) lr =  4.9713185645410253e-85\n",
      "Score at step  390 = tensor([0.4511], grad_fn=<NegBackward>) max grad component = tensor(-0.) lr =  2.982791138724615e-85\n",
      "Score at step  391 = tensor([0.4511], grad_fn=<NegBackward>) max grad component = tensor(-0.) lr =  1.789674683234769e-85\n",
      "Score at step  392 = tensor([0.4511], grad_fn=<NegBackward>) max grad component = tensor(-0.) lr =  1.0738048099408614e-85\n",
      "Score at step  393 = tensor([0.4511], grad_fn=<NegBackward>) max grad component = tensor(-0.) lr =  6.442828859645168e-86\n",
      "Score at step  394 = tensor([0.4511], grad_fn=<NegBackward>) max grad component = tensor(-0.) lr =  3.865697315787101e-86\n",
      "Score at step  395 = tensor([0.4511], grad_fn=<NegBackward>) max grad component = tensor(-0.) lr =  2.3194183894722603e-86\n",
      "Score at step  396 = tensor([0.4511], grad_fn=<NegBackward>) max grad component = tensor(-0.) lr =  1.3916510336833561e-86\n",
      "Score at step  397 = tensor([0.4511], grad_fn=<NegBackward>) max grad component = tensor(-0.) lr =  8.349906202100137e-87\n",
      "Score at step  398 = tensor([0.4511], grad_fn=<NegBackward>) max grad component = tensor(-0.) lr =  5.009943721260082e-87\n",
      "Score at step  399 = tensor([0.4511], grad_fn=<NegBackward>) max grad component = tensor(-0.) lr =  3.0059662327560493e-87\n",
      "Score at step  400 = tensor([0.4511], grad_fn=<NegBackward>) max grad component = tensor(-0.) lr =  1.8035797396536294e-87\n",
      "Score at step  401 = tensor([0.4511], grad_fn=<NegBackward>) max grad component = tensor(-0.) lr =  1.0821478437921776e-87\n",
      "Score at step  402 = tensor([0.4511], grad_fn=<NegBackward>) max grad component = tensor(-0.) lr =  6.492887062753065e-88\n",
      "Score at step  403 = tensor([0.4511], grad_fn=<NegBackward>) max grad component = tensor(-0.) lr =  3.895732237651839e-88\n",
      "Score at step  404 = tensor([0.4511], grad_fn=<NegBackward>) max grad component = tensor(-0.) lr =  2.3374393425911033e-88\n",
      "Score at step  405 = tensor([0.4511], grad_fn=<NegBackward>) max grad component = tensor(-0.) lr =  1.402463605554662e-88\n",
      "Score at step  406 = tensor([0.4511], grad_fn=<NegBackward>) max grad component = tensor(-0.) lr =  8.414781633327971e-89\n",
      "Score at step  407 = tensor([0.4511], grad_fn=<NegBackward>) max grad component = tensor(-0.) lr =  5.048868979996782e-89\n",
      "Score at step  408 = tensor([0.4511], grad_fn=<NegBackward>) max grad component = tensor(-0.) lr =  3.0293213879980693e-89\n",
      "Score at step  409 = tensor([0.4511], grad_fn=<NegBackward>) max grad component = tensor(-0.) lr =  1.8175928327988417e-89\n"
     ]
    },
    {
     "name": "stdout",
     "output_type": "stream",
     "text": [
      "Score at step  410 = tensor([0.4511], grad_fn=<NegBackward>) max grad component = tensor(-0.) lr =  1.090555699679305e-89\n",
      "Score at step  411 = tensor([0.4511], grad_fn=<NegBackward>) max grad component = tensor(-0.) lr =  6.54333419807583e-90\n",
      "Score at step  412 = tensor([0.4511], grad_fn=<NegBackward>) max grad component = tensor(-0.) lr =  3.926000518845498e-90\n",
      "Score at step  413 = tensor([0.4511], grad_fn=<NegBackward>) max grad component = tensor(-0.) lr =  2.3556003113072986e-90\n",
      "Score at step  414 = tensor([0.4511], grad_fn=<NegBackward>) max grad component = tensor(-0.) lr =  1.4133601867843791e-90\n",
      "Score at step  415 = tensor([0.4511], grad_fn=<NegBackward>) max grad component = tensor(-0.) lr =  8.480161120706275e-91\n",
      "Score at step  416 = tensor([0.4511], grad_fn=<NegBackward>) max grad component = tensor(-0.) lr =  5.088096672423765e-91\n",
      "Score at step  417 = tensor([0.4511], grad_fn=<NegBackward>) max grad component = tensor(-0.) lr =  3.0528580034542586e-91\n",
      "Score at step  418 = tensor([0.4511], grad_fn=<NegBackward>) max grad component = tensor(-0.) lr =  1.8317148020725552e-91\n",
      "Score at step  419 = tensor([0.4511], grad_fn=<NegBackward>) max grad component = tensor(-0.) lr =  1.099028881243533e-91\n",
      "Score at step  420 = tensor([0.4511], grad_fn=<NegBackward>) max grad component = tensor(-0.) lr =  6.594173287461197e-92\n",
      "Score at step  421 = tensor([0.4511], grad_fn=<NegBackward>) max grad component = tensor(-0.) lr =  3.956503972476718e-92\n",
      "Score at step  422 = tensor([0.4511], grad_fn=<NegBackward>) max grad component = tensor(-0.) lr =  2.373902383486031e-92\n",
      "Score at step  423 = tensor([0.4511], grad_fn=<NegBackward>) max grad component = tensor(-0.) lr =  1.4243414300916184e-92\n",
      "Score at step  424 = tensor([0.4511], grad_fn=<NegBackward>) max grad component = tensor(-0.) lr =  8.54604858054971e-93\n",
      "Score at step  425 = tensor([0.4511], grad_fn=<NegBackward>) max grad component = tensor(-0.) lr =  5.127629148329826e-93\n",
      "Score at step  426 = tensor([0.4511], grad_fn=<NegBackward>) max grad component = tensor(-0.) lr =  3.0765774889978955e-93\n",
      "Score at step  427 = tensor([0.4511], grad_fn=<NegBackward>) max grad component = tensor(-0.) lr =  1.8459464933987372e-93\n",
      "Score at step  428 = tensor([0.4511], grad_fn=<NegBackward>) max grad component = tensor(-0.) lr =  1.1075678960392423e-93\n",
      "Score at step  429 = tensor([0.4511], grad_fn=<NegBackward>) max grad component = tensor(-0.) lr =  6.645407376235454e-94\n",
      "Score at step  430 = tensor([0.4511], grad_fn=<NegBackward>) max grad component = tensor(-0.) lr =  3.987244425741272e-94\n",
      "Score at step  431 = tensor([0.4511], grad_fn=<NegBackward>) max grad component = tensor(-0.) lr =  2.392346655444763e-94\n",
      "Score at step  432 = tensor([0.4511], grad_fn=<NegBackward>) max grad component = tensor(-0.) lr =  1.4354079932668578e-94\n",
      "Score at step  433 = tensor([0.4511], grad_fn=<NegBackward>) max grad component = tensor(-0.) lr =  8.612447959601146e-95\n",
      "Score at step  434 = tensor([0.4511], grad_fn=<NegBackward>) max grad component = tensor(-0.) lr =  5.167468775760688e-95\n",
      "Score at step  435 = tensor([0.4511], grad_fn=<NegBackward>) max grad component = tensor(-0.) lr =  3.1004812654564125e-95\n",
      "Score at step  436 = tensor([0.4511], grad_fn=<NegBackward>) max grad component = tensor(-0.) lr =  1.8602887592738474e-95\n",
      "Score at step  437 = tensor([0.4511], grad_fn=<NegBackward>) max grad component = tensor(-0.) lr =  1.1161732555643083e-95\n",
      "Score at step  438 = tensor([0.4511], grad_fn=<NegBackward>) max grad component = tensor(-0.) lr =  6.69703953338585e-96\n",
      "Score at step  439 = tensor([0.4511], grad_fn=<NegBackward>) max grad component = tensor(-0.) lr =  4.01822372003151e-96\n",
      "Score at step  440 = tensor([0.4511], grad_fn=<NegBackward>) max grad component = tensor(-0.) lr =  2.410934232018906e-96\n",
      "Score at step  441 = tensor([0.4511], grad_fn=<NegBackward>) max grad component = tensor(-0.) lr =  1.4465605392113436e-96\n",
      "Score at step  442 = tensor([0.4511], grad_fn=<NegBackward>) max grad component = tensor(-0.) lr =  8.679363235268061e-97\n",
      "Score at step  443 = tensor([0.4511], grad_fn=<NegBackward>) max grad component = tensor(-0.) lr =  5.207617941160836e-97\n",
      "Score at step  444 = tensor([0.4511], grad_fn=<NegBackward>) max grad component = tensor(-0.) lr =  3.1245707646965015e-97\n",
      "Score at step  445 = tensor([0.4511], grad_fn=<NegBackward>) max grad component = tensor(-0.) lr =  1.874742458817901e-97\n",
      "Score at step  446 = tensor([0.4511], grad_fn=<NegBackward>) max grad component = tensor(-0.) lr =  1.1248454752907405e-97\n",
      "Score at step  447 = tensor([0.4511], grad_fn=<NegBackward>) max grad component = tensor(-0.) lr =  6.749072851744443e-98\n",
      "Score at step  448 = tensor([0.4511], grad_fn=<NegBackward>) max grad component = tensor(-0.) lr =  4.049443711046666e-98\n",
      "Score at step  449 = tensor([0.4511], grad_fn=<NegBackward>) max grad component = tensor(-0.) lr =  2.4296662266279993e-98\n",
      "Score at step  450 = tensor([0.4511], grad_fn=<NegBackward>) max grad component = tensor(-0.) lr =  1.4577997359767995e-98\n",
      "Score at step  451 = tensor([0.4511], grad_fn=<NegBackward>) max grad component = tensor(-0.) lr =  8.746798415860796e-99\n",
      "Score at step  452 = tensor([0.4511], grad_fn=<NegBackward>) max grad component = tensor(-0.) lr =  5.248079049516477e-99\n",
      "Score at step  453 = tensor([0.4511], grad_fn=<NegBackward>) max grad component = tensor(-0.) lr =  3.1488474297098865e-99\n",
      "Score at step  454 = tensor([0.4511], grad_fn=<NegBackward>) max grad component = tensor(-0.) lr =  1.8893084578259316e-99\n",
      "Score at step  455 = tensor([0.4511], grad_fn=<NegBackward>) max grad component = tensor(-0.) lr =  1.133585074695559e-99\n",
      "Score at step  456 = tensor([0.4511], grad_fn=<NegBackward>) max grad component = tensor(-0.) lr =  6.801510448173354e-100\n",
      "Score at step  457 = tensor([0.4511], grad_fn=<NegBackward>) max grad component = tensor(-0.) lr =  4.080906268904012e-100\n",
      "Score at step  458 = tensor([0.4511], grad_fn=<NegBackward>) max grad component = tensor(-0.) lr =  2.4485437613424074e-100\n",
      "Score at step  459 = tensor([0.4511], grad_fn=<NegBackward>) max grad component = tensor(-0.) lr =  1.4691262568054445e-100\n",
      "Score at step  460 = tensor([0.4511], grad_fn=<NegBackward>) max grad component = tensor(-0.) lr =  8.814757540832667e-101\n",
      "Score at step  461 = tensor([0.4511], grad_fn=<NegBackward>) max grad component = tensor(-0.) lr =  5.2888545244995996e-101\n",
      "Score at step  462 = tensor([0.4511], grad_fn=<NegBackward>) max grad component = tensor(-0.) lr =  3.17331271469976e-101\n",
      "Score at step  463 = tensor([0.4511], grad_fn=<NegBackward>) max grad component = tensor(-0.) lr =  1.9039876288198557e-101\n",
      "Score at step  464 = tensor([0.4511], grad_fn=<NegBackward>) max grad component = tensor(-0.) lr =  1.1423925772919134e-101\n",
      "Score at step  465 = tensor([0.4511], grad_fn=<NegBackward>) max grad component = tensor(-0.) lr =  6.8543554637514805e-102\n",
      "Score at step  466 = tensor([0.4511], grad_fn=<NegBackward>) max grad component = tensor(-0.) lr =  4.1126132782508884e-102\n",
      "Score at step  467 = tensor([0.4511], grad_fn=<NegBackward>) max grad component = tensor(-0.) lr =  2.467567966950533e-102\n",
      "Score at step  468 = tensor([0.4511], grad_fn=<NegBackward>) max grad component = tensor(-0.) lr =  1.4805407801703196e-102\n",
      "Score at step  469 = tensor([0.4511], grad_fn=<NegBackward>) max grad component = tensor(-0.) lr =  8.883244681021917e-103\n",
      "Score at step  470 = tensor([0.4511], grad_fn=<NegBackward>) max grad component = tensor(-0.) lr =  5.32994680861315e-103\n",
      "Score at step  471 = tensor([0.4511], grad_fn=<NegBackward>) max grad component = tensor(-0.) lr =  3.19796808516789e-103\n",
      "Score at step  472 = tensor([0.4511], grad_fn=<NegBackward>) max grad component = tensor(-0.) lr =  1.918780851100734e-103\n",
      "Score at step  473 = tensor([0.4511], grad_fn=<NegBackward>) max grad component = tensor(-0.) lr =  1.1512685106604403e-103\n",
      "Score at step  474 = tensor([0.4511], grad_fn=<NegBackward>) max grad component = tensor(-0.) lr =  6.907611063962642e-104\n",
      "Score at step  475 = tensor([0.4511], grad_fn=<NegBackward>) max grad component = tensor(-0.) lr =  4.144566638377585e-104\n",
      "Score at step  476 = tensor([0.4511], grad_fn=<NegBackward>) max grad component = tensor(-0.) lr =  2.4867399830265508e-104\n",
      "Score at step  477 = tensor([0.4511], grad_fn=<NegBackward>) max grad component = tensor(-0.) lr =  1.4920439898159305e-104\n"
     ]
    },
    {
     "name": "stdout",
     "output_type": "stream",
     "text": [
      "Score at step  478 = tensor([0.4511], grad_fn=<NegBackward>) max grad component = tensor(-0.) lr =  8.952263938895583e-105\n",
      "Score at step  479 = tensor([0.4511], grad_fn=<NegBackward>) max grad component = tensor(-0.) lr =  5.37135836333735e-105\n",
      "Score at step  480 = tensor([0.4511], grad_fn=<NegBackward>) max grad component = tensor(-0.) lr =  3.2228150180024095e-105\n",
      "Score at step  481 = tensor([0.4511], grad_fn=<NegBackward>) max grad component = tensor(-0.) lr =  1.9336890108014457e-105\n",
      "Score at step  482 = tensor([0.4511], grad_fn=<NegBackward>) max grad component = tensor(-0.) lr =  1.1602134064808673e-105\n",
      "Score at step  483 = tensor([0.4511], grad_fn=<NegBackward>) max grad component = tensor(-0.) lr =  6.961280438885203e-106\n",
      "Score at step  484 = tensor([0.4511], grad_fn=<NegBackward>) max grad component = tensor(-0.) lr =  4.1767682633311215e-106\n",
      "Score at step  485 = tensor([0.4511], grad_fn=<NegBackward>) max grad component = tensor(-0.) lr =  2.5060609579986726e-106\n",
      "Score at step  486 = tensor([0.4511], grad_fn=<NegBackward>) max grad component = tensor(-0.) lr =  1.5036365747992035e-106\n",
      "Score at step  487 = tensor([0.4511], grad_fn=<NegBackward>) max grad component = tensor(-0.) lr =  9.021819448795221e-107\n",
      "Score at step  488 = tensor([0.4511], grad_fn=<NegBackward>) max grad component = tensor(-0.) lr =  5.413091669277132e-107\n",
      "Score at step  489 = tensor([0.4511], grad_fn=<NegBackward>) max grad component = tensor(-0.) lr =  3.247855001566279e-107\n",
      "Score at step  490 = tensor([0.4511], grad_fn=<NegBackward>) max grad component = tensor(-0.) lr =  1.948713000939767e-107\n",
      "Score at step  491 = tensor([0.4511], grad_fn=<NegBackward>) max grad component = tensor(-0.) lr =  1.1692278005638602e-107\n",
      "Score at step  492 = tensor([0.4511], grad_fn=<NegBackward>) max grad component = tensor(-0.) lr =  7.015366803383161e-108\n",
      "Score at step  493 = tensor([0.4511], grad_fn=<NegBackward>) max grad component = tensor(-0.) lr =  4.209220082029897e-108\n",
      "Score at step  494 = tensor([0.4511], grad_fn=<NegBackward>) max grad component = tensor(-0.) lr =  2.525532049217938e-108\n",
      "Score at step  495 = tensor([0.4511], grad_fn=<NegBackward>) max grad component = tensor(-0.) lr =  1.5153192295307626e-108\n",
      "Score at step  496 = tensor([0.4511], grad_fn=<NegBackward>) max grad component = tensor(-0.) lr =  9.091915377184575e-109\n",
      "Score at step  497 = tensor([0.4511], grad_fn=<NegBackward>) max grad component = tensor(-0.) lr =  5.455149226310745e-109\n",
      "Score at step  498 = tensor([0.4511], grad_fn=<NegBackward>) max grad component = tensor(-0.) lr =  3.273089535786447e-109\n",
      "Score at step  499 = tensor([0.4511], grad_fn=<NegBackward>) max grad component = tensor(-0.) lr =  1.963853721471868e-109\n",
      "Max(Y) =  tensor([1., 1., 1., 1., 1., 1., 1., 1., 1., 1., 1., 1., 1., 1., 1., 1.],\n",
      "       grad_fn=<MaxBackward0>)\n",
      "['▁Ich', '▁denke', ',', '▁dass', '▁die', '▁', 'maschine', 'lle', '▁Übersetzung', '▁ein', '▁sehr', '▁interessante', 's', '▁Thema', '▁ist', '.']\n"
     ]
    }
   ],
   "source": [
    "english_sentence = 'I think, that machine translation is a very interesting subject.'\n",
    "english_tok = tokenizer.tokenize(english_sentence)\n",
    "greedy_optimizer = GreedyOptimizer(english_sentence)\n",
    "greedy_translation = greedy_optimizer.optimize()[:-1]\n",
    "greedy_init = one_hot_encoder.encode(torch.tensor([[[vocab.stoi[tok] for tok in greedy_translation]]]).transpose(0, 2), v=1000.).squeeze().transpose(0, 1)\n",
    "\n",
    "optimizer = ContinuousOptimizer(english_sentence)\n",
    "print('Optimization starts...')\n",
    "res = optimizer.optimize(init=greedy_init)\n",
    "print(res)"
   ]
  },
  {
   "cell_type": "code",
   "execution_count": 32,
   "metadata": {},
   "outputs": [
    {
     "name": "stdout",
     "output_type": "stream",
     "text": [
      "Greedy translation: ['▁Ich', '▁denke', ',', '▁dass', '▁die', '▁', 'maschine', 'lle', '▁Übersetzung', '▁ein', '▁sehr', '▁interessante', 's', '▁Thema', '▁ist', '.']\n",
      "Continuous translation: ['▁Ich', '▁denke', ',', '▁dass', '▁die', '▁', 'maschine', 'lle', '▁Übersetzung', '▁ein', '▁sehr', '▁interessante', 's', '▁Thema', '▁ist', '.']\n",
      "Score of greedy translation =  tensor([-0.4511])\n",
      "Score of continuous translation =  tensor([-0.4511])\n"
     ]
    }
   ],
   "source": [
    "print('Greedy translation:', greedy_translation)\n",
    "print('Continuous translation:', res)\n",
    "print('Score of greedy translation = ' , scorer.score_tokenized_texts([english_tok], [greedy_translation]))\n",
    "print('Score of continuous translation = ', scorer.score_tokenized_texts([english_tok], [res]))"
   ]
  },
  {
   "cell_type": "markdown",
   "metadata": {},
   "source": [
    "#### Greedy initialization with probabilities"
   ]
  },
  {
   "cell_type": "code",
   "execution_count": 34,
   "metadata": {},
   "outputs": [
    {
     "name": "stdout",
     "output_type": "stream",
     "text": [
      "Optimization starts...\n",
      "Score at step  0 = tensor([1.8099], grad_fn=<NegBackward>) max grad component =  lr =  99.0\n",
      "Score at step  1 = tensor([1.1511], grad_fn=<NegBackward>) max grad component = tensor(0.) lr =  98.01\n",
      "Score at step  2 = tensor([1.1511], grad_fn=<NegBackward>) max grad component = tensor(0.0047) lr =  58.806\n",
      "Score at step  3 = tensor([1.1511], grad_fn=<NegBackward>) max grad component = tensor(0.0047) lr =  35.2836\n",
      "Score at step  4 = tensor([1.1511], grad_fn=<NegBackward>) max grad component = tensor(0.0047) lr =  21.17016\n",
      "Score at step  5 = tensor([1.1511], grad_fn=<NegBackward>) max grad component = tensor(0.0047) lr =  12.702096\n",
      "Score at step  6 = tensor([1.1511], grad_fn=<NegBackward>) max grad component = tensor(0.0047) lr =  7.621257599999999\n",
      "Score at step  7 = tensor([1.1511], grad_fn=<NegBackward>) max grad component = tensor(0.0047) lr =  4.572754559999999\n",
      "Score at step  8 = tensor([1.1511], grad_fn=<NegBackward>) max grad component = tensor(0.0047) lr =  2.743652735999999\n",
      "Score at step  9 = tensor([1.1511], grad_fn=<NegBackward>) max grad component = tensor(0.0047) lr =  1.6461916415999995\n",
      "Score at step  10 = tensor([1.1511], grad_fn=<NegBackward>) max grad component = tensor(0.0047) lr =  0.9877149849599997\n",
      "Score at step  11 = tensor([1.1511], grad_fn=<NegBackward>) max grad component = tensor(0.0047) lr =  0.5926289909759997\n",
      "Score at step  12 = tensor([1.1511], grad_fn=<NegBackward>) max grad component = tensor(0.0047) lr =  0.35557739458559984\n",
      "Score at step  13 = tensor([1.1511], grad_fn=<NegBackward>) max grad component = tensor(0.0047) lr =  0.2133464367513599\n",
      "Score at step  14 = tensor([1.1511], grad_fn=<NegBackward>) max grad component = tensor(0.0047) lr =  0.12800786205081593\n",
      "Score at step  15 = tensor([1.1511], grad_fn=<NegBackward>) max grad component = tensor(0.0047) lr =  0.07680471723048955\n",
      "Score at step  16 = tensor([1.1511], grad_fn=<NegBackward>) max grad component = tensor(0.0047) lr =  0.04608283033829373\n",
      "Score at step  17 = tensor([1.1511], grad_fn=<NegBackward>) max grad component = tensor(0.0047) lr =  0.027649698202976237\n",
      "Score at step  18 = tensor([1.1511], grad_fn=<NegBackward>) max grad component = tensor(0.0047) lr =  0.01658981892178574\n",
      "Score at step  19 = tensor([1.1511], grad_fn=<NegBackward>) max grad component = tensor(0.0047) lr =  0.009953891353071445\n",
      "Score at step  20 = tensor([1.1511], grad_fn=<NegBackward>) max grad component = tensor(0.0047) lr =  0.0059723348118428665\n",
      "Score at step  21 = tensor([1.1511], grad_fn=<NegBackward>) max grad component = tensor(0.0047) lr =  0.0035834008871057197\n",
      "Score at step  22 = tensor([1.1511], grad_fn=<NegBackward>) max grad component = tensor(0.0047) lr =  0.002150040532263432\n",
      "Score at step  23 = tensor([1.1511], grad_fn=<NegBackward>) max grad component = tensor(0.0047) lr =  0.0012900243193580592\n",
      "Score at step  24 = tensor([1.1511], grad_fn=<NegBackward>) max grad component = tensor(0.0047) lr =  0.0007740145916148355\n",
      "Score at step  25 = tensor([1.1511], grad_fn=<NegBackward>) max grad component = tensor(0.0047) lr =  0.0004644087549689013\n",
      "Score at step  26 = tensor([1.1511], grad_fn=<NegBackward>) max grad component = tensor(0.0047) lr =  0.00027864525298134074\n",
      "Score at step  27 = tensor([1.1511], grad_fn=<NegBackward>) max grad component = tensor(0.0047) lr =  0.00016718715178880444\n",
      "Score at step  28 = tensor([1.1511], grad_fn=<NegBackward>) max grad component = tensor(0.0047) lr =  0.00010031229107328266\n",
      "Score at step  29 = tensor([1.1511], grad_fn=<NegBackward>) max grad component = tensor(0.0047) lr =  6.018737464396959e-05\n",
      "Score at step  30 = tensor([1.1511], grad_fn=<NegBackward>) max grad component = tensor(0.0047) lr =  3.611242478638175e-05\n",
      "Score at step  31 = tensor([1.1511], grad_fn=<NegBackward>) max grad component = tensor(0.0047) lr =  2.166745487182905e-05\n",
      "Score at step  32 = tensor([1.1511], grad_fn=<NegBackward>) max grad component = tensor(0.0047) lr =  1.300047292309743e-05\n",
      "Score at step  33 = tensor([1.1511], grad_fn=<NegBackward>) max grad component = tensor(0.0047) lr =  7.800283753858458e-06\n",
      "Score at step  34 = tensor([1.1511], grad_fn=<NegBackward>) max grad component = tensor(0.0047) lr =  4.680170252315075e-06\n",
      "Score at step  35 = tensor([1.1511], grad_fn=<NegBackward>) max grad component = tensor(0.0047) lr =  2.808102151389045e-06\n",
      "Score at step  36 = tensor([1.1511], grad_fn=<NegBackward>) max grad component = tensor(0.0047) lr =  1.684861290833427e-06\n",
      "Score at step  37 = tensor([1.1511], grad_fn=<NegBackward>) max grad component = tensor(0.0047) lr =  1.010916774500056e-06\n",
      "Score at step  38 = tensor([1.1511], grad_fn=<NegBackward>) max grad component = tensor(0.0047) lr =  6.065500647000336e-07\n",
      "Score at step  39 = tensor([1.1511], grad_fn=<NegBackward>) max grad component = tensor(0.0047) lr =  3.6393003882002015e-07\n",
      "Score at step  40 = tensor([1.1511], grad_fn=<NegBackward>) max grad component = tensor(0.0047) lr =  2.1835802329201207e-07\n",
      "Score at step  41 = tensor([1.1511], grad_fn=<NegBackward>) max grad component = tensor(0.0047) lr =  1.3101481397520724e-07\n",
      "Score at step  42 = tensor([1.1511], grad_fn=<NegBackward>) max grad component = tensor(0.0047) lr =  7.860888838512434e-08\n",
      "Score at step  43 = tensor([1.1511], grad_fn=<NegBackward>) max grad component = tensor(0.0047) lr =  4.7165333031074604e-08\n",
      "Score at step  44 = tensor([1.1511], grad_fn=<NegBackward>) max grad component = tensor(0.0047) lr =  2.8299199818644762e-08\n",
      "Score at step  45 = tensor([1.1511], grad_fn=<NegBackward>) max grad component = tensor(0.0047) lr =  1.6979519891186855e-08\n",
      "Score at step  46 = tensor([1.1511], grad_fn=<NegBackward>) max grad component = tensor(0.0047) lr =  1.0187711934712112e-08\n",
      "Score at step  47 = tensor([1.1511], grad_fn=<NegBackward>) max grad component = tensor(0.0047) lr =  6.1126271608272674e-09\n",
      "Score at step  48 = tensor([1.1511], grad_fn=<NegBackward>) max grad component = tensor(0.0047) lr =  3.6675762964963602e-09\n",
      "Score at step  49 = tensor([1.1511], grad_fn=<NegBackward>) max grad component = tensor(0.0047) lr =  2.200545777897816e-09\n",
      "Score at step  50 = tensor([1.1511], grad_fn=<NegBackward>) max grad component = tensor(0.0047) lr =  1.3203274667386895e-09\n",
      "Score at step  51 = tensor([1.1511], grad_fn=<NegBackward>) max grad component = tensor(0.0047) lr =  7.921964800432137e-10\n",
      "Score at step  52 = tensor([1.1511], grad_fn=<NegBackward>) max grad component = tensor(0.0047) lr =  4.753178880259282e-10\n",
      "Score at step  53 = tensor([1.1511], grad_fn=<NegBackward>) max grad component = tensor(0.0047) lr =  2.8519073281555687e-10\n",
      "Score at step  54 = tensor([1.1511], grad_fn=<NegBackward>) max grad component = tensor(0.0047) lr =  1.7111443968933412e-10\n",
      "Score at step  55 = tensor([1.1511], grad_fn=<NegBackward>) max grad component = tensor(0.0047) lr =  1.0266866381360047e-10\n",
      "Score at step  56 = tensor([1.1511], grad_fn=<NegBackward>) max grad component = tensor(0.0047) lr =  6.160119828816028e-11\n",
      "Score at step  57 = tensor([1.1511], grad_fn=<NegBackward>) max grad component = tensor(0.0047) lr =  3.696071897289616e-11\n",
      "Score at step  58 = tensor([1.1511], grad_fn=<NegBackward>) max grad component = tensor(0.0047) lr =  2.2176431383737696e-11\n",
      "Score at step  59 = tensor([1.1511], grad_fn=<NegBackward>) max grad component = tensor(0.0047) lr =  1.3305858830242618e-11\n",
      "Score at step  60 = tensor([1.1511], grad_fn=<NegBackward>) max grad component = tensor(0.0047) lr =  7.98351529814557e-12\n",
      "Score at step  61 = tensor([1.1511], grad_fn=<NegBackward>) max grad component = tensor(0.0047) lr =  4.790109178887342e-12\n",
      "Score at step  62 = tensor([1.1511], grad_fn=<NegBackward>) max grad component = tensor(0.0047) lr =  2.874065507332405e-12\n",
      "Score at step  63 = tensor([1.1511], grad_fn=<NegBackward>) max grad component = tensor(0.0047) lr =  1.724439304399443e-12\n",
      "Score at step  64 = tensor([1.1511], grad_fn=<NegBackward>) max grad component = tensor(0.0047) lr =  1.0346635826396657e-12\n",
      "Score at step  65 = tensor([1.1511], grad_fn=<NegBackward>) max grad component = tensor(0.0047) lr =  6.207981495837994e-13\n",
      "Score at step  66 = tensor([1.1511], grad_fn=<NegBackward>) max grad component = tensor(0.0047) lr =  3.7247888975027964e-13\n",
      "Score at step  67 = tensor([1.1511], grad_fn=<NegBackward>) max grad component = tensor(0.0047) lr =  2.2348733385016778e-13\n"
     ]
    },
    {
     "name": "stdout",
     "output_type": "stream",
     "text": [
      "Score at step  68 = tensor([1.1511], grad_fn=<NegBackward>) max grad component = tensor(0.0047) lr =  1.3409240031010065e-13\n",
      "Score at step  69 = tensor([1.1511], grad_fn=<NegBackward>) max grad component = tensor(0.0047) lr =  8.045544018606039e-14\n",
      "Score at step  70 = tensor([1.1511], grad_fn=<NegBackward>) max grad component = tensor(0.0047) lr =  4.827326411163623e-14\n",
      "Score at step  71 = tensor([1.1511], grad_fn=<NegBackward>) max grad component = tensor(0.0047) lr =  2.8963958466981735e-14\n",
      "Score at step  72 = tensor([1.1511], grad_fn=<NegBackward>) max grad component = tensor(0.0047) lr =  1.737837508018904e-14\n",
      "Score at step  73 = tensor([1.1511], grad_fn=<NegBackward>) max grad component = tensor(0.0047) lr =  1.0427025048113424e-14\n",
      "Score at step  74 = tensor([1.1511], grad_fn=<NegBackward>) max grad component = tensor(0.0047) lr =  6.256215028868054e-15\n",
      "Score at step  75 = tensor([1.1511], grad_fn=<NegBackward>) max grad component = tensor(0.0047) lr =  3.7537290173208325e-15\n",
      "Score at step  76 = tensor([1.1511], grad_fn=<NegBackward>) max grad component = tensor(0.0047) lr =  2.2522374103924995e-15\n",
      "Score at step  77 = tensor([1.1511], grad_fn=<NegBackward>) max grad component = tensor(0.0047) lr =  1.3513424462354997e-15\n",
      "Score at step  78 = tensor([1.1511], grad_fn=<NegBackward>) max grad component = tensor(0.0047) lr =  8.108054677412998e-16\n",
      "Score at step  79 = tensor([1.1511], grad_fn=<NegBackward>) max grad component = tensor(0.0047) lr =  4.864832806447799e-16\n",
      "Score at step  80 = tensor([1.1511], grad_fn=<NegBackward>) max grad component = tensor(0.0047) lr =  2.918899683868679e-16\n",
      "Score at step  81 = tensor([1.1511], grad_fn=<NegBackward>) max grad component = tensor(0.0047) lr =  1.7513398103212073e-16\n",
      "Score at step  82 = tensor([1.1511], grad_fn=<NegBackward>) max grad component = tensor(0.0047) lr =  1.0508038861927244e-16\n",
      "Score at step  83 = tensor([1.1511], grad_fn=<NegBackward>) max grad component = tensor(0.0047) lr =  6.304823317156346e-17\n",
      "Score at step  84 = tensor([1.1511], grad_fn=<NegBackward>) max grad component = tensor(0.0047) lr =  3.7828939902938076e-17\n",
      "Score at step  85 = tensor([1.1511], grad_fn=<NegBackward>) max grad component = tensor(0.0047) lr =  2.2697363941762846e-17\n",
      "Score at step  86 = tensor([1.1511], grad_fn=<NegBackward>) max grad component = tensor(0.0047) lr =  1.3618418365057707e-17\n",
      "Score at step  87 = tensor([1.1511], grad_fn=<NegBackward>) max grad component = tensor(0.0047) lr =  8.171051019034624e-18\n",
      "Score at step  88 = tensor([1.1511], grad_fn=<NegBackward>) max grad component = tensor(0.0047) lr =  4.902630611420774e-18\n",
      "Score at step  89 = tensor([1.1511], grad_fn=<NegBackward>) max grad component = tensor(0.0047) lr =  2.9415783668524645e-18\n",
      "Score at step  90 = tensor([1.1511], grad_fn=<NegBackward>) max grad component = tensor(0.0047) lr =  1.7649470201114787e-18\n",
      "Score at step  91 = tensor([1.1511], grad_fn=<NegBackward>) max grad component = tensor(0.0047) lr =  1.058968212066887e-18\n",
      "Score at step  92 = tensor([1.1511], grad_fn=<NegBackward>) max grad component = tensor(0.0047) lr =  6.353809272401322e-19\n",
      "Score at step  93 = tensor([1.1511], grad_fn=<NegBackward>) max grad component = tensor(0.0047) lr =  3.8122855634407935e-19\n",
      "Score at step  94 = tensor([1.1511], grad_fn=<NegBackward>) max grad component = tensor(0.0047) lr =  2.287371338064476e-19\n",
      "Score at step  95 = tensor([1.1511], grad_fn=<NegBackward>) max grad component = tensor(0.0047) lr =  1.3724228028386858e-19\n",
      "Score at step  96 = tensor([1.1511], grad_fn=<NegBackward>) max grad component = tensor(0.0047) lr =  8.234536817032114e-20\n",
      "Score at step  97 = tensor([1.1511], grad_fn=<NegBackward>) max grad component = tensor(0.0047) lr =  4.9407220902192684e-20\n",
      "Score at step  98 = tensor([1.1511], grad_fn=<NegBackward>) max grad component = tensor(0.0047) lr =  2.964433254131561e-20\n",
      "Score at step  99 = tensor([1.1511], grad_fn=<NegBackward>) max grad component = tensor(0.0047) lr =  1.7786599524789367e-20\n",
      "Score at step  100 = tensor([1.1511], grad_fn=<NegBackward>) max grad component = tensor(0.0047) lr =  1.067195971487362e-20\n",
      "Score at step  101 = tensor([1.1511], grad_fn=<NegBackward>) max grad component = tensor(0.0047) lr =  6.403175828924172e-21\n",
      "Score at step  102 = tensor([1.1511], grad_fn=<NegBackward>) max grad component = tensor(0.0047) lr =  3.841905497354503e-21\n",
      "Score at step  103 = tensor([1.1511], grad_fn=<NegBackward>) max grad component = tensor(0.0047) lr =  2.3051432984127015e-21\n",
      "Score at step  104 = tensor([1.1511], grad_fn=<NegBackward>) max grad component = tensor(0.0047) lr =  1.3830859790476209e-21\n",
      "Score at step  105 = tensor([1.1511], grad_fn=<NegBackward>) max grad component = tensor(0.0047) lr =  8.2985158742857245e-22\n",
      "Score at step  106 = tensor([1.1511], grad_fn=<NegBackward>) max grad component = tensor(0.0047) lr =  4.979109524571435e-22\n",
      "Score at step  107 = tensor([1.1511], grad_fn=<NegBackward>) max grad component = tensor(0.0047) lr =  2.987465714742861e-22\n",
      "Score at step  108 = tensor([1.1511], grad_fn=<NegBackward>) max grad component = tensor(0.0047) lr =  1.7924794288457165e-22\n",
      "Score at step  109 = tensor([1.1511], grad_fn=<NegBackward>) max grad component = tensor(0.0047) lr =  1.0754876573074298e-22\n",
      "Score at step  110 = tensor([1.1511], grad_fn=<NegBackward>) max grad component = tensor(0.0047) lr =  6.452925943844578e-23\n",
      "Score at step  111 = tensor([1.1511], grad_fn=<NegBackward>) max grad component = tensor(0.0047) lr =  3.871755566306747e-23\n",
      "Score at step  112 = tensor([1.1511], grad_fn=<NegBackward>) max grad component = tensor(0.0047) lr =  2.323053339784048e-23\n",
      "Score at step  113 = tensor([1.1511], grad_fn=<NegBackward>) max grad component = tensor(0.0047) lr =  1.393832003870429e-23\n",
      "Score at step  114 = tensor([1.1511], grad_fn=<NegBackward>) max grad component = tensor(0.0047) lr =  8.362992023222573e-24\n",
      "Score at step  115 = tensor([1.1511], grad_fn=<NegBackward>) max grad component = tensor(0.0047) lr =  5.0177952139335436e-24\n",
      "Score at step  116 = tensor([1.1511], grad_fn=<NegBackward>) max grad component = tensor(0.0047) lr =  3.010677128360126e-24\n",
      "Score at step  117 = tensor([1.1511], grad_fn=<NegBackward>) max grad component = tensor(0.0047) lr =  1.8064062770160755e-24\n",
      "Score at step  118 = tensor([1.1511], grad_fn=<NegBackward>) max grad component = tensor(0.0047) lr =  1.0838437662096453e-24\n",
      "Score at step  119 = tensor([1.1511], grad_fn=<NegBackward>) max grad component = tensor(0.0047) lr =  6.503062597257871e-25\n",
      "Score at step  120 = tensor([1.1511], grad_fn=<NegBackward>) max grad component = tensor(0.0047) lr =  3.9018375583547225e-25\n",
      "Score at step  121 = tensor([1.1511], grad_fn=<NegBackward>) max grad component = tensor(0.0047) lr =  2.341102535012833e-25\n",
      "Score at step  122 = tensor([1.1511], grad_fn=<NegBackward>) max grad component = tensor(0.0047) lr =  1.4046615210076998e-25\n",
      "Score at step  123 = tensor([1.1511], grad_fn=<NegBackward>) max grad component = tensor(0.0047) lr =  8.427969126046199e-26\n",
      "Score at step  124 = tensor([1.1511], grad_fn=<NegBackward>) max grad component = tensor(0.0047) lr =  5.0567814756277194e-26\n",
      "Score at step  125 = tensor([1.1511], grad_fn=<NegBackward>) max grad component = tensor(0.0047) lr =  3.034068885376632e-26\n",
      "Score at step  126 = tensor([1.1511], grad_fn=<NegBackward>) max grad component = tensor(0.0047) lr =  1.820441331225979e-26\n",
      "Score at step  127 = tensor([1.1511], grad_fn=<NegBackward>) max grad component = tensor(0.0047) lr =  1.0922647987355874e-26\n",
      "Score at step  128 = tensor([1.1511], grad_fn=<NegBackward>) max grad component = tensor(0.0047) lr =  6.553588792413524e-27\n",
      "Score at step  129 = tensor([1.1511], grad_fn=<NegBackward>) max grad component = tensor(0.0047) lr =  3.9321532754481144e-27\n",
      "Score at step  130 = tensor([1.1511], grad_fn=<NegBackward>) max grad component = tensor(0.0047) lr =  2.3592919652688686e-27\n",
      "Score at step  131 = tensor([1.1511], grad_fn=<NegBackward>) max grad component = tensor(0.0047) lr =  1.4155751791613212e-27\n",
      "Score at step  132 = tensor([1.1511], grad_fn=<NegBackward>) max grad component = tensor(0.0047) lr =  8.493451074967927e-28\n",
      "Score at step  133 = tensor([1.1511], grad_fn=<NegBackward>) max grad component = tensor(0.0047) lr =  5.096070644980756e-28\n"
     ]
    },
    {
     "name": "stdout",
     "output_type": "stream",
     "text": [
      "Score at step  134 = tensor([1.1511], grad_fn=<NegBackward>) max grad component = tensor(0.0047) lr =  3.0576423869884536e-28\n",
      "Score at step  135 = tensor([1.1511], grad_fn=<NegBackward>) max grad component = tensor(0.0047) lr =  1.834585432193072e-28\n",
      "Score at step  136 = tensor([1.1511], grad_fn=<NegBackward>) max grad component = tensor(0.0047) lr =  1.100751259315843e-28\n",
      "Score at step  137 = tensor([1.1511], grad_fn=<NegBackward>) max grad component = tensor(0.0047) lr =  6.604507555895059e-29\n",
      "Score at step  138 = tensor([1.1511], grad_fn=<NegBackward>) max grad component = tensor(0.0047) lr =  3.962704533537035e-29\n",
      "Score at step  139 = tensor([1.1511], grad_fn=<NegBackward>) max grad component = tensor(0.0047) lr =  2.377622720122221e-29\n",
      "Score at step  140 = tensor([1.1511], grad_fn=<NegBackward>) max grad component = tensor(0.0047) lr =  1.4265736320733325e-29\n",
      "Score at step  141 = tensor([1.1511], grad_fn=<NegBackward>) max grad component = tensor(0.0047) lr =  8.559441792439995e-30\n",
      "Score at step  142 = tensor([1.1511], grad_fn=<NegBackward>) max grad component = tensor(0.0047) lr =  5.135665075463997e-30\n",
      "Score at step  143 = tensor([1.1511], grad_fn=<NegBackward>) max grad component = tensor(0.0047) lr =  3.081399045278398e-30\n",
      "Score at step  144 = tensor([1.1511], grad_fn=<NegBackward>) max grad component = tensor(0.0047) lr =  1.8488394271670387e-30\n",
      "Score at step  145 = tensor([1.1511], grad_fn=<NegBackward>) max grad component = tensor(0.0047) lr =  1.1093036563002232e-30\n",
      "Score at step  146 = tensor([1.1511], grad_fn=<NegBackward>) max grad component = tensor(0.0047) lr =  6.655821937801339e-31\n",
      "Score at step  147 = tensor([1.1511], grad_fn=<NegBackward>) max grad component = tensor(0.0047) lr =  3.993493162680804e-31\n",
      "Score at step  148 = tensor([1.1511], grad_fn=<NegBackward>) max grad component = tensor(0.0047) lr =  2.396095897608482e-31\n",
      "Score at step  149 = tensor([1.1511], grad_fn=<NegBackward>) max grad component = tensor(0.0047) lr =  1.4376575385650892e-31\n",
      "Score at step  150 = tensor([1.1511], grad_fn=<NegBackward>) max grad component = tensor(0.0047) lr =  8.625945231390535e-32\n",
      "Score at step  151 = tensor([1.1511], grad_fn=<NegBackward>) max grad component = tensor(0.0047) lr =  5.17556713883432e-32\n",
      "Score at step  152 = tensor([1.1511], grad_fn=<NegBackward>) max grad component = tensor(0.0047) lr =  3.1053402833005923e-32\n",
      "Score at step  153 = tensor([1.1511], grad_fn=<NegBackward>) max grad component = tensor(0.0047) lr =  1.8632041699803553e-32\n",
      "Score at step  154 = tensor([1.1511], grad_fn=<NegBackward>) max grad component = tensor(0.0047) lr =  1.1179225019882131e-32\n",
      "Score at step  155 = tensor([1.1511], grad_fn=<NegBackward>) max grad component = tensor(0.0047) lr =  6.707535011929279e-33\n",
      "Score at step  156 = tensor([1.1511], grad_fn=<NegBackward>) max grad component = tensor(0.0047) lr =  4.024521007157567e-33\n",
      "Score at step  157 = tensor([1.1511], grad_fn=<NegBackward>) max grad component = tensor(0.0047) lr =  2.4147126042945404e-33\n",
      "Score at step  158 = tensor([1.1511], grad_fn=<NegBackward>) max grad component = tensor(0.0047) lr =  1.4488275625767241e-33\n",
      "Score at step  159 = tensor([1.1511], grad_fn=<NegBackward>) max grad component = tensor(0.0047) lr =  8.692965375460344e-34\n",
      "Score at step  160 = tensor([1.1511], grad_fn=<NegBackward>) max grad component = tensor(0.0047) lr =  5.215779225276206e-34\n",
      "Score at step  161 = tensor([1.1511], grad_fn=<NegBackward>) max grad component = tensor(0.0047) lr =  3.1294675351657236e-34\n",
      "Score at step  162 = tensor([1.1511], grad_fn=<NegBackward>) max grad component = tensor(0.0047) lr =  1.877680521099434e-34\n",
      "Score at step  163 = tensor([1.1511], grad_fn=<NegBackward>) max grad component = tensor(0.0047) lr =  1.1266083126596603e-34\n",
      "Score at step  164 = tensor([1.1511], grad_fn=<NegBackward>) max grad component = tensor(0.0047) lr =  6.759649875957961e-35\n",
      "Score at step  165 = tensor([1.1511], grad_fn=<NegBackward>) max grad component = tensor(0.0047) lr =  4.055789925574777e-35\n",
      "Score at step  166 = tensor([1.1511], grad_fn=<NegBackward>) max grad component = tensor(0.0047) lr =  2.433473955344866e-35\n",
      "Score at step  167 = tensor([1.1511], grad_fn=<NegBackward>) max grad component = tensor(0.0047) lr =  1.4600843732069196e-35\n",
      "Score at step  168 = tensor([1.1511], grad_fn=<NegBackward>) max grad component = tensor(0.0047) lr =  8.760506239241517e-36\n",
      "Score at step  169 = tensor([1.1511], grad_fn=<NegBackward>) max grad component = tensor(0.0047) lr =  5.25630374354491e-36\n",
      "Score at step  170 = tensor([1.1511], grad_fn=<NegBackward>) max grad component = tensor(0.0047) lr =  3.153782246126946e-36\n",
      "Score at step  171 = tensor([1.1511], grad_fn=<NegBackward>) max grad component = tensor(0.0047) lr =  1.8922693476761675e-36\n",
      "Score at step  172 = tensor([1.1511], grad_fn=<NegBackward>) max grad component = tensor(0.0047) lr =  1.1353616086057004e-36\n",
      "Score at step  173 = tensor([1.1511], grad_fn=<NegBackward>) max grad component = tensor(0.0047) lr =  6.812169651634202e-37\n",
      "Score at step  174 = tensor([1.1511], grad_fn=<NegBackward>) max grad component = tensor(0.0047) lr =  4.087301790980521e-37\n",
      "Score at step  175 = tensor([1.1511], grad_fn=<NegBackward>) max grad component = tensor(0.0047) lr =  2.4523810745883125e-37\n",
      "Score at step  176 = tensor([1.1511], grad_fn=<NegBackward>) max grad component = tensor(0.0047) lr =  1.4714286447529876e-37\n",
      "Score at step  177 = tensor([1.1511], grad_fn=<NegBackward>) max grad component = tensor(0.0047) lr =  8.828571868517925e-38\n",
      "Score at step  178 = tensor([1.1511], grad_fn=<NegBackward>) max grad component = tensor(0.0047) lr =  5.297143121110755e-38\n",
      "Score at step  179 = tensor([1.1511], grad_fn=<NegBackward>) max grad component = tensor(0.0047) lr =  3.178285872666453e-38\n",
      "Score at step  180 = tensor([1.1511], grad_fn=<NegBackward>) max grad component = tensor(0.0047) lr =  1.9069715235998718e-38\n",
      "Score at step  181 = tensor([1.1511], grad_fn=<NegBackward>) max grad component = tensor(0.0047) lr =  1.144182914159923e-38\n",
      "Score at step  182 = tensor([1.1511], grad_fn=<NegBackward>) max grad component = tensor(0.0047) lr =  6.865097484959538e-39\n",
      "Score at step  183 = tensor([1.1511], grad_fn=<NegBackward>) max grad component = tensor(0.0047) lr =  4.1190584909757226e-39\n",
      "Score at step  184 = tensor([1.1511], grad_fn=<NegBackward>) max grad component = tensor(0.0047) lr =  2.4714350945854334e-39\n",
      "Score at step  185 = tensor([1.1511], grad_fn=<NegBackward>) max grad component = tensor(0.0047) lr =  1.48286105675126e-39\n",
      "Score at step  186 = tensor([1.1511], grad_fn=<NegBackward>) max grad component = tensor(0.0047) lr =  8.897166340507559e-40\n",
      "Score at step  187 = tensor([1.1511], grad_fn=<NegBackward>) max grad component = tensor(0.0047) lr =  5.338299804304535e-40\n",
      "Score at step  188 = tensor([1.1511], grad_fn=<NegBackward>) max grad component = tensor(0.0047) lr =  3.202979882582721e-40\n",
      "Score at step  189 = tensor([1.1511], grad_fn=<NegBackward>) max grad component = tensor(0.0047) lr =  1.9217879295496324e-40\n",
      "Score at step  190 = tensor([1.1511], grad_fn=<NegBackward>) max grad component = tensor(0.0047) lr =  1.1530727577297794e-40\n",
      "Score at step  191 = tensor([1.1511], grad_fn=<NegBackward>) max grad component = tensor(0.0047) lr =  6.918436546378676e-41\n",
      "Score at step  192 = tensor([1.1511], grad_fn=<NegBackward>) max grad component = tensor(0.0047) lr =  4.151061927827206e-41\n",
      "Score at step  193 = tensor([1.1511], grad_fn=<NegBackward>) max grad component = tensor(0.0047) lr =  2.4906371566963234e-41\n",
      "Score at step  194 = tensor([1.1511], grad_fn=<NegBackward>) max grad component = tensor(0.0047) lr =  1.494382294017794e-41\n",
      "Score at step  195 = tensor([1.1511], grad_fn=<NegBackward>) max grad component = tensor(0.0047) lr =  8.966293764106764e-42\n",
      "Score at step  196 = tensor([1.1511], grad_fn=<NegBackward>) max grad component = tensor(0.0047) lr =  5.379776258464058e-42\n",
      "Score at step  197 = tensor([1.1511], grad_fn=<NegBackward>) max grad component = tensor(0.0047) lr =  3.2278657550784345e-42\n",
      "Score at step  198 = tensor([1.1511], grad_fn=<NegBackward>) max grad component = tensor(0.0047) lr =  1.9367194530470607e-42\n",
      "Score at step  199 = tensor([1.1511], grad_fn=<NegBackward>) max grad component = tensor(0.0047) lr =  1.1620316718282365e-42\n",
      "Score at step  200 = tensor([1.1511], grad_fn=<NegBackward>) max grad component = tensor(0.0047) lr =  6.972190030969418e-43\n"
     ]
    },
    {
     "name": "stdout",
     "output_type": "stream",
     "text": [
      "Score at step  201 = tensor([1.1511], grad_fn=<NegBackward>) max grad component = tensor(0.0047) lr =  4.183314018581651e-43\n",
      "Score at step  202 = tensor([1.1511], grad_fn=<NegBackward>) max grad component = tensor(0.0047) lr =  2.5099884111489904e-43\n",
      "Score at step  203 = tensor([1.1511], grad_fn=<NegBackward>) max grad component = tensor(0.0047) lr =  1.5059930466893943e-43\n",
      "Score at step  204 = tensor([1.1511], grad_fn=<NegBackward>) max grad component = tensor(0.0047) lr =  9.035958280136365e-44\n",
      "Score at step  205 = tensor([1.1511], grad_fn=<NegBackward>) max grad component = tensor(0.0047) lr =  5.421574968081819e-44\n",
      "Score at step  206 = tensor([1.1511], grad_fn=<NegBackward>) max grad component = tensor(0.0047) lr =  3.2529449808490915e-44\n",
      "Score at step  207 = tensor([1.1511], grad_fn=<NegBackward>) max grad component = tensor(0.0047) lr =  1.9517669885094548e-44\n",
      "Score at step  208 = tensor([1.1511], grad_fn=<NegBackward>) max grad component = tensor(0.0047) lr =  1.1710601931056727e-44\n",
      "Score at step  209 = tensor([1.1511], grad_fn=<NegBackward>) max grad component = tensor(0.0047) lr =  7.026361158634036e-45\n",
      "Score at step  210 = tensor([1.1511], grad_fn=<NegBackward>) max grad component = tensor(0.0047) lr =  4.2158166951804213e-45\n",
      "Score at step  211 = tensor([1.1511], grad_fn=<NegBackward>) max grad component = tensor(0.0047) lr =  2.5294900171082527e-45\n",
      "Score at step  212 = tensor([1.1511], grad_fn=<NegBackward>) max grad component = tensor(0.0047) lr =  1.5176940102649515e-45\n",
      "Score at step  213 = tensor([1.1511], grad_fn=<NegBackward>) max grad component = tensor(0.0047) lr =  9.106164061589709e-46\n",
      "Score at step  214 = tensor([1.1511], grad_fn=<NegBackward>) max grad component = tensor(0.0047) lr =  5.463698436953825e-46\n",
      "Score at step  215 = tensor([1.1511], grad_fn=<NegBackward>) max grad component = tensor(0.0047) lr =  3.278219062172295e-46\n",
      "Score at step  216 = tensor([1.1511], grad_fn=<NegBackward>) max grad component = tensor(0.0047) lr =  1.966931437303377e-46\n",
      "Score at step  217 = tensor([1.1511], grad_fn=<NegBackward>) max grad component = tensor(0.0047) lr =  1.180158862382026e-46\n",
      "Score at step  218 = tensor([1.1511], grad_fn=<NegBackward>) max grad component = tensor(0.0047) lr =  7.080953174292156e-47\n",
      "Score at step  219 = tensor([1.1511], grad_fn=<NegBackward>) max grad component = tensor(0.0047) lr =  4.2485719045752935e-47\n",
      "Score at step  220 = tensor([1.1511], grad_fn=<NegBackward>) max grad component = tensor(0.0047) lr =  2.549143142745176e-47\n",
      "Score at step  221 = tensor([1.1511], grad_fn=<NegBackward>) max grad component = tensor(0.0047) lr =  1.5294858856471056e-47\n",
      "Score at step  222 = tensor([1.1511], grad_fn=<NegBackward>) max grad component = tensor(0.0047) lr =  9.176915313882633e-48\n",
      "Score at step  223 = tensor([1.1511], grad_fn=<NegBackward>) max grad component = tensor(0.0047) lr =  5.506149188329579e-48\n",
      "Score at step  224 = tensor([1.1511], grad_fn=<NegBackward>) max grad component = tensor(0.0047) lr =  3.3036895129977473e-48\n",
      "Score at step  225 = tensor([1.1511], grad_fn=<NegBackward>) max grad component = tensor(0.0047) lr =  1.9822137077986485e-48\n",
      "Score at step  226 = tensor([1.1511], grad_fn=<NegBackward>) max grad component = tensor(0.0047) lr =  1.189328224679189e-48\n",
      "Score at step  227 = tensor([1.1511], grad_fn=<NegBackward>) max grad component = tensor(0.0047) lr =  7.135969348075133e-49\n",
      "Score at step  228 = tensor([1.1511], grad_fn=<NegBackward>) max grad component = tensor(0.0047) lr =  4.28158160884508e-49\n",
      "Score at step  229 = tensor([1.1511], grad_fn=<NegBackward>) max grad component = tensor(0.0047) lr =  2.5689489653070477e-49\n",
      "Score at step  230 = tensor([1.1511], grad_fn=<NegBackward>) max grad component = tensor(0.0047) lr =  1.5413693791842286e-49\n",
      "Score at step  231 = tensor([1.1511], grad_fn=<NegBackward>) max grad component = tensor(0.0047) lr =  9.248216275105372e-50\n",
      "Score at step  232 = tensor([1.1511], grad_fn=<NegBackward>) max grad component = tensor(0.0047) lr =  5.548929765063223e-50\n",
      "Score at step  233 = tensor([1.1511], grad_fn=<NegBackward>) max grad component = tensor(0.0047) lr =  3.3293578590379334e-50\n",
      "Score at step  234 = tensor([1.1511], grad_fn=<NegBackward>) max grad component = tensor(0.0047) lr =  1.9976147154227599e-50\n",
      "Score at step  235 = tensor([1.1511], grad_fn=<NegBackward>) max grad component = tensor(0.0047) lr =  1.1985688292536559e-50\n",
      "Score at step  236 = tensor([1.1511], grad_fn=<NegBackward>) max grad component = tensor(0.0047) lr =  7.191412975521935e-51\n",
      "Score at step  237 = tensor([1.1511], grad_fn=<NegBackward>) max grad component = tensor(0.0047) lr =  4.314847785313161e-51\n",
      "Score at step  238 = tensor([1.1511], grad_fn=<NegBackward>) max grad component = tensor(0.0047) lr =  2.5889086711878964e-51\n",
      "Score at step  239 = tensor([1.1511], grad_fn=<NegBackward>) max grad component = tensor(0.0047) lr =  1.553345202712738e-51\n",
      "Score at step  240 = tensor([1.1511], grad_fn=<NegBackward>) max grad component = tensor(0.0047) lr =  9.320071216276427e-52\n",
      "Score at step  241 = tensor([1.1511], grad_fn=<NegBackward>) max grad component = tensor(0.0047) lr =  5.592042729765856e-52\n",
      "Score at step  242 = tensor([1.1511], grad_fn=<NegBackward>) max grad component = tensor(0.0047) lr =  3.355225637859514e-52\n",
      "Score at step  243 = tensor([1.1511], grad_fn=<NegBackward>) max grad component = tensor(0.0047) lr =  2.0131353827157084e-52\n",
      "Score at step  244 = tensor([1.1511], grad_fn=<NegBackward>) max grad component = tensor(0.0047) lr =  1.207881229629425e-52\n",
      "Score at step  245 = tensor([1.1511], grad_fn=<NegBackward>) max grad component = tensor(0.0047) lr =  7.24728737777655e-53\n",
      "Score at step  246 = tensor([1.1511], grad_fn=<NegBackward>) max grad component = tensor(0.0047) lr =  4.34837242666593e-53\n",
      "Score at step  247 = tensor([1.1511], grad_fn=<NegBackward>) max grad component = tensor(0.0047) lr =  2.609023455999558e-53\n",
      "Score at step  248 = tensor([1.1511], grad_fn=<NegBackward>) max grad component = tensor(0.0047) lr =  1.5654140735997347e-53\n",
      "Score at step  249 = tensor([1.1511], grad_fn=<NegBackward>) max grad component = tensor(0.0047) lr =  9.392484441598408e-54\n",
      "Score at step  250 = tensor([1.1511], grad_fn=<NegBackward>) max grad component = tensor(0.0047) lr =  5.635490664959045e-54\n",
      "Score at step  251 = tensor([1.1511], grad_fn=<NegBackward>) max grad component = tensor(0.0047) lr =  3.381294398975427e-54\n",
      "Score at step  252 = tensor([1.1511], grad_fn=<NegBackward>) max grad component = tensor(0.0047) lr =  2.028776639385256e-54\n",
      "Score at step  253 = tensor([1.1511], grad_fn=<NegBackward>) max grad component = tensor(0.0047) lr =  1.2172659836311535e-54\n",
      "Score at step  254 = tensor([1.1511], grad_fn=<NegBackward>) max grad component = tensor(0.0047) lr =  7.30359590178692e-55\n",
      "Score at step  255 = tensor([1.1511], grad_fn=<NegBackward>) max grad component = tensor(0.0047) lr =  4.382157541072152e-55\n",
      "Score at step  256 = tensor([1.1511], grad_fn=<NegBackward>) max grad component = tensor(0.0047) lr =  2.6292945246432913e-55\n",
      "Score at step  257 = tensor([1.1511], grad_fn=<NegBackward>) max grad component = tensor(0.0047) lr =  1.5775767147859747e-55\n",
      "Score at step  258 = tensor([1.1511], grad_fn=<NegBackward>) max grad component = tensor(0.0047) lr =  9.465460288715848e-56\n",
      "Score at step  259 = tensor([1.1511], grad_fn=<NegBackward>) max grad component = tensor(0.0047) lr =  5.679276173229509e-56\n",
      "Score at step  260 = tensor([1.1511], grad_fn=<NegBackward>) max grad component = tensor(0.0047) lr =  3.407565703937705e-56\n",
      "Score at step  261 = tensor([1.1511], grad_fn=<NegBackward>) max grad component = tensor(0.0047) lr =  2.044539422362623e-56\n",
      "Score at step  262 = tensor([1.1511], grad_fn=<NegBackward>) max grad component = tensor(0.0047) lr =  1.2267236534175736e-56\n",
      "Score at step  263 = tensor([1.1511], grad_fn=<NegBackward>) max grad component = tensor(0.0047) lr =  7.360341920505442e-57\n",
      "Score at step  264 = tensor([1.1511], grad_fn=<NegBackward>) max grad component = tensor(0.0047) lr =  4.416205152303265e-57\n",
      "Score at step  265 = tensor([1.1511], grad_fn=<NegBackward>) max grad component = tensor(0.0047) lr =  2.6497230913819585e-57\n",
      "Score at step  266 = tensor([1.1511], grad_fn=<NegBackward>) max grad component = tensor(0.0047) lr =  1.589833854829175e-57\n"
     ]
    },
    {
     "name": "stdout",
     "output_type": "stream",
     "text": [
      "Score at step  267 = tensor([1.1511], grad_fn=<NegBackward>) max grad component = tensor(0.0047) lr =  9.539003128975051e-58\n",
      "Score at step  268 = tensor([1.1511], grad_fn=<NegBackward>) max grad component = tensor(0.0047) lr =  5.72340187738503e-58\n",
      "Score at step  269 = tensor([1.1511], grad_fn=<NegBackward>) max grad component = tensor(0.0047) lr =  3.434041126431018e-58\n",
      "Score at step  270 = tensor([1.1511], grad_fn=<NegBackward>) max grad component = tensor(0.0047) lr =  2.060424675858611e-58\n",
      "Score at step  271 = tensor([1.1511], grad_fn=<NegBackward>) max grad component = tensor(0.0047) lr =  1.2362548055151665e-58\n",
      "Score at step  272 = tensor([1.1511], grad_fn=<NegBackward>) max grad component = tensor(0.0047) lr =  7.417528833090999e-59\n",
      "Score at step  273 = tensor([1.1511], grad_fn=<NegBackward>) max grad component = tensor(0.0047) lr =  4.450517299854599e-59\n",
      "Score at step  274 = tensor([1.1511], grad_fn=<NegBackward>) max grad component = tensor(0.0047) lr =  2.670310379912759e-59\n",
      "Score at step  275 = tensor([1.1511], grad_fn=<NegBackward>) max grad component = tensor(0.0047) lr =  1.6021862279476554e-59\n",
      "Score at step  276 = tensor([1.1511], grad_fn=<NegBackward>) max grad component = tensor(0.0047) lr =  9.613117367685932e-60\n",
      "Score at step  277 = tensor([1.1511], grad_fn=<NegBackward>) max grad component = tensor(0.0047) lr =  5.767870420611559e-60\n",
      "Score at step  278 = tensor([1.1511], grad_fn=<NegBackward>) max grad component = tensor(0.0047) lr =  3.4607222523669354e-60\n",
      "Score at step  279 = tensor([1.1511], grad_fn=<NegBackward>) max grad component = tensor(0.0047) lr =  2.0764333514201612e-60\n",
      "Score at step  280 = tensor([1.1511], grad_fn=<NegBackward>) max grad component = tensor(0.0047) lr =  1.2458600108520966e-60\n",
      "Score at step  281 = tensor([1.1511], grad_fn=<NegBackward>) max grad component = tensor(0.0047) lr =  7.475160065112579e-61\n",
      "Score at step  282 = tensor([1.1511], grad_fn=<NegBackward>) max grad component = tensor(0.0047) lr =  4.485096039067547e-61\n",
      "Score at step  283 = tensor([1.1511], grad_fn=<NegBackward>) max grad component = tensor(0.0047) lr =  2.691057623440528e-61\n",
      "Score at step  284 = tensor([1.1511], grad_fn=<NegBackward>) max grad component = tensor(0.0047) lr =  1.614634574064317e-61\n",
      "Score at step  285 = tensor([1.1511], grad_fn=<NegBackward>) max grad component = tensor(0.0047) lr =  9.687807444385901e-62\n",
      "Score at step  286 = tensor([1.1511], grad_fn=<NegBackward>) max grad component = tensor(0.0047) lr =  5.81268446663154e-62\n",
      "Score at step  287 = tensor([1.1511], grad_fn=<NegBackward>) max grad component = tensor(0.0047) lr =  3.487610679978924e-62\n",
      "Score at step  288 = tensor([1.1511], grad_fn=<NegBackward>) max grad component = tensor(0.0047) lr =  2.0925664079873544e-62\n",
      "Score at step  289 = tensor([1.1511], grad_fn=<NegBackward>) max grad component = tensor(0.0047) lr =  1.2555398447924127e-62\n",
      "Score at step  290 = tensor([1.1511], grad_fn=<NegBackward>) max grad component = tensor(0.0047) lr =  7.533239068754476e-63\n",
      "Score at step  291 = tensor([1.1511], grad_fn=<NegBackward>) max grad component = tensor(0.0047) lr =  4.5199434412526854e-63\n",
      "Score at step  292 = tensor([1.1511], grad_fn=<NegBackward>) max grad component = tensor(0.0047) lr =  2.7119660647516113e-63\n",
      "Score at step  293 = tensor([1.1511], grad_fn=<NegBackward>) max grad component = tensor(0.0047) lr =  1.6271796388509669e-63\n",
      "Score at step  294 = tensor([1.1511], grad_fn=<NegBackward>) max grad component = tensor(0.0047) lr =  9.7630778331058e-64\n",
      "Score at step  295 = tensor([1.1511], grad_fn=<NegBackward>) max grad component = tensor(0.0047) lr =  5.85784669986348e-64\n",
      "Score at step  296 = tensor([1.1511], grad_fn=<NegBackward>) max grad component = tensor(0.0047) lr =  3.5147080199180875e-64\n",
      "Score at step  297 = tensor([1.1511], grad_fn=<NegBackward>) max grad component = tensor(0.0047) lr =  2.1088248119508524e-64\n",
      "Score at step  298 = tensor([1.1511], grad_fn=<NegBackward>) max grad component = tensor(0.0047) lr =  1.2652948871705115e-64\n",
      "Score at step  299 = tensor([1.1511], grad_fn=<NegBackward>) max grad component = tensor(0.0047) lr =  7.591769323023069e-65\n",
      "Score at step  300 = tensor([1.1511], grad_fn=<NegBackward>) max grad component = tensor(0.0047) lr =  4.555061593813841e-65\n",
      "Score at step  301 = tensor([1.1511], grad_fn=<NegBackward>) max grad component = tensor(0.0047) lr =  2.7330369562883046e-65\n",
      "Score at step  302 = tensor([1.1511], grad_fn=<NegBackward>) max grad component = tensor(0.0047) lr =  1.6398221737729828e-65\n",
      "Score at step  303 = tensor([1.1511], grad_fn=<NegBackward>) max grad component = tensor(0.0047) lr =  9.838933042637896e-66\n",
      "Score at step  304 = tensor([1.1511], grad_fn=<NegBackward>) max grad component = tensor(0.0047) lr =  5.903359825582737e-66\n",
      "Score at step  305 = tensor([1.1511], grad_fn=<NegBackward>) max grad component = tensor(0.0047) lr =  3.542015895349642e-66\n",
      "Score at step  306 = tensor([1.1511], grad_fn=<NegBackward>) max grad component = tensor(0.0047) lr =  2.1252095372097853e-66\n",
      "Score at step  307 = tensor([1.1511], grad_fn=<NegBackward>) max grad component = tensor(0.0047) lr =  1.2751257223258712e-66\n",
      "Score at step  308 = tensor([1.1511], grad_fn=<NegBackward>) max grad component = tensor(0.0047) lr =  7.650754333955227e-67\n",
      "Score at step  309 = tensor([1.1511], grad_fn=<NegBackward>) max grad component = tensor(0.0047) lr =  4.590452600373136e-67\n",
      "Score at step  310 = tensor([1.1511], grad_fn=<NegBackward>) max grad component = tensor(0.0047) lr =  2.7542715602238814e-67\n",
      "Score at step  311 = tensor([1.1511], grad_fn=<NegBackward>) max grad component = tensor(0.0047) lr =  1.6525629361343288e-67\n",
      "Score at step  312 = tensor([1.1511], grad_fn=<NegBackward>) max grad component = tensor(0.0047) lr =  9.915377616805972e-68\n",
      "Score at step  313 = tensor([1.1511], grad_fn=<NegBackward>) max grad component = tensor(0.0047) lr =  5.949226570083583e-68\n",
      "Score at step  314 = tensor([1.1511], grad_fn=<NegBackward>) max grad component = tensor(0.0047) lr =  3.5695359420501494e-68\n",
      "Score at step  315 = tensor([1.1511], grad_fn=<NegBackward>) max grad component = tensor(0.0047) lr =  2.1417215652300896e-68\n",
      "Score at step  316 = tensor([1.1511], grad_fn=<NegBackward>) max grad component = tensor(0.0047) lr =  1.2850329391380537e-68\n",
      "Score at step  317 = tensor([1.1511], grad_fn=<NegBackward>) max grad component = tensor(0.0047) lr =  7.710197634828323e-69\n",
      "Score at step  318 = tensor([1.1511], grad_fn=<NegBackward>) max grad component = tensor(0.0047) lr =  4.6261185808969934e-69\n",
      "Score at step  319 = tensor([1.1511], grad_fn=<NegBackward>) max grad component = tensor(0.0047) lr =  2.775671148538196e-69\n",
      "Score at step  320 = tensor([1.1511], grad_fn=<NegBackward>) max grad component = tensor(0.0047) lr =  1.6654026891229176e-69\n",
      "Score at step  321 = tensor([1.1511], grad_fn=<NegBackward>) max grad component = tensor(0.0047) lr =  9.992416134737505e-70\n",
      "Score at step  322 = tensor([1.1511], grad_fn=<NegBackward>) max grad component = tensor(0.0047) lr =  5.995449680842502e-70\n",
      "Score at step  323 = tensor([1.1511], grad_fn=<NegBackward>) max grad component = tensor(0.0047) lr =  3.597269808505501e-70\n",
      "Score at step  324 = tensor([1.1511], grad_fn=<NegBackward>) max grad component = tensor(0.0047) lr =  2.1583618851033008e-70\n",
      "Score at step  325 = tensor([1.1511], grad_fn=<NegBackward>) max grad component = tensor(0.0047) lr =  1.2950171310619805e-70\n",
      "Score at step  326 = tensor([1.1511], grad_fn=<NegBackward>) max grad component = tensor(0.0047) lr =  7.770102786371882e-71\n",
      "Score at step  327 = tensor([1.1511], grad_fn=<NegBackward>) max grad component = tensor(0.0047) lr =  4.662061671823129e-71\n",
      "Score at step  328 = tensor([1.1511], grad_fn=<NegBackward>) max grad component = tensor(0.0047) lr =  2.7972370030938772e-71\n",
      "Score at step  329 = tensor([1.1511], grad_fn=<NegBackward>) max grad component = tensor(0.0047) lr =  1.6783422018563263e-71\n",
      "Score at step  330 = tensor([1.1511], grad_fn=<NegBackward>) max grad component = tensor(0.0047) lr =  1.0070053211137956e-71\n",
      "Score at step  331 = tensor([1.1511], grad_fn=<NegBackward>) max grad component = tensor(0.0047) lr =  6.042031926682773e-72\n",
      "Score at step  332 = tensor([1.1511], grad_fn=<NegBackward>) max grad component = tensor(0.0047) lr =  3.625219156009664e-72\n",
      "Score at step  333 = tensor([1.1511], grad_fn=<NegBackward>) max grad component = tensor(0.0047) lr =  2.1751314936057983e-72\n"
     ]
    },
    {
     "name": "stdout",
     "output_type": "stream",
     "text": [
      "Score at step  334 = tensor([1.1511], grad_fn=<NegBackward>) max grad component = tensor(0.0047) lr =  1.305078896163479e-72\n",
      "Score at step  335 = tensor([1.1511], grad_fn=<NegBackward>) max grad component = tensor(0.0047) lr =  7.830473376980874e-73\n",
      "Score at step  336 = tensor([1.1511], grad_fn=<NegBackward>) max grad component = tensor(0.0047) lr =  4.698284026188524e-73\n",
      "Score at step  337 = tensor([1.1511], grad_fn=<NegBackward>) max grad component = tensor(0.0047) lr =  2.8189704157131146e-73\n",
      "Score at step  338 = tensor([1.1511], grad_fn=<NegBackward>) max grad component = tensor(0.0047) lr =  1.6913822494278687e-73\n",
      "Score at step  339 = tensor([1.1511], grad_fn=<NegBackward>) max grad component = tensor(0.0047) lr =  1.0148293496567212e-73\n",
      "Score at step  340 = tensor([1.1511], grad_fn=<NegBackward>) max grad component = tensor(0.0047) lr =  6.088976097940327e-74\n",
      "Score at step  341 = tensor([1.1511], grad_fn=<NegBackward>) max grad component = tensor(0.0047) lr =  3.653385658764196e-74\n",
      "Score at step  342 = tensor([1.1511], grad_fn=<NegBackward>) max grad component = tensor(0.0047) lr =  2.192031395258518e-74\n",
      "Score at step  343 = tensor([1.1511], grad_fn=<NegBackward>) max grad component = tensor(0.0047) lr =  1.3152188371551107e-74\n",
      "Score at step  344 = tensor([1.1511], grad_fn=<NegBackward>) max grad component = tensor(0.0047) lr =  7.891313022930664e-75\n",
      "Score at step  345 = tensor([1.1511], grad_fn=<NegBackward>) max grad component = tensor(0.0047) lr =  4.734787813758398e-75\n",
      "Score at step  346 = tensor([1.1511], grad_fn=<NegBackward>) max grad component = tensor(0.0047) lr =  2.840872688255039e-75\n",
      "Score at step  347 = tensor([1.1511], grad_fn=<NegBackward>) max grad component = tensor(0.0047) lr =  1.7045236129530233e-75\n",
      "Score at step  348 = tensor([1.1511], grad_fn=<NegBackward>) max grad component = tensor(0.0047) lr =  1.022714167771814e-75\n",
      "Score at step  349 = tensor([1.1511], grad_fn=<NegBackward>) max grad component = tensor(0.0047) lr =  6.136285006630883e-76\n",
      "Score at step  350 = tensor([1.1511], grad_fn=<NegBackward>) max grad component = tensor(0.0047) lr =  3.68177100397853e-76\n",
      "Score at step  351 = tensor([1.1511], grad_fn=<NegBackward>) max grad component = tensor(0.0047) lr =  2.209062602387118e-76\n",
      "Score at step  352 = tensor([1.1511], grad_fn=<NegBackward>) max grad component = tensor(0.0047) lr =  1.3254375614322709e-76\n",
      "Score at step  353 = tensor([1.1511], grad_fn=<NegBackward>) max grad component = tensor(0.0047) lr =  7.952625368593624e-77\n",
      "Score at step  354 = tensor([1.1511], grad_fn=<NegBackward>) max grad component = tensor(0.0047) lr =  4.7715752211561745e-77\n",
      "Score at step  355 = tensor([1.1511], grad_fn=<NegBackward>) max grad component = tensor(0.0047) lr =  2.8629451326937045e-77\n",
      "Score at step  356 = tensor([1.1511], grad_fn=<NegBackward>) max grad component = tensor(0.0047) lr =  1.7177670796162227e-77\n",
      "Score at step  357 = tensor([1.1511], grad_fn=<NegBackward>) max grad component = tensor(0.0047) lr =  1.0306602477697335e-77\n",
      "Score at step  358 = tensor([1.1511], grad_fn=<NegBackward>) max grad component = tensor(0.0047) lr =  6.183961486618401e-78\n",
      "Score at step  359 = tensor([1.1511], grad_fn=<NegBackward>) max grad component = tensor(0.0047) lr =  3.7103768919710405e-78\n",
      "Score at step  360 = tensor([1.1511], grad_fn=<NegBackward>) max grad component = tensor(0.0047) lr =  2.2262261351826244e-78\n",
      "Score at step  361 = tensor([1.1511], grad_fn=<NegBackward>) max grad component = tensor(0.0047) lr =  1.3357356811095746e-78\n",
      "Score at step  362 = tensor([1.1511], grad_fn=<NegBackward>) max grad component = tensor(0.0047) lr =  8.014414086657448e-79\n",
      "Score at step  363 = tensor([1.1511], grad_fn=<NegBackward>) max grad component = tensor(0.0047) lr =  4.8086484519944686e-79\n",
      "Score at step  364 = tensor([1.1511], grad_fn=<NegBackward>) max grad component = tensor(0.0047) lr =  2.885189071196681e-79\n",
      "Score at step  365 = tensor([1.1511], grad_fn=<NegBackward>) max grad component = tensor(0.0047) lr =  1.7311134427180086e-79\n",
      "Score at step  366 = tensor([1.1511], grad_fn=<NegBackward>) max grad component = tensor(0.0047) lr =  1.0386680656308051e-79\n",
      "Score at step  367 = tensor([1.1511], grad_fn=<NegBackward>) max grad component = tensor(0.0047) lr =  6.23200839378483e-80\n",
      "Score at step  368 = tensor([1.1511], grad_fn=<NegBackward>) max grad component = tensor(0.0047) lr =  3.739205036270898e-80\n",
      "Score at step  369 = tensor([1.1511], grad_fn=<NegBackward>) max grad component = tensor(0.0047) lr =  2.243523021762539e-80\n",
      "Score at step  370 = tensor([1.1511], grad_fn=<NegBackward>) max grad component = tensor(0.0047) lr =  1.3461138130575233e-80\n",
      "Score at step  371 = tensor([1.1511], grad_fn=<NegBackward>) max grad component = tensor(0.0047) lr =  8.076682878345139e-81\n",
      "Score at step  372 = tensor([1.1511], grad_fn=<NegBackward>) max grad component = tensor(0.0047) lr =  4.846009727007083e-81\n",
      "Score at step  373 = tensor([1.1511], grad_fn=<NegBackward>) max grad component = tensor(0.0047) lr =  2.90760583620425e-81\n",
      "Score at step  374 = tensor([1.1511], grad_fn=<NegBackward>) max grad component = tensor(0.0047) lr =  1.74456350172255e-81\n",
      "Score at step  375 = tensor([1.1511], grad_fn=<NegBackward>) max grad component = tensor(0.0047) lr =  1.04673810103353e-81\n",
      "Score at step  376 = tensor([1.1511], grad_fn=<NegBackward>) max grad component = tensor(0.0047) lr =  6.28042860620118e-82\n",
      "Score at step  377 = tensor([1.1511], grad_fn=<NegBackward>) max grad component = tensor(0.0047) lr =  3.7682571637207077e-82\n",
      "Score at step  378 = tensor([1.1511], grad_fn=<NegBackward>) max grad component = tensor(0.0047) lr =  2.2609542982324247e-82\n",
      "Score at step  379 = tensor([1.1511], grad_fn=<NegBackward>) max grad component = tensor(0.0047) lr =  1.3565725789394547e-82\n",
      "Score at step  380 = tensor([1.1511], grad_fn=<NegBackward>) max grad component = tensor(0.0047) lr =  8.139435473636727e-83\n",
      "Score at step  381 = tensor([1.1511], grad_fn=<NegBackward>) max grad component = tensor(0.0047) lr =  4.883661284182036e-83\n",
      "Score at step  382 = tensor([1.1511], grad_fn=<NegBackward>) max grad component = tensor(0.0047) lr =  2.9301967705092213e-83\n",
      "Score at step  383 = tensor([1.1511], grad_fn=<NegBackward>) max grad component = tensor(0.0047) lr =  1.7581180623055326e-83\n",
      "Score at step  384 = tensor([1.1511], grad_fn=<NegBackward>) max grad component = tensor(0.0047) lr =  1.0548708373833196e-83\n",
      "Score at step  385 = tensor([1.1511], grad_fn=<NegBackward>) max grad component = tensor(0.0047) lr =  6.329225024299917e-84\n",
      "Score at step  386 = tensor([1.1511], grad_fn=<NegBackward>) max grad component = tensor(0.0047) lr =  3.7975350145799503e-84\n",
      "Score at step  387 = tensor([1.1511], grad_fn=<NegBackward>) max grad component = tensor(0.0047) lr =  2.27852100874797e-84\n",
      "Score at step  388 = tensor([1.1511], grad_fn=<NegBackward>) max grad component = tensor(0.0047) lr =  1.367112605248782e-84\n",
      "Score at step  389 = tensor([1.1511], grad_fn=<NegBackward>) max grad component = tensor(0.0047) lr =  8.202675631492692e-85\n",
      "Score at step  390 = tensor([1.1511], grad_fn=<NegBackward>) max grad component = tensor(0.0047) lr =  4.921605378895615e-85\n",
      "Score at step  391 = tensor([1.1511], grad_fn=<NegBackward>) max grad component = tensor(0.0047) lr =  2.952963227337369e-85\n",
      "Score at step  392 = tensor([1.1511], grad_fn=<NegBackward>) max grad component = tensor(0.0047) lr =  1.7717779364024215e-85\n",
      "Score at step  393 = tensor([1.1511], grad_fn=<NegBackward>) max grad component = tensor(0.0047) lr =  1.0630667618414528e-85\n",
      "Score at step  394 = tensor([1.1511], grad_fn=<NegBackward>) max grad component = tensor(0.0047) lr =  6.378400571048717e-86\n",
      "Score at step  395 = tensor([1.1511], grad_fn=<NegBackward>) max grad component = tensor(0.0047) lr =  3.82704034262923e-86\n",
      "Score at step  396 = tensor([1.1511], grad_fn=<NegBackward>) max grad component = tensor(0.0047) lr =  2.296224205577538e-86\n",
      "Score at step  397 = tensor([1.1511], grad_fn=<NegBackward>) max grad component = tensor(0.0047) lr =  1.3777345233465228e-86\n",
      "Score at step  398 = tensor([1.1511], grad_fn=<NegBackward>) max grad component = tensor(0.0047) lr =  8.266407140079136e-87\n",
      "Score at step  399 = tensor([1.1511], grad_fn=<NegBackward>) max grad component = tensor(0.0047) lr =  4.959844284047481e-87\n",
      "Score at step  400 = tensor([1.1511], grad_fn=<NegBackward>) max grad component = tensor(0.0047) lr =  2.9759065704284887e-87\n"
     ]
    },
    {
     "name": "stdout",
     "output_type": "stream",
     "text": [
      "Score at step  401 = tensor([1.1511], grad_fn=<NegBackward>) max grad component = tensor(0.0047) lr =  1.7855439422570933e-87\n",
      "Score at step  402 = tensor([1.1511], grad_fn=<NegBackward>) max grad component = tensor(0.0047) lr =  1.071326365354256e-87\n",
      "Score at step  403 = tensor([1.1511], grad_fn=<NegBackward>) max grad component = tensor(0.0047) lr =  6.427958192125536e-88\n",
      "Score at step  404 = tensor([1.1511], grad_fn=<NegBackward>) max grad component = tensor(0.0047) lr =  3.8567749152753214e-88\n",
      "Score at step  405 = tensor([1.1511], grad_fn=<NegBackward>) max grad component = tensor(0.0047) lr =  2.3140649491651927e-88\n",
      "Score at step  406 = tensor([1.1511], grad_fn=<NegBackward>) max grad component = tensor(0.0047) lr =  1.3884389694991155e-88\n",
      "Score at step  407 = tensor([1.1511], grad_fn=<NegBackward>) max grad component = tensor(0.0047) lr =  8.330633816994693e-89\n",
      "Score at step  408 = tensor([1.1511], grad_fn=<NegBackward>) max grad component = tensor(0.0047) lr =  4.998380290196815e-89\n",
      "Score at step  409 = tensor([1.1511], grad_fn=<NegBackward>) max grad component = tensor(0.0047) lr =  2.9990281741180892e-89\n",
      "Score at step  410 = tensor([1.1511], grad_fn=<NegBackward>) max grad component = tensor(0.0047) lr =  1.7994169044708533e-89\n",
      "Score at step  411 = tensor([1.1511], grad_fn=<NegBackward>) max grad component = tensor(0.0047) lr =  1.079650142682512e-89\n",
      "Score at step  412 = tensor([1.1511], grad_fn=<NegBackward>) max grad component = tensor(0.0047) lr =  6.4779008560950715e-90\n",
      "Score at step  413 = tensor([1.1511], grad_fn=<NegBackward>) max grad component = tensor(0.0047) lr =  3.8867405136570427e-90\n",
      "Score at step  414 = tensor([1.1511], grad_fn=<NegBackward>) max grad component = tensor(0.0047) lr =  2.3320443081942255e-90\n",
      "Score at step  415 = tensor([1.1511], grad_fn=<NegBackward>) max grad component = tensor(0.0047) lr =  1.3992265849165353e-90\n",
      "Score at step  416 = tensor([1.1511], grad_fn=<NegBackward>) max grad component = tensor(0.0047) lr =  8.395359509499212e-91\n",
      "Score at step  417 = tensor([1.1511], grad_fn=<NegBackward>) max grad component = tensor(0.0047) lr =  5.037215705699526e-91\n",
      "Score at step  418 = tensor([1.1511], grad_fn=<NegBackward>) max grad component = tensor(0.0047) lr =  3.0223294234197157e-91\n",
      "Score at step  419 = tensor([1.1511], grad_fn=<NegBackward>) max grad component = tensor(0.0047) lr =  1.8133976540518294e-91\n",
      "Score at step  420 = tensor([1.1511], grad_fn=<NegBackward>) max grad component = tensor(0.0047) lr =  1.0880385924310976e-91\n",
      "Score at step  421 = tensor([1.1511], grad_fn=<NegBackward>) max grad component = tensor(0.0047) lr =  6.528231554586586e-92\n",
      "Score at step  422 = tensor([1.1511], grad_fn=<NegBackward>) max grad component = tensor(0.0047) lr =  3.916938932751951e-92\n",
      "Score at step  423 = tensor([1.1511], grad_fn=<NegBackward>) max grad component = tensor(0.0047) lr =  2.3501633596511707e-92\n",
      "Score at step  424 = tensor([1.1511], grad_fn=<NegBackward>) max grad component = tensor(0.0047) lr =  1.4100980157907024e-92\n",
      "Score at step  425 = tensor([1.1511], grad_fn=<NegBackward>) max grad component = tensor(0.0047) lr =  8.460588094744214e-93\n",
      "Score at step  426 = tensor([1.1511], grad_fn=<NegBackward>) max grad component = tensor(0.0047) lr =  5.076352856846528e-93\n",
      "Score at step  427 = tensor([1.1511], grad_fn=<NegBackward>) max grad component = tensor(0.0047) lr =  3.0458117141079168e-93\n",
      "Score at step  428 = tensor([1.1511], grad_fn=<NegBackward>) max grad component = tensor(0.0047) lr =  1.82748702846475e-93\n",
      "Score at step  429 = tensor([1.1511], grad_fn=<NegBackward>) max grad component = tensor(0.0047) lr =  1.09649221707885e-93\n",
      "Score at step  430 = tensor([1.1511], grad_fn=<NegBackward>) max grad component = tensor(0.0047) lr =  6.578953302473099e-94\n",
      "Score at step  431 = tensor([1.1511], grad_fn=<NegBackward>) max grad component = tensor(0.0047) lr =  3.9473719814838596e-94\n",
      "Score at step  432 = tensor([1.1511], grad_fn=<NegBackward>) max grad component = tensor(0.0047) lr =  2.3684231888903156e-94\n",
      "Score at step  433 = tensor([1.1511], grad_fn=<NegBackward>) max grad component = tensor(0.0047) lr =  1.4210539133341893e-94\n",
      "Score at step  434 = tensor([1.1511], grad_fn=<NegBackward>) max grad component = tensor(0.0047) lr =  8.526323480005136e-95\n",
      "Score at step  435 = tensor([1.1511], grad_fn=<NegBackward>) max grad component = tensor(0.0047) lr =  5.1157940880030817e-95\n",
      "Score at step  436 = tensor([1.1511], grad_fn=<NegBackward>) max grad component = tensor(0.0047) lr =  3.069476452801849e-95\n",
      "Score at step  437 = tensor([1.1511], grad_fn=<NegBackward>) max grad component = tensor(0.0047) lr =  1.8416858716811095e-95\n",
      "Score at step  438 = tensor([1.1511], grad_fn=<NegBackward>) max grad component = tensor(0.0047) lr =  1.1050115230086657e-95\n",
      "Score at step  439 = tensor([1.1511], grad_fn=<NegBackward>) max grad component = tensor(0.0047) lr =  6.630069138051994e-96\n",
      "Score at step  440 = tensor([1.1511], grad_fn=<NegBackward>) max grad component = tensor(0.0047) lr =  3.978041482831197e-96\n",
      "Score at step  441 = tensor([1.1511], grad_fn=<NegBackward>) max grad component = tensor(0.0047) lr =  2.386824889698718e-96\n",
      "Score at step  442 = tensor([1.1511], grad_fn=<NegBackward>) max grad component = tensor(0.0047) lr =  1.4320949338192306e-96\n",
      "Score at step  443 = tensor([1.1511], grad_fn=<NegBackward>) max grad component = tensor(0.0047) lr =  8.592569602915383e-97\n",
      "Score at step  444 = tensor([1.1511], grad_fn=<NegBackward>) max grad component = tensor(0.0047) lr =  5.15554176174923e-97\n",
      "Score at step  445 = tensor([1.1511], grad_fn=<NegBackward>) max grad component = tensor(0.0047) lr =  3.0933250570495377e-97\n",
      "Score at step  446 = tensor([1.1511], grad_fn=<NegBackward>) max grad component = tensor(0.0047) lr =  1.8559950342297224e-97\n",
      "Score at step  447 = tensor([1.1511], grad_fn=<NegBackward>) max grad component = tensor(0.0047) lr =  1.1135970205378334e-97\n",
      "Score at step  448 = tensor([1.1511], grad_fn=<NegBackward>) max grad component = tensor(0.0047) lr =  6.681582123227e-98\n",
      "Score at step  449 = tensor([1.1511], grad_fn=<NegBackward>) max grad component = tensor(0.0047) lr =  4.0089492739362e-98\n",
      "Score at step  450 = tensor([1.1511], grad_fn=<NegBackward>) max grad component = tensor(0.0047) lr =  2.4053695643617197e-98\n",
      "Score at step  451 = tensor([1.1511], grad_fn=<NegBackward>) max grad component = tensor(0.0047) lr =  1.4432217386170318e-98\n",
      "Score at step  452 = tensor([1.1511], grad_fn=<NegBackward>) max grad component = tensor(0.0047) lr =  8.65933043170219e-99\n",
      "Score at step  453 = tensor([1.1511], grad_fn=<NegBackward>) max grad component = tensor(0.0047) lr =  5.195598259021314e-99\n",
      "Score at step  454 = tensor([1.1511], grad_fn=<NegBackward>) max grad component = tensor(0.0047) lr =  3.117358955412788e-99\n",
      "Score at step  455 = tensor([1.1511], grad_fn=<NegBackward>) max grad component = tensor(0.0047) lr =  1.8704153732476726e-99\n",
      "Score at step  456 = tensor([1.1511], grad_fn=<NegBackward>) max grad component = tensor(0.0047) lr =  1.1222492239486034e-99\n",
      "Score at step  457 = tensor([1.1511], grad_fn=<NegBackward>) max grad component = tensor(0.0047) lr =  6.73349534369162e-100\n",
      "Score at step  458 = tensor([1.1511], grad_fn=<NegBackward>) max grad component = tensor(0.0047) lr =  4.040097206214972e-100\n",
      "Score at step  459 = tensor([1.1511], grad_fn=<NegBackward>) max grad component = tensor(0.0047) lr =  2.4240583237289834e-100\n",
      "Score at step  460 = tensor([1.1511], grad_fn=<NegBackward>) max grad component = tensor(0.0047) lr =  1.45443499423739e-100\n",
      "Score at step  461 = tensor([1.1511], grad_fn=<NegBackward>) max grad component = tensor(0.0047) lr =  8.72660996542434e-101\n",
      "Score at step  462 = tensor([1.1511], grad_fn=<NegBackward>) max grad component = tensor(0.0047) lr =  5.2359659792546035e-101\n",
      "Score at step  463 = tensor([1.1511], grad_fn=<NegBackward>) max grad component = tensor(0.0047) lr =  3.141579587552762e-101\n",
      "Score at step  464 = tensor([1.1511], grad_fn=<NegBackward>) max grad component = tensor(0.0047) lr =  1.8849477525316574e-101\n",
      "Score at step  465 = tensor([1.1511], grad_fn=<NegBackward>) max grad component = tensor(0.0047) lr =  1.1309686515189944e-101\n",
      "Score at step  466 = tensor([1.1511], grad_fn=<NegBackward>) max grad component = tensor(0.0047) lr =  6.785811909113966e-102\n"
     ]
    },
    {
     "name": "stdout",
     "output_type": "stream",
     "text": [
      "Score at step  467 = tensor([1.1511], grad_fn=<NegBackward>) max grad component = tensor(0.0047) lr =  4.0714871454683796e-102\n",
      "Score at step  468 = tensor([1.1511], grad_fn=<NegBackward>) max grad component = tensor(0.0047) lr =  2.4428922872810275e-102\n",
      "Score at step  469 = tensor([1.1511], grad_fn=<NegBackward>) max grad component = tensor(0.0047) lr =  1.4657353723686165e-102\n",
      "Score at step  470 = tensor([1.1511], grad_fn=<NegBackward>) max grad component = tensor(0.0047) lr =  8.794412234211698e-103\n",
      "Score at step  471 = tensor([1.1511], grad_fn=<NegBackward>) max grad component = tensor(0.0047) lr =  5.276647340527019e-103\n",
      "Score at step  472 = tensor([1.1511], grad_fn=<NegBackward>) max grad component = tensor(0.0047) lr =  3.1659884043162114e-103\n",
      "Score at step  473 = tensor([1.1511], grad_fn=<NegBackward>) max grad component = tensor(0.0047) lr =  1.8995930425897267e-103\n",
      "Score at step  474 = tensor([1.1511], grad_fn=<NegBackward>) max grad component = tensor(0.0047) lr =  1.1397558255538359e-103\n",
      "Score at step  475 = tensor([1.1511], grad_fn=<NegBackward>) max grad component = tensor(0.0047) lr =  6.838534953323015e-104\n",
      "Score at step  476 = tensor([1.1511], grad_fn=<NegBackward>) max grad component = tensor(0.0047) lr =  4.1031209719938084e-104\n",
      "Score at step  477 = tensor([1.1511], grad_fn=<NegBackward>) max grad component = tensor(0.0047) lr =  2.461872583196285e-104\n",
      "Score at step  478 = tensor([1.1511], grad_fn=<NegBackward>) max grad component = tensor(0.0047) lr =  1.477123549917771e-104\n",
      "Score at step  479 = tensor([1.1511], grad_fn=<NegBackward>) max grad component = tensor(0.0047) lr =  8.862741299506625e-105\n",
      "Score at step  480 = tensor([1.1511], grad_fn=<NegBackward>) max grad component = tensor(0.0047) lr =  5.3176447797039745e-105\n",
      "Score at step  481 = tensor([1.1511], grad_fn=<NegBackward>) max grad component = tensor(0.0047) lr =  3.1905868678223845e-105\n",
      "Score at step  482 = tensor([1.1511], grad_fn=<NegBackward>) max grad component = tensor(0.0047) lr =  1.9143521206934306e-105\n",
      "Score at step  483 = tensor([1.1511], grad_fn=<NegBackward>) max grad component = tensor(0.0047) lr =  1.1486112724160583e-105\n",
      "Score at step  484 = tensor([1.1511], grad_fn=<NegBackward>) max grad component = tensor(0.0047) lr =  6.89166763449635e-106\n",
      "Score at step  485 = tensor([1.1511], grad_fn=<NegBackward>) max grad component = tensor(0.0047) lr =  4.1350005806978096e-106\n",
      "Score at step  486 = tensor([1.1511], grad_fn=<NegBackward>) max grad component = tensor(0.0047) lr =  2.4810003484186856e-106\n",
      "Score at step  487 = tensor([1.1511], grad_fn=<NegBackward>) max grad component = tensor(0.0047) lr =  1.4886002090512112e-106\n",
      "Score at step  488 = tensor([1.1511], grad_fn=<NegBackward>) max grad component = tensor(0.0047) lr =  8.931601254307268e-107\n",
      "Score at step  489 = tensor([1.1511], grad_fn=<NegBackward>) max grad component = tensor(0.0047) lr =  5.35896075258436e-107\n",
      "Score at step  490 = tensor([1.1511], grad_fn=<NegBackward>) max grad component = tensor(0.0047) lr =  3.215376451550616e-107\n",
      "Score at step  491 = tensor([1.1511], grad_fn=<NegBackward>) max grad component = tensor(0.0047) lr =  1.9292258709303696e-107\n",
      "Score at step  492 = tensor([1.1511], grad_fn=<NegBackward>) max grad component = tensor(0.0047) lr =  1.1575355225582217e-107\n",
      "Score at step  493 = tensor([1.1511], grad_fn=<NegBackward>) max grad component = tensor(0.0047) lr =  6.94521313534933e-108\n",
      "Score at step  494 = tensor([1.1511], grad_fn=<NegBackward>) max grad component = tensor(0.0047) lr =  4.1671278812095976e-108\n",
      "Score at step  495 = tensor([1.1511], grad_fn=<NegBackward>) max grad component = tensor(0.0047) lr =  2.5002767287257583e-108\n",
      "Score at step  496 = tensor([1.1511], grad_fn=<NegBackward>) max grad component = tensor(0.0047) lr =  1.500166037235455e-108\n",
      "Score at step  497 = tensor([1.1511], grad_fn=<NegBackward>) max grad component = tensor(0.0047) lr =  9.00099622341273e-109\n",
      "Score at step  498 = tensor([1.1511], grad_fn=<NegBackward>) max grad component = tensor(0.0047) lr =  5.400597734047638e-109\n",
      "Score at step  499 = tensor([1.1511], grad_fn=<NegBackward>) max grad component = tensor(0.0047) lr =  3.2403586404285824e-109\n",
      "Max(Y) =  tensor([0.5400, 0.4233, 0.8910, 0.8083, 0.9998, 1.0000, 0.9428, 0.8772, 0.9618,\n",
      "        0.8294, 0.7878, 0.9456, 0.8443, 0.9186, 0.8570],\n",
      "       grad_fn=<MaxBackward0>)\n",
      "['▁Ich', '▁halte', ',', '▁dass', '▁die', '▁', 'maschine', 'lle', '▁Übersetzung', '▁ein', '▁sehr', '▁interessante', 's', '▁Thema', '▁ist']\n"
     ]
    }
   ],
   "source": [
    "english_sentence = 'I think, that machine translation is a very interesting subject.'\n",
    "english_tok = tokenizer.tokenize(english_sentence)\n",
    "greedy_optimizer = GreedyOptimizer(english_sentence)\n",
    "greedy_translation = greedy_optimizer.optimize()[:-1]\n",
    "greedy_init = scorer.score_probabilities_for_each_word(english_tok, greedy_translation)\n",
    "greedy_init = torch.tensor(greedy_init[:15, :].T)\n",
    "\n",
    "optimizer = ContinuousOptimizer(english_sentence)\n",
    "print('Optimization starts...')\n",
    "res = optimizer.optimize(init=greedy_init)\n",
    "print(res)"
   ]
  },
  {
   "cell_type": "code",
   "execution_count": 35,
   "metadata": {},
   "outputs": [
    {
     "name": "stdout",
     "output_type": "stream",
     "text": [
      "Greedy translation: ['▁Ich', '▁denke', ',', '▁dass', '▁die', '▁', 'maschine', 'lle', '▁Übersetzung', '▁ein', '▁sehr', '▁interessante', 's', '▁Thema', '▁ist', '.']\n",
      "Continuous translation: ['▁Ich', '▁halte', ',', '▁dass', '▁die', '▁', 'maschine', 'lle', '▁Übersetzung', '▁ein', '▁sehr', '▁interessante', 's', '▁Thema', '▁ist']\n",
      "Score of greedy translation =  tensor([-0.4511])\n",
      "Score of continuous translation =  tensor([-1.6082])\n"
     ]
    }
   ],
   "source": [
    "print('Greedy translation:', greedy_translation)\n",
    "print('Continuous translation:', res)\n",
    "print('Score of greedy translation = ' , scorer.score_tokenized_texts([english_tok], [greedy_translation]))\n",
    "print('Score of continuous translation = ', scorer.score_tokenized_texts([english_tok], [res]))"
   ]
  },
  {
   "cell_type": "markdown",
   "metadata": {},
   "source": [
    "#### Sentence from test set"
   ]
  },
  {
   "cell_type": "code",
   "execution_count": 3,
   "metadata": {},
   "outputs": [
    {
     "name": "stdout",
     "output_type": "stream",
     "text": [
      "Optimization starts...\n",
      "Step 0 , loss score =  tensor([2.3881], grad_fn=<NegBackward>) max grad component =  lr =  100\n",
      "\t cscore =  tensor([2.3881], grad_fn=<NegBackward>)\n",
      "\tdscore =  tensor([0.5355])\n",
      "▁Aber ▁der ▁Bruder ▁des ▁Opfer s ▁sagt , ▁er ▁könne ▁niemand en ▁denken , ▁der ▁ihn ▁verletz en ▁würde , ▁und ▁sagt : ▁\" Es ▁ging ▁ihm ▁endlich ▁gut . \"\n",
      "\n",
      "Step 1 , loss score =  tensor([1.9038], grad_fn=<NegBackward>) max grad component = 0.0 lr =  100\n",
      "\t cscore =  tensor([1.9038], grad_fn=<NegBackward>)\n",
      "\tdscore =  tensor([0.5352])\n",
      "▁Aber ▁der ▁Bruder ▁des ▁Opfer s ▁sagt , ▁er ▁könne ▁niemand en ▁denken , ▁der ▁ihn ▁verletz en ▁möchte , ▁und ▁sagt : ▁\" Es ▁ging ▁ihm ▁endlich ▁gut . \"\n",
      "\n",
      "Step 2 , loss score =  tensor([1.6958], grad_fn=<NegBackward>) max grad component = 0.0 lr =  100\n",
      "\t cscore =  tensor([1.6958], grad_fn=<NegBackward>)\n",
      "\tdscore =  tensor([0.5412])\n",
      "▁Aber ▁der ▁Bruder ▁des ▁Opfer s ▁sagt , ▁er ▁könne ▁niemand en ▁denken , ▁der ▁ihn ▁verletz en ▁will , ▁und ▁sagt : ▁\" Es ▁ging ▁ihm ▁endlich ▁gut . \"\n",
      "\n",
      "Step 3 , loss score =  tensor([1.6640], grad_fn=<NegBackward>) max grad component = 0.0 lr =  100\n",
      "\t cscore =  tensor([1.6640], grad_fn=<NegBackward>)\n",
      "\tdscore =  tensor([0.5352])\n",
      "▁Aber ▁der ▁Bruder ▁des ▁Opfer s ▁sagt , ▁er ▁könne ▁niemand en ▁denken , ▁der ▁ihn ▁verletz en ▁möchte , ▁und ▁sagt : ▁\" Es ▁ging ▁ihm ▁endlich ▁gut . \"\n",
      "\n",
      "Step 4 , loss score =  tensor([1.6425], grad_fn=<NegBackward>) max grad component = 0.0 lr =  100\n",
      "\t cscore =  tensor([1.6425], grad_fn=<NegBackward>)\n",
      "\tdscore =  tensor([0.5352])\n",
      "▁Aber ▁der ▁Bruder ▁des ▁Opfer s ▁sagt , ▁er ▁könne ▁niemand en ▁denken , ▁der ▁ihn ▁verletz en ▁möchte , ▁und ▁sagt : ▁\" Es ▁ging ▁ihm ▁endlich ▁gut . \"\n",
      "\n",
      "Step 5 , loss score =  tensor([1.6256], grad_fn=<NegBackward>) max grad component = 0.0 lr =  100\n",
      "\t cscore =  tensor([1.6256], grad_fn=<NegBackward>)\n",
      "\tdscore =  tensor([0.5352])\n",
      "▁Aber ▁der ▁Bruder ▁des ▁Opfer s ▁sagt , ▁er ▁könne ▁niemand en ▁denken , ▁der ▁ihn ▁verletz en ▁möchte , ▁und ▁sagt : ▁\" Es ▁ging ▁ihm ▁endlich ▁gut . \"\n",
      "\n",
      "Step 6 , loss score =  tensor([1.6119], grad_fn=<NegBackward>) max grad component = 0.0 lr =  100\n",
      "\t cscore =  tensor([1.6119], grad_fn=<NegBackward>)\n",
      "\tdscore =  tensor([0.5352])\n",
      "▁Aber ▁der ▁Bruder ▁des ▁Opfer s ▁sagt , ▁er ▁könne ▁niemand en ▁denken , ▁der ▁ihn ▁verletz en ▁möchte , ▁und ▁sagt : ▁\" Es ▁ging ▁ihm ▁endlich ▁gut . \"\n",
      "\n",
      "Step 7 , loss score =  tensor([1.6008], grad_fn=<NegBackward>) max grad component = 0.0 lr =  100\n",
      "\t cscore =  tensor([1.6008], grad_fn=<NegBackward>)\n",
      "\tdscore =  tensor([0.5352])\n",
      "▁Aber ▁der ▁Bruder ▁des ▁Opfer s ▁sagt , ▁er ▁könne ▁niemand en ▁denken , ▁der ▁ihn ▁verletz en ▁möchte , ▁und ▁sagt : ▁\" Es ▁ging ▁ihm ▁endlich ▁gut . \"\n",
      "\n",
      "Step 8 , loss score =  tensor([1.5926], grad_fn=<NegBackward>) max grad component = 0.0 lr =  100\n",
      "\t cscore =  tensor([1.5926], grad_fn=<NegBackward>)\n",
      "\tdscore =  tensor([0.5352])\n",
      "▁Aber ▁der ▁Bruder ▁des ▁Opfer s ▁sagt , ▁er ▁könne ▁niemand en ▁denken , ▁der ▁ihn ▁verletz en ▁möchte , ▁und ▁sagt : ▁\" Es ▁ging ▁ihm ▁endlich ▁gut . \"\n",
      "\n",
      "Step 9 , loss score =  tensor([1.5860], grad_fn=<NegBackward>) max grad component = 0.0 lr =  100\n",
      "\t cscore =  tensor([1.5860], grad_fn=<NegBackward>)\n",
      "\tdscore =  tensor([0.5352])\n",
      "▁Aber ▁der ▁Bruder ▁des ▁Opfer s ▁sagt , ▁er ▁könne ▁niemand en ▁denken , ▁der ▁ihn ▁verletz en ▁möchte , ▁und ▁sagt : ▁\" Es ▁ging ▁ihm ▁endlich ▁gut . \"\n",
      "\n",
      "Step 10 , loss score =  tensor([1.5825], grad_fn=<NegBackward>) max grad component = 0.0 lr =  100\n",
      "\t cscore =  tensor([1.5825], grad_fn=<NegBackward>)\n",
      "\tdscore =  tensor([0.5352])\n",
      "▁Aber ▁der ▁Bruder ▁des ▁Opfer s ▁sagt , ▁er ▁könne ▁niemand en ▁denken , ▁der ▁ihn ▁verletz en ▁möchte , ▁und ▁sagt : ▁\" Es ▁ging ▁ihm ▁endlich ▁gut . \"\n",
      "\n",
      "Step 11 , loss score =  tensor([1.5815], grad_fn=<NegBackward>) max grad component = 0.0 lr =  100\n",
      "\t cscore =  tensor([1.5815], grad_fn=<NegBackward>)\n",
      "\tdscore =  tensor([0.5352])\n",
      "▁Aber ▁der ▁Bruder ▁des ▁Opfer s ▁sagt , ▁er ▁könne ▁niemand en ▁denken , ▁der ▁ihn ▁verletz en ▁möchte , ▁und ▁sagt : ▁\" Es ▁ging ▁ihm ▁endlich ▁gut . \"\n",
      "\n",
      "Step 12 , loss score =  tensor([1.5815], grad_fn=<NegBackward>) max grad component = 0.0013183180708438158 lr =  50.0\n",
      "\t cscore =  tensor([1.5838], grad_fn=<NegBackward>)\n",
      "\tdscore =  tensor([0.5352])\n",
      "▁Aber ▁der ▁Bruder ▁des ▁Opfer s ▁sagt , ▁er ▁könne ▁niemand en ▁denken , ▁der ▁ihn ▁verletz en ▁möchte , ▁und ▁sagt : ▁\" Es ▁ging ▁ihm ▁endlich ▁gut . \"\n",
      "\n",
      "Step 13 , loss score =  tensor([1.5815], grad_fn=<NegBackward>) max grad component = 0.0013183180708438158 lr =  25.0\n",
      "\t cscore =  tensor([1.5826], grad_fn=<NegBackward>)\n",
      "\tdscore =  tensor([0.5352])\n",
      "▁Aber ▁der ▁Bruder ▁des ▁Opfer s ▁sagt , ▁er ▁könne ▁niemand en ▁denken , ▁der ▁ihn ▁verletz en ▁möchte , ▁und ▁sagt : ▁\" Es ▁ging ▁ihm ▁endlich ▁gut . \"\n",
      "\n",
      "Step 14 , loss score =  tensor([1.5815], grad_fn=<NegBackward>) max grad component = 0.0013183180708438158 lr =  12.5\n",
      "\t cscore =  tensor([1.5832], grad_fn=<NegBackward>)\n",
      "\tdscore =  tensor([0.5352])\n",
      "▁Aber ▁der ▁Bruder ▁des ▁Opfer s ▁sagt , ▁er ▁könne ▁niemand en ▁denken , ▁der ▁ihn ▁verletz en ▁möchte , ▁und ▁sagt : ▁\" Es ▁ging ▁ihm ▁endlich ▁gut . \"\n",
      "\n",
      "Step 15 , loss score =  tensor([1.5815], grad_fn=<NegBackward>) max grad component = 0.0013183180708438158 lr =  6.25\n",
      "\t cscore =  tensor([1.5835], grad_fn=<NegBackward>)\n",
      "\tdscore =  tensor([0.5352])\n",
      "▁Aber ▁der ▁Bruder ▁des ▁Opfer s ▁sagt , ▁er ▁könne ▁niemand en ▁denken , ▁der ▁ihn ▁verletz en ▁möchte , ▁und ▁sagt : ▁\" Es ▁ging ▁ihm ▁endlich ▁gut . \"\n",
      "\n",
      "Step 16 , loss score =  tensor([1.5815], grad_fn=<NegBackward>) max grad component = 0.0013183180708438158 lr =  3.125\n",
      "\t cscore =  tensor([1.5837], grad_fn=<NegBackward>)\n",
      "\tdscore =  tensor([0.5352])\n",
      "▁Aber ▁der ▁Bruder ▁des ▁Opfer s ▁sagt , ▁er ▁könne ▁niemand en ▁denken , ▁der ▁ihn ▁verletz en ▁möchte , ▁und ▁sagt : ▁\" Es ▁ging ▁ihm ▁endlich ▁gut . \"\n",
      "\n",
      "Step 17 , loss score =  tensor([1.5815], grad_fn=<NegBackward>) max grad component = 0.0013183180708438158 lr =  1.5625\n",
      "\t cscore =  tensor([1.5838], grad_fn=<NegBackward>)\n",
      "\tdscore =  tensor([0.5352])\n",
      "▁Aber ▁der ▁Bruder ▁des ▁Opfer s ▁sagt , ▁er ▁könne ▁niemand en ▁denken , ▁der ▁ihn ▁verletz en ▁möchte , ▁und ▁sagt : ▁\" Es ▁ging ▁ihm ▁endlich ▁gut . \"\n",
      "\n",
      "Step 18 , loss score =  tensor([1.5815], grad_fn=<NegBackward>) max grad component = 0.0013183180708438158 lr =  0.78125\n",
      "\t cscore =  tensor([1.5838], grad_fn=<NegBackward>)\n",
      "\tdscore =  tensor([0.5352])\n",
      "▁Aber ▁der ▁Bruder ▁des ▁Opfer s ▁sagt , ▁er ▁könne ▁niemand en ▁denken , ▁der ▁ihn ▁verletz en ▁möchte , ▁und ▁sagt : ▁\" Es ▁ging ▁ihm ▁endlich ▁gut . \"\n",
      "\n",
      "Step 19 , loss score =  tensor([1.5815], grad_fn=<NegBackward>) max grad component = 0.0013183180708438158 lr =  0.390625\n",
      "\t cscore =  tensor([1.5838], grad_fn=<NegBackward>)\n",
      "\tdscore =  tensor([0.5352])\n",
      "▁Aber ▁der ▁Bruder ▁des ▁Opfer s ▁sagt , ▁er ▁könne ▁niemand en ▁denken , ▁der ▁ihn ▁verletz en ▁möchte , ▁und ▁sagt : ▁\" Es ▁ging ▁ihm ▁endlich ▁gut . \"\n",
      "\n",
      "Step 20 , loss score =  tensor([1.5815], grad_fn=<NegBackward>) max grad component = 0.0013183180708438158 lr =  0.1953125\n",
      "\t cscore =  tensor([1.5838], grad_fn=<NegBackward>)\n",
      "\tdscore =  tensor([0.5352])\n",
      "▁Aber ▁der ▁Bruder ▁des ▁Opfer s ▁sagt , ▁er ▁könne ▁niemand en ▁denken , ▁der ▁ihn ▁verletz en ▁möchte , ▁und ▁sagt : ▁\" Es ▁ging ▁ihm ▁endlich ▁gut . \"\n",
      "\n",
      "Step 21 , loss score =  tensor([1.5815], grad_fn=<NegBackward>) max grad component = 0.0013183180708438158 lr =  0.09765625\n",
      "\t cscore =  tensor([1.5838], grad_fn=<NegBackward>)\n",
      "\tdscore =  tensor([0.5352])\n",
      "▁Aber ▁der ▁Bruder ▁des ▁Opfer s ▁sagt , ▁er ▁könne ▁niemand en ▁denken , ▁der ▁ihn ▁verletz en ▁möchte , ▁und ▁sagt : ▁\" Es ▁ging ▁ihm ▁endlich ▁gut . \"\n",
      "\n",
      "Step 22 , loss score =  tensor([1.5815], grad_fn=<NegBackward>) max grad component = 0.0013183180708438158 lr =  0.048828125\n",
      "\t cscore =  tensor([1.5838], grad_fn=<NegBackward>)\n",
      "\tdscore =  tensor([0.5352])\n",
      "▁Aber ▁der ▁Bruder ▁des ▁Opfer s ▁sagt , ▁er ▁könne ▁niemand en ▁denken , ▁der ▁ihn ▁verletz en ▁möchte , ▁und ▁sagt : ▁\" Es ▁ging ▁ihm ▁endlich ▁gut . \"\n",
      "\n",
      "Step 23 , loss score =  tensor([1.5815], grad_fn=<NegBackward>) max grad component = 0.0013183180708438158 lr =  0.0244140625\n",
      "\t cscore =  tensor([1.5838], grad_fn=<NegBackward>)\n",
      "\tdscore =  tensor([0.5352])\n",
      "▁Aber ▁der ▁Bruder ▁des ▁Opfer s ▁sagt , ▁er ▁könne ▁niemand en ▁denken , ▁der ▁ihn ▁verletz en ▁möchte , ▁und ▁sagt : ▁\" Es ▁ging ▁ihm ▁endlich ▁gut . \"\n",
      "\n"
     ]
    },
    {
     "name": "stdout",
     "output_type": "stream",
     "text": [
      "Step 24 , loss score =  tensor([1.5815], grad_fn=<NegBackward>) max grad component = 0.0013183180708438158 lr =  0.01220703125\n",
      "\t cscore =  tensor([1.5838], grad_fn=<NegBackward>)\n",
      "\tdscore =  tensor([0.5352])\n",
      "▁Aber ▁der ▁Bruder ▁des ▁Opfer s ▁sagt , ▁er ▁könne ▁niemand en ▁denken , ▁der ▁ihn ▁verletz en ▁möchte , ▁und ▁sagt : ▁\" Es ▁ging ▁ihm ▁endlich ▁gut . \"\n",
      "\n",
      "Step 25 , loss score =  tensor([1.5815], grad_fn=<NegBackward>) max grad component = 0.0013183180708438158 lr =  0.006103515625\n",
      "\t cscore =  tensor([1.5838], grad_fn=<NegBackward>)\n",
      "\tdscore =  tensor([0.5352])\n",
      "▁Aber ▁der ▁Bruder ▁des ▁Opfer s ▁sagt , ▁er ▁könne ▁niemand en ▁denken , ▁der ▁ihn ▁verletz en ▁möchte , ▁und ▁sagt : ▁\" Es ▁ging ▁ihm ▁endlich ▁gut . \"\n",
      "\n",
      "Step 26 , loss score =  tensor([1.5815], grad_fn=<NegBackward>) max grad component = 0.0013183180708438158 lr =  0.0030517578125\n",
      "\t cscore =  tensor([1.5838], grad_fn=<NegBackward>)\n",
      "\tdscore =  tensor([0.5352])\n",
      "▁Aber ▁der ▁Bruder ▁des ▁Opfer s ▁sagt , ▁er ▁könne ▁niemand en ▁denken , ▁der ▁ihn ▁verletz en ▁möchte , ▁und ▁sagt : ▁\" Es ▁ging ▁ihm ▁endlich ▁gut . \"\n",
      "\n",
      "Step 27 , loss score =  tensor([1.5815], grad_fn=<NegBackward>) max grad component = 0.0013183180708438158 lr =  0.00152587890625\n",
      "\t cscore =  tensor([1.5838], grad_fn=<NegBackward>)\n",
      "\tdscore =  tensor([0.5352])\n",
      "▁Aber ▁der ▁Bruder ▁des ▁Opfer s ▁sagt , ▁er ▁könne ▁niemand en ▁denken , ▁der ▁ihn ▁verletz en ▁möchte , ▁und ▁sagt : ▁\" Es ▁ging ▁ihm ▁endlich ▁gut . \"\n",
      "\n",
      "Step 28 , loss score =  tensor([1.5815], grad_fn=<NegBackward>) max grad component = 0.0013183180708438158 lr =  0.000762939453125\n",
      "\t cscore =  tensor([1.5838], grad_fn=<NegBackward>)\n",
      "\tdscore =  tensor([0.5352])\n",
      "▁Aber ▁der ▁Bruder ▁des ▁Opfer s ▁sagt , ▁er ▁könne ▁niemand en ▁denken , ▁der ▁ihn ▁verletz en ▁möchte , ▁und ▁sagt : ▁\" Es ▁ging ▁ihm ▁endlich ▁gut . \"\n",
      "\n",
      "Step 29 , loss score =  tensor([1.5815], grad_fn=<NegBackward>) max grad component = 0.0013183180708438158 lr =  0.0003814697265625\n",
      "\t cscore =  tensor([1.5838], grad_fn=<NegBackward>)\n",
      "\tdscore =  tensor([0.5352])\n",
      "▁Aber ▁der ▁Bruder ▁des ▁Opfer s ▁sagt , ▁er ▁könne ▁niemand en ▁denken , ▁der ▁ihn ▁verletz en ▁möchte , ▁und ▁sagt : ▁\" Es ▁ging ▁ihm ▁endlich ▁gut . \"\n",
      "\n",
      "Step 30 , loss score =  tensor([1.5815], grad_fn=<NegBackward>) max grad component = 0.0013183180708438158 lr =  0.00019073486328125\n",
      "\t cscore =  tensor([1.5838], grad_fn=<NegBackward>)\n",
      "\tdscore =  tensor([0.5352])\n",
      "▁Aber ▁der ▁Bruder ▁des ▁Opfer s ▁sagt , ▁er ▁könne ▁niemand en ▁denken , ▁der ▁ihn ▁verletz en ▁möchte , ▁und ▁sagt : ▁\" Es ▁ging ▁ihm ▁endlich ▁gut . \"\n",
      "\n",
      "Step 31 , loss score =  tensor([1.5815], grad_fn=<NegBackward>) max grad component = 0.0013183180708438158 lr =  9.5367431640625e-05\n",
      "\t cscore =  tensor([1.5838], grad_fn=<NegBackward>)\n",
      "\tdscore =  tensor([0.5352])\n",
      "▁Aber ▁der ▁Bruder ▁des ▁Opfer s ▁sagt , ▁er ▁könne ▁niemand en ▁denken , ▁der ▁ihn ▁verletz en ▁möchte , ▁und ▁sagt : ▁\" Es ▁ging ▁ihm ▁endlich ▁gut . \"\n",
      "\n",
      "Step 32 , loss score =  tensor([1.5815], grad_fn=<NegBackward>) max grad component = 0.0013183180708438158 lr =  4.76837158203125e-05\n",
      "\t cscore =  tensor([1.5838], grad_fn=<NegBackward>)\n",
      "\tdscore =  tensor([0.5352])\n",
      "▁Aber ▁der ▁Bruder ▁des ▁Opfer s ▁sagt , ▁er ▁könne ▁niemand en ▁denken , ▁der ▁ihn ▁verletz en ▁möchte , ▁und ▁sagt : ▁\" Es ▁ging ▁ihm ▁endlich ▁gut . \"\n",
      "\n",
      "Step 33 , loss score =  tensor([1.5815], grad_fn=<NegBackward>) max grad component = 0.0013183180708438158 lr =  2.384185791015625e-05\n",
      "\t cscore =  tensor([1.5838], grad_fn=<NegBackward>)\n",
      "\tdscore =  tensor([0.5352])\n",
      "▁Aber ▁der ▁Bruder ▁des ▁Opfer s ▁sagt , ▁er ▁könne ▁niemand en ▁denken , ▁der ▁ihn ▁verletz en ▁möchte , ▁und ▁sagt : ▁\" Es ▁ging ▁ihm ▁endlich ▁gut . \"\n",
      "\n",
      "Step 34 , loss score =  tensor([1.5815], grad_fn=<NegBackward>) max grad component = 0.0013183180708438158 lr =  1.1920928955078125e-05\n",
      "\t cscore =  tensor([1.5838], grad_fn=<NegBackward>)\n",
      "\tdscore =  tensor([0.5352])\n",
      "▁Aber ▁der ▁Bruder ▁des ▁Opfer s ▁sagt , ▁er ▁könne ▁niemand en ▁denken , ▁der ▁ihn ▁verletz en ▁möchte , ▁und ▁sagt : ▁\" Es ▁ging ▁ihm ▁endlich ▁gut . \"\n",
      "\n",
      "Step 35 , loss score =  tensor([1.5815], grad_fn=<NegBackward>) max grad component = 0.0013183180708438158 lr =  5.9604644775390625e-06\n",
      "\t cscore =  tensor([1.5838], grad_fn=<NegBackward>)\n",
      "\tdscore =  tensor([0.5352])\n",
      "▁Aber ▁der ▁Bruder ▁des ▁Opfer s ▁sagt , ▁er ▁könne ▁niemand en ▁denken , ▁der ▁ihn ▁verletz en ▁möchte , ▁und ▁sagt : ▁\" Es ▁ging ▁ihm ▁endlich ▁gut . \"\n",
      "\n",
      "Step 36 , loss score =  tensor([1.5815], grad_fn=<NegBackward>) max grad component = 0.0013183180708438158 lr =  2.9802322387695312e-06\n",
      "\t cscore =  tensor([1.5838], grad_fn=<NegBackward>)\n",
      "\tdscore =  tensor([0.5352])\n",
      "▁Aber ▁der ▁Bruder ▁des ▁Opfer s ▁sagt , ▁er ▁könne ▁niemand en ▁denken , ▁der ▁ihn ▁verletz en ▁möchte , ▁und ▁sagt : ▁\" Es ▁ging ▁ihm ▁endlich ▁gut . \"\n",
      "\n",
      "Step 37 , loss score =  tensor([1.5815], grad_fn=<NegBackward>) max grad component = 0.0013183180708438158 lr =  1.4901161193847656e-06\n",
      "\t cscore =  tensor([1.5838], grad_fn=<NegBackward>)\n",
      "\tdscore =  tensor([0.5352])\n",
      "▁Aber ▁der ▁Bruder ▁des ▁Opfer s ▁sagt , ▁er ▁könne ▁niemand en ▁denken , ▁der ▁ihn ▁verletz en ▁möchte , ▁und ▁sagt : ▁\" Es ▁ging ▁ihm ▁endlich ▁gut . \"\n",
      "\n",
      "Step 38 , loss score =  tensor([1.5815], grad_fn=<NegBackward>) max grad component = 0.0013183180708438158 lr =  7.450580596923828e-07\n",
      "\t cscore =  tensor([1.5838], grad_fn=<NegBackward>)\n",
      "\tdscore =  tensor([0.5352])\n",
      "▁Aber ▁der ▁Bruder ▁des ▁Opfer s ▁sagt , ▁er ▁könne ▁niemand en ▁denken , ▁der ▁ihn ▁verletz en ▁möchte , ▁und ▁sagt : ▁\" Es ▁ging ▁ihm ▁endlich ▁gut . \"\n",
      "\n",
      "Step 39 , loss score =  tensor([1.5815], grad_fn=<NegBackward>) max grad component = 0.0013183180708438158 lr =  3.725290298461914e-07\n",
      "\t cscore =  tensor([1.5838], grad_fn=<NegBackward>)\n",
      "\tdscore =  tensor([0.5352])\n",
      "▁Aber ▁der ▁Bruder ▁des ▁Opfer s ▁sagt , ▁er ▁könne ▁niemand en ▁denken , ▁der ▁ihn ▁verletz en ▁möchte , ▁und ▁sagt : ▁\" Es ▁ging ▁ihm ▁endlich ▁gut . \"\n",
      "\n",
      "Step 40 , loss score =  tensor([1.5815], grad_fn=<NegBackward>) max grad component = 0.0013183180708438158 lr =  1.862645149230957e-07\n",
      "\t cscore =  tensor([1.5838], grad_fn=<NegBackward>)\n",
      "\tdscore =  tensor([0.5352])\n",
      "▁Aber ▁der ▁Bruder ▁des ▁Opfer s ▁sagt , ▁er ▁könne ▁niemand en ▁denken , ▁der ▁ihn ▁verletz en ▁möchte , ▁und ▁sagt : ▁\" Es ▁ging ▁ihm ▁endlich ▁gut . \"\n",
      "\n",
      "Step 41 , loss score =  tensor([1.5815], grad_fn=<NegBackward>) max grad component = 0.0013183180708438158 lr =  9.313225746154785e-08\n",
      "\t cscore =  tensor([1.5838], grad_fn=<NegBackward>)\n",
      "\tdscore =  tensor([0.5352])\n",
      "▁Aber ▁der ▁Bruder ▁des ▁Opfer s ▁sagt , ▁er ▁könne ▁niemand en ▁denken , ▁der ▁ihn ▁verletz en ▁möchte , ▁und ▁sagt : ▁\" Es ▁ging ▁ihm ▁endlich ▁gut . \"\n",
      "\n",
      "Step 42 , loss score =  tensor([1.5815], grad_fn=<NegBackward>) max grad component = 0.0013183180708438158 lr =  4.6566128730773926e-08\n",
      "\t cscore =  tensor([1.5838], grad_fn=<NegBackward>)\n",
      "\tdscore =  tensor([0.5352])\n",
      "▁Aber ▁der ▁Bruder ▁des ▁Opfer s ▁sagt , ▁er ▁könne ▁niemand en ▁denken , ▁der ▁ihn ▁verletz en ▁möchte , ▁und ▁sagt : ▁\" Es ▁ging ▁ihm ▁endlich ▁gut . \"\n",
      "\n",
      "Step 43 , loss score =  tensor([1.5815], grad_fn=<NegBackward>) max grad component = 0.0013183180708438158 lr =  2.3283064365386963e-08\n",
      "\t cscore =  tensor([1.5838], grad_fn=<NegBackward>)\n",
      "\tdscore =  tensor([0.5352])\n",
      "▁Aber ▁der ▁Bruder ▁des ▁Opfer s ▁sagt , ▁er ▁könne ▁niemand en ▁denken , ▁der ▁ihn ▁verletz en ▁möchte , ▁und ▁sagt : ▁\" Es ▁ging ▁ihm ▁endlich ▁gut . \"\n",
      "\n",
      "Step 44 , loss score =  tensor([1.5815], grad_fn=<NegBackward>) max grad component = 0.0013183180708438158 lr =  1.1641532182693481e-08\n",
      "\t cscore =  tensor([1.5838], grad_fn=<NegBackward>)\n",
      "\tdscore =  tensor([0.5352])\n",
      "▁Aber ▁der ▁Bruder ▁des ▁Opfer s ▁sagt , ▁er ▁könne ▁niemand en ▁denken , ▁der ▁ihn ▁verletz en ▁möchte , ▁und ▁sagt : ▁\" Es ▁ging ▁ihm ▁endlich ▁gut . \"\n",
      "\n",
      "Step 45 , loss score =  tensor([1.5815], grad_fn=<NegBackward>) max grad component = 0.0013183180708438158 lr =  5.820766091346741e-09\n",
      "\t cscore =  tensor([1.5838], grad_fn=<NegBackward>)\n",
      "\tdscore =  tensor([0.5352])\n",
      "▁Aber ▁der ▁Bruder ▁des ▁Opfer s ▁sagt , ▁er ▁könne ▁niemand en ▁denken , ▁der ▁ihn ▁verletz en ▁möchte , ▁und ▁sagt : ▁\" Es ▁ging ▁ihm ▁endlich ▁gut . \"\n",
      "\n",
      "Step 46 , loss score =  tensor([1.5815], grad_fn=<NegBackward>) max grad component = 0.0013183180708438158 lr =  2.9103830456733704e-09\n"
     ]
    },
    {
     "name": "stdout",
     "output_type": "stream",
     "text": [
      "\t cscore =  tensor([1.5838], grad_fn=<NegBackward>)\n",
      "\tdscore =  tensor([0.5352])\n",
      "▁Aber ▁der ▁Bruder ▁des ▁Opfer s ▁sagt , ▁er ▁könne ▁niemand en ▁denken , ▁der ▁ihn ▁verletz en ▁möchte , ▁und ▁sagt : ▁\" Es ▁ging ▁ihm ▁endlich ▁gut . \"\n",
      "\n",
      "Step 47 , loss score =  tensor([1.5815], grad_fn=<NegBackward>) max grad component = 0.0013183180708438158 lr =  1.4551915228366852e-09\n",
      "\t cscore =  tensor([1.5838], grad_fn=<NegBackward>)\n",
      "\tdscore =  tensor([0.5352])\n",
      "▁Aber ▁der ▁Bruder ▁des ▁Opfer s ▁sagt , ▁er ▁könne ▁niemand en ▁denken , ▁der ▁ihn ▁verletz en ▁möchte , ▁und ▁sagt : ▁\" Es ▁ging ▁ihm ▁endlich ▁gut . \"\n",
      "\n",
      "Step 48 , loss score =  tensor([1.5815], grad_fn=<NegBackward>) max grad component = 0.0013183180708438158 lr =  7.275957614183426e-10\n",
      "\t cscore =  tensor([1.5838], grad_fn=<NegBackward>)\n",
      "\tdscore =  tensor([0.5352])\n",
      "▁Aber ▁der ▁Bruder ▁des ▁Opfer s ▁sagt , ▁er ▁könne ▁niemand en ▁denken , ▁der ▁ihn ▁verletz en ▁möchte , ▁und ▁sagt : ▁\" Es ▁ging ▁ihm ▁endlich ▁gut . \"\n",
      "\n",
      "Step 49 , loss score =  tensor([1.5815], grad_fn=<NegBackward>) max grad component = 0.0013183180708438158 lr =  3.637978807091713e-10\n",
      "\t cscore =  tensor([1.5838], grad_fn=<NegBackward>)\n",
      "\tdscore =  tensor([0.5352])\n",
      "▁Aber ▁der ▁Bruder ▁des ▁Opfer s ▁sagt , ▁er ▁könne ▁niemand en ▁denken , ▁der ▁ihn ▁verletz en ▁möchte , ▁und ▁sagt : ▁\" Es ▁ging ▁ihm ▁endlich ▁gut . \"\n",
      "\n",
      "Step 50 , loss score =  tensor([1.5815], grad_fn=<NegBackward>) max grad component = 0.0013183180708438158 lr =  1.8189894035458565e-10\n",
      "\t cscore =  tensor([1.5838], grad_fn=<NegBackward>)\n",
      "\tdscore =  tensor([0.5352])\n",
      "▁Aber ▁der ▁Bruder ▁des ▁Opfer s ▁sagt , ▁er ▁könne ▁niemand en ▁denken , ▁der ▁ihn ▁verletz en ▁möchte , ▁und ▁sagt : ▁\" Es ▁ging ▁ihm ▁endlich ▁gut . \"\n",
      "\n",
      "Step 51 , loss score =  tensor([1.5815], grad_fn=<NegBackward>) max grad component = 0.0013183180708438158 lr =  9.094947017729282e-11\n",
      "\t cscore =  tensor([1.5838], grad_fn=<NegBackward>)\n",
      "\tdscore =  tensor([0.5352])\n",
      "▁Aber ▁der ▁Bruder ▁des ▁Opfer s ▁sagt , ▁er ▁könne ▁niemand en ▁denken , ▁der ▁ihn ▁verletz en ▁möchte , ▁und ▁sagt : ▁\" Es ▁ging ▁ihm ▁endlich ▁gut . \"\n",
      "\n",
      "Step 52 , loss score =  tensor([1.5815], grad_fn=<NegBackward>) max grad component = 0.0013183180708438158 lr =  4.547473508864641e-11\n",
      "\t cscore =  tensor([1.5838], grad_fn=<NegBackward>)\n",
      "\tdscore =  tensor([0.5352])\n",
      "▁Aber ▁der ▁Bruder ▁des ▁Opfer s ▁sagt , ▁er ▁könne ▁niemand en ▁denken , ▁der ▁ihn ▁verletz en ▁möchte , ▁und ▁sagt : ▁\" Es ▁ging ▁ihm ▁endlich ▁gut . \"\n",
      "\n",
      "Step 53 , loss score =  tensor([1.5815], grad_fn=<NegBackward>) max grad component = 0.0013183180708438158 lr =  2.2737367544323206e-11\n",
      "\t cscore =  tensor([1.5838], grad_fn=<NegBackward>)\n",
      "\tdscore =  tensor([0.5352])\n",
      "▁Aber ▁der ▁Bruder ▁des ▁Opfer s ▁sagt , ▁er ▁könne ▁niemand en ▁denken , ▁der ▁ihn ▁verletz en ▁möchte , ▁und ▁sagt : ▁\" Es ▁ging ▁ihm ▁endlich ▁gut . \"\n",
      "\n",
      "Step 54 , loss score =  tensor([1.5815], grad_fn=<NegBackward>) max grad component = 0.0013183180708438158 lr =  1.1368683772161603e-11\n",
      "\t cscore =  tensor([1.5838], grad_fn=<NegBackward>)\n",
      "\tdscore =  tensor([0.5352])\n",
      "▁Aber ▁der ▁Bruder ▁des ▁Opfer s ▁sagt , ▁er ▁könne ▁niemand en ▁denken , ▁der ▁ihn ▁verletz en ▁möchte , ▁und ▁sagt : ▁\" Es ▁ging ▁ihm ▁endlich ▁gut . \"\n",
      "\n",
      "Step 55 , loss score =  tensor([1.5815], grad_fn=<NegBackward>) max grad component = 0.0013183180708438158 lr =  5.6843418860808015e-12\n",
      "\t cscore =  tensor([1.5838], grad_fn=<NegBackward>)\n",
      "\tdscore =  tensor([0.5352])\n",
      "▁Aber ▁der ▁Bruder ▁des ▁Opfer s ▁sagt , ▁er ▁könne ▁niemand en ▁denken , ▁der ▁ihn ▁verletz en ▁möchte , ▁und ▁sagt : ▁\" Es ▁ging ▁ihm ▁endlich ▁gut . \"\n",
      "\n",
      "Step 56 , loss score =  tensor([1.5815], grad_fn=<NegBackward>) max grad component = 0.0013183180708438158 lr =  2.8421709430404007e-12\n",
      "\t cscore =  tensor([1.5838], grad_fn=<NegBackward>)\n",
      "\tdscore =  tensor([0.5352])\n",
      "▁Aber ▁der ▁Bruder ▁des ▁Opfer s ▁sagt , ▁er ▁könne ▁niemand en ▁denken , ▁der ▁ihn ▁verletz en ▁möchte , ▁und ▁sagt : ▁\" Es ▁ging ▁ihm ▁endlich ▁gut . \"\n",
      "\n",
      "Step 57 , loss score =  tensor([1.5815], grad_fn=<NegBackward>) max grad component = 0.0013183180708438158 lr =  1.4210854715202004e-12\n",
      "\t cscore =  tensor([1.5838], grad_fn=<NegBackward>)\n",
      "\tdscore =  tensor([0.5352])\n",
      "▁Aber ▁der ▁Bruder ▁des ▁Opfer s ▁sagt , ▁er ▁könne ▁niemand en ▁denken , ▁der ▁ihn ▁verletz en ▁möchte , ▁und ▁sagt : ▁\" Es ▁ging ▁ihm ▁endlich ▁gut . \"\n",
      "\n",
      "Step 58 , loss score =  tensor([1.5815], grad_fn=<NegBackward>) max grad component = 0.0013183180708438158 lr =  7.105427357601002e-13\n",
      "\t cscore =  tensor([1.5838], grad_fn=<NegBackward>)\n",
      "\tdscore =  tensor([0.5352])\n",
      "▁Aber ▁der ▁Bruder ▁des ▁Opfer s ▁sagt , ▁er ▁könne ▁niemand en ▁denken , ▁der ▁ihn ▁verletz en ▁möchte , ▁und ▁sagt : ▁\" Es ▁ging ▁ihm ▁endlich ▁gut . \"\n",
      "\n",
      "Step 59 , loss score =  tensor([1.5815], grad_fn=<NegBackward>) max grad component = 0.0013183180708438158 lr =  3.552713678800501e-13\n",
      "\t cscore =  tensor([1.5838], grad_fn=<NegBackward>)\n",
      "\tdscore =  tensor([0.5352])\n",
      "▁Aber ▁der ▁Bruder ▁des ▁Opfer s ▁sagt , ▁er ▁könne ▁niemand en ▁denken , ▁der ▁ihn ▁verletz en ▁möchte , ▁und ▁sagt : ▁\" Es ▁ging ▁ihm ▁endlich ▁gut . \"\n",
      "\n",
      "Max(Y) =  tensor([0.6310, 0.8127, 0.9195, 0.8843, 0.9510, 0.8865, 0.4117, 0.8255, 0.8874,\n",
      "        0.9605, 0.9999, 0.9911, 0.5727, 0.9102, 0.9312, 0.9497, 0.6517, 0.9234,\n",
      "        0.2249, 0.8805, 0.9998, 0.4125, 0.7413, 0.7488, 0.8090, 0.7030, 0.8086,\n",
      "        0.2209, 0.9684, 0.8968, 0.5532], grad_fn=<MaxBackward0>)\n",
      "Final dscore tensor([18.7324])\n",
      "['▁Aber', '▁der', '▁Bruder', '▁des', '▁Opfer', 's', '▁sagt', ',', '▁er', '▁könne', '▁niemand', 'en', '▁denken', ',', '▁der', '▁ihn', '▁verletz', 'en', '▁möchte', ',', '▁und', '▁sagt', ':', '▁\"', 'Es', '▁ging', '▁ihm', '▁endlich', '▁gut', '.', '\"']\n"
     ]
    }
   ],
   "source": [
    "english_sentence = 'But the victim\\'s brother says he can\\'t think of anyone who would want to hurt him, saying, \"Things were finally going well for him.\"'\n",
    "english_tok = tokenizer.tokenize(english_sentence)\n",
    "greedy_optimizer = GreedyOptimizer(english_sentence)\n",
    "greedy_translation = greedy_optimizer.optimize()[:-1]\n",
    "greedy_init = scorer.score_probabilities_for_each_word(english_tok, greedy_translation)\n",
    "greedy_init = torch.tensor(greedy_init[:-1, :].T)\n",
    "\n",
    "optimizer = ContinuousOptimizer(english_sentence)\n",
    "print('Optimization starts...')\n",
    "res = optimizer.optimize(init=greedy_init, method='multiplication', verbose=True)\n",
    "print(res)"
   ]
  },
  {
   "cell_type": "code",
   "execution_count": 4,
   "metadata": {},
   "outputs": [
    {
     "name": "stdout",
     "output_type": "stream",
     "text": [
      "Greedy translation: ▁Aber ▁der ▁Bruder ▁des ▁Opfer s ▁sagt , ▁er ▁könne ▁niemand en ▁denken , ▁der ▁ihn ▁verletz en ▁würde , ▁und ▁sagt : ▁\" Es ▁ging ▁ihm ▁endlich ▁gut . \"\n",
      "Continuous translation: ▁Aber ▁der ▁Bruder ▁des ▁Opfer s ▁sagt , ▁er ▁könne ▁niemand en ▁denken , ▁der ▁ihn ▁verletz en ▁möchte , ▁und ▁sagt : ▁\" Es ▁ging ▁ihm ▁endlich ▁gut . \"\n",
      "Score of greedy translation =  tensor([0.5355])\n",
      "Score of continuous translation =  tensor([0.5352])\n"
     ]
    }
   ],
   "source": [
    "print('Greedy translation:', ' '.join(greedy_translation))\n",
    "print('Continuous translation:', ' '.join(res))\n",
    "print('Score of greedy translation = ' , -scorer.score_tokenized_texts([english_tok], [greedy_translation], method='multiplication', normalize=True))\n",
    "print('Score of continuous translation = ', -scorer.score_tokenized_texts([english_tok], [res], method='multiplication', normalize=True))"
   ]
  },
  {
   "cell_type": "code",
   "execution_count": 55,
   "metadata": {},
   "outputs": [
    {
     "name": "stdout",
     "output_type": "stream",
     "text": [
      "BLEU of greedy: 11.06\n",
      "BLEU of continuous: 9.67\n",
      "(measured by multi-bleu.perl script)\n"
     ]
    }
   ],
   "source": [
    "print('BLEU of greedy: 11.06')\n",
    "print('BLEU of continuous: 9.67')\n",
    "print('(measured by multi-bleu.perl script)')"
   ]
  },
  {
   "cell_type": "code",
   "execution_count": 60,
   "metadata": {},
   "outputs": [
    {
     "name": "stdout",
     "output_type": "stream",
     "text": [
      "Optimization starts...\n",
      "English sentence: But the victim's brother says he can't think of anyone who would want to hurt him, saying, \"Things were finally going well for him.\"\n",
      "Top 10 translations:\n",
      "1. ▁Aber ▁der ▁Bruder ▁des ▁Opfer s ▁sagt , ▁er ▁könne ▁nicht ▁an ▁jemand en ▁denken , ▁der ▁ihm ▁we h ▁tun ▁würde , ▁indem ▁er ▁sagt : ▁\" Es ▁ging ▁ihm ▁endlich ▁gut . \" [p = -20.19]\n",
      "2. ▁Aber ▁der ▁Bruder ▁des ▁Opfer s ▁sagt , ▁er ▁könne ▁nicht ▁an ▁jemand en ▁denken , ▁der ▁ihm ▁we h ▁tun ▁würde , ▁wenn ▁er ▁sagte : ▁\" Es ▁ging ▁ihm ▁endlich ▁gut . \" [p = -20.32]\n",
      "3. ▁Aber ▁der ▁Bruder ▁des ▁Opfer s ▁sagt , ▁er ▁könne ▁nicht ▁an ▁jemand en ▁denken , ▁der ▁ihm ▁we h ▁tun ▁würde , ▁wenn ▁er ▁sagt : ▁\" Es ▁ging ▁ihm ▁endlich ▁gut . \" [p = -20.34]\n",
      "4. ▁Aber ▁der ▁Bruder ▁des ▁Opfer s ▁sagt , ▁er ▁könne ▁nicht ▁an ▁jemand en ▁denken , ▁der ▁ihm ▁we h ▁tun ▁würde , ▁indem ▁er ▁sagt : ▁\" Es ▁geht ▁ihm ▁endlich ▁gut . \" [p = -20.59]\n",
      "5. ▁Aber ▁der ▁Bruder ▁des ▁Opfer s ▁sagt , ▁er ▁könne ▁nicht ▁an ▁jemand en ▁denken , ▁der ▁ihm ▁we h ▁tun ▁würde , ▁wenn ▁er ▁sagt : ▁\" Es ▁geht ▁ihm ▁endlich ▁gut . \" [p = -20.69]\n",
      "6. ▁Aber ▁der ▁Bruder ▁des ▁Opfer s ▁sagt , ▁er ▁könne ▁nicht ▁an ▁jemand en ▁denken , ▁der ▁ihm ▁we h ▁tun ▁würde , ▁indem ▁er ▁sagt : ▁\" Es ▁ging ▁ihm ▁endlich ▁gut . ▁\" [p = -20.75]\n",
      "7. ▁Aber ▁der ▁Bruder ▁des ▁Opfer s ▁sagt , ▁er ▁könne ▁nicht ▁an ▁jemand en ▁denken , ▁der ▁ihm ▁we h ▁tun ▁würde , ▁wenn ▁er ▁sagte : ▁\" Es ▁geht ▁ihm ▁endlich ▁gut . \" [p = -20.85]\n",
      "8. ▁Aber ▁der ▁Bruder ▁des ▁Opfer s ▁sagt , ▁er ▁könne ▁nicht ▁an ▁jemand en ▁denken , ▁der ▁ihm ▁we h ▁tun ▁würde , ▁wenn ▁er ▁sagt : ▁\" Es ▁ging ▁ihm ▁endlich ▁gut . ▁\" [p = -20.88]\n",
      "9. ▁Aber ▁der ▁Bruder ▁des ▁Opfer s ▁sagt , ▁er ▁könne ▁nicht ▁an ▁jemand en ▁denken , ▁der ▁ihm ▁we h ▁tun ▁würde , ▁wenn ▁er ▁sagte : ▁\" Es ▁ging ▁ihm ▁endlich ▁gut . ▁\" [p = -20.89]\n",
      "10. ▁Aber ▁der ▁Bruder ▁des ▁Opfer s ▁sagt , ▁er ▁könne ▁nicht ▁an ▁jemand en ▁denken , ▁der ▁ihm ▁we h ▁tun ▁würde , ▁wenn ▁er ▁sagte : ▁\" Die ▁Dinge ▁würden ▁ihm ▁endlich ▁gut ▁gehen . \" [p = -21.83]\n",
      "Sanity check: log likehood of the best translation = -0.58\n"
     ]
    }
   ],
   "source": [
    "n_beams = 10\n",
    "optimizer = BeamOptimizer(english_sentence, n_beams=n_beams)\n",
    "print('Optimization starts...')\n",
    "translations, probabilities = optimizer.optimize()\n",
    "print('English sentence:', english_sentence)\n",
    "print('Top', n_beams, 'translations:')\n",
    "for i, translation in enumerate(translations):\n",
    "    print(f\"{i+1}. {' '.join(translation[:-1])} [p = {probabilities[i]:.2f}]\")\n",
    "\n",
    "score = scorer.score_tokenized_texts([english_tok], [translations[0][:-1]])[0]\n",
    "print(f'Sanity check: score of the best translation = {score:.2f}')"
   ]
  },
  {
   "cell_type": "code",
   "execution_count": 61,
   "metadata": {},
   "outputs": [
    {
     "name": "stdout",
     "output_type": "stream",
     "text": [
      "BLEU of beam: 12.98\n"
     ]
    }
   ],
   "source": [
    "print('BLEU of beam: 12.98')"
   ]
  },
  {
   "cell_type": "code",
   "execution_count": null,
   "metadata": {},
   "outputs": [],
   "source": [
    "english_sentence = 'But the victim\\'s brother says he can\\'t think of anyone who would want to hurt him, saying, \"Things were finally going well for him.\"'\n",
    "english_tok = tokenizer.tokenize(english_sentence)\n",
    "greedy_optimizer = GreedyOptimizer(english_sentence)\n",
    "greedy_translation = greedy_optimizer.optimize()[:-1]\n",
    "greedy_init = scorer.score_probabilities_for_each_word(english_tok, greedy_translation)\n",
    "greedy_init = torch.tensor(greedy_init[:-1, :].T)\n",
    "\n",
    "optimizer = ContinuousOptimizer(english_sentence)\n",
    "print('Optimization starts...')\n",
    "res = optimizer.optimize(init=greedy_init, method='cross_entropy', verbose=True)\n",
    "print(res)"
   ]
  },
  {
   "cell_type": "markdown",
   "metadata": {},
   "source": [
    "### Continuous with cross entropy"
   ]
  },
  {
   "cell_type": "code",
   "execution_count": 3,
   "metadata": {
    "scrolled": false
   },
   "outputs": [
    {
     "ename": "KeyboardInterrupt",
     "evalue": "",
     "output_type": "error",
     "traceback": [
      "\u001b[0;31m---------------------------------------------------------------------------\u001b[0m",
      "\u001b[0;31mKeyboardInterrupt\u001b[0m                         Traceback (most recent call last)",
      "\u001b[0;32m<ipython-input-3-b42835e0769a>\u001b[0m in \u001b[0;36m<module>\u001b[0;34m()\u001b[0m\n\u001b[1;32m      2\u001b[0m \u001b[0menglish_tok\u001b[0m \u001b[0;34m=\u001b[0m \u001b[0mtokenizer\u001b[0m\u001b[0;34m.\u001b[0m\u001b[0mtokenize\u001b[0m\u001b[0;34m(\u001b[0m\u001b[0menglish_sentence\u001b[0m\u001b[0;34m)\u001b[0m\u001b[0;34m\u001b[0m\u001b[0m\n\u001b[1;32m      3\u001b[0m \u001b[0mgreedy_optimizer\u001b[0m \u001b[0;34m=\u001b[0m \u001b[0mGreedyOptimizer\u001b[0m\u001b[0;34m(\u001b[0m\u001b[0menglish_sentence\u001b[0m\u001b[0;34m)\u001b[0m\u001b[0;34m\u001b[0m\u001b[0m\n\u001b[0;32m----> 4\u001b[0;31m \u001b[0mgreedy_translation\u001b[0m \u001b[0;34m=\u001b[0m \u001b[0mgreedy_optimizer\u001b[0m\u001b[0;34m.\u001b[0m\u001b[0moptimize\u001b[0m\u001b[0;34m(\u001b[0m\u001b[0;34m)\u001b[0m\u001b[0;34m[\u001b[0m\u001b[0;34m:\u001b[0m\u001b[0;34m-\u001b[0m\u001b[0;36m1\u001b[0m\u001b[0;34m]\u001b[0m\u001b[0;34m\u001b[0m\u001b[0m\n\u001b[0m\u001b[1;32m      5\u001b[0m \u001b[0mgreedy_init\u001b[0m \u001b[0;34m=\u001b[0m \u001b[0mscorer\u001b[0m\u001b[0;34m.\u001b[0m\u001b[0mscore_probabilities_for_each_word\u001b[0m\u001b[0;34m(\u001b[0m\u001b[0menglish_tok\u001b[0m\u001b[0;34m,\u001b[0m \u001b[0mgreedy_translation\u001b[0m\u001b[0;34m)\u001b[0m\u001b[0;34m\u001b[0m\u001b[0m\n\u001b[1;32m      6\u001b[0m \u001b[0mgreedy_init\u001b[0m \u001b[0;34m=\u001b[0m \u001b[0mtorch\u001b[0m\u001b[0;34m.\u001b[0m\u001b[0mtensor\u001b[0m\u001b[0;34m(\u001b[0m\u001b[0mgreedy_init\u001b[0m\u001b[0;34m[\u001b[0m\u001b[0;34m:\u001b[0m\u001b[0;34m-\u001b[0m\u001b[0;36m1\u001b[0m\u001b[0;34m,\u001b[0m \u001b[0;34m:\u001b[0m\u001b[0;34m]\u001b[0m\u001b[0;34m.\u001b[0m\u001b[0mT\u001b[0m\u001b[0;34m)\u001b[0m\u001b[0;34m\u001b[0m\u001b[0m\n",
      "\u001b[0;32m~/Dropbox/Documents/Studia/Semestr_7/Praca_Inzynierska/OpenNMT-py/research/greedy_optimizer.py\u001b[0m in \u001b[0;36moptimize\u001b[0;34m(self)\u001b[0m\n\u001b[1;32m     11\u001b[0m         \u001b[0mstate\u001b[0m \u001b[0;34m=\u001b[0m \u001b[0;34m[\u001b[0m\u001b[0;34m]\u001b[0m\u001b[0;34m\u001b[0m\u001b[0m\n\u001b[1;32m     12\u001b[0m         \u001b[0;32mfor\u001b[0m \u001b[0m_\u001b[0m \u001b[0;32min\u001b[0m \u001b[0mrange\u001b[0m\u001b[0;34m(\u001b[0m\u001b[0mself\u001b[0m\u001b[0;34m.\u001b[0m\u001b[0mmax_steps\u001b[0m\u001b[0;34m)\u001b[0m\u001b[0;34m:\u001b[0m\u001b[0;34m\u001b[0m\u001b[0m\n\u001b[0;32m---> 13\u001b[0;31m             \u001b[0mnext_state_probs\u001b[0m \u001b[0;34m=\u001b[0m \u001b[0mself\u001b[0m\u001b[0;34m.\u001b[0m\u001b[0mscorer\u001b[0m\u001b[0;34m.\u001b[0m\u001b[0mnext_word_probabilities\u001b[0m\u001b[0;34m(\u001b[0m\u001b[0;34m[\u001b[0m\u001b[0mself\u001b[0m\u001b[0;34m.\u001b[0m\u001b[0menglish_tok_seq\u001b[0m\u001b[0;34m]\u001b[0m\u001b[0;34m,\u001b[0m \u001b[0;34m[\u001b[0m\u001b[0mstate\u001b[0m\u001b[0;34m]\u001b[0m\u001b[0;34m)\u001b[0m\u001b[0;34m[\u001b[0m\u001b[0;36m0\u001b[0m\u001b[0;34m]\u001b[0m\u001b[0;34m\u001b[0m\u001b[0m\n\u001b[0m\u001b[1;32m     14\u001b[0m             \u001b[0m_\u001b[0m\u001b[0;34m,\u001b[0m \u001b[0midx\u001b[0m \u001b[0;34m=\u001b[0m \u001b[0mnext_state_probs\u001b[0m\u001b[0;34m.\u001b[0m\u001b[0mtopk\u001b[0m\u001b[0;34m(\u001b[0m\u001b[0;36m1\u001b[0m\u001b[0;34m)\u001b[0m\u001b[0;34m\u001b[0m\u001b[0m\n\u001b[1;32m     15\u001b[0m             \u001b[0mnext_word\u001b[0m \u001b[0;34m=\u001b[0m \u001b[0mself\u001b[0m\u001b[0;34m.\u001b[0m\u001b[0mvocab\u001b[0m\u001b[0;34m.\u001b[0m\u001b[0mitos\u001b[0m\u001b[0;34m[\u001b[0m\u001b[0midx\u001b[0m\u001b[0;34m.\u001b[0m\u001b[0mview\u001b[0m\u001b[0;34m(\u001b[0m\u001b[0;34m-\u001b[0m\u001b[0;36m1\u001b[0m\u001b[0;34m)\u001b[0m\u001b[0;34m]\u001b[0m\u001b[0;34m\u001b[0m\u001b[0m\n",
      "\u001b[0;32m~/Dropbox/Documents/Studia/Semestr_7/Praca_Inzynierska/OpenNMT-py/research/scorer.py\u001b[0m in \u001b[0;36mnext_word_probabilities\u001b[0;34m(self, english_tok_seq_gen, german_tok_seq_gen, relaxed)\u001b[0m\n\u001b[1;32m     41\u001b[0m             \u001b[0msrc_data_iter\u001b[0m\u001b[0;34m=\u001b[0m\u001b[0;34m[\u001b[0m\u001b[0;34m' '\u001b[0m\u001b[0;34m.\u001b[0m\u001b[0mjoin\u001b[0m\u001b[0;34m(\u001b[0m\u001b[0menglish_tok_seq\u001b[0m\u001b[0;34m)\u001b[0m \u001b[0;32mfor\u001b[0m \u001b[0menglish_tok_seq\u001b[0m \u001b[0;32min\u001b[0m \u001b[0menglish_tok_seq_gen\u001b[0m\u001b[0;34m]\u001b[0m\u001b[0;34m,\u001b[0m\u001b[0;34m\u001b[0m\u001b[0m\n\u001b[1;32m     42\u001b[0m             \u001b[0mtgt_data_iter\u001b[0m\u001b[0;34m=\u001b[0m\u001b[0mtgt_data\u001b[0m\u001b[0;34m,\u001b[0m\u001b[0;34m\u001b[0m\u001b[0m\n\u001b[0;32m---> 43\u001b[0;31m             batch_size=consts.OPT.batch_size,relaxed=relaxed)\n\u001b[0m\u001b[1;32m     44\u001b[0m \u001b[0;34m\u001b[0m\u001b[0m\n\u001b[1;32m     45\u001b[0m     \u001b[0;32mdef\u001b[0m \u001b[0mscore_probabilities_for_each_word\u001b[0m\u001b[0;34m(\u001b[0m\u001b[0mself\u001b[0m\u001b[0;34m,\u001b[0m \u001b[0menglish_tok_seq\u001b[0m\u001b[0;34m,\u001b[0m \u001b[0mgerman_tok_seq\u001b[0m\u001b[0;34m)\u001b[0m\u001b[0;34m:\u001b[0m\u001b[0;34m\u001b[0m\u001b[0m\n",
      "\u001b[0;32m~/Dropbox/Documents/Studia/Semestr_7/Praca_Inzynierska/OpenNMT-py/onmt/translate/translator.py\u001b[0m in \u001b[0;36mnext_word_probabilities\u001b[0;34m(self, src_path, src_data_iter, tgt_path, tgt_data_iter, src_dir, batch_size, relaxed)\u001b[0m\n\u001b[1;32m    270\u001b[0m             sort_within_batch=True, shuffle=False)\n\u001b[1;32m    271\u001b[0m \u001b[0;34m\u001b[0m\u001b[0m\n\u001b[0;32m--> 272\u001b[0;31m         \u001b[0;32mreturn\u001b[0m \u001b[0mtorch\u001b[0m\u001b[0;34m.\u001b[0m\u001b[0mcat\u001b[0m\u001b[0;34m(\u001b[0m\u001b[0;34m[\u001b[0m\u001b[0mself\u001b[0m\u001b[0;34m.\u001b[0m\u001b[0m_run_next_word_probabilities\u001b[0m\u001b[0;34m(\u001b[0m\u001b[0mbatch\u001b[0m\u001b[0;34m,\u001b[0m \u001b[0mdata\u001b[0m\u001b[0;34m,\u001b[0m \u001b[0mrelaxed\u001b[0m\u001b[0;34m)\u001b[0m \u001b[0;32mfor\u001b[0m \u001b[0mbatch\u001b[0m \u001b[0;32min\u001b[0m \u001b[0mdata_iter\u001b[0m\u001b[0;34m]\u001b[0m\u001b[0;34m,\u001b[0m \u001b[0;36m0\u001b[0m\u001b[0;34m)\u001b[0m\u001b[0;34m\u001b[0m\u001b[0m\n\u001b[0m\u001b[1;32m    273\u001b[0m \u001b[0;34m\u001b[0m\u001b[0m\n\u001b[1;32m    274\u001b[0m     def translate(self,\n",
      "\u001b[0;32m~/Dropbox/Documents/Studia/Semestr_7/Praca_Inzynierska/OpenNMT-py/onmt/translate/translator.py\u001b[0m in \u001b[0;36m<listcomp>\u001b[0;34m(.0)\u001b[0m\n\u001b[1;32m    270\u001b[0m             sort_within_batch=True, shuffle=False)\n\u001b[1;32m    271\u001b[0m \u001b[0;34m\u001b[0m\u001b[0m\n\u001b[0;32m--> 272\u001b[0;31m         \u001b[0;32mreturn\u001b[0m \u001b[0mtorch\u001b[0m\u001b[0;34m.\u001b[0m\u001b[0mcat\u001b[0m\u001b[0;34m(\u001b[0m\u001b[0;34m[\u001b[0m\u001b[0mself\u001b[0m\u001b[0;34m.\u001b[0m\u001b[0m_run_next_word_probabilities\u001b[0m\u001b[0;34m(\u001b[0m\u001b[0mbatch\u001b[0m\u001b[0;34m,\u001b[0m \u001b[0mdata\u001b[0m\u001b[0;34m,\u001b[0m \u001b[0mrelaxed\u001b[0m\u001b[0;34m)\u001b[0m \u001b[0;32mfor\u001b[0m \u001b[0mbatch\u001b[0m \u001b[0;32min\u001b[0m \u001b[0mdata_iter\u001b[0m\u001b[0;34m]\u001b[0m\u001b[0;34m,\u001b[0m \u001b[0;36m0\u001b[0m\u001b[0;34m)\u001b[0m\u001b[0;34m\u001b[0m\u001b[0m\n\u001b[0m\u001b[1;32m    273\u001b[0m \u001b[0;34m\u001b[0m\u001b[0m\n\u001b[1;32m    274\u001b[0m     def translate(self,\n",
      "\u001b[0;32m~/Dropbox/Documents/Studia/Semestr_7/Praca_Inzynierska/OpenNMT-py/onmt/translate/translator.py\u001b[0m in \u001b[0;36m_run_next_word_probabilities\u001b[0;34m(self, batch, data, relaxed)\u001b[0m\n\u001b[1;32m    796\u001b[0m         \u001b[0;31m#  (1) run the encoder on the src\u001b[0m\u001b[0;34m\u001b[0m\u001b[0;34m\u001b[0m\u001b[0m\n\u001b[1;32m    797\u001b[0m         \u001b[0menc_states\u001b[0m\u001b[0;34m,\u001b[0m \u001b[0mmemory_bank\u001b[0m\u001b[0;34m,\u001b[0m \u001b[0msrc_lengths\u001b[0m\u001b[0;31m \u001b[0m\u001b[0;31m\\\u001b[0m\u001b[0;34m\u001b[0m\u001b[0m\n\u001b[0;32m--> 798\u001b[0;31m             \u001b[0;34m=\u001b[0m \u001b[0mself\u001b[0m\u001b[0;34m.\u001b[0m\u001b[0mmodel\u001b[0m\u001b[0;34m.\u001b[0m\u001b[0mencoder\u001b[0m\u001b[0;34m(\u001b[0m\u001b[0msrc\u001b[0m\u001b[0;34m,\u001b[0m \u001b[0msrc_lengths\u001b[0m\u001b[0;34m)\u001b[0m\u001b[0;34m\u001b[0m\u001b[0m\n\u001b[0m\u001b[1;32m    799\u001b[0m         \u001b[0mdec_states\u001b[0m \u001b[0;34m=\u001b[0m\u001b[0;31m \u001b[0m\u001b[0;31m\\\u001b[0m\u001b[0;34m\u001b[0m\u001b[0m\n\u001b[1;32m    800\u001b[0m             \u001b[0mself\u001b[0m\u001b[0;34m.\u001b[0m\u001b[0mmodel\u001b[0m\u001b[0;34m.\u001b[0m\u001b[0mdecoder\u001b[0m\u001b[0;34m.\u001b[0m\u001b[0minit_decoder_state\u001b[0m\u001b[0;34m(\u001b[0m\u001b[0msrc\u001b[0m\u001b[0;34m,\u001b[0m \u001b[0mmemory_bank\u001b[0m\u001b[0;34m,\u001b[0m \u001b[0menc_states\u001b[0m\u001b[0;34m)\u001b[0m\u001b[0;34m\u001b[0m\u001b[0m\n",
      "\u001b[0;32m~/anaconda3/lib/python3.6/site-packages/torch/nn/modules/module.py\u001b[0m in \u001b[0;36m__call__\u001b[0;34m(self, *input, **kwargs)\u001b[0m\n\u001b[1;32m    475\u001b[0m             \u001b[0mresult\u001b[0m \u001b[0;34m=\u001b[0m \u001b[0mself\u001b[0m\u001b[0;34m.\u001b[0m\u001b[0m_slow_forward\u001b[0m\u001b[0;34m(\u001b[0m\u001b[0;34m*\u001b[0m\u001b[0minput\u001b[0m\u001b[0;34m,\u001b[0m \u001b[0;34m**\u001b[0m\u001b[0mkwargs\u001b[0m\u001b[0;34m)\u001b[0m\u001b[0;34m\u001b[0m\u001b[0m\n\u001b[1;32m    476\u001b[0m         \u001b[0;32melse\u001b[0m\u001b[0;34m:\u001b[0m\u001b[0;34m\u001b[0m\u001b[0m\n\u001b[0;32m--> 477\u001b[0;31m             \u001b[0mresult\u001b[0m \u001b[0;34m=\u001b[0m \u001b[0mself\u001b[0m\u001b[0;34m.\u001b[0m\u001b[0mforward\u001b[0m\u001b[0;34m(\u001b[0m\u001b[0;34m*\u001b[0m\u001b[0minput\u001b[0m\u001b[0;34m,\u001b[0m \u001b[0;34m**\u001b[0m\u001b[0mkwargs\u001b[0m\u001b[0;34m)\u001b[0m\u001b[0;34m\u001b[0m\u001b[0m\n\u001b[0m\u001b[1;32m    478\u001b[0m         \u001b[0;32mfor\u001b[0m \u001b[0mhook\u001b[0m \u001b[0;32min\u001b[0m \u001b[0mself\u001b[0m\u001b[0;34m.\u001b[0m\u001b[0m_forward_hooks\u001b[0m\u001b[0;34m.\u001b[0m\u001b[0mvalues\u001b[0m\u001b[0;34m(\u001b[0m\u001b[0;34m)\u001b[0m\u001b[0;34m:\u001b[0m\u001b[0;34m\u001b[0m\u001b[0m\n\u001b[1;32m    479\u001b[0m             \u001b[0mhook_result\u001b[0m \u001b[0;34m=\u001b[0m \u001b[0mhook\u001b[0m\u001b[0;34m(\u001b[0m\u001b[0mself\u001b[0m\u001b[0;34m,\u001b[0m \u001b[0minput\u001b[0m\u001b[0;34m,\u001b[0m \u001b[0mresult\u001b[0m\u001b[0;34m)\u001b[0m\u001b[0;34m\u001b[0m\u001b[0m\n",
      "\u001b[0;32m~/Dropbox/Documents/Studia/Semestr_7/Praca_Inzynierska/OpenNMT-py/onmt/encoders/transformer.py\u001b[0m in \u001b[0;36mforward\u001b[0;34m(self, src, lengths)\u001b[0m\n\u001b[1;32m    111\u001b[0m         \u001b[0;31m# Run the forward pass of every layer of the tranformer.\u001b[0m\u001b[0;34m\u001b[0m\u001b[0;34m\u001b[0m\u001b[0m\n\u001b[1;32m    112\u001b[0m         \u001b[0;32mfor\u001b[0m \u001b[0mi\u001b[0m \u001b[0;32min\u001b[0m \u001b[0mrange\u001b[0m\u001b[0;34m(\u001b[0m\u001b[0mself\u001b[0m\u001b[0;34m.\u001b[0m\u001b[0mnum_layers\u001b[0m\u001b[0;34m)\u001b[0m\u001b[0;34m:\u001b[0m\u001b[0;34m\u001b[0m\u001b[0m\n\u001b[0;32m--> 113\u001b[0;31m             \u001b[0mout\u001b[0m \u001b[0;34m=\u001b[0m \u001b[0mself\u001b[0m\u001b[0;34m.\u001b[0m\u001b[0mtransformer\u001b[0m\u001b[0;34m[\u001b[0m\u001b[0mi\u001b[0m\u001b[0;34m]\u001b[0m\u001b[0;34m(\u001b[0m\u001b[0mout\u001b[0m\u001b[0;34m,\u001b[0m \u001b[0mmask\u001b[0m\u001b[0;34m)\u001b[0m\u001b[0;34m\u001b[0m\u001b[0m\n\u001b[0m\u001b[1;32m    114\u001b[0m         \u001b[0mout\u001b[0m \u001b[0;34m=\u001b[0m \u001b[0mself\u001b[0m\u001b[0;34m.\u001b[0m\u001b[0mlayer_norm\u001b[0m\u001b[0;34m(\u001b[0m\u001b[0mout\u001b[0m\u001b[0;34m)\u001b[0m\u001b[0;34m\u001b[0m\u001b[0m\n\u001b[1;32m    115\u001b[0m \u001b[0;34m\u001b[0m\u001b[0m\n",
      "\u001b[0;32m~/anaconda3/lib/python3.6/site-packages/torch/nn/modules/module.py\u001b[0m in \u001b[0;36m__call__\u001b[0;34m(self, *input, **kwargs)\u001b[0m\n\u001b[1;32m    475\u001b[0m             \u001b[0mresult\u001b[0m \u001b[0;34m=\u001b[0m \u001b[0mself\u001b[0m\u001b[0;34m.\u001b[0m\u001b[0m_slow_forward\u001b[0m\u001b[0;34m(\u001b[0m\u001b[0;34m*\u001b[0m\u001b[0minput\u001b[0m\u001b[0;34m,\u001b[0m \u001b[0;34m**\u001b[0m\u001b[0mkwargs\u001b[0m\u001b[0;34m)\u001b[0m\u001b[0;34m\u001b[0m\u001b[0m\n\u001b[1;32m    476\u001b[0m         \u001b[0;32melse\u001b[0m\u001b[0;34m:\u001b[0m\u001b[0;34m\u001b[0m\u001b[0m\n\u001b[0;32m--> 477\u001b[0;31m             \u001b[0mresult\u001b[0m \u001b[0;34m=\u001b[0m \u001b[0mself\u001b[0m\u001b[0;34m.\u001b[0m\u001b[0mforward\u001b[0m\u001b[0;34m(\u001b[0m\u001b[0;34m*\u001b[0m\u001b[0minput\u001b[0m\u001b[0;34m,\u001b[0m \u001b[0;34m**\u001b[0m\u001b[0mkwargs\u001b[0m\u001b[0;34m)\u001b[0m\u001b[0;34m\u001b[0m\u001b[0m\n\u001b[0m\u001b[1;32m    478\u001b[0m         \u001b[0;32mfor\u001b[0m \u001b[0mhook\u001b[0m \u001b[0;32min\u001b[0m \u001b[0mself\u001b[0m\u001b[0;34m.\u001b[0m\u001b[0m_forward_hooks\u001b[0m\u001b[0;34m.\u001b[0m\u001b[0mvalues\u001b[0m\u001b[0;34m(\u001b[0m\u001b[0;34m)\u001b[0m\u001b[0;34m:\u001b[0m\u001b[0;34m\u001b[0m\u001b[0m\n\u001b[1;32m    479\u001b[0m             \u001b[0mhook_result\u001b[0m \u001b[0;34m=\u001b[0m \u001b[0mhook\u001b[0m\u001b[0;34m(\u001b[0m\u001b[0mself\u001b[0m\u001b[0;34m,\u001b[0m \u001b[0minput\u001b[0m\u001b[0;34m,\u001b[0m \u001b[0mresult\u001b[0m\u001b[0;34m)\u001b[0m\u001b[0;34m\u001b[0m\u001b[0m\n",
      "\u001b[0;32m~/Dropbox/Documents/Studia/Semestr_7/Praca_Inzynierska/OpenNMT-py/onmt/encoders/transformer.py\u001b[0m in \u001b[0;36mforward\u001b[0;34m(self, inputs, mask)\u001b[0m\n\u001b[1;32m     50\u001b[0m                                     mask=mask)\n\u001b[1;32m     51\u001b[0m         \u001b[0mout\u001b[0m \u001b[0;34m=\u001b[0m \u001b[0mself\u001b[0m\u001b[0;34m.\u001b[0m\u001b[0mdropout\u001b[0m\u001b[0;34m(\u001b[0m\u001b[0mcontext\u001b[0m\u001b[0;34m)\u001b[0m \u001b[0;34m+\u001b[0m \u001b[0minputs\u001b[0m\u001b[0;34m\u001b[0m\u001b[0m\n\u001b[0;32m---> 52\u001b[0;31m         \u001b[0;32mreturn\u001b[0m \u001b[0mself\u001b[0m\u001b[0;34m.\u001b[0m\u001b[0mfeed_forward\u001b[0m\u001b[0;34m(\u001b[0m\u001b[0mout\u001b[0m\u001b[0;34m)\u001b[0m\u001b[0;34m\u001b[0m\u001b[0m\n\u001b[0m\u001b[1;32m     53\u001b[0m \u001b[0;34m\u001b[0m\u001b[0m\n\u001b[1;32m     54\u001b[0m \u001b[0;34m\u001b[0m\u001b[0m\n",
      "\u001b[0;32m~/anaconda3/lib/python3.6/site-packages/torch/nn/modules/module.py\u001b[0m in \u001b[0;36m__call__\u001b[0;34m(self, *input, **kwargs)\u001b[0m\n\u001b[1;32m    475\u001b[0m             \u001b[0mresult\u001b[0m \u001b[0;34m=\u001b[0m \u001b[0mself\u001b[0m\u001b[0;34m.\u001b[0m\u001b[0m_slow_forward\u001b[0m\u001b[0;34m(\u001b[0m\u001b[0;34m*\u001b[0m\u001b[0minput\u001b[0m\u001b[0;34m,\u001b[0m \u001b[0;34m**\u001b[0m\u001b[0mkwargs\u001b[0m\u001b[0;34m)\u001b[0m\u001b[0;34m\u001b[0m\u001b[0m\n\u001b[1;32m    476\u001b[0m         \u001b[0;32melse\u001b[0m\u001b[0;34m:\u001b[0m\u001b[0;34m\u001b[0m\u001b[0m\n\u001b[0;32m--> 477\u001b[0;31m             \u001b[0mresult\u001b[0m \u001b[0;34m=\u001b[0m \u001b[0mself\u001b[0m\u001b[0;34m.\u001b[0m\u001b[0mforward\u001b[0m\u001b[0;34m(\u001b[0m\u001b[0;34m*\u001b[0m\u001b[0minput\u001b[0m\u001b[0;34m,\u001b[0m \u001b[0;34m**\u001b[0m\u001b[0mkwargs\u001b[0m\u001b[0;34m)\u001b[0m\u001b[0;34m\u001b[0m\u001b[0m\n\u001b[0m\u001b[1;32m    478\u001b[0m         \u001b[0;32mfor\u001b[0m \u001b[0mhook\u001b[0m \u001b[0;32min\u001b[0m \u001b[0mself\u001b[0m\u001b[0;34m.\u001b[0m\u001b[0m_forward_hooks\u001b[0m\u001b[0;34m.\u001b[0m\u001b[0mvalues\u001b[0m\u001b[0;34m(\u001b[0m\u001b[0;34m)\u001b[0m\u001b[0;34m:\u001b[0m\u001b[0;34m\u001b[0m\u001b[0m\n\u001b[1;32m    479\u001b[0m             \u001b[0mhook_result\u001b[0m \u001b[0;34m=\u001b[0m \u001b[0mhook\u001b[0m\u001b[0;34m(\u001b[0m\u001b[0mself\u001b[0m\u001b[0;34m,\u001b[0m \u001b[0minput\u001b[0m\u001b[0;34m,\u001b[0m \u001b[0mresult\u001b[0m\u001b[0;34m)\u001b[0m\u001b[0;34m\u001b[0m\u001b[0m\n",
      "\u001b[0;32m~/Dropbox/Documents/Studia/Semestr_7/Praca_Inzynierska/OpenNMT-py/onmt/modules/position_ffn.py\u001b[0m in \u001b[0;36mforward\u001b[0;34m(self, x)\u001b[0m\n\u001b[1;32m     38\u001b[0m             \u001b[0moutput\u001b[0m\u001b[0;34m:\u001b[0m \u001b[0;34m[\u001b[0m \u001b[0mbatch_size\u001b[0m\u001b[0;34m,\u001b[0m \u001b[0minput_len\u001b[0m\u001b[0;34m,\u001b[0m \u001b[0mmodel_dim\u001b[0m \u001b[0;34m]\u001b[0m\u001b[0;34m\u001b[0m\u001b[0m\n\u001b[1;32m     39\u001b[0m         \"\"\"\n\u001b[0;32m---> 40\u001b[0;31m         \u001b[0minter\u001b[0m \u001b[0;34m=\u001b[0m \u001b[0mself\u001b[0m\u001b[0;34m.\u001b[0m\u001b[0mdropout_1\u001b[0m\u001b[0;34m(\u001b[0m\u001b[0mself\u001b[0m\u001b[0;34m.\u001b[0m\u001b[0mrelu\u001b[0m\u001b[0;34m(\u001b[0m\u001b[0mself\u001b[0m\u001b[0;34m.\u001b[0m\u001b[0mw_1\u001b[0m\u001b[0;34m(\u001b[0m\u001b[0mself\u001b[0m\u001b[0;34m.\u001b[0m\u001b[0mlayer_norm\u001b[0m\u001b[0;34m(\u001b[0m\u001b[0mx\u001b[0m\u001b[0;34m)\u001b[0m\u001b[0;34m)\u001b[0m\u001b[0;34m)\u001b[0m\u001b[0;34m)\u001b[0m\u001b[0;34m\u001b[0m\u001b[0m\n\u001b[0m\u001b[1;32m     41\u001b[0m         \u001b[0moutput\u001b[0m \u001b[0;34m=\u001b[0m \u001b[0mself\u001b[0m\u001b[0;34m.\u001b[0m\u001b[0mdropout_2\u001b[0m\u001b[0;34m(\u001b[0m\u001b[0mself\u001b[0m\u001b[0;34m.\u001b[0m\u001b[0mw_2\u001b[0m\u001b[0;34m(\u001b[0m\u001b[0minter\u001b[0m\u001b[0;34m)\u001b[0m\u001b[0;34m)\u001b[0m\u001b[0;34m\u001b[0m\u001b[0m\n\u001b[1;32m     42\u001b[0m         \u001b[0;32mreturn\u001b[0m \u001b[0moutput\u001b[0m \u001b[0;34m+\u001b[0m \u001b[0mx\u001b[0m\u001b[0;34m\u001b[0m\u001b[0m\n",
      "\u001b[0;32m~/anaconda3/lib/python3.6/site-packages/torch/nn/modules/module.py\u001b[0m in \u001b[0;36m__call__\u001b[0;34m(self, *input, **kwargs)\u001b[0m\n\u001b[1;32m    475\u001b[0m             \u001b[0mresult\u001b[0m \u001b[0;34m=\u001b[0m \u001b[0mself\u001b[0m\u001b[0;34m.\u001b[0m\u001b[0m_slow_forward\u001b[0m\u001b[0;34m(\u001b[0m\u001b[0;34m*\u001b[0m\u001b[0minput\u001b[0m\u001b[0;34m,\u001b[0m \u001b[0;34m**\u001b[0m\u001b[0mkwargs\u001b[0m\u001b[0;34m)\u001b[0m\u001b[0;34m\u001b[0m\u001b[0m\n\u001b[1;32m    476\u001b[0m         \u001b[0;32melse\u001b[0m\u001b[0;34m:\u001b[0m\u001b[0;34m\u001b[0m\u001b[0m\n\u001b[0;32m--> 477\u001b[0;31m             \u001b[0mresult\u001b[0m \u001b[0;34m=\u001b[0m \u001b[0mself\u001b[0m\u001b[0;34m.\u001b[0m\u001b[0mforward\u001b[0m\u001b[0;34m(\u001b[0m\u001b[0;34m*\u001b[0m\u001b[0minput\u001b[0m\u001b[0;34m,\u001b[0m \u001b[0;34m**\u001b[0m\u001b[0mkwargs\u001b[0m\u001b[0;34m)\u001b[0m\u001b[0;34m\u001b[0m\u001b[0m\n\u001b[0m\u001b[1;32m    478\u001b[0m         \u001b[0;32mfor\u001b[0m \u001b[0mhook\u001b[0m \u001b[0;32min\u001b[0m \u001b[0mself\u001b[0m\u001b[0;34m.\u001b[0m\u001b[0m_forward_hooks\u001b[0m\u001b[0;34m.\u001b[0m\u001b[0mvalues\u001b[0m\u001b[0;34m(\u001b[0m\u001b[0;34m)\u001b[0m\u001b[0;34m:\u001b[0m\u001b[0;34m\u001b[0m\u001b[0m\n\u001b[1;32m    479\u001b[0m             \u001b[0mhook_result\u001b[0m \u001b[0;34m=\u001b[0m \u001b[0mhook\u001b[0m\u001b[0;34m(\u001b[0m\u001b[0mself\u001b[0m\u001b[0;34m,\u001b[0m \u001b[0minput\u001b[0m\u001b[0;34m,\u001b[0m \u001b[0mresult\u001b[0m\u001b[0;34m)\u001b[0m\u001b[0;34m\u001b[0m\u001b[0m\n",
      "\u001b[0;32m~/anaconda3/lib/python3.6/site-packages/torch/nn/modules/linear.py\u001b[0m in \u001b[0;36mforward\u001b[0;34m(self, input)\u001b[0m\n\u001b[1;32m     53\u001b[0m \u001b[0;34m\u001b[0m\u001b[0m\n\u001b[1;32m     54\u001b[0m     \u001b[0;32mdef\u001b[0m \u001b[0mforward\u001b[0m\u001b[0;34m(\u001b[0m\u001b[0mself\u001b[0m\u001b[0;34m,\u001b[0m \u001b[0minput\u001b[0m\u001b[0;34m)\u001b[0m\u001b[0;34m:\u001b[0m\u001b[0;34m\u001b[0m\u001b[0m\n\u001b[0;32m---> 55\u001b[0;31m         \u001b[0;32mreturn\u001b[0m \u001b[0mF\u001b[0m\u001b[0;34m.\u001b[0m\u001b[0mlinear\u001b[0m\u001b[0;34m(\u001b[0m\u001b[0minput\u001b[0m\u001b[0;34m,\u001b[0m \u001b[0mself\u001b[0m\u001b[0;34m.\u001b[0m\u001b[0mweight\u001b[0m\u001b[0;34m,\u001b[0m \u001b[0mself\u001b[0m\u001b[0;34m.\u001b[0m\u001b[0mbias\u001b[0m\u001b[0;34m)\u001b[0m\u001b[0;34m\u001b[0m\u001b[0m\n\u001b[0m\u001b[1;32m     56\u001b[0m \u001b[0;34m\u001b[0m\u001b[0m\n\u001b[1;32m     57\u001b[0m     \u001b[0;32mdef\u001b[0m \u001b[0mextra_repr\u001b[0m\u001b[0;34m(\u001b[0m\u001b[0mself\u001b[0m\u001b[0;34m)\u001b[0m\u001b[0;34m:\u001b[0m\u001b[0;34m\u001b[0m\u001b[0m\n",
      "\u001b[0;32m~/anaconda3/lib/python3.6/site-packages/torch/nn/functional.py\u001b[0m in \u001b[0;36mlinear\u001b[0;34m(input, weight, bias)\u001b[0m\n\u001b[1;32m   1024\u001b[0m         \u001b[0;32mreturn\u001b[0m \u001b[0mtorch\u001b[0m\u001b[0;34m.\u001b[0m\u001b[0maddmm\u001b[0m\u001b[0;34m(\u001b[0m\u001b[0mbias\u001b[0m\u001b[0;34m,\u001b[0m \u001b[0minput\u001b[0m\u001b[0;34m,\u001b[0m \u001b[0mweight\u001b[0m\u001b[0;34m.\u001b[0m\u001b[0mt\u001b[0m\u001b[0;34m(\u001b[0m\u001b[0;34m)\u001b[0m\u001b[0;34m)\u001b[0m\u001b[0;34m\u001b[0m\u001b[0m\n\u001b[1;32m   1025\u001b[0m \u001b[0;34m\u001b[0m\u001b[0m\n\u001b[0;32m-> 1026\u001b[0;31m     \u001b[0moutput\u001b[0m \u001b[0;34m=\u001b[0m \u001b[0minput\u001b[0m\u001b[0;34m.\u001b[0m\u001b[0mmatmul\u001b[0m\u001b[0;34m(\u001b[0m\u001b[0mweight\u001b[0m\u001b[0;34m.\u001b[0m\u001b[0mt\u001b[0m\u001b[0;34m(\u001b[0m\u001b[0;34m)\u001b[0m\u001b[0;34m)\u001b[0m\u001b[0;34m\u001b[0m\u001b[0m\n\u001b[0m\u001b[1;32m   1027\u001b[0m     \u001b[0;32mif\u001b[0m \u001b[0mbias\u001b[0m \u001b[0;32mis\u001b[0m \u001b[0;32mnot\u001b[0m \u001b[0;32mNone\u001b[0m\u001b[0;34m:\u001b[0m\u001b[0;34m\u001b[0m\u001b[0m\n\u001b[1;32m   1028\u001b[0m         \u001b[0moutput\u001b[0m \u001b[0;34m+=\u001b[0m \u001b[0mbias\u001b[0m\u001b[0;34m\u001b[0m\u001b[0m\n",
      "\u001b[0;31mKeyboardInterrupt\u001b[0m: "
     ]
    }
   ],
   "source": [
    "english_sentence = 'But the victim\\'s brother says he can\\'t think of anyone who would want to hurt him, saying, \"Things were finally going well for him.\"'\n",
    "english_tok = tokenizer.tokenize(english_sentence)\n",
    "greedy_optimizer = GreedyOptimizer(english_sentence)\n",
    "greedy_translation = greedy_optimizer.optimize()[:-1]\n",
    "greedy_init = scorer.score_probabilities_for_each_word(english_tok, greedy_translation)\n",
    "greedy_init = torch.tensor(greedy_init[:-1, :].T)\n",
    "\n",
    "optimizer = ContinuousOptimizer(english_sentence)\n",
    "print('Optimization starts...')\n",
    "res = optimizer.optimize(init=greedy_init, method='multiplication')\n",
    "print(res)"
   ]
  },
  {
   "cell_type": "code",
   "execution_count": 5,
   "metadata": {},
   "outputs": [
    {
     "name": "stdout",
     "output_type": "stream",
     "text": [
      "Greedy translation: ▁Aber ▁der ▁Bruder ▁des ▁Opfer s ▁sagt , ▁er ▁könne ▁niemand en ▁denken , ▁der ▁ihn ▁verletz en ▁würde , ▁und ▁sagt : ▁\" Es ▁ging ▁ihm ▁endlich ▁gut . \"\n",
      "Continuous translation: ▁Aber ▁der ▁Bruder ▁des ▁Opfer s ▁sagte , ▁er ▁könne ▁nicht en ▁denken , ▁der ▁ihn ▁verletz en ▁möchte , ▁und ▁sagte : ▁„ Es ▁ging ▁ihm ▁endlich ▁gut . \"\n",
      "Score of greedy translation =  tensor([-0.5355])\n",
      "Score of continuous translation =  tensor([-1.0102])\n"
     ]
    }
   ],
   "source": [
    "print('Greedy translation:', ' '.join(greedy_translation))\n",
    "print('Continuous translation:', ' '.join(res))\n",
    "print('Score of greedy translation = ' , scorer.score_tokenized_texts([english_tok], [greedy_translation]))\n",
    "print('Score of continuous translation = ', scorer.score_tokenized_texts([english_tok], [res]))"
   ]
  },
  {
   "cell_type": "code",
   "execution_count": 6,
   "metadata": {},
   "outputs": [
    {
     "name": "stdout",
     "output_type": "stream",
     "text": [
      "BLEU of continuous translation with cross entropy: 13.46\n"
     ]
    }
   ],
   "source": [
    "print('BLEU of continuous translation with cross entropy: 13.46')"
   ]
  },
  {
   "cell_type": "markdown",
   "metadata": {},
   "source": [
    "#### Continuous optimization with cross entropy - uniform initialization"
   ]
  },
  {
   "cell_type": "code",
   "execution_count": 11,
   "metadata": {},
   "outputs": [
    {
     "name": "stdout",
     "output_type": "stream",
     "text": [
      "Optimization starts...\n",
      "0\n",
      "Step 0 , loss score =  tensor([24.9637], grad_fn=<NegBackward>) max grad component =  lr =  50\n",
      "\t cscore =  tensor([24.9637], grad_fn=<NegBackward>)\n"
     ]
    },
    {
     "ename": "AssertionError",
     "evalue": "Dataset cannot contain Special Tokens",
     "output_type": "error",
     "traceback": [
      "\u001b[0;31m---------------------------------------------------------------------------\u001b[0m",
      "\u001b[0;31mAssertionError\u001b[0m                            Traceback (most recent call last)",
      "\u001b[0;32m<ipython-input-11-1e6f343b7df8>\u001b[0m in \u001b[0;36m<module>\u001b[0;34m()\u001b[0m\n\u001b[1;32m      3\u001b[0m \u001b[0moptimizer\u001b[0m \u001b[0;34m=\u001b[0m \u001b[0mContinuousOptimizer\u001b[0m\u001b[0;34m(\u001b[0m\u001b[0menglish_sentence\u001b[0m\u001b[0;34m)\u001b[0m\u001b[0;34m\u001b[0m\u001b[0m\n\u001b[1;32m      4\u001b[0m \u001b[0mprint\u001b[0m\u001b[0;34m(\u001b[0m\u001b[0;34m'Optimization starts...'\u001b[0m\u001b[0;34m)\u001b[0m\u001b[0;34m\u001b[0m\u001b[0m\n\u001b[0;32m----> 5\u001b[0;31m \u001b[0mres\u001b[0m \u001b[0;34m=\u001b[0m \u001b[0moptimizer\u001b[0m\u001b[0;34m.\u001b[0m\u001b[0moptimize\u001b[0m\u001b[0;34m(\u001b[0m\u001b[0mmethod\u001b[0m\u001b[0;34m=\u001b[0m\u001b[0;34m'multiplication'\u001b[0m\u001b[0;34m,\u001b[0m \u001b[0mverbose\u001b[0m\u001b[0;34m=\u001b[0m\u001b[0;32mTrue\u001b[0m\u001b[0;34m)\u001b[0m\u001b[0;34m\u001b[0m\u001b[0m\n\u001b[0m\u001b[1;32m      6\u001b[0m \u001b[0mprint\u001b[0m\u001b[0;34m(\u001b[0m\u001b[0mres\u001b[0m\u001b[0;34m)\u001b[0m\u001b[0;34m\u001b[0m\u001b[0m\n",
      "\u001b[0;32m~/Dropbox/Documents/Studia/Semestr_7/Praca_Inzynierska/OpenNMT-py/research/continuous_optimizer.py\u001b[0m in \u001b[0;36moptimize\u001b[0;34m(self, init, method, verbose, with_score)\u001b[0m\n\u001b[1;32m     45\u001b[0m                 \u001b[0mI\u001b[0m \u001b[0;34m=\u001b[0m \u001b[0mtorch\u001b[0m\u001b[0;34m.\u001b[0m\u001b[0mmax\u001b[0m\u001b[0;34m(\u001b[0m\u001b[0mY\u001b[0m\u001b[0;34m,\u001b[0m \u001b[0;36m0\u001b[0m\u001b[0;34m)\u001b[0m\u001b[0;34m\u001b[0m\u001b[0m\n\u001b[1;32m     46\u001b[0m                 \u001b[0mtranslation\u001b[0m \u001b[0;34m=\u001b[0m \u001b[0mlist\u001b[0m\u001b[0;34m(\u001b[0m\u001b[0;34m[\u001b[0m\u001b[0mself\u001b[0m\u001b[0;34m.\u001b[0m\u001b[0mvocab\u001b[0m\u001b[0;34m.\u001b[0m\u001b[0mitos\u001b[0m\u001b[0;34m[\u001b[0m\u001b[0mi\u001b[0m\u001b[0;34m]\u001b[0m \u001b[0;32mfor\u001b[0m \u001b[0mi\u001b[0m \u001b[0;32min\u001b[0m \u001b[0mI\u001b[0m\u001b[0;34m[\u001b[0m\u001b[0;36m1\u001b[0m\u001b[0;34m]\u001b[0m\u001b[0;34m]\u001b[0m\u001b[0;34m)\u001b[0m\u001b[0;34m\u001b[0m\u001b[0m\n\u001b[0;32m---> 47\u001b[0;31m                 \u001b[0mprint\u001b[0m\u001b[0;34m(\u001b[0m\u001b[0;34m'\\tdscore = '\u001b[0m\u001b[0;34m,\u001b[0m \u001b[0;34m-\u001b[0m\u001b[0mself\u001b[0m\u001b[0;34m.\u001b[0m\u001b[0mscorer\u001b[0m\u001b[0;34m.\u001b[0m\u001b[0mscore_tokenized_texts\u001b[0m\u001b[0;34m(\u001b[0m\u001b[0;34m[\u001b[0m\u001b[0mself\u001b[0m\u001b[0;34m.\u001b[0m\u001b[0menglish_tok_seq\u001b[0m\u001b[0;34m]\u001b[0m\u001b[0;34m,\u001b[0m \u001b[0;34m[\u001b[0m\u001b[0mtranslation\u001b[0m\u001b[0;34m]\u001b[0m\u001b[0;34m,\u001b[0m \u001b[0mmethod\u001b[0m\u001b[0;34m=\u001b[0m\u001b[0mmethod\u001b[0m\u001b[0;34m,\u001b[0m \u001b[0mnormalize\u001b[0m\u001b[0;34m=\u001b[0m\u001b[0;32mTrue\u001b[0m\u001b[0;34m)\u001b[0m\u001b[0;34m)\u001b[0m\u001b[0;34m\u001b[0m\u001b[0m\n\u001b[0m\u001b[1;32m     48\u001b[0m                 \u001b[0mprint\u001b[0m\u001b[0;34m(\u001b[0m\u001b[0;34m' '\u001b[0m\u001b[0;34m.\u001b[0m\u001b[0mjoin\u001b[0m\u001b[0;34m(\u001b[0m\u001b[0mtranslation\u001b[0m\u001b[0;34m)\u001b[0m\u001b[0;34m)\u001b[0m\u001b[0;34m\u001b[0m\u001b[0m\n\u001b[1;32m     49\u001b[0m                 \u001b[0mprint\u001b[0m\u001b[0;34m(\u001b[0m\u001b[0;34m)\u001b[0m\u001b[0;34m\u001b[0m\u001b[0m\n",
      "\u001b[0;32m~/Dropbox/Documents/Studia/Semestr_7/Praca_Inzynierska/OpenNMT-py/research/scorer.py\u001b[0m in \u001b[0;36mscore_tokenized_texts\u001b[0;34m(self, english_tok_seq_gen, german_tok_seq_gen, relaxed, method, normalize)\u001b[0m\n\u001b[1;32m     25\u001b[0m                                             \u001b[0mtgt_data_iter\u001b[0m\u001b[0;34m=\u001b[0m\u001b[0mtgt_data\u001b[0m\u001b[0;34m,\u001b[0m\u001b[0;34m\u001b[0m\u001b[0m\n\u001b[1;32m     26\u001b[0m                                             \u001b[0mbatch_size\u001b[0m\u001b[0;34m=\u001b[0m\u001b[0mconsts\u001b[0m\u001b[0;34m.\u001b[0m\u001b[0mOPT\u001b[0m\u001b[0;34m.\u001b[0m\u001b[0mbatch_size\u001b[0m\u001b[0;34m,\u001b[0m\u001b[0;34m\u001b[0m\u001b[0m\n\u001b[0;32m---> 27\u001b[0;31m                                             relaxed=relaxed, method=method, normalize=normalize)\n\u001b[0m\u001b[1;32m     28\u001b[0m \u001b[0;34m\u001b[0m\u001b[0m\n\u001b[1;32m     29\u001b[0m     \u001b[0;32mdef\u001b[0m \u001b[0mscore\u001b[0m\u001b[0;34m(\u001b[0m\u001b[0mself\u001b[0m\u001b[0;34m)\u001b[0m\u001b[0;34m:\u001b[0m\u001b[0;34m\u001b[0m\u001b[0m\n",
      "\u001b[0;32m~/Dropbox/Documents/Studia/Semestr_7/Praca_Inzynierska/OpenNMT-py/onmt/translate/translator.py\u001b[0m in \u001b[0;36mscore_target\u001b[0;34m(self, src_path, src_data_iter, tgt_path, tgt_data_iter, src_dir, batch_size, relaxed, method, normalize)\u001b[0m\n\u001b[1;32m    174\u001b[0m                           \u001b[0muse_filter_pred\u001b[0m\u001b[0;34m=\u001b[0m\u001b[0mself\u001b[0m\u001b[0;34m.\u001b[0m\u001b[0muse_filter_pred\u001b[0m\u001b[0;34m,\u001b[0m\u001b[0;34m\u001b[0m\u001b[0m\n\u001b[1;32m    175\u001b[0m                           \u001b[0mimage_channel_size\u001b[0m\u001b[0;34m=\u001b[0m\u001b[0mself\u001b[0m\u001b[0;34m.\u001b[0m\u001b[0mimage_channel_size\u001b[0m\u001b[0;34m,\u001b[0m\u001b[0;34m\u001b[0m\u001b[0m\n\u001b[0;32m--> 176\u001b[0;31m                           relaxed=relaxed)\n\u001b[0m\u001b[1;32m    177\u001b[0m \u001b[0;34m\u001b[0m\u001b[0m\n\u001b[1;32m    178\u001b[0m         \u001b[0;32mif\u001b[0m \u001b[0mself\u001b[0m\u001b[0;34m.\u001b[0m\u001b[0mcuda\u001b[0m\u001b[0;34m:\u001b[0m\u001b[0;34m\u001b[0m\u001b[0m\n",
      "\u001b[0;32m~/Dropbox/Documents/Studia/Semestr_7/Praca_Inzynierska/OpenNMT-py/onmt/inputters/inputter.py\u001b[0m in \u001b[0;36mbuild_dataset\u001b[0;34m(fields, data_type, src_data_iter, src_path, src_dir, tgt_data_iter, tgt_path, src_seq_length, tgt_seq_length, src_seq_length_trunc, tgt_seq_length_trunc, dynamic_dict, sample_rate, window_size, window_stride, window, normalize_audio, use_filter_pred, image_channel_size, relaxed)\u001b[0m\n\u001b[1;32m    240\u001b[0m     \u001b[0mtgt_examples_iter\u001b[0m\u001b[0;34m,\u001b[0m \u001b[0mnum_tgt_feats\u001b[0m \u001b[0;34m=\u001b[0m\u001b[0;31m \u001b[0m\u001b[0;31m\\\u001b[0m\u001b[0;34m\u001b[0m\u001b[0m\n\u001b[1;32m    241\u001b[0m         TextDataset.make_text_examples_nfeats_tpl(\n\u001b[0;32m--> 242\u001b[0;31m             tgt_data_iter, tgt_path, tgt_seq_length_trunc, \"tgt\", relaxed=relaxed)\n\u001b[0m\u001b[1;32m    243\u001b[0m \u001b[0;34m\u001b[0m\u001b[0m\n\u001b[1;32m    244\u001b[0m     \u001b[0;32mif\u001b[0m \u001b[0mdata_type\u001b[0m \u001b[0;34m==\u001b[0m \u001b[0;34m'text'\u001b[0m\u001b[0;34m:\u001b[0m\u001b[0;34m\u001b[0m\u001b[0m\n",
      "\u001b[0;32m~/Dropbox/Documents/Studia/Semestr_7/Praca_Inzynierska/OpenNMT-py/onmt/inputters/text_dataset.py\u001b[0m in \u001b[0;36mmake_text_examples_nfeats_tpl\u001b[0;34m(text_iter, text_path, truncate, side, relaxed)\u001b[0m\n\u001b[1;32m    168\u001b[0m             \u001b[0mTextDataset\u001b[0m\u001b[0;34m.\u001b[0m\u001b[0mmake_examples\u001b[0m\u001b[0;34m(\u001b[0m\u001b[0mtext_iter\u001b[0m\u001b[0;34m,\u001b[0m \u001b[0mtruncate\u001b[0m\u001b[0;34m,\u001b[0m \u001b[0mside\u001b[0m\u001b[0;34m,\u001b[0m \u001b[0mrelaxed\u001b[0m\u001b[0;34m=\u001b[0m\u001b[0mrelaxed\u001b[0m\u001b[0;34m)\u001b[0m\u001b[0;34m\u001b[0m\u001b[0m\n\u001b[1;32m    169\u001b[0m \u001b[0;34m\u001b[0m\u001b[0m\n\u001b[0;32m--> 170\u001b[0;31m         \u001b[0mfirst_ex\u001b[0m \u001b[0;34m=\u001b[0m \u001b[0mnext\u001b[0m\u001b[0;34m(\u001b[0m\u001b[0mexamples_nfeats_iter\u001b[0m\u001b[0;34m)\u001b[0m\u001b[0;34m\u001b[0m\u001b[0m\n\u001b[0m\u001b[1;32m    171\u001b[0m         \u001b[0mnum_feats\u001b[0m \u001b[0;34m=\u001b[0m \u001b[0mfirst_ex\u001b[0m\u001b[0;34m[\u001b[0m\u001b[0;36m1\u001b[0m\u001b[0;34m]\u001b[0m\u001b[0;34m\u001b[0m\u001b[0m\n\u001b[1;32m    172\u001b[0m \u001b[0;34m\u001b[0m\u001b[0m\n",
      "\u001b[0;32m~/Dropbox/Documents/Studia/Semestr_7/Praca_Inzynierska/OpenNMT-py/onmt/inputters/text_dataset.py\u001b[0m in \u001b[0;36mmake_examples\u001b[0;34m(text_iter, truncate, side, relaxed)\u001b[0m\n\u001b[1;32m    195\u001b[0m \u001b[0;34m\u001b[0m\u001b[0m\n\u001b[1;32m    196\u001b[0m                 \u001b[0mwords\u001b[0m\u001b[0;34m,\u001b[0m \u001b[0mfeats\u001b[0m\u001b[0;34m,\u001b[0m \u001b[0mn_feats\u001b[0m \u001b[0;34m=\u001b[0m\u001b[0;31m \u001b[0m\u001b[0;31m\\\u001b[0m\u001b[0;34m\u001b[0m\u001b[0m\n\u001b[0;32m--> 197\u001b[0;31m                     \u001b[0mTextDataset\u001b[0m\u001b[0;34m.\u001b[0m\u001b[0mextract_text_features\u001b[0m\u001b[0;34m(\u001b[0m\u001b[0mline\u001b[0m\u001b[0;34m)\u001b[0m\u001b[0;34m\u001b[0m\u001b[0m\n\u001b[0m\u001b[1;32m    198\u001b[0m             \u001b[0;32melse\u001b[0m\u001b[0;34m:\u001b[0m\u001b[0;34m\u001b[0m\u001b[0m\n\u001b[1;32m    199\u001b[0m                 \u001b[0mwords\u001b[0m \u001b[0;34m=\u001b[0m \u001b[0mtuple\u001b[0m\u001b[0;34m(\u001b[0m\u001b[0mline\u001b[0m\u001b[0;34m.\u001b[0m\u001b[0mtranspose\u001b[0m\u001b[0;34m(\u001b[0m\u001b[0;36m0\u001b[0m\u001b[0;34m,\u001b[0m \u001b[0;36m1\u001b[0m\u001b[0;34m)\u001b[0m\u001b[0;34m)\u001b[0m\u001b[0;34m\u001b[0m\u001b[0m\n",
      "\u001b[0;32m~/Dropbox/Documents/Studia/Semestr_7/Praca_Inzynierska/OpenNMT-py/onmt/inputters/dataset_base.py\u001b[0m in \u001b[0;36mextract_text_features\u001b[0;34m(tokens)\u001b[0m\n\u001b[1;32m     69\u001b[0m             \u001b[0msplit_token\u001b[0m \u001b[0;34m=\u001b[0m \u001b[0mtoken\u001b[0m\u001b[0;34m.\u001b[0m\u001b[0msplit\u001b[0m\u001b[0;34m(\u001b[0m\u001b[0;34mu\"￨\"\u001b[0m\u001b[0;34m)\u001b[0m\u001b[0;34m\u001b[0m\u001b[0m\n\u001b[1;32m     70\u001b[0m             \u001b[0;32massert\u001b[0m \u001b[0mall\u001b[0m\u001b[0;34m(\u001b[0m\u001b[0;34m[\u001b[0m\u001b[0mspecial\u001b[0m \u001b[0;34m!=\u001b[0m \u001b[0msplit_token\u001b[0m\u001b[0;34m[\u001b[0m\u001b[0;36m0\u001b[0m\u001b[0;34m]\u001b[0m \u001b[0;32mfor\u001b[0m \u001b[0mspecial\u001b[0m \u001b[0;32min\u001b[0m \u001b[0mspecials\u001b[0m\u001b[0;34m]\u001b[0m\u001b[0;34m)\u001b[0m\u001b[0;34m,\u001b[0m\u001b[0;31m \u001b[0m\u001b[0;31m\\\u001b[0m\u001b[0;34m\u001b[0m\u001b[0m\n\u001b[0;32m---> 71\u001b[0;31m                 \u001b[0;34m\"Dataset cannot contain Special Tokens\"\u001b[0m\u001b[0;34m\u001b[0m\u001b[0m\n\u001b[0m\u001b[1;32m     72\u001b[0m \u001b[0;34m\u001b[0m\u001b[0m\n\u001b[1;32m     73\u001b[0m             \u001b[0;32mif\u001b[0m \u001b[0msplit_token\u001b[0m\u001b[0;34m[\u001b[0m\u001b[0;36m0\u001b[0m\u001b[0;34m]\u001b[0m\u001b[0;34m:\u001b[0m\u001b[0;34m\u001b[0m\u001b[0m\n",
      "\u001b[0;31mAssertionError\u001b[0m: Dataset cannot contain Special Tokens"
     ]
    }
   ],
   "source": [
    "english_sentence = 'But the victim\\'s brother says he can\\'t think of anyone who would want to hurt him, saying, \"Things were finally going well for him.\"'\n",
    "english_tok = tokenizer.tokenize(english_sentence)\n",
    "optimizer = ContinuousOptimizer(english_sentence)\n",
    "print('Optimization starts...')\n",
    "res = optimizer.optimize(method='multiplication', verbose=True)\n",
    "print(res)"
   ]
  },
  {
   "cell_type": "code",
   "execution_count": 64,
   "metadata": {},
   "outputs": [],
   "source": [
    "def plot_aligned_entropies(trans_i, trans_j):\n",
    "    plt.title('Entropy for each word in different translations (aligned)')\n",
    "    plt.xlabel('Word number')\n",
    "    plt.ylabel('Entropy')\n",
    "    \n",
    "    aligner = Aligner()\n",
    "    aligned_i, aligned_j = aligner.align(trans_i, trans_j)\n",
    "    \n",
    "    logprobs_i = scorer.score_probabilities_for_each_word(english_tok, trans_i)\n",
    "    probs_i = np.exp(logprobs_i)\n",
    "    logprobs_j = scorer.score_probabilities_for_each_word(english_tok, trans_j)\n",
    "    probs_j = np.exp(logprobs_j)\n",
    "\n",
    "    words = np.arange(len(aligned_i))\n",
    "    entropies_i = []\n",
    "    k = 0\n",
    "    for word in aligned_i:\n",
    "        if word == '[PLACEHOLDER]':\n",
    "            entropies_i += [-1.]\n",
    "        else:\n",
    "            entropies_i += [entropy(probs_i[k, :])]\n",
    "            k += 1\n",
    "    entropies_i = np.array(entropies_i)\n",
    "    \n",
    "    entropies_j = []\n",
    "    k = 0\n",
    "    for word in aligned_j:\n",
    "        if word == '[PLACEHOLDER]':\n",
    "            entropies_j += [-1.]\n",
    "        else:\n",
    "            entropies_j += [entropy(probs_j[k, :])]\n",
    "            k += 1\n",
    "    entropies_j = np.array(entropies_j)\n",
    "    \n",
    "    plt.scatter(words[entropies_i >= 0.], entropies_i[entropies_i >= 0.], label=f'Translation 1')\n",
    "    plt.scatter(words[entropies_j >= 0.], entropies_j[entropies_j >= 0.], label=f'Translation 2')\n",
    "    print(f'Translation 1:\\n{\" | \".join(aligned_i)}')\n",
    "    print(f'Translation 2:\\n{\" | \".join(aligned_j)}')\n",
    "    print()\n",
    "    plt.legend()"
   ]
  },
  {
   "cell_type": "code",
   "execution_count": 66,
   "metadata": {},
   "outputs": [
    {
     "name": "stdout",
     "output_type": "stream",
     "text": [
      "Translation 1:\n",
      "▁Aber | ▁der | ▁Bruder | ▁des | ▁Opfer | s | ▁sagt | , | ▁er | ▁könne | ▁nicht | ▁an | ▁jemand | en | ▁denken | , | ▁der | ▁ihm | ▁we | h | ▁tun | ▁würde | , | ▁indem | ▁er | ▁sagt | : | ▁\" | Es | ▁ging | ▁ihm | ▁endlich | ▁gut | . | \"\n",
      "Translation 2:\n",
      "▁Aber | ▁der | ▁Bruder | ▁des | ▁Opfer | s | ▁sagt | , | ▁er | ▁könne | [PLACEHOLDER] | [PLACEHOLDER] | ▁niemand | en | ▁denken | , | ▁der | [PLACEHOLDER] | ▁ihn | ▁verletz | en | ▁würde | , | [PLACEHOLDER] | ▁und | ▁sagt | : | ▁\" | Es | ▁ging | ▁ihm | ▁endlich | ▁gut | . | \"\n",
      "\n"
     ]
    },
    {
     "data": {
      "image/png": "[encoded data removed]",
      "text/plain": [
       "<Figure size 432x288 with 1 Axes>"
      ]
     },
     "metadata": {},
     "output_type": "display_data"
    }
   ],
   "source": [
    "plot_aligned_entropies(translations[0][:-1], greedy_translation, )"
   ]
  },
  {
   "cell_type": "markdown",
   "metadata": {},
   "source": [
    "### Continuous with multiplication - more examples"
   ]
  },
  {
   "cell_type": "code",
   "execution_count": 3,
   "metadata": {},
   "outputs": [],
   "source": [
    "WMT_DIR = '/home/pma/wmt/'\n",
    "german_path = WMT_DIR + 'test.de'\n",
    "english_path = WMT_DIR + 'test.en'\n",
    "\n",
    "def cstr(s, color='black'):\n",
    "    return \"<text style=color:{}>{}</text>\".format(color, s)\n",
    "\n",
    "def load_test_data(path):\n",
    "    with open(path) as f:\n",
    "        return [tokenizer.detokenize(line.split()) for line in f.readlines()]\n",
    "\n",
    "def load_reference_data(path):\n",
    "    with open(path) as f:\n",
    "        return [line.strip() for line in f.readlines()]\n",
    "    \n",
    "def perform_tests(k=50, initialization='greedy', beamsize=15):\n",
    "    aligner = Aligner()\n",
    "    english_sentences = load_test_data(english_path)\n",
    "    references = load_reference_data(german_path)\n",
    "    for english_sentence, reference in zip(english_sentences[:k], references):\n",
    "        english_tok = tokenizer.tokenize(english_sentence)\n",
    "        if initialization == 'greedy':\n",
    "            greedy_optimizer = GreedyOptimizer(english_sentence)\n",
    "            greedy_translation = greedy_optimizer.optimize()[:-1]\n",
    "        else:\n",
    "            greedy_optimizer = BeamOptimizer(english_sentence, beamsize)\n",
    "            greedy_translation = greedy_optimizer.optimize()[0][0][:-1]\n",
    "        \n",
    "        greedy_score = -scorer.score_tokenized_texts([english_tok], [greedy_translation], method='multiplication', normalize=True)\n",
    "        gbleu = bleu(reference, ' '.join(greedy_translation))\n",
    "\n",
    "        greedy_init = scorer.score_probabilities_for_each_word(english_tok, greedy_translation)\n",
    "        greedy_init = torch.tensor(greedy_init[:-1, :].T)\n",
    "        continuous_optimizer = ContinuousOptimizer(english_sentence)\n",
    "        continuous_translation, cscore = continuous_optimizer.optimize(init=greedy_init, method='multiplication', with_score=True, start_lr=100)\n",
    "        dscore = -scorer.score_tokenized_texts([english_tok], [continuous_translation], method='multiplication', normalize=True)\n",
    "        cbleu = bleu(reference, ' '.join(continuous_translation))\n",
    "\n",
    "        aligned_greedy, aligned_continuous = aligner.align(greedy_translation, continuous_translation)\n",
    "        \n",
    "        colored_continuous = [cstr(cword, color='black') if gword == cword else cstr(cword, color='green') \n",
    "            for gword, cword in zip(aligned_greedy, aligned_continuous)]\n",
    "        colored_continuous.append(cstr(f'[ cscore={cscore.item()}, dscore={dscore.item()}, bleu={cbleu} ]', color='black'))\n",
    "        \n",
    "        display(html_print(cstr(' '.join(aligned_greedy) + f'[ dscore={greedy_score.item()}, bleu={gbleu} ]', color='black')))\n",
    "        display(html_print(' '.join(colored_continuous)))\n",
    "        display(html_print('<br>'))"
   ]
  },
  {
   "cell_type": "code",
   "execution_count": null,
   "metadata": {},
   "outputs": [
    {
     "data": {
      "text/html": [
       "<text style=color:black>▁28 - Jahr - O ld ▁Chef ▁Found ▁Dead[ dscore=0.5151540637016296, bleu=0.0 ]</text>"
      ],
      "text/plain": [
       "<IPython.core.display.HTML object>"
      ]
     },
     "metadata": {},
     "output_type": "display_data"
    },
    {
     "data": {
      "text/html": [
       "<text style=color:black>▁28</text> <text style=color:black>-</text> <text style=color:black>Jahr</text> <text style=color:black>-</text> <text style=color:black>O</text> <text style=color:black>ld</text> <text style=color:black>▁Chef</text> <text style=color:green>▁Ge</text> <text style=color:black>▁Dead</text> <text style=color:black>[ cscore=1.2482191324234009, dscore=1.1271077394485474, bleu=0.0 ]</text>"
      ],
      "text/plain": [
       "<IPython.core.display.HTML object>"
      ]
     },
     "metadata": {},
     "output_type": "display_data"
    },
    {
     "data": {
      "text/html": [
       "<br>"
      ],
      "text/plain": [
       "<IPython.core.display.HTML object>"
      ]
     },
     "metadata": {},
     "output_type": "display_data"
    },
    {
     "data": {
      "text/html": [
       "<text style=color:black>▁Ein ▁28 - jährige r ▁Küchen chef , ▁der ▁kürz lich ▁nach ▁San ▁Francisco ▁ zog , ▁wurde ▁diese ▁Woche ▁im ▁Trepp en haus ▁einer ▁lokale n ▁Mal l ▁to t ▁auf gefunden .[ dscore=0.49215784668922424, bleu=31.29 ]</text>"
      ],
      "text/plain": [
       "<IPython.core.display.HTML object>"
      ]
     },
     "metadata": {},
     "output_type": "display_data"
    },
    {
     "data": {
      "text/html": [
       "<text style=color:black>▁Ein</text> <text style=color:black>▁28</text> <text style=color:black>-</text> <text style=color:black>jährige</text> <text style=color:black>r</text> <text style=color:black>▁Küchen</text> <text style=color:black>chef</text> <text style=color:black>,</text> <text style=color:black>▁der</text> <text style=color:black>▁kürz</text> <text style=color:black>lich</text> <text style=color:black>▁nach</text> <text style=color:black>▁San</text> <text style=color:black>▁Francisco</text> <text style=color:black>▁</text> <text style=color:black>zog</text> <text style=color:black>,</text> <text style=color:black>▁wurde</text> <text style=color:black>▁diese</text> <text style=color:black>▁Woche</text> <text style=color:black>▁im</text> <text style=color:black>▁Trepp</text> <text style=color:black>en</text> <text style=color:black>haus</text> <text style=color:black>▁einer</text> <text style=color:black>▁lokale</text> <text style=color:black>n</text> <text style=color:black>▁Mal</text> <text style=color:black>l</text> <text style=color:black>▁to</text> <text style=color:black>t</text> <text style=color:black>▁auf</text> <text style=color:black>gefunden</text> <text style=color:black>.</text> <text style=color:black>[ cscore=1.5448085069656372, dscore=0.49215784668922424, bleu=31.29 ]</text>"
      ],
      "text/plain": [
       "<IPython.core.display.HTML object>"
      ]
     },
     "metadata": {},
     "output_type": "display_data"
    },
    {
     "data": {
      "text/html": [
       "<br>"
      ],
      "text/plain": [
       "<IPython.core.display.HTML object>"
      ]
     },
     "metadata": {},
     "output_type": "display_data"
    },
    {
     "data": {
      "text/html": [
       "<text style=color:black>▁Aber ▁der ▁Bruder ▁des ▁Opfer s ▁sagt , ▁er ▁könne ▁niemand en ▁denken , ▁der ▁ihn ▁verletz en ▁würde , ▁und ▁sagt : ▁\" Es ▁ging ▁ihm ▁endlich ▁gut . \"[ dscore=0.5355032086372375, bleu=11.46 ]</text>"
      ],
      "text/plain": [
       "<IPython.core.display.HTML object>"
      ]
     },
     "metadata": {},
     "output_type": "display_data"
    },
    {
     "data": {
      "text/html": [
       "<text style=color:black>▁Aber</text> <text style=color:black>▁der</text> <text style=color:black>▁Bruder</text> <text style=color:black>▁des</text> <text style=color:black>▁Opfer</text> <text style=color:black>s</text> <text style=color:black>▁sagt</text> <text style=color:black>,</text> <text style=color:black>▁er</text> <text style=color:black>▁könne</text> <text style=color:black>▁niemand</text> <text style=color:black>en</text> <text style=color:black>▁denken</text> <text style=color:black>,</text> <text style=color:black>▁der</text> <text style=color:black>▁ihn</text> <text style=color:black>▁verletz</text> <text style=color:black>en</text> <text style=color:green>▁möchte</text> <text style=color:black>,</text> <text style=color:black>▁und</text> <text style=color:black>▁sagt</text> <text style=color:black>:</text> <text style=color:black>▁\"</text> <text style=color:black>Es</text> <text style=color:black>▁ging</text> <text style=color:black>▁ihm</text> <text style=color:black>▁endlich</text> <text style=color:black>▁gut</text> <text style=color:black>.</text> <text style=color:black>\"</text> <text style=color:black>[ cscore=1.581463098526001, dscore=0.5352103114128113, bleu=10.77 ]</text>"
      ],
      "text/plain": [
       "<IPython.core.display.HTML object>"
      ]
     },
     "metadata": {},
     "output_type": "display_data"
    },
    {
     "data": {
      "text/html": [
       "<br>"
      ],
      "text/plain": [
       "<IPython.core.display.HTML object>"
      ]
     },
     "metadata": {},
     "output_type": "display_data"
    },
    {
     "data": {
      "text/html": [
       "<text style=color:black>▁Die ▁Körper ▁in ▁der ▁West field ▁Mal l ▁Mittwoch ▁Morgen ▁wurde ▁als ▁28 - jährige r ▁in ▁San ▁Francisco ▁Wohn sitz ▁Frank ▁Galicia ▁identifi ziert , ▁sagte ▁der ▁San ▁Francisco ▁Medical ▁Ex ami ner ' s ▁Office .[ dscore=0.418877512216568, bleu=20.01 ]</text>"
      ],
      "text/plain": [
       "<IPython.core.display.HTML object>"
      ]
     },
     "metadata": {},
     "output_type": "display_data"
    },
    {
     "data": {
      "text/html": [
       "<text style=color:black>▁Die</text> <text style=color:black>▁Körper</text> <text style=color:black>▁in</text> <text style=color:black>▁der</text> <text style=color:black>▁West</text> <text style=color:black>field</text> <text style=color:black>▁Mal</text> <text style=color:black>l</text> <text style=color:black>▁Mittwoch</text> <text style=color:black>▁Morgen</text> <text style=color:black>▁wurde</text> <text style=color:black>▁als</text> <text style=color:black>▁28</text> <text style=color:black>-</text> <text style=color:green>J</text> <text style=color:green>▁in</text> <text style=color:black>▁in</text> <text style=color:black>▁San</text> <text style=color:black>▁Francisco</text> <text style=color:black>▁Wohn</text> <text style=color:black>sitz</text> <text style=color:black>▁Frank</text> <text style=color:black>▁Galicia</text> <text style=color:black>▁identifi</text> <text style=color:black>ziert</text> <text style=color:black>,</text> <text style=color:black>▁sagte</text> <text style=color:black>▁der</text> <text style=color:black>▁San</text> <text style=color:black>▁Francisco</text> <text style=color:black>▁Medical</text> <text style=color:black>▁Ex</text> <text style=color:black>ami</text> <text style=color:black>ner</text> <text style=color:black>'</text> <text style=color:black>s</text> <text style=color:black>▁Office</text> <text style=color:black>.</text> <text style=color:black>[ cscore=1.6285784244537354, dscore=1.1574435234069824, bleu=20.01 ]</text>"
      ],
      "text/plain": [
       "<IPython.core.display.HTML object>"
      ]
     },
     "metadata": {},
     "output_type": "display_data"
    },
    {
     "data": {
      "text/html": [
       "<br>"
      ],
      "text/plain": [
       "<IPython.core.display.HTML object>"
      ]
     },
     "metadata": {},
     "output_type": "display_data"
    },
    {
     "data": {
      "text/html": [
       "<text style=color:black>▁Die ▁Polizei abteilung ▁von ▁San ▁Francisco ▁sagte , ▁dass ▁der ▁Tod ▁eines ▁Mord es ▁be urteil t ▁wurde ▁und ▁eine ▁Untersuchung ▁an hält .[ dscore=0.7827282547950745, bleu=20.29 ]</text>"
      ],
      "text/plain": [
       "<IPython.core.display.HTML object>"
      ]
     },
     "metadata": {},
     "output_type": "display_data"
    },
    {
     "data": {
      "text/html": [
       "<text style=color:black>▁Die</text> <text style=color:black>▁Polizei</text> <text style=color:black>abteilung</text> <text style=color:black>▁von</text> <text style=color:black>▁San</text> <text style=color:black>▁Francisco</text> <text style=color:black>▁sagte</text> <text style=color:black>,</text> <text style=color:black>▁dass</text> <text style=color:black>▁der</text> <text style=color:black>▁Tod</text> <text style=color:black>▁eines</text> <text style=color:black>▁Mord</text> <text style=color:black>es</text> <text style=color:black>▁be</text> <text style=color:black>urteil</text> <text style=color:black>t</text> <text style=color:black>▁wurde</text> <text style=color:black>▁und</text> <text style=color:black>▁eine</text> <text style=color:black>▁Untersuchung</text> <text style=color:black>▁an</text> <text style=color:black>hält</text> <text style=color:black>.</text> <text style=color:black>[ cscore=1.965139389038086, dscore=0.7827282547950745, bleu=20.29 ]</text>"
      ],
      "text/plain": [
       "<IPython.core.display.HTML object>"
      ]
     },
     "metadata": {},
     "output_type": "display_data"
    },
    {
     "data": {
      "text/html": [
       "<br>"
      ],
      "text/plain": [
       "<IPython.core.display.HTML object>"
      ]
     },
     "metadata": {},
     "output_type": "display_data"
    },
    {
     "data": {
      "text/html": [
       "<text style=color:black>▁Der ▁Bruder ▁des ▁Opfer s , ▁Louis ▁Galicia , ▁sagte ▁der ▁A BC - Station ▁K GO ▁in ▁San ▁Francisco , ▁dass ▁Frank , ▁der ▁zuvor ▁in ▁Boston ▁als ▁Linien koch ▁tätig ▁war , ▁vor ▁sechs ▁Monaten ▁seinen ▁Traum job ▁als ▁Küchen chef ▁im ▁Restaurant ▁Son s ▁& ▁D aught ers ▁in ▁San ▁Francisco ▁ge land et ▁hatte .[ dscore=0.47621670365333557, bleu=48.5 ]</text>"
      ],
      "text/plain": [
       "<IPython.core.display.HTML object>"
      ]
     },
     "metadata": {},
     "output_type": "display_data"
    },
    {
     "data": {
      "text/html": [
       "<text style=color:black>▁Der</text> <text style=color:black>▁Bruder</text> <text style=color:black>▁des</text> <text style=color:black>▁Opfer</text> <text style=color:black>s</text> <text style=color:black>,</text> <text style=color:black>▁Louis</text> <text style=color:black>▁Galicia</text> <text style=color:black>,</text> <text style=color:black>▁sagte</text> <text style=color:green>▁in</text> <text style=color:black>▁A</text> <text style=color:black>BC</text> <text style=color:black>-</text> <text style=color:black>Station</text> <text style=color:black>▁K</text> <text style=color:black>GO</text> <text style=color:black>▁in</text> <text style=color:black>▁San</text> <text style=color:black>▁Francisco</text> <text style=color:black>,</text> <text style=color:black>▁dass</text> <text style=color:black>▁Frank</text> <text style=color:black>,</text> <text style=color:black>▁der</text> <text style=color:black>▁zuvor</text> <text style=color:black>▁in</text> <text style=color:black>▁Boston</text> <text style=color:black>▁als</text> <text style=color:black>▁Linien</text> <text style=color:black>koch</text> <text style=color:black>▁tätig</text> <text style=color:black>▁war</text> <text style=color:black>,</text> <text style=color:black>▁vor</text> <text style=color:black>▁sechs</text> <text style=color:black>▁Monaten</text> <text style=color:black>▁seinen</text> <text style=color:black>▁Traum</text> <text style=color:black>job</text> <text style=color:black>▁als</text> <text style=color:black>▁Küchen</text> <text style=color:black>chef</text> <text style=color:black>▁im</text> <text style=color:black>▁Restaurant</text> <text style=color:black>▁Son</text> <text style=color:black>s</text> <text style=color:black>▁&</text> <text style=color:black>▁D</text> <text style=color:black>aught</text> <text style=color:black>ers</text> <text style=color:black>▁in</text> <text style=color:black>▁San</text> <text style=color:black>▁Francisco</text> <text style=color:black>▁ge</text> <text style=color:black>land</text> <text style=color:black>et</text> <text style=color:black>▁hatte</text> <text style=color:black>.</text> <text style=color:black>[ cscore=1.6336970329284668, dscore=0.6517391800880432, bleu=48.5 ]</text>"
      ],
      "text/plain": [
       "<IPython.core.display.HTML object>"
      ]
     },
     "metadata": {},
     "output_type": "display_data"
    },
    {
     "data": {
      "text/html": [
       "<br>"
      ],
      "text/plain": [
       "<IPython.core.display.HTML object>"
      ]
     },
     "metadata": {},
     "output_type": "display_data"
    },
    {
     "data": {
      "text/html": [
       "<text style=color:black>▁Ein ▁Sprech er ▁für ▁Söhne ▁und ▁Tö chter ▁sagte , ▁dass ▁sie ▁durch ▁seinen ▁Tod ▁\" ver spot tet ▁und ▁verw üstet \" ▁seien .[ dscore=0.4737871289253235, bleu=17.15 ]</text>"
      ],
      "text/plain": [
       "<IPython.core.display.HTML object>"
      ]
     },
     "metadata": {},
     "output_type": "display_data"
    },
    {
     "data": {
      "text/html": [
       "<text style=color:black>▁Ein</text> <text style=color:black>▁Sprech</text> <text style=color:black>er</text> <text style=color:black>▁für</text> <text style=color:black>▁Söhne</text> <text style=color:green>▁&</text> <text style=color:black>▁Tö</text> <text style=color:black>chter</text> <text style=color:black>▁sagte</text> <text style=color:black>,</text> <text style=color:black>▁dass</text> <text style=color:black>▁sie</text> <text style=color:black>▁durch</text> <text style=color:black>▁seinen</text> <text style=color:black>▁Tod</text> <text style=color:green>▁„</text> <text style=color:black>ver</text> <text style=color:black>spot</text> <text style=color:black>tet</text> <text style=color:black>▁und</text> <text style=color:black>▁verw</text> <text style=color:black>üstet</text> <text style=color:black>\"</text> <text style=color:black>▁seien</text> <text style=color:black>.</text> <text style=color:black>[ cscore=1.331511378288269, dscore=0.6347835659980774, bleu=15.35 ]</text>"
      ],
      "text/plain": [
       "<IPython.core.display.HTML object>"
      ]
     },
     "metadata": {},
     "output_type": "display_data"
    },
    {
     "data": {
      "text/html": [
       "<br>"
      ],
      "text/plain": [
       "<IPython.core.display.HTML object>"
      ]
     },
     "metadata": {},
     "output_type": "display_data"
    },
    {
     "data": {
      "text/html": [
       "<text style=color:black>▁\" Wir ▁sind ▁ein ▁kleines ▁Team , ▁das ▁wie ▁eine ▁enge ▁k n it ▁Familie ▁arbeitet ▁und ▁er ▁wird ▁sehr ▁vermiss t ▁werden \", ▁sagte ▁der ▁Sprech er .[ dscore=0.4113239645957947, bleu=48.83 ]</text>"
      ],
      "text/plain": [
       "<IPython.core.display.HTML object>"
      ]
     },
     "metadata": {},
     "output_type": "display_data"
    },
    {
     "data": {
      "text/html": [
       "<text style=color:black>▁\"</text> <text style=color:black>Wir</text> <text style=color:black>▁sind</text> <text style=color:black>▁ein</text> <text style=color:black>▁kleines</text> <text style=color:black>▁Team</text> <text style=color:black>,</text> <text style=color:black>▁das</text> <text style=color:black>▁wie</text> <text style=color:black>▁eine</text> <text style=color:black>▁enge</text> <text style=color:black>▁k</text> <text style=color:black>n</text> <text style=color:black>it</text> <text style=color:black>▁Familie</text> <text style=color:green>▁funktioniert</text> <text style=color:black>▁und</text> <text style=color:black>▁er</text> <text style=color:black>▁wird</text> <text style=color:black>▁sehr</text> <text style=color:black>▁vermiss</text> <text style=color:black>t</text> <text style=color:black>▁werden</text> <text style=color:black>\",</text> <text style=color:black>▁sagte</text> <text style=color:black>▁der</text> <text style=color:black>▁Sprech</text> <text style=color:black>er</text> <text style=color:black>.</text> <text style=color:black>[ cscore=1.6050571203231812, dscore=0.4085864722728729, bleu=45.51 ]</text>"
      ],
      "text/plain": [
       "<IPython.core.display.HTML object>"
      ]
     },
     "metadata": {},
     "output_type": "display_data"
    },
    {
     "data": {
      "text/html": [
       "<br>"
      ],
      "text/plain": [
       "<IPython.core.display.HTML object>"
      ]
     },
     "metadata": {},
     "output_type": "display_data"
    },
    {
     "data": {
      "text/html": [
       "<text style=color:black>▁Unsere ▁Gedanken ▁und ▁unser ▁Bei leid ▁sind ▁bei ▁Frank s ▁Familie ▁und ▁Freunden ▁in ▁dieser ▁schwierig en ▁Zeit .[ dscore=0.5129178166389465, bleu=65.99 ]</text>"
      ],
      "text/plain": [
       "<IPython.core.display.HTML object>"
      ]
     },
     "metadata": {},
     "output_type": "display_data"
    },
    {
     "data": {
      "text/html": [
       "<text style=color:black>▁Unsere</text> <text style=color:green>▁Gefühl</text> <text style=color:black>▁und</text> <text style=color:black>▁unser</text> <text style=color:black>▁Bei</text> <text style=color:black>leid</text> <text style=color:black>▁sind</text> <text style=color:black>▁bei</text> <text style=color:black>▁Frank</text> <text style=color:black>s</text> <text style=color:black>▁Familie</text> <text style=color:black>▁und</text> <text style=color:black>▁Freunden</text> <text style=color:black>▁in</text> <text style=color:black>▁dieser</text> <text style=color:black>▁schwierig</text> <text style=color:black>en</text> <text style=color:black>▁Zeit</text> <text style=color:black>.</text> <text style=color:black>[ cscore=1.4884217977523804, dscore=0.9111337661743164, bleu=53.82 ]</text>"
      ],
      "text/plain": [
       "<IPython.core.display.HTML object>"
      ]
     },
     "metadata": {},
     "output_type": "display_data"
    },
    {
     "data": {
      "text/html": [
       "<br>"
      ],
      "text/plain": [
       "<IPython.core.display.HTML object>"
      ]
     },
     "metadata": {},
     "output_type": "display_data"
    },
    {
     "data": {
      "text/html": [
       "<text style=color:black>▁Louis ▁Galicia ▁sagte ▁Frank ▁zu nächst ▁in ▁den ▁Herberge n , ▁aber ▁vor ▁kurze m : ▁„ Die ▁Dinge ▁ klapp ten ▁ihm ▁endlich ▁gut . \"[ dscore=0.7988974452018738, bleu=12.5 ]</text>"
      ],
      "text/plain": [
       "<IPython.core.display.HTML object>"
      ]
     },
     "metadata": {},
     "output_type": "display_data"
    },
    {
     "data": {
      "text/html": [
       "<text style=color:black>▁Louis</text> <text style=color:black>▁Galicia</text> <text style=color:black>▁sagte</text> <text style=color:black>▁Frank</text> <text style=color:black>▁zu</text> <text style=color:black>nächst</text> <text style=color:black>▁in</text> <text style=color:black>▁den</text> <text style=color:black>▁Herberge</text> <text style=color:black>n</text> <text style=color:black>,</text> <text style=color:black>▁aber</text> <text style=color:black>▁vor</text> <text style=color:black>▁kurze</text> <text style=color:black>m</text> <text style=color:black>:</text> <text style=color:black>▁„</text> <text style=color:black>Die</text> <text style=color:black>▁Dinge</text> <text style=color:green>▁gehen</text> <text style=color:black>klapp</text> <text style=color:black>ten</text> <text style=color:black>▁ihm</text> <text style=color:black>▁endlich</text> <text style=color:black>▁gut</text> <text style=color:black>.</text> <text style=color:black>\"</text> <text style=color:black>[ cscore=1.9759684801101685, dscore=1.3465930223464966, bleu=12.23 ]</text>"
      ],
      "text/plain": [
       "<IPython.core.display.HTML object>"
      ]
     },
     "metadata": {},
     "output_type": "display_data"
    },
    {
     "data": {
      "text/html": [
       "<br>"
      ],
      "text/plain": [
       "<IPython.core.display.HTML object>"
      ]
     },
     "metadata": {},
     "output_type": "display_data"
    },
    {
     "data": {
      "text/html": [
       "<text style=color:black>▁\" Er ▁fand ▁eine ▁Wohnung , ▁er ▁war ▁ein ▁Mädchen , \" ▁Louis ▁Gal izi en ▁sagte ▁K GO .[ dscore=0.5281389355659485, bleu=34.0 ]</text>"
      ],
      "text/plain": [
       "<IPython.core.display.HTML object>"
      ]
     },
     "metadata": {},
     "output_type": "display_data"
    },
    {
     "data": {
      "text/html": [
       "<text style=color:black>▁\"</text> <text style=color:black>Er</text> <text style=color:black>▁fand</text> <text style=color:black>▁eine</text> <text style=color:black>▁Wohnung</text> <text style=color:black>,</text> <text style=color:black>▁er</text> <text style=color:black>▁war</text> <text style=color:black>▁ein</text> <text style=color:black>▁Mädchen</text> <text style=color:black>,</text> <text style=color:black>\"</text> <text style=color:black>▁Louis</text> <text style=color:black>▁Gal</text> <text style=color:black>izi</text> <text style=color:black>en</text> <text style=color:black>▁sagte</text> <text style=color:black>▁K</text> <text style=color:black>GO</text> <text style=color:black>.</text> <text style=color:black>[ cscore=1.1716722249984741, dscore=0.5281389355659485, bleu=34.0 ]</text>"
      ],
      "text/plain": [
       "<IPython.core.display.HTML object>"
      ]
     },
     "metadata": {},
     "output_type": "display_data"
    },
    {
     "data": {
      "text/html": [
       "<br>"
      ],
      "text/plain": [
       "<IPython.core.display.HTML object>"
      ]
     },
     "metadata": {},
     "output_type": "display_data"
    },
    {
     "data": {
      "text/html": [
       "<text style=color:black>▁Louis ▁Galicia ▁sagte , ▁er ▁könne ▁niemand en ▁denken , ▁der ▁seinen ▁jüng er en ▁Bruder ▁verletz en ▁möchte .[ dscore=0.45707157254219055, bleu=26.73 ]</text>"
      ],
      "text/plain": [
       "<IPython.core.display.HTML object>"
      ]
     },
     "metadata": {},
     "output_type": "display_data"
    },
    {
     "data": {
      "text/html": [
       "<text style=color:black>▁Louis</text> <text style=color:black>▁Galicia</text> <text style=color:black>▁sagte</text> <text style=color:black>,</text> <text style=color:black>▁er</text> <text style=color:black>▁könne</text> <text style=color:black>▁niemand</text> <text style=color:black>en</text> <text style=color:black>▁denken</text> <text style=color:black>,</text> <text style=color:black>▁der</text> <text style=color:black>▁seinen</text> <text style=color:black>▁jüng</text> <text style=color:black>er</text> <text style=color:black>en</text> <text style=color:black>▁Bruder</text> <text style=color:black>▁verletz</text> <text style=color:black>en</text> <text style=color:black>▁möchte</text> <text style=color:black>.</text> <text style=color:black>[ cscore=1.7214127779006958, dscore=0.45707157254219055, bleu=26.73 ]</text>"
      ],
      "text/plain": [
       "<IPython.core.display.HTML object>"
      ]
     },
     "metadata": {},
     "output_type": "display_data"
    },
    {
     "data": {
      "text/html": [
       "<br>"
      ],
      "text/plain": [
       "<IPython.core.display.HTML object>"
      ]
     },
     "metadata": {},
     "output_type": "display_data"
    },
    {
     "data": {
      "text/html": [
       "<text style=color:black>▁Er ▁war ▁ein ▁freundlich er ▁Geist ▁mit ▁einem ▁großen ▁Herz .[ dscore=0.40280836820602417, bleu=52.54 ]</text>"
      ],
      "text/plain": [
       "<IPython.core.display.HTML object>"
      ]
     },
     "metadata": {},
     "output_type": "display_data"
    },
    {
     "data": {
      "text/html": [
       "<text style=color:black>▁Er</text> <text style=color:black>▁war</text> <text style=color:black>▁ein</text> <text style=color:black>▁freundlich</text> <text style=color:black>er</text> <text style=color:black>▁Geist</text> <text style=color:black>▁mit</text> <text style=color:black>▁einem</text> <text style=color:black>▁großen</text> <text style=color:black>▁Herz</text> <text style=color:black>.</text> <text style=color:black>[ cscore=1.9705040454864502, dscore=0.40280836820602417, bleu=52.54 ]</text>"
      ],
      "text/plain": [
       "<IPython.core.display.HTML object>"
      ]
     },
     "metadata": {},
     "output_type": "display_data"
    },
    {
     "data": {
      "text/html": [
       "<br>"
      ],
      "text/plain": [
       "<IPython.core.display.HTML object>"
      ]
     },
     "metadata": {},
     "output_type": "display_data"
    },
    {
     "data": {
      "text/html": [
       "<text style=color:black>▁Seine ▁Verbindung ▁mit ▁der ▁Familie ▁machte ▁uns ▁immer ▁zu ▁einem ▁Gericht , ▁das ▁uns ▁zum ▁Abendessen ▁machte \", ▁sagte ▁Louis ▁Galici en .[ dscore=0.520112931728363, bleu=0.0 ]</text>"
      ],
      "text/plain": [
       "<IPython.core.display.HTML object>"
      ]
     },
     "metadata": {},
     "output_type": "display_data"
    },
    {
     "data": {
      "text/html": [
       "<text style=color:black>▁Seine</text> <text style=color:black>▁Verbindung</text> <text style=color:black>▁mit</text> <text style=color:black>▁der</text> <text style=color:black>▁Familie</text> <text style=color:green>▁hat</text> <text style=color:black>▁uns</text> <text style=color:black>▁immer</text> <text style=color:black>▁zu</text> <text style=color:black>▁einem</text> <text style=color:black>▁Gericht</text> <text style=color:black>,</text> <text style=color:black>▁das</text> <text style=color:black>▁uns</text> <text style=color:black>▁zum</text> <text style=color:black>▁Abendessen</text> <text style=color:black>▁machte</text> <text style=color:black>\",</text> <text style=color:black>▁sagte</text> <text style=color:black>▁Louis</text> <text style=color:black>▁Galici</text> <text style=color:black>en</text> <text style=color:black>.</text> <text style=color:black>[ cscore=1.513554334640503, dscore=0.8294508457183838, bleu=0.0 ]</text>"
      ],
      "text/plain": [
       "<IPython.core.display.HTML object>"
      ]
     },
     "metadata": {},
     "output_type": "display_data"
    },
    {
     "data": {
      "text/html": [
       "<br>"
      ],
      "text/plain": [
       "<IPython.core.display.HTML object>"
      ]
     },
     "metadata": {},
     "output_type": "display_data"
    },
    {
     "data": {
      "text/html": [
       "<text style=color:black>▁Er ▁wollte ▁nie ▁in ▁irgendeine r ▁Weise ▁in ▁irgendeine r ▁Weise ▁von ▁Veränderungen ▁sein .[ dscore=1.0596872568130493, bleu=0.0 ]</text>"
      ],
      "text/plain": [
       "<IPython.core.display.HTML object>"
      ]
     },
     "metadata": {},
     "output_type": "display_data"
    },
    {
     "data": {
      "text/html": [
       "<text style=color:black>▁Er</text> <text style=color:black>▁wollte</text> <text style=color:black>▁nie</text> <text style=color:black>▁in</text> <text style=color:black>▁irgendeine</text> <text style=color:black>r</text> <text style=color:black>▁Weise</text> <text style=color:black>▁in</text> <text style=color:black>▁irgendeine</text> <text style=color:black>r</text> <text style=color:green>▁Art</text> <text style=color:black>▁von</text> <text style=color:green>▁Veränderung</text> <text style=color:green>▁leben</text> <text style=color:black>.</text> <text style=color:black>[ cscore=2.3171253204345703, dscore=1.2011477947235107, bleu=25.83 ]</text>"
      ],
      "text/plain": [
       "<IPython.core.display.HTML object>"
      ]
     },
     "metadata": {},
     "output_type": "display_data"
    },
    {
     "data": {
      "text/html": [
       "<br>"
      ],
      "text/plain": [
       "<IPython.core.display.HTML object>"
      ]
     },
     "metadata": {},
     "output_type": "display_data"
    },
    {
     "data": {
      "text/html": [
       "<text style=color:black>▁Er ▁war ▁der ▁Bruder , ▁der ▁mit ▁dem ▁Fluss ▁ging .[ dscore=0.3537465035915375, bleu=61.32 ]</text>"
      ],
      "text/plain": [
       "<IPython.core.display.HTML object>"
      ]
     },
     "metadata": {},
     "output_type": "display_data"
    },
    {
     "data": {
      "text/html": [
       "<text style=color:black>▁Er</text> <text style=color:black>▁war</text> <text style=color:black>▁der</text> <text style=color:black>▁Bruder</text> <text style=color:black>,</text> <text style=color:black>▁der</text> <text style=color:black>▁mit</text> <text style=color:black>▁dem</text> <text style=color:black>▁Fluss</text> <text style=color:black>▁ging</text> <text style=color:black>.</text> <text style=color:black>[ cscore=1.6226787567138672, dscore=0.3537465035915375, bleu=61.32 ]</text>"
      ],
      "text/plain": [
       "<IPython.core.display.HTML object>"
      ]
     },
     "metadata": {},
     "output_type": "display_data"
    },
    {
     "data": {
      "text/html": [
       "<br>"
      ],
      "text/plain": [
       "<IPython.core.display.HTML object>"
      ]
     },
     "metadata": {},
     "output_type": "display_data"
    },
    {
     "data": {
      "text/html": [
       "<text style=color:black>▁\" Mit ▁allem , ▁was ▁mit ▁der ▁Welt ▁schief ▁läuft , ▁war ▁er ▁der ▁Diamant ▁in ▁der ▁rau en , ▁die ▁jeden ▁Tag ▁ strahl end ▁schien \", ▁sagte ▁er .[ dscore=0.5464362502098083, bleu=28.31 ]</text>"
      ],
      "text/plain": [
       "<IPython.core.display.HTML object>"
      ]
     },
     "metadata": {},
     "output_type": "display_data"
    },
    {
     "data": {
      "text/html": [
       "<text style=color:black>▁\"</text> <text style=color:black>Mit</text> <text style=color:black>▁allem</text> <text style=color:black>,</text> <text style=color:black>▁was</text> <text style=color:black>▁mit</text> <text style=color:black>▁der</text> <text style=color:black>▁Welt</text> <text style=color:black>▁schief</text> <text style=color:black>▁läuft</text> <text style=color:black>,</text> <text style=color:black>▁war</text> <text style=color:black>▁er</text> <text style=color:green>▁jene</text> <text style=color:black>▁Diamant</text> <text style=color:black>▁in</text> <text style=color:black>▁der</text> <text style=color:green>▁grob</text> <text style=color:black>en</text> <text style=color:green>▁Maschine</text> <text style=color:black>▁die</text> <text style=color:black>▁jeden</text> <text style=color:black>▁Tag</text> <text style=color:black>▁</text> <text style=color:black>strahl</text> <text style=color:black>end</text> <text style=color:black>▁schien</text> <text style=color:black>\",</text> <text style=color:black>▁sagte</text> <text style=color:black>▁er</text> <text style=color:black>.</text> <text style=color:black>[ cscore=2.0391130447387695, dscore=0.9967603087425232, bleu=27.97 ]</text>"
      ],
      "text/plain": [
       "<IPython.core.display.HTML object>"
      ]
     },
     "metadata": {},
     "output_type": "display_data"
    },
    {
     "data": {
      "text/html": [
       "<br>"
      ],
      "text/plain": [
       "<IPython.core.display.HTML object>"
      ]
     },
     "metadata": {},
     "output_type": "display_data"
    },
    {
     "data": {
      "text/html": [
       "<text style=color:black>▁Jeder , ▁der ▁Informationen ▁hat , ▁wird ▁gebe ten , ▁die ▁S F PD - T ipp - Linie ▁unter ▁4 15 -5 75 - 44 44 ▁anzu rufen .[ dscore=0.529942512512207, bleu=49.06 ]</text>"
      ],
      "text/plain": [
       "<IPython.core.display.HTML object>"
      ]
     },
     "metadata": {},
     "output_type": "display_data"
    },
    {
     "data": {
      "text/html": [
       "<text style=color:black>▁Jeder</text> <text style=color:black>,</text> <text style=color:black>▁der</text> <text style=color:green>▁über</text> <text style=color:black>▁hat</text> <text style=color:black>,</text> <text style=color:black>▁wird</text> <text style=color:black>▁gebe</text> <text style=color:black>ten</text> <text style=color:black>,</text> <text style=color:black>▁die</text> <text style=color:black>▁S</text> <text style=color:black>F</text> <text style=color:black>PD</text> <text style=color:black>-</text> <text style=color:black>T</text> <text style=color:black>ipp</text> <text style=color:black>-</text> <text style=color:black>Linie</text> <text style=color:black>▁unter</text> <text style=color:black>▁4</text> <text style=color:black>15</text> <text style=color:black>-5</text> <text style=color:black>75</text> <text style=color:black>-</text> <text style=color:black>44</text> <text style=color:black>44</text> <text style=color:black>▁anzu</text> <text style=color:black>rufen</text> <text style=color:black>.</text> <text style=color:black>[ cscore=1.8608603477478027, dscore=1.1606014966964722, bleu=45.46 ]</text>"
      ],
      "text/plain": [
       "<IPython.core.display.HTML object>"
      ]
     },
     "metadata": {},
     "output_type": "display_data"
    },
    {
     "data": {
      "text/html": [
       "<br>"
      ],
      "text/plain": [
       "<IPython.core.display.HTML object>"
      ]
     },
     "metadata": {},
     "output_type": "display_data"
    },
    {
     "data": {
      "text/html": [
       "<text style=color:black>▁J en ni fer ▁An ist on : ▁Ich ▁bin ▁immer ▁mit ▁P ig e on en ▁gef ütter t .[ dscore=0.8773913383483887, bleu=41.01 ]</text>"
      ],
      "text/plain": [
       "<IPython.core.display.HTML object>"
      ]
     },
     "metadata": {},
     "output_type": "display_data"
    },
    {
     "data": {
      "text/html": [
       "<text style=color:black>▁J</text> <text style=color:black>en</text> <text style=color:black>ni</text> <text style=color:black>fer</text> <text style=color:black>▁An</text> <text style=color:black>ist</text> <text style=color:black>on</text> <text style=color:black>:</text> <text style=color:black>▁Ich</text> <text style=color:black>▁bin</text> <text style=color:black>▁immer</text> <text style=color:black>▁mit</text> <text style=color:black>▁P</text> <text style=color:black>ig</text> <text style=color:black>e</text> <text style=color:black>on</text> <text style=color:black>en</text> <text style=color:green>g</text> <text style=color:black>ütter</text> <text style=color:black>t</text> <text style=color:black>.</text> <text style=color:black>[ cscore=2.204559326171875, dscore=1.9460837841033936, bleu=41.01 ]</text>"
      ],
      "text/plain": [
       "<IPython.core.display.HTML object>"
      ]
     },
     "metadata": {},
     "output_type": "display_data"
    },
    {
     "data": {
      "text/html": [
       "<br>"
      ],
      "text/plain": [
       "<IPython.core.display.HTML object>"
      ]
     },
     "metadata": {},
     "output_type": "display_data"
    },
    {
     "data": {
      "text/html": [
       "<text style=color:black>▁J en ni fer ▁An ist on ▁muss ▁nicht ▁immer ▁perfekt ▁oder ▁erfolgreich ▁sein .[ dscore=0.1678551286458969, bleu=100.0 ]</text>"
      ],
      "text/plain": [
       "<IPython.core.display.HTML object>"
      ]
     },
     "metadata": {},
     "output_type": "display_data"
    },
    {
     "data": {
      "text/html": [
       "<text style=color:black>▁J</text> <text style=color:black>en</text> <text style=color:black>ni</text> <text style=color:black>fer</text> <text style=color:black>▁An</text> <text style=color:black>ist</text> <text style=color:black>on</text> <text style=color:black>▁muss</text> <text style=color:black>▁nicht</text> <text style=color:black>▁immer</text> <text style=color:black>▁perfekt</text> <text style=color:black>▁oder</text> <text style=color:black>▁erfolgreich</text> <text style=color:black>▁sein</text> <text style=color:black>.</text> <text style=color:black>[ cscore=1.1885985136032104, dscore=0.1678551286458969, bleu=100.0 ]</text>"
      ],
      "text/plain": [
       "<IPython.core.display.HTML object>"
      ]
     },
     "metadata": {},
     "output_type": "display_data"
    },
    {
     "data": {
      "text/html": [
       "<br>"
      ],
      "text/plain": [
       "<IPython.core.display.HTML object>"
      ]
     },
     "metadata": {},
     "output_type": "display_data"
    },
    {
     "data": {
      "text/html": [
       "<text style=color:black>▁Das ▁hat ▁der ▁Hollywood - Star ▁in ▁einem ▁Interview ▁mehr ▁als ▁deutlich ▁gemacht .[ dscore=0.3610643446445465, bleu=61.15 ]</text>"
      ],
      "text/plain": [
       "<IPython.core.display.HTML object>"
      ]
     },
     "metadata": {},
     "output_type": "display_data"
    },
    {
     "data": {
      "text/html": [
       "<text style=color:black>▁Das</text> <text style=color:black>▁hat</text> <text style=color:black>▁der</text> <text style=color:black>▁Hollywood</text> <text style=color:black>-</text> <text style=color:black>Star</text> <text style=color:black>▁in</text> <text style=color:black>▁einem</text> <text style=color:black>▁Interview</text> <text style=color:black>▁mehr</text> <text style=color:black>▁als</text> <text style=color:black>▁deutlich</text> <text style=color:black>▁gemacht</text> <text style=color:black>.</text> <text style=color:black>[ cscore=1.600045919418335, dscore=0.3610643446445465, bleu=61.15 ]</text>"
      ],
      "text/plain": [
       "<IPython.core.display.HTML object>"
      ]
     },
     "metadata": {},
     "output_type": "display_data"
    },
    {
     "data": {
      "text/html": [
       "<br>"
      ],
      "text/plain": [
       "<IPython.core.display.HTML object>"
      ]
     },
     "metadata": {},
     "output_type": "display_data"
    },
    {
     "data": {
      "text/html": [
       "<text style=color:black>▁\" Ich ▁bin ▁immer ▁mit ▁einem ▁P ig ment ▁be kleide t ▁oder ▁von ▁jemand em ▁gekennzeichnet , ▁der , ▁wenn ▁überhaupt , ▁wenig ▁mit ▁mir ▁und ▁der ▁Realität ▁zu ▁tun ▁hat . ▁\"[ dscore=0.7506160736083984, bleu=15.06 ]</text>"
      ],
      "text/plain": [
       "<IPython.core.display.HTML object>"
      ]
     },
     "metadata": {},
     "output_type": "display_data"
    },
    {
     "data": {
      "text/html": [
       "<text style=color:black>▁\"</text> <text style=color:black>Ich</text> <text style=color:black>▁bin</text> <text style=color:black>▁immer</text> <text style=color:black>▁mit</text> <text style=color:green>▁P</text> <text style=color:black>▁P</text> <text style=color:black>ig</text> <text style=color:green>eu</text> <text style=color:black>▁be</text> <text style=color:black>kleide</text> <text style=color:black>t</text> <text style=color:black>▁oder</text> <text style=color:black>▁von</text> <text style=color:black>▁jemand</text> <text style=color:black>em</text> <text style=color:black>▁gekennzeichnet</text> <text style=color:black>,</text> <text style=color:black>▁der</text> <text style=color:black>,</text> <text style=color:black>▁wenn</text> <text style=color:black>▁überhaupt</text> <text style=color:black>,</text> <text style=color:black>▁wenig</text> <text style=color:black>▁mit</text> <text style=color:black>▁mir</text> <text style=color:black>▁und</text> <text style=color:black>▁der</text> <text style=color:black>▁Realität</text> <text style=color:black>▁zu</text> <text style=color:black>▁tun</text> <text style=color:black>▁hat</text> <text style=color:black>.</text> <text style=color:black>▁\"</text> <text style=color:black>[ cscore=2.384376049041748, dscore=1.3915789127349854, bleu=15.06 ]</text>"
      ],
      "text/plain": [
       "<IPython.core.display.HTML object>"
      ]
     },
     "metadata": {},
     "output_type": "display_data"
    },
    {
     "data": {
      "text/html": [
       "<br>"
      ],
      "text/plain": [
       "<IPython.core.display.HTML object>"
      ]
     },
     "metadata": {},
     "output_type": "display_data"
    },
    {
     "data": {
      "text/html": [
       "<text style=color:black>▁\" Per s ö n lich ▁habe ▁ich ▁keine n ▁Wunsch , ▁immer ▁perfekt ▁und ▁erfolgreich ▁zu ▁sein . ▁\"[ dscore=0.48416948318481445, bleu=41.53 ]</text>"
      ],
      "text/plain": [
       "<IPython.core.display.HTML object>"
      ]
     },
     "metadata": {},
     "output_type": "display_data"
    },
    {
     "data": {
      "text/html": [
       "<text style=color:black>▁\"</text> <text style=color:black>Per</text> <text style=color:black>s</text> <text style=color:black>ö</text> <text style=color:black>n</text> <text style=color:black>lich</text> <text style=color:black>▁habe</text> <text style=color:black>▁ich</text> <text style=color:black>▁keine</text> <text style=color:black>n</text> <text style=color:black>▁Wunsch</text> <text style=color:black>,</text> <text style=color:black>▁immer</text> <text style=color:black>▁perfekt</text> <text style=color:black>▁und</text> <text style=color:black>▁erfolgreich</text> <text style=color:black>▁zu</text> <text style=color:black>▁sein</text> <text style=color:black>.</text> <text style=color:green>\"</text> <text style=color:black>[ cscore=1.5339939594268799, dscore=0.4863690137863159, bleu=44.39 ]</text>"
      ],
      "text/plain": [
       "<IPython.core.display.HTML object>"
      ]
     },
     "metadata": {},
     "output_type": "display_data"
    },
    {
     "data": {
      "text/html": [
       "<br>"
      ],
      "text/plain": [
       "<IPython.core.display.HTML object>"
      ]
     },
     "metadata": {},
     "output_type": "display_data"
    },
    {
     "data": {
      "text/html": [
       "<text style=color:black>▁\" Um ▁ehrlich ▁zu ▁sein , ▁gebe ▁ich ▁keine n ▁wirklich en ▁Ver damm nis ▁über ▁solche ▁Dinge . \"[ dscore=0.5508469343185425, bleu=0.0 ]</text>"
      ],
      "text/plain": [
       "<IPython.core.display.HTML object>"
      ]
     },
     "metadata": {},
     "output_type": "display_data"
    },
    {
     "data": {
      "text/html": [
       "<text style=color:black>▁\"</text> <text style=color:black>Um</text> <text style=color:black>▁ehrlich</text> <text style=color:black>▁zu</text> <text style=color:black>▁sein</text> <text style=color:black>,</text> <text style=color:black>▁gebe</text> <text style=color:black>▁ich</text> <text style=color:black>▁keine</text> <text style=color:black>n</text> <text style=color:black>▁wirklich</text> <text style=color:black>en</text> <text style=color:black>▁Ver</text> <text style=color:black>damm</text> <text style=color:black>nis</text> <text style=color:black>▁über</text> <text style=color:black>▁solche</text> <text style=color:black>▁Dinge</text> <text style=color:black>.</text> <text style=color:black>\"</text> <text style=color:black>[ cscore=1.3480722904205322, dscore=0.5508469343185425, bleu=0.0 ]</text>"
      ],
      "text/plain": [
       "<IPython.core.display.HTML object>"
      ]
     },
     "metadata": {},
     "output_type": "display_data"
    },
    {
     "data": {
      "text/html": [
       "<br>"
      ],
      "text/plain": [
       "<IPython.core.display.HTML object>"
      ]
     },
     "metadata": {},
     "output_type": "display_data"
    },
    {
     "data": {
      "text/html": [
       "<text style=color:black>▁J en ni fer ▁An ist on ▁( 47 ) ▁kann ▁nur ▁la chen , ▁dass ▁sie ▁in ▁der ▁aktuelle n ▁Ausgabe ▁von ▁\" K osmopolit an \" ▁als ▁\" Mi s s ▁Perfect \" ▁bezeichnet ▁wurde .[ dscore=0.23542645573616028, bleu=63.61 ]</text>"
      ],
      "text/plain": [
       "<IPython.core.display.HTML object>"
      ]
     },
     "metadata": {},
     "output_type": "display_data"
    },
    {
     "data": {
      "text/html": [
       "<text style=color:black>▁J</text> <text style=color:black>en</text> <text style=color:black>ni</text> <text style=color:black>fer</text> <text style=color:black>▁An</text> <text style=color:black>ist</text> <text style=color:black>on</text> <text style=color:black>▁(</text> <text style=color:black>47</text> <text style=color:black>)</text> <text style=color:black>▁kann</text> <text style=color:black>▁nur</text> <text style=color:black>▁la</text> <text style=color:black>chen</text> <text style=color:black>,</text> <text style=color:black>▁dass</text> <text style=color:black>▁sie</text> <text style=color:black>▁in</text> <text style=color:black>▁der</text> <text style=color:black>▁aktuelle</text> <text style=color:black>n</text> <text style=color:black>▁Ausgabe</text> <text style=color:black>▁von</text> <text style=color:black>▁\"</text> <text style=color:black>K</text> <text style=color:black>osmopolit</text> <text style=color:black>an</text> <text style=color:black>\"</text> <text style=color:black>▁als</text> <text style=color:black>▁\"</text> <text style=color:black>Mi</text> <text style=color:black>s</text> <text style=color:black>s</text> <text style=color:black>▁Perfect</text> <text style=color:black>\"</text> <text style=color:black>▁bezeichnet</text> <text style=color:black>▁wurde</text> <text style=color:black>.</text> <text style=color:black>[ cscore=1.519295334815979, dscore=0.23542645573616028, bleu=63.61 ]</text>"
      ],
      "text/plain": [
       "<IPython.core.display.HTML object>"
      ]
     },
     "metadata": {},
     "output_type": "display_data"
    },
    {
     "data": {
      "text/html": [
       "<br>"
      ],
      "text/plain": [
       "<IPython.core.display.HTML object>"
      ]
     },
     "metadata": {},
     "output_type": "display_data"
    },
    {
     "data": {
      "text/html": [
       "<text style=color:black>▁Die ▁Schauspieler in ▁ zieht ▁es ▁vor , ▁ihre ▁Zeit ▁zu ▁Hause ▁vor ▁dem ▁Fernsehen ▁mit ▁ihre m ▁Haar ▁in ▁einem ▁entspannt en ▁Bu n ▁zu ▁verbringen , ▁essen ▁mex ikanische ▁Lebensmittel , ▁berichtet ▁die ▁Zeitschrift .[ dscore=0.5059648752212524, bleu=0.0 ]</text>"
      ],
      "text/plain": [
       "<IPython.core.display.HTML object>"
      ]
     },
     "metadata": {},
     "output_type": "display_data"
    },
    {
     "data": {
      "text/html": [
       "<text style=color:green>▁Sie</text> <text style=color:black>▁Schauspieler</text> <text style=color:black>in</text> <text style=color:black>▁</text> <text style=color:black>zieht</text> <text style=color:black>▁es</text> <text style=color:black>▁vor</text> <text style=color:black>,</text> <text style=color:black>▁ihre</text> <text style=color:black>▁Zeit</text> <text style=color:black>▁zu</text> <text style=color:black>▁Hause</text> <text style=color:black>▁vor</text> <text style=color:black>▁dem</text> <text style=color:black>▁Fernsehen</text> <text style=color:black>▁mit</text> <text style=color:black>▁ihre</text> <text style=color:black>m</text> <text style=color:black>▁Haar</text> <text style=color:black>▁in</text> <text style=color:black>▁einem</text> <text style=color:black>▁entspannt</text> <text style=color:black>en</text> <text style=color:green>▁bu</text> <text style=color:black>n</text> <text style=color:black>▁zu</text> <text style=color:black>▁verbringen</text> <text style=color:black>,</text> <text style=color:black>▁essen</text> <text style=color:black>▁mex</text> <text style=color:black>ikanische</text> <text style=color:black>▁Lebensmittel</text> <text style=color:black>,</text> <text style=color:black>▁berichtet</text> <text style=color:black>▁die</text> <text style=color:black>▁Zeitschrift</text> <text style=color:black>.</text> <text style=color:black>[ cscore=1.9639503955841064, dscore=0.9045822024345398, bleu=0.0 ]</text>"
      ],
      "text/plain": [
       "<IPython.core.display.HTML object>"
      ]
     },
     "metadata": {},
     "output_type": "display_data"
    },
    {
     "data": {
      "text/html": [
       "<br>"
      ],
      "text/plain": [
       "<IPython.core.display.HTML object>"
      ]
     },
     "metadata": {},
     "output_type": "display_data"
    },
    {
     "data": {
      "text/html": [
       "<text style=color:black>▁Die ▁Frage , ▁ob ▁sie ▁Kinder ▁haben ▁möchte , ▁ist ▁ihre ▁Lü ge : ▁\" Wir ▁Frauen ▁brauchen ▁nicht ▁verhe irate t ▁zu ▁werden ▁oder ▁Kinder ▁zu ▁haben , ▁um ▁sich ▁erfüllt ▁zu ▁fühl en \", ▁sagt ▁der ▁Hollywood - Star .[ dscore=0.6018204689025879, bleu=22.27 ]</text>"
      ],
      "text/plain": [
       "<IPython.core.display.HTML object>"
      ]
     },
     "metadata": {},
     "output_type": "display_data"
    },
    {
     "data": {
      "text/html": [
       "<text style=color:black>▁Die</text> <text style=color:black>▁Frage</text> <text style=color:black>,</text> <text style=color:black>▁ob</text> <text style=color:black>▁sie</text> <text style=color:black>▁Kinder</text> <text style=color:black>▁haben</text> <text style=color:black>▁möchte</text> <text style=color:black>,</text> <text style=color:black>▁ist</text> <text style=color:green>▁</text> <text style=color:black>▁Lü</text> <text style=color:black>ge</text> <text style=color:black>:</text> <text style=color:black>▁\"</text> <text style=color:black>Wir</text> <text style=color:black>▁Frauen</text> <text style=color:black>▁brauchen</text> <text style=color:black>▁nicht</text> <text style=color:black>▁verhe</text> <text style=color:black>irate</text> <text style=color:black>t</text> <text style=color:black>▁zu</text> <text style=color:green>▁sein</text> <text style=color:black>▁oder</text> <text style=color:black>▁Kinder</text> <text style=color:black>▁zu</text> <text style=color:black>▁haben</text> <text style=color:black>,</text> <text style=color:black>▁um</text> <text style=color:black>▁sich</text> <text style=color:black>▁erfüllt</text> <text style=color:black>▁zu</text> <text style=color:black>▁fühl</text> <text style=color:black>en</text> <text style=color:black>\",</text> <text style=color:black>▁sagt</text> <text style=color:black>▁der</text> <text style=color:black>▁Hollywood</text> <text style=color:black>-</text> <text style=color:black>Star</text> <text style=color:black>.</text> <text style=color:black>[ cscore=2.185471296310425, dscore=0.8382052183151245, bleu=24.13 ]</text>"
      ],
      "text/plain": [
       "<IPython.core.display.HTML object>"
      ]
     },
     "metadata": {},
     "output_type": "display_data"
    },
    {
     "data": {
      "text/html": [
       "<br>"
      ],
      "text/plain": [
       "<IPython.core.display.HTML object>"
      ]
     },
     "metadata": {},
     "output_type": "display_data"
    },
    {
     "data": {
      "text/html": [
       "<text style=color:black>▁In ▁ihre m ▁neue n ▁Film ▁\" M other ' s ▁Day ▁- ▁love ▁is n ' t ▁child ' s ▁play \" ▁ schlägt ▁An ist on ▁als ▁eine ▁allein er ziehen de ▁Mutter ▁mit ▁zwei ▁Söhne n .[ dscore=0.39282190799713135, bleu=54.6 ]</text>"
      ],
      "text/plain": [
       "<IPython.core.display.HTML object>"
      ]
     },
     "metadata": {},
     "output_type": "display_data"
    },
    {
     "data": {
      "text/html": [
       "<text style=color:black>▁In</text> <text style=color:black>▁ihre</text> <text style=color:black>m</text> <text style=color:black>▁neue</text> <text style=color:black>n</text> <text style=color:black>▁Film</text> <text style=color:black>▁\"</text> <text style=color:black>M</text> <text style=color:black>other</text> <text style=color:black>'</text> <text style=color:black>s</text> <text style=color:black>▁Day</text> <text style=color:black>▁-</text> <text style=color:green>▁Love</text> <text style=color:black>▁is</text> <text style=color:black>n</text> <text style=color:black>'</text> <text style=color:black>t</text> <text style=color:black>▁child</text> <text style=color:black>'</text> <text style=color:black>s</text> <text style=color:black>▁play</text> <text style=color:green>▁\"</text> <text style=color:black>▁</text> <text style=color:black>schlägt</text> <text style=color:black>▁An</text> <text style=color:black>ist</text> <text style=color:black>on</text> <text style=color:black>▁als</text> <text style=color:black>▁eine</text> <text style=color:black>▁allein</text> <text style=color:green>▁er</text> <text style=color:black>ziehen</text> <text style=color:black>de</text> <text style=color:black>▁Mutter</text> <text style=color:black>▁mit</text> <text style=color:black>▁zwei</text> <text style=color:black>▁Söhne</text> <text style=color:black>n</text> <text style=color:black>.</text> <text style=color:black>[ cscore=1.3453096151351929, dscore=0.5531466007232666, bleu=46.75 ]</text>"
      ],
      "text/plain": [
       "<IPython.core.display.HTML object>"
      ]
     },
     "metadata": {},
     "output_type": "display_data"
    },
    {
     "data": {
      "text/html": [
       "<br>"
      ],
      "text/plain": [
       "<IPython.core.display.HTML object>"
      ]
     },
     "metadata": {},
     "output_type": "display_data"
    },
    {
     "data": {
      "text/html": [
       "<text style=color:black>▁Der ▁Film ▁wird ▁am ▁25. ▁August ▁in ▁Deutschland ▁veröffentlicht .[ dscore=0.3767436146736145, bleu=0.0 ]</text>"
      ],
      "text/plain": [
       "<IPython.core.display.HTML object>"
      ]
     },
     "metadata": {},
     "output_type": "display_data"
    },
    {
     "data": {
      "text/html": [
       "<text style=color:black>▁Der</text> <text style=color:black>▁Film</text> <text style=color:black>▁wird</text> <text style=color:black>▁am</text> <text style=color:black>▁25.</text> <text style=color:black>▁August</text> <text style=color:black>▁in</text> <text style=color:black>▁Deutschland</text> <text style=color:black>▁veröffentlicht</text> <text style=color:black>.</text> <text style=color:black>[ cscore=1.5540610551834106, dscore=0.3767436146736145, bleu=0.0 ]</text>"
      ],
      "text/plain": [
       "<IPython.core.display.HTML object>"
      ]
     },
     "metadata": {},
     "output_type": "display_data"
    },
    {
     "data": {
      "text/html": [
       "<br>"
      ],
      "text/plain": [
       "<IPython.core.display.HTML object>"
      ]
     },
     "metadata": {},
     "output_type": "display_data"
    },
    {
     "data": {
      "text/html": [
       "<text style=color:black>▁Golf er ▁Lang er ▁wird ▁mit ▁der ▁Sport ▁Py ram ide ▁ausgezeichnet .[ dscore=0.4223611056804657, bleu=23.8 ]</text>"
      ],
      "text/plain": [
       "<IPython.core.display.HTML object>"
      ]
     },
     "metadata": {},
     "output_type": "display_data"
    },
    {
     "data": {
      "text/html": [
       "<text style=color:black>▁Golf</text> <text style=color:black>er</text> <text style=color:black>▁Lang</text> <text style=color:black>er</text> <text style=color:black>▁wird</text> <text style=color:green>▁von</text> <text style=color:black>▁der</text> <text style=color:black>▁Sport</text> <text style=color:black>▁Py</text> <text style=color:black>ram</text> <text style=color:black>ide</text> <text style=color:black>▁ausgezeichnet</text> <text style=color:black>.</text> <text style=color:black>[ cscore=1.7944890260696411, dscore=0.6960044503211975, bleu=23.8 ]</text>"
      ],
      "text/plain": [
       "<IPython.core.display.HTML object>"
      ]
     },
     "metadata": {},
     "output_type": "display_data"
    },
    {
     "data": {
      "text/html": [
       "<br>"
      ],
      "text/plain": [
       "<IPython.core.display.HTML object>"
      ]
     },
     "metadata": {},
     "output_type": "display_data"
    },
    {
     "data": {
      "text/html": [
       "<text style=color:black>▁Seine ▁Erfahrung en ▁auf ▁dem ▁Pferd ▁sind ▁vernachlässig bar .[ dscore=0.5811247825622559, bleu=66.06 ]</text>"
      ],
      "text/plain": [
       "<IPython.core.display.HTML object>"
      ]
     },
     "metadata": {},
     "output_type": "display_data"
    },
    {
     "data": {
      "text/html": [
       "<text style=color:black>▁Seine</text> <text style=color:black>▁Erfahrung</text> <text style=color:black>en</text> <text style=color:black>▁auf</text> <text style=color:black>▁dem</text> <text style=color:black>▁Pferd</text> <text style=color:green>▁zu</text> <text style=color:black>▁vernachlässig</text> <text style=color:black>bar</text> <text style=color:black>.</text> <text style=color:black>[ cscore=1.8234646320343018, dscore=2.4308128356933594, bleu=53.73 ]</text>"
      ],
      "text/plain": [
       "<IPython.core.display.HTML object>"
      ]
     },
     "metadata": {},
     "output_type": "display_data"
    },
    {
     "data": {
      "text/html": [
       "<br>"
      ],
      "text/plain": [
       "<IPython.core.display.HTML object>"
      ]
     },
     "metadata": {},
     "output_type": "display_data"
    },
    {
     "data": {
      "text/html": [
       "<text style=color:black>▁Am ▁Ende ▁eines ▁Golf t urnier s ▁in ▁Südafrika ▁ fuhr en ▁Bernhard ▁Lang er ▁und ▁ein ▁Kolleg e ▁für ▁ein ▁wenig ▁Spaß ▁am ▁Strand ▁entlang .[ dscore=0.3473149836063385, bleu=37.03 ]</text>"
      ],
      "text/plain": [
       "<IPython.core.display.HTML object>"
      ]
     },
     "metadata": {},
     "output_type": "display_data"
    },
    {
     "data": {
      "text/html": [
       "<text style=color:black>▁Am</text> <text style=color:black>▁Ende</text> <text style=color:black>▁eines</text> <text style=color:black>▁Golf</text> <text style=color:black>t</text> <text style=color:black>urnier</text> <text style=color:black>s</text> <text style=color:black>▁in</text> <text style=color:black>▁Südafrika</text> <text style=color:black>▁</text> <text style=color:black>fuhr</text> <text style=color:black>en</text> <text style=color:black>▁Bernhard</text> <text style=color:black>▁Lang</text> <text style=color:black>er</text> <text style=color:black>▁und</text> <text style=color:black>▁ein</text> <text style=color:black>▁Kolleg</text> <text style=color:black>e</text> <text style=color:black>▁für</text> <text style=color:black>▁ein</text> <text style=color:black>▁wenig</text> <text style=color:black>▁Spaß</text> <text style=color:black>▁am</text> <text style=color:black>▁Strand</text> <text style=color:black>▁entlang</text> <text style=color:black>.</text> <text style=color:black>[ cscore=1.3445950746536255, dscore=0.3473149836063385, bleu=37.03 ]</text>"
      ],
      "text/plain": [
       "<IPython.core.display.HTML object>"
      ]
     },
     "metadata": {},
     "output_type": "display_data"
    },
    {
     "data": {
      "text/html": [
       "<br>"
      ],
      "text/plain": [
       "<IPython.core.display.HTML object>"
      ]
     },
     "metadata": {},
     "output_type": "display_data"
    },
    {
     "data": {
      "text/html": [
       "<text style=color:black>▁Es ▁war ▁ein ▁erst er ▁für ▁den ▁58 - jährige n .[ dscore=0.5009310841560364, bleu=0.0 ]</text>"
      ],
      "text/plain": [
       "<IPython.core.display.HTML object>"
      ]
     },
     "metadata": {},
     "output_type": "display_data"
    },
    {
     "data": {
      "text/html": [
       "<text style=color:black>▁Es</text> <text style=color:black>▁war</text> <text style=color:black>▁ein</text> <text style=color:black>▁erst</text> <text style=color:black>er</text> <text style=color:black>▁für</text> <text style=color:black>▁den</text> <text style=color:black>▁58</text> <text style=color:black>-</text> <text style=color:black>jährige</text> <text style=color:black>n</text> <text style=color:black>.</text> <text style=color:black>[ cscore=1.3118575811386108, dscore=0.5009310841560364, bleu=0.0 ]</text>"
      ],
      "text/plain": [
       "<IPython.core.display.HTML object>"
      ]
     },
     "metadata": {},
     "output_type": "display_data"
    },
    {
     "data": {
      "text/html": [
       "<br>"
      ],
      "text/plain": [
       "<IPython.core.display.HTML object>"
      ]
     },
     "metadata": {},
     "output_type": "display_data"
    },
    {
     "data": {
      "text/html": [
       "<text style=color:black>▁CH IO : ▁\" G old en e ▁Sport py ram ide ▁für ▁Bernhard ▁Lang er \"[ dscore=0.27801209688186646, bleu=76.25 ]</text>"
      ],
      "text/plain": [
       "<IPython.core.display.HTML object>"
      ]
     },
     "metadata": {},
     "output_type": "display_data"
    },
    {
     "data": {
      "text/html": [
       "<text style=color:black>▁CH</text> <text style=color:black>IO</text> <text style=color:black>:</text> <text style=color:black>▁\"</text> <text style=color:black>G</text> <text style=color:black>old</text> <text style=color:black>en</text> <text style=color:black>e</text> <text style=color:black>▁Sport</text> <text style=color:black>py</text> <text style=color:black>ram</text> <text style=color:black>ide</text> <text style=color:black>▁für</text> <text style=color:black>▁Bernhard</text> <text style=color:black>▁Lang</text> <text style=color:black>er</text> <text style=color:green>\".</text> <text style=color:black>[ cscore=1.1424641609191895, dscore=0.3542429804801941, bleu=77.49 ]</text>"
      ],
      "text/plain": [
       "<IPython.core.display.HTML object>"
      ]
     },
     "metadata": {},
     "output_type": "display_data"
    },
    {
     "data": {
      "text/html": [
       "<br>"
      ],
      "text/plain": [
       "<IPython.core.display.HTML object>"
      ]
     },
     "metadata": {},
     "output_type": "display_data"
    },
    {
     "data": {
      "text/html": [
       "<text style=color:black>▁Nach ▁ein ▁paar ▁Minuten ▁entschied ▁das ▁Pferd , ▁es ▁wollte ▁nach ▁Hause ▁gehen , ▁und ▁ fuhr ▁zurück ▁zu ▁seine m ▁Futter tro g ▁bei ▁volle m ▁Til t .[ dscore=0.590915322303772, bleu=0.0 ]</text>"
      ],
      "text/plain": [
       "<IPython.core.display.HTML object>"
      ]
     },
     "metadata": {},
     "output_type": "display_data"
    },
    {
     "data": {
      "text/html": [
       "<text style=color:black>▁Nach</text> <text style=color:black>▁ein</text> <text style=color:black>▁paar</text> <text style=color:black>▁Minuten</text> <text style=color:black>▁entschied</text> <text style=color:black>▁das</text> <text style=color:black>▁Pferd</text> <text style=color:black>,</text> <text style=color:black>▁es</text> <text style=color:black>▁wollte</text> <text style=color:black>▁nach</text> <text style=color:black>▁Hause</text> <text style=color:black>▁gehen</text> <text style=color:black>,</text> <text style=color:black>▁und</text> <text style=color:black>▁</text> <text style=color:black>fuhr</text> <text style=color:black>▁zurück</text> <text style=color:black>▁zu</text> <text style=color:black>▁seine</text> <text style=color:black>m</text> <text style=color:black>▁Futter</text> <text style=color:black>tro</text> <text style=color:black>g</text> <text style=color:black>▁bei</text> <text style=color:black>▁volle</text> <text style=color:black>m</text> <text style=color:black>▁Til</text> <text style=color:black>t</text> <text style=color:black>.</text> <text style=color:black>[ cscore=1.5400210618972778, dscore=0.590915322303772, bleu=0.0 ]</text>"
      ],
      "text/plain": [
       "<IPython.core.display.HTML object>"
      ]
     },
     "metadata": {},
     "output_type": "display_data"
    },
    {
     "data": {
      "text/html": [
       "<br>"
      ],
      "text/plain": [
       "<IPython.core.display.HTML object>"
      ]
     },
     "metadata": {},
     "output_type": "display_data"
    },
    {
     "data": {
      "text/html": [
       "<text style=color:black>▁Nach ▁einem ▁Kilometer ▁mit ▁dieser ▁Geschwindigkeit ▁war ▁ich ▁Angst .[ dscore=0.4189392626285553, bleu=0.0 ]</text>"
      ],
      "text/plain": [
       "<IPython.core.display.HTML object>"
      ]
     },
     "metadata": {},
     "output_type": "display_data"
    },
    {
     "data": {
      "text/html": [
       "<text style=color:black>▁Nach</text> <text style=color:black>▁einem</text> <text style=color:black>▁Kilometer</text> <text style=color:black>▁mit</text> <text style=color:black>▁dieser</text> <text style=color:black>▁Geschwindigkeit</text> <text style=color:green>▁hatte</text> <text style=color:black>▁ich</text> <text style=color:black>▁Angst</text> <text style=color:black>.</text> <text style=color:black>[ cscore=1.6339874267578125, dscore=0.34349122643470764, bleu=0.0 ]</text>"
      ],
      "text/plain": [
       "<IPython.core.display.HTML object>"
      ]
     },
     "metadata": {},
     "output_type": "display_data"
    },
    {
     "data": {
      "text/html": [
       "<br>"
      ],
      "text/plain": [
       "<IPython.core.display.HTML object>"
      ]
     },
     "metadata": {},
     "output_type": "display_data"
    },
    {
     "data": {
      "text/html": [
       "<text style=color:black>▁\" Es ▁war ▁keine ▁gute ▁Erfahrung \", ▁sagte ▁Lang er .[ dscore=0.2565825283527374, bleu=0.0 ]</text>"
      ],
      "text/plain": [
       "<IPython.core.display.HTML object>"
      ]
     },
     "metadata": {},
     "output_type": "display_data"
    },
    {
     "data": {
      "text/html": [
       "<text style=color:black>▁\"</text> <text style=color:black>Es</text> <text style=color:black>▁war</text> <text style=color:black>▁keine</text> <text style=color:black>▁gute</text> <text style=color:black>▁Erfahrung</text> <text style=color:black>\",</text> <text style=color:black>▁sagte</text> <text style=color:black>▁Lang</text> <text style=color:black>er</text> <text style=color:black>.</text> <text style=color:black>[ cscore=1.1241008043289185, dscore=0.2565825283527374, bleu=0.0 ]</text>"
      ],
      "text/plain": [
       "<IPython.core.display.HTML object>"
      ]
     },
     "metadata": {},
     "output_type": "display_data"
    },
    {
     "data": {
      "text/html": [
       "<br>"
      ],
      "text/plain": [
       "<IPython.core.display.HTML object>"
      ]
     },
     "metadata": {},
     "output_type": "display_data"
    },
    {
     "data": {
      "text/html": [
       "<text style=color:black>▁Und ▁damit ▁ist ▁seine ▁Karriere ▁im ▁Reit sport ▁wieder ▁zu ▁Ende ▁gegangen .[ dscore=0.7693734765052795, bleu=0.0 ]</text>"
      ],
      "text/plain": [
       "<IPython.core.display.HTML object>"
      ]
     },
     "metadata": {},
     "output_type": "display_data"
    },
    {
     "data": {
      "text/html": [
       "<text style=color:black>▁Und</text> <text style=color:black>▁damit</text> <text style=color:black>▁ist</text> <text style=color:black>▁seine</text> <text style=color:black>▁Karriere</text> <text style=color:black>▁im</text> <text style=color:green>▁Reiter</text> <text style=color:black>sport</text> <text style=color:black>▁wieder</text> <text style=color:black>▁zu</text> <text style=color:black>▁Ende</text> <text style=color:black>▁gegangen</text> <text style=color:black>.</text> <text style=color:black>[ cscore=1.710274338722229, dscore=1.0200601816177368, bleu=0.0 ]</text>"
      ],
      "text/plain": [
       "<IPython.core.display.HTML object>"
      ]
     },
     "metadata": {},
     "output_type": "display_data"
    },
    {
     "data": {
      "text/html": [
       "<br>"
      ],
      "text/plain": [
       "<IPython.core.display.HTML object>"
      ]
     },
     "metadata": {},
     "output_type": "display_data"
    },
    {
     "data": {
      "text/html": [
       "<text style=color:black>▁Am ▁Samstag ▁war ▁Deutschlands ▁best er ▁Golf er ▁aller ▁Zeiten ▁- ▁mit ▁101 ▁Turnier sieg en ▁unter ▁seine m ▁G ürt el ▁- ▁wieder ▁einmal ▁bei ▁Pferde n .[ dscore=0.3647630214691162, bleu=44.65 ]</text>"
      ],
      "text/plain": [
       "<IPython.core.display.HTML object>"
      ]
     },
     "metadata": {},
     "output_type": "display_data"
    },
    {
     "data": {
      "text/html": [
       "<text style=color:black>▁Am</text> <text style=color:black>▁Samstag</text> <text style=color:black>▁war</text> <text style=color:black>▁Deutschlands</text> <text style=color:black>▁best</text> <text style=color:black>er</text> <text style=color:black>▁Golf</text> <text style=color:black>er</text> <text style=color:black>▁aller</text> <text style=color:black>▁Zeiten</text> <text style=color:black>▁-</text> <text style=color:black>▁mit</text> <text style=color:black>▁101</text> <text style=color:black>▁Turnier</text> <text style=color:black>sieg</text> <text style=color:black>en</text> <text style=color:black>▁unter</text> <text style=color:black>▁seine</text> <text style=color:black>m</text> <text style=color:black>▁G</text> <text style=color:black>ürt</text> <text style=color:black>el</text> <text style=color:black>▁-</text> <text style=color:black>▁wieder</text> <text style=color:black>▁einmal</text> <text style=color:black>▁bei</text> <text style=color:black>▁Pferde</text> <text style=color:black>n</text> <text style=color:black>.</text> <text style=color:black>[ cscore=1.5514886379241943, dscore=0.3647630214691162, bleu=44.65 ]</text>"
      ],
      "text/plain": [
       "<IPython.core.display.HTML object>"
      ]
     },
     "metadata": {},
     "output_type": "display_data"
    },
    {
     "data": {
      "text/html": [
       "<br>"
      ],
      "text/plain": [
       "<IPython.core.display.HTML object>"
      ]
     },
     "metadata": {},
     "output_type": "display_data"
    },
    {
     "data": {
      "text/html": [
       "<text style=color:black>▁Er ▁und ▁seine ▁Familie ▁re isten ▁auf ▁dem ▁A LR V - Park , ▁aber ▁er ▁ griff ▁nicht ▁auf ▁ein ▁Pferd ▁für ▁ein ▁Foto .[ dscore=0.6902999877929688, bleu=0.0 ]</text>"
      ],
      "text/plain": [
       "<IPython.core.display.HTML object>"
      ]
     },
     "metadata": {},
     "output_type": "display_data"
    },
    {
     "data": {
      "text/html": [
       "<text style=color:black>▁Er</text> <text style=color:black>▁und</text> <text style=color:black>▁seine</text> <text style=color:black>▁Familie</text> <text style=color:black>▁re</text> <text style=color:black>isten</text> <text style=color:black>▁auf</text> <text style=color:black>▁dem</text> <text style=color:black>▁A</text> <text style=color:black>LR</text> <text style=color:black>V</text> <text style=color:black>-</text> <text style=color:green>Gebiet</text> <text style=color:black>,</text> <text style=color:black>▁aber</text> <text style=color:black>▁er</text> <text style=color:black>▁</text> <text style=color:black>griff</text> <text style=color:black>▁nicht</text> <text style=color:black>▁auf</text> <text style=color:black>▁ein</text> <text style=color:black>▁Pferd</text> <text style=color:black>▁für</text> <text style=color:black>▁ein</text> <text style=color:black>▁Foto</text> <text style=color:black>.</text> <text style=color:black>[ cscore=1.8732446432113647, dscore=0.6891277432441711, bleu=0.0 ]</text>"
      ],
      "text/plain": [
       "<IPython.core.display.HTML object>"
      ]
     },
     "metadata": {},
     "output_type": "display_data"
    },
    {
     "data": {
      "text/html": [
       "<br>"
      ],
      "text/plain": [
       "<IPython.core.display.HTML object>"
      ]
     },
     "metadata": {},
     "output_type": "display_data"
    },
    {
     "data": {
      "text/html": [
       "<text style=color:black>▁Es ▁war ▁das ▁erste ▁Mal ▁Lang er ▁in ▁Aachen ▁und ▁bei ▁CH IO .[ dscore=0.3892704248428345, bleu=31.31 ]</text>"
      ],
      "text/plain": [
       "<IPython.core.display.HTML object>"
      ]
     },
     "metadata": {},
     "output_type": "display_data"
    },
    {
     "data": {
      "text/html": [
       "<text style=color:black>▁Es</text> <text style=color:black>▁war</text> <text style=color:black>▁das</text> <text style=color:black>▁erste</text> <text style=color:black>▁Mal</text> <text style=color:black>▁Lang</text> <text style=color:black>er</text> <text style=color:black>▁in</text> <text style=color:black>▁Aachen</text> <text style=color:black>▁und</text> <text style=color:black>▁bei</text> <text style=color:black>▁CH</text> <text style=color:black>IO</text> <text style=color:black>.</text> <text style=color:black>[ cscore=1.09409499168396, dscore=0.3892704248428345, bleu=31.31 ]</text>"
      ],
      "text/plain": [
       "<IPython.core.display.HTML object>"
      ]
     },
     "metadata": {},
     "output_type": "display_data"
    },
    {
     "data": {
      "text/html": [
       "<br>"
      ],
      "text/plain": [
       "<IPython.core.display.HTML object>"
      ]
     },
     "metadata": {},
     "output_type": "display_data"
    },
    {
     "data": {
      "text/html": [
       "<text style=color:black>▁Er ▁war ▁ gründlich ▁überzeugt .[ dscore=0.5035057067871094, bleu=0.0 ]</text>"
      ],
      "text/plain": [
       "<IPython.core.display.HTML object>"
      ]
     },
     "metadata": {},
     "output_type": "display_data"
    },
    {
     "data": {
      "text/html": [
       "<text style=color:black>▁Er</text> <text style=color:black>▁war</text> <text style=color:black>▁</text> <text style=color:black>gründlich</text> <text style=color:black>▁überzeugt</text> <text style=color:black>.</text> <text style=color:black>[ cscore=1.7273181676864624, dscore=0.5035057067871094, bleu=0.0 ]</text>"
      ],
      "text/plain": [
       "<IPython.core.display.HTML object>"
      ]
     },
     "metadata": {},
     "output_type": "display_data"
    },
    {
     "data": {
      "text/html": [
       "<br>"
      ],
      "text/plain": [
       "<IPython.core.display.HTML object>"
      ]
     },
     "metadata": {},
     "output_type": "display_data"
    },
    {
     "data": {
      "text/html": [
       "<text style=color:black>▁Die ▁Deutsche ▁Sport ▁Aid ▁Stiftung ▁verlie h ▁dem ▁An haus er ▁bei ▁einer ▁kleinen ▁Gala ▁den ▁Golden en ▁Sport ▁Py ram ide .[ dscore=0.5638771653175354, bleu=0.0 ]</text>"
      ],
      "text/plain": [
       "<IPython.core.display.HTML object>"
      ]
     },
     "metadata": {},
     "output_type": "display_data"
    },
    {
     "data": {
      "text/html": [
       "<text style=color:black>▁Die</text> <text style=color:black>▁Deutsche</text> <text style=color:black>▁Sport</text> <text style=color:black>▁Aid</text> <text style=color:black>▁Stiftung</text> <text style=color:black>▁verlie</text> <text style=color:black>h</text> <text style=color:black>▁dem</text> <text style=color:black>▁An</text> <text style=color:black>haus</text> <text style=color:black>er</text> <text style=color:black>▁bei</text> <text style=color:black>▁einer</text> <text style=color:black>▁kleinen</text> <text style=color:black>▁Gala</text> <text style=color:green>veranstaltung</text> <text style=color:black>▁Golden</text> <text style=color:black>en</text> <text style=color:black>▁Sport</text> <text style=color:black>▁Py</text> <text style=color:black>ram</text> <text style=color:black>ide</text> <text style=color:black>.</text> <text style=color:black>[ cscore=1.643588900566101, dscore=0.9079928994178772, bleu=0.0 ]</text>"
      ],
      "text/plain": [
       "<IPython.core.display.HTML object>"
      ]
     },
     "metadata": {},
     "output_type": "display_data"
    },
    {
     "data": {
      "text/html": [
       "<br>"
      ],
      "text/plain": [
       "<IPython.core.display.HTML object>"
      ]
     },
     "metadata": {},
     "output_type": "display_data"
    },
    {
     "data": {
      "text/html": [
       "<text style=color:black>▁Der ▁freundliche ▁Sportler ▁fehlt ▁nicht ▁für ▁Auszeichnung en .[ dscore=0.5723285675048828, bleu=0.0 ]</text>"
      ],
      "text/plain": [
       "<IPython.core.display.HTML object>"
      ]
     },
     "metadata": {},
     "output_type": "display_data"
    },
    {
     "data": {
      "text/html": [
       "<text style=color:black>▁Der</text> <text style=color:black>▁freundliche</text> <text style=color:black>▁Sportler</text> <text style=color:black>▁fehlt</text> <text style=color:black>▁nicht</text> <text style=color:black>▁für</text> <text style=color:black>▁Auszeichnung</text> <text style=color:black>en</text> <text style=color:black>.</text> <text style=color:black>[ cscore=2.150815963745117, dscore=0.5723285675048828, bleu=0.0 ]</text>"
      ],
      "text/plain": [
       "<IPython.core.display.HTML object>"
      ]
     },
     "metadata": {},
     "output_type": "display_data"
    },
    {
     "data": {
      "text/html": [
       "<br>"
      ],
      "text/plain": [
       "<IPython.core.display.HTML object>"
      ]
     },
     "metadata": {},
     "output_type": "display_data"
    },
    {
     "data": {
      "text/html": [
       "<text style=color:black>▁Das ▁Bundes ver dienst kreuz , ▁das ▁Silber blatt , ▁Champion s ▁Tour ▁Player ▁of ▁the ▁Year ...[ dscore=0.44105836749076843, bleu=29.27 ]</text>"
      ],
      "text/plain": [
       "<IPython.core.display.HTML object>"
      ]
     },
     "metadata": {},
     "output_type": "display_data"
    },
    {
     "data": {
      "text/html": [
       "<text style=color:black>▁Das</text> <text style=color:black>▁Bundes</text> <text style=color:black>ver</text> <text style=color:black>dienst</text> <text style=color:black>kreuz</text> <text style=color:black>,</text> <text style=color:green>▁der</text> <text style=color:black>▁Silber</text> <text style=color:black>blatt</text> <text style=color:black>,</text> <text style=color:black>▁Champion</text> <text style=color:black>s</text> <text style=color:black>▁Tour</text> <text style=color:black>▁Player</text> <text style=color:black>▁of</text> <text style=color:black>▁the</text> <text style=color:black>▁Year</text> <text style=color:black>...</text> <text style=color:black>[ cscore=1.511985421180725, dscore=0.5972800850868225, bleu=29.27 ]</text>"
      ],
      "text/plain": [
       "<IPython.core.display.HTML object>"
      ]
     },
     "metadata": {},
     "output_type": "display_data"
    },
    {
     "data": {
      "text/html": [
       "<br>"
      ],
      "text/plain": [
       "<IPython.core.display.HTML object>"
      ]
     },
     "metadata": {},
     "output_type": "display_data"
    },
    {
     "data": {
      "text/html": [
       "<text style=color:black>▁Selbst ▁die ▁britische ▁König in ▁hat ▁ihm ▁eine ▁Ehre ▁zu teil ▁werden ▁lassen .[ dscore=0.3046220541000366, bleu=0.0 ]</text>"
      ],
      "text/plain": [
       "<IPython.core.display.HTML object>"
      ]
     },
     "metadata": {},
     "output_type": "display_data"
    },
    {
     "data": {
      "text/html": [
       "<text style=color:black>▁Selbst</text> <text style=color:black>▁die</text> <text style=color:black>▁britische</text> <text style=color:black>▁König</text> <text style=color:black>in</text> <text style=color:black>▁hat</text> <text style=color:black>▁ihm</text> <text style=color:black>▁eine</text> <text style=color:black>▁Ehre</text> <text style=color:black>▁zu</text> <text style=color:black>teil</text> <text style=color:black>▁werden</text> <text style=color:black>▁lassen</text> <text style=color:black>.</text> <text style=color:black>[ cscore=1.113718867301941, dscore=0.3046220541000366, bleu=0.0 ]</text>"
      ],
      "text/plain": [
       "<IPython.core.display.HTML object>"
      ]
     },
     "metadata": {},
     "output_type": "display_data"
    },
    {
     "data": {
      "text/html": [
       "<br>"
      ],
      "text/plain": [
       "<IPython.core.display.HTML object>"
      ]
     },
     "metadata": {},
     "output_type": "display_data"
    },
    {
     "data": {
      "text/html": [
       "<text style=color:black>▁Lang er ▁ist ▁die ▁18 te ▁Person , ▁die ▁mit ▁der ▁Sport ▁Py ram ide ▁ausgezeichnet ▁wurde .[ dscore=0.48935335874557495, bleu=0.0 ]</text>"
      ],
      "text/plain": [
       "<IPython.core.display.HTML object>"
      ]
     },
     "metadata": {},
     "output_type": "display_data"
    },
    {
     "data": {
      "text/html": [
       "<text style=color:black>▁Lang</text> <text style=color:black>er</text> <text style=color:black>▁ist</text> <text style=color:black>▁die</text> <text style=color:black>▁18</text> <text style=color:green>t</text> <text style=color:black>▁Person</text> <text style=color:black>,</text> <text style=color:black>▁die</text> <text style=color:black>▁mit</text> <text style=color:black>▁der</text> <text style=color:black>▁Sport</text> <text style=color:black>▁Py</text> <text style=color:black>ram</text> <text style=color:black>ide</text> <text style=color:black>▁ausgezeichnet</text> <text style=color:black>▁wurde</text> <text style=color:black>.</text> <text style=color:black>[ cscore=1.9731755256652832, dscore=0.8211442232131958, bleu=0.0 ]</text>"
      ],
      "text/plain": [
       "<IPython.core.display.HTML object>"
      ]
     },
     "metadata": {},
     "output_type": "display_data"
    },
    {
     "data": {
      "text/html": [
       "<br>"
      ],
      "text/plain": [
       "<IPython.core.display.HTML object>"
      ]
     },
     "metadata": {},
     "output_type": "display_data"
    },
    {
     "data": {
      "text/html": [
       "<text style=color:black>▁Am ▁Samstag ▁traf ▁er ▁in ▁Aachen ▁den ▁ersten ▁Menschen , ▁der ▁ihn ▁empfangen ▁hat , ▁Hans ▁G ü n ter ▁W inkl er .[ dscore=0.45253661274909973, bleu=36.08 ]</text>"
      ],
      "text/plain": [
       "<IPython.core.display.HTML object>"
      ]
     },
     "metadata": {},
     "output_type": "display_data"
    },
    {
     "data": {
      "text/html": [
       "<text style=color:black>▁Am</text> <text style=color:black>▁Samstag</text> <text style=color:green>▁begegne</text> <text style=color:black>▁er</text> <text style=color:black>▁in</text> <text style=color:black>▁Aachen</text> <text style=color:black>▁den</text> <text style=color:black>▁ersten</text> <text style=color:black>▁Menschen</text> <text style=color:black>,</text> <text style=color:black>▁der</text> <text style=color:black>▁ihn</text> <text style=color:black>▁empfangen</text> <text style=color:black>▁hat</text> <text style=color:black>,</text> <text style=color:black>▁Hans</text> <text style=color:black>▁G</text> <text style=color:black>ü</text> <text style=color:black>n</text> <text style=color:black>ter</text> <text style=color:black>▁W</text> <text style=color:black>inkl</text> <text style=color:black>er</text> <text style=color:black>.</text> <text style=color:black>[ cscore=1.51165771484375, dscore=1.161704659461975, bleu=34.39 ]</text>"
      ],
      "text/plain": [
       "<IPython.core.display.HTML object>"
      ]
     },
     "metadata": {},
     "output_type": "display_data"
    },
    {
     "data": {
      "text/html": [
       "<br>"
      ],
      "text/plain": [
       "<IPython.core.display.HTML object>"
      ]
     },
     "metadata": {},
     "output_type": "display_data"
    },
    {
     "data": {
      "text/html": [
       "<text style=color:black>▁\" Diese ▁Auszeichnung ▁bedeutet ▁für ▁mich ▁viel \", ▁sagte ▁Lang er , ▁\" da ▁sie ▁nicht ▁nur ▁für ▁sportliche n ▁Erfolg , ▁sonder n ▁auch ▁für ▁soziale s ▁Engagement ▁vergeben ▁wird . \"[ dscore=0.3733322024345398, bleu=35.84 ]</text>"
      ],
      "text/plain": [
       "<IPython.core.display.HTML object>"
      ]
     },
     "metadata": {},
     "output_type": "display_data"
    },
    {
     "data": {
      "text/html": [
       "<text style=color:black>▁\"</text> <text style=color:black>Diese</text> <text style=color:black>▁Auszeichnung</text> <text style=color:black>▁bedeutet</text> <text style=color:black>▁für</text> <text style=color:black>▁mich</text> <text style=color:black>▁viel</text> <text style=color:black>\",</text> <text style=color:black>▁sagte</text> <text style=color:black>▁Lang</text> <text style=color:black>er</text> <text style=color:black>,</text> <text style=color:green>▁</text> <text style=color:green>weil</text> <text style=color:black>▁sie</text> <text style=color:black>▁nicht</text> <text style=color:black>▁nur</text> <text style=color:black>▁für</text> <text style=color:black>▁sportliche</text> <text style=color:black>n</text> <text style=color:black>▁Erfolg</text> <text style=color:black>,</text> <text style=color:black>▁sonder</text> <text style=color:black>n</text> <text style=color:black>▁auch</text> <text style=color:black>▁für</text> <text style=color:black>▁soziale</text> <text style=color:black>s</text> <text style=color:black>▁Engagement</text> <text style=color:black>▁vergeben</text> <text style=color:black>▁wird</text> <text style=color:black>.</text> <text style=color:black>\"</text> <text style=color:black>[ cscore=1.3903506994247437, dscore=0.8114174008369446, bleu=32.35 ]</text>"
      ],
      "text/plain": [
       "<IPython.core.display.HTML object>"
      ]
     },
     "metadata": {},
     "output_type": "display_data"
    },
    {
     "data": {
      "text/html": [
       "<br>"
      ],
      "text/plain": [
       "<IPython.core.display.HTML object>"
      ]
     },
     "metadata": {},
     "output_type": "display_data"
    },
    {
     "data": {
      "text/html": [
       "<text style=color:black>▁Lang er ▁ fördert ▁seit ▁Jahren ▁auf streb ende ▁Talent e .[ dscore=0.36047592759132385, bleu=0.0 ]</text>"
      ],
      "text/plain": [
       "<IPython.core.display.HTML object>"
      ]
     },
     "metadata": {},
     "output_type": "display_data"
    },
    {
     "data": {
      "text/html": [
       "<text style=color:black>▁Lang</text> <text style=color:black>er</text> <text style=color:black>▁</text> <text style=color:green>ermut</text> <text style=color:black>▁seit</text> <text style=color:black>▁Jahren</text> <text style=color:black>▁auf</text> <text style=color:black>streb</text> <text style=color:black>ende</text> <text style=color:black>▁Talent</text> <text style=color:black>e</text> <text style=color:black>.</text> <text style=color:black>[ cscore=1.1825683116912842, dscore=1.1799598932266235, bleu=0.0 ]</text>"
      ],
      "text/plain": [
       "<IPython.core.display.HTML object>"
      ]
     },
     "metadata": {},
     "output_type": "display_data"
    },
    {
     "data": {
      "text/html": [
       "<br>"
      ],
      "text/plain": [
       "<IPython.core.display.HTML object>"
      ]
     },
     "metadata": {},
     "output_type": "display_data"
    },
    {
     "data": {
      "text/html": [
       "<text style=color:black>▁Und ▁in ▁diesem ▁Sinne ▁hat ▁er ▁sofort ▁das ▁Preis geld ▁von ▁2 5.000 ▁Euro ▁über wiesen .[ dscore=0.47843530774116516, bleu=39.92 ]</text>"
      ],
      "text/plain": [
       "<IPython.core.display.HTML object>"
      ]
     },
     "metadata": {},
     "output_type": "display_data"
    },
    {
     "data": {
      "text/html": [
       "<text style=color:black>▁Und</text> <text style=color:black>▁in</text> <text style=color:black>▁diesem</text> <text style=color:black>▁Sinne</text> <text style=color:black>▁hat</text> <text style=color:black>▁er</text> <text style=color:black>▁sofort</text> <text style=color:black>▁das</text> <text style=color:black>▁Preis</text> <text style=color:black>geld</text> <text style=color:black>▁von</text> <text style=color:black>▁2</text> <text style=color:black>5.000</text> <text style=color:black>▁Euro</text> <text style=color:black>▁über</text> <text style=color:black>wiesen</text> <text style=color:black>.</text> <text style=color:black>[ cscore=1.1713429689407349, dscore=0.47843530774116516, bleu=39.92 ]</text>"
      ],
      "text/plain": [
       "<IPython.core.display.HTML object>"
      ]
     },
     "metadata": {},
     "output_type": "display_data"
    },
    {
     "data": {
      "text/html": [
       "<br>"
      ],
      "text/plain": [
       "<IPython.core.display.HTML object>"
      ]
     },
     "metadata": {},
     "output_type": "display_data"
    },
    {
     "data": {
      "text/html": [
       "<text style=color:black>▁Der ▁zwei malig e ▁US - Me ist er meister ▁wurde ▁am ▁Samstag ▁zusammen ▁mit ▁15 ▁weiteren ▁herausragend en ▁Sportler n ▁in ▁das ▁\" H all ▁of ▁Fa me ▁for ▁German ▁Sport \" ▁einge weih t .[ dscore=0.41291525959968567, bleu=30.36 ]</text>"
      ],
      "text/plain": [
       "<IPython.core.display.HTML object>"
      ]
     },
     "metadata": {},
     "output_type": "display_data"
    },
    {
     "data": {
      "text/html": [
       "<text style=color:black>▁Der</text> <text style=color:black>▁zwei</text> <text style=color:black>malig</text> <text style=color:black>e</text> <text style=color:black>▁US</text> <text style=color:black>-</text> <text style=color:black>Me</text> <text style=color:black>ist</text> <text style=color:black>er</text> <text style=color:black>meister</text> <text style=color:black>▁wurde</text> <text style=color:black>▁am</text> <text style=color:black>▁Samstag</text> <text style=color:black>▁zusammen</text> <text style=color:black>▁mit</text> <text style=color:black>▁15</text> <text style=color:black>▁weiteren</text> <text style=color:black>▁herausragend</text> <text style=color:black>en</text> <text style=color:black>▁Sportler</text> <text style=color:black>n</text> <text style=color:black>▁in</text> <text style=color:green>▁die</text> <text style=color:black>▁\"</text> <text style=color:black>H</text> <text style=color:black>all</text> <text style=color:black>▁of</text> <text style=color:black>▁Fa</text> <text style=color:black>me</text> <text style=color:black>▁for</text> <text style=color:black>▁German</text> <text style=color:black>▁Sport</text> <text style=color:black>\"</text> <text style=color:black>▁einge</text> <text style=color:black>weih</text> <text style=color:black>t</text> <text style=color:black>.</text> <text style=color:black>[ cscore=1.2835179567337036, dscore=0.40762442350387573, bleu=36.28 ]</text>"
      ],
      "text/plain": [
       "<IPython.core.display.HTML object>"
      ]
     },
     "metadata": {},
     "output_type": "display_data"
    },
    {
     "data": {
      "text/html": [
       "<br>"
      ],
      "text/plain": [
       "<IPython.core.display.HTML object>"
      ]
     },
     "metadata": {},
     "output_type": "display_data"
    }
   ],
   "source": [
    "perform_tests(k=100, initialization='greedy')"
   ]
  },
  {
   "cell_type": "code",
   "execution_count": null,
   "metadata": {},
   "outputs": [],
   "source": [
    "perform_tests(k=50, initialization='beam', beamsize=5)"
   ]
  },
  {
   "cell_type": "code",
   "execution_count": null,
   "metadata": {},
   "outputs": [],
   "source": []
  }
 ],
 "metadata": {
  "kernelspec": {
   "display_name": "Python 3",
   "language": "python",
   "name": "python3"
  },
  "language_info": {
   "codemirror_mode": {
    "name": "ipython",
    "version": 3
   },
   "file_extension": ".py",
   "mimetype": "text/x-python",
   "name": "python",
   "nbconvert_exporter": "python",
   "pygments_lexer": "ipython3",
   "version": "3.6.5"
  }
 },
 "nbformat": 4,
 "nbformat_minor": 1
}
