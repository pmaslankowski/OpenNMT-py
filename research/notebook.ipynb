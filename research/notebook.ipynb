{
 "cells": [
  {
   "cell_type": "code",
   "execution_count": 1,
   "metadata": {},
   "outputs": [],
   "source": [
    "import os\n",
    "os.chdir('../')\n",
    "\n",
    "import numpy as np\n",
    "import matplotlib.pyplot as plt\n",
    "from scipy.stats import entropy\n",
    "\n",
    "\n",
    "from research.utils import load_vocabulary, Tokenizer, Aligner\n",
    "from research.scorer import Scorer\n",
    "from research.greedy_optimizer import GreedyOptimizer\n",
    "from research.beam_optimizer import BeamOptimizer"
   ]
  },
  {
   "cell_type": "markdown",
   "metadata": {
    "collapsed": true
   },
   "source": [
    "### Model loading"
   ]
  },
  {
   "cell_type": "code",
   "execution_count": 2,
   "metadata": {},
   "outputs": [],
   "source": [
    "vocab = load_vocabulary()\n",
    "tokenizer = Tokenizer()\n",
    "scorer = Scorer()"
   ]
  },
  {
   "cell_type": "markdown",
   "metadata": {},
   "source": [
    "### Translation scoring"
   ]
  },
  {
   "cell_type": "code",
   "execution_count": 3,
   "metadata": {},
   "outputs": [
    {
     "name": "stdout",
     "output_type": "stream",
     "text": [
      "Translation scoring\n",
      "English sentence: I think, that machine translation is a very interesting subject.\n",
      "Translation from google translate to score: Ich denke, dass maschinelle Übersetzung ein sehr interessantes Thema ist.\n",
      "Log likehood of translation: -6.253188\n"
     ]
    }
   ],
   "source": [
    "english_sentence = 'I think, that machine translation is a very interesting subject.'\n",
    "german_translation_from_google = 'Ich denke, dass maschinelle Übersetzung ein sehr interessantes Thema ist.'\n",
    "score = scorer.score_texts(english_sentence, german_translation_from_google)\n",
    "print('Translation scoring')\n",
    "print('English sentence:', english_sentence)\n",
    "print('Translation from google translate to score:', german_translation_from_google)\n",
    "print('Log likehood of translation:', score[0])"
   ]
  },
  {
   "cell_type": "markdown",
   "metadata": {},
   "source": [
    "### Predicting of next word in translation"
   ]
  },
  {
   "cell_type": "code",
   "execution_count": 4,
   "metadata": {},
   "outputs": [
    {
     "name": "stdout",
     "output_type": "stream",
     "text": [
      "English sentence: I think, that machine translation is a very interesting subject.\n",
      "Unfinished translation: Ich denke, dass maschinelle Übersetzung ein sehr\n",
      "Top 3 next tokens:  ▁interessante ▁interessant ▁Interessant\n"
     ]
    }
   ],
   "source": [
    "unfinished_translation = 'Ich denke, dass maschinelle Übersetzung ein sehr'\n",
    "english_tokens = tokenizer.tokenize(english_sentence)\n",
    "german_tokens = tokenizer.tokenize(unfinished_translation)\n",
    "next_word_probs = scorer.next_word_probabilities([english_tokens], [german_tokens])\n",
    "val, ind = next_word_probs.topk(3)\n",
    "print('English sentence:', english_sentence)\n",
    "print('Unfinished translation:', unfinished_translation )\n",
    "print('Top 3 next tokens: ', vocab.itos[ind[0,0].view(-1)], vocab.itos[ind[0,1].view(-1)], vocab.itos[ind[0,2].view(-1)])"
   ]
  },
  {
   "cell_type": "markdown",
   "metadata": {},
   "source": [
    "### Greedy optimization"
   ]
  },
  {
   "cell_type": "code",
   "execution_count": 5,
   "metadata": {},
   "outputs": [
    {
     "name": "stdout",
     "output_type": "stream",
     "text": [
      "Optimizer initialized...\n",
      "English sentence: I think, that machine translation is a very interesting subject.\n",
      "Translated tokens ▁Ich ▁denke , ▁dass ▁die ▁ maschine lle ▁Übersetzung ▁ein ▁sehr ▁interessante s ▁Thema ▁ist .\n",
      "Log likehood of translation: -5.41\n"
     ]
    }
   ],
   "source": [
    "english_tokens = tokenizer.tokenize(english_sentence)\n",
    "optimizer = GreedyOptimizer(english_sentence)\n",
    "print('Optimizer initialized...')\n",
    "german_tokens = optimizer.optimize()[:-1]\n",
    "score = scorer.score_tokenized_texts([english_tokens], [german_tokens])[0]\n",
    "print('English sentence:', english_sentence)\n",
    "print('Translated tokens', ' '.join(german_tokens))\n",
    "print(f'Log likehood of translation: {score:.2f}')"
   ]
  },
  {
   "cell_type": "markdown",
   "metadata": {},
   "source": [
    "### Beam search optimization"
   ]
  },
  {
   "cell_type": "code",
   "execution_count": 6,
   "metadata": {},
   "outputs": [
    {
     "name": "stdout",
     "output_type": "stream",
     "text": [
      "Optimizer initialized...\n",
      "English sentence: I think, that machine translation is a very interesting subject.\n",
      "Top 15 translations:\n",
      "1. ▁Ich ▁denke , ▁dass ▁die ▁ maschine lle ▁Übersetzung ▁ein ▁sehr ▁interessante s ▁Thema ▁ist . [p = -5.41]\n",
      "2. ▁Ich ▁glaube , ▁dass ▁die ▁ maschine lle ▁Übersetzung ▁ein ▁sehr ▁interessante s ▁Thema ▁ist . [p = -5.74]\n",
      "3. ▁Ich ▁halte ▁die ▁ maschine lle ▁Übersetzung ▁für ▁ein ▁sehr ▁interessante s ▁Thema . [p = -5.77]\n",
      "4. ▁Ich ▁denke , ▁dass ▁ maschine lle ▁Übersetzung ▁ein ▁sehr ▁interessante s ▁Thema ▁ist . [p = -6.25]\n",
      "5. ▁Ich ▁glaube , ▁dass ▁ maschine lle ▁Übersetzung ▁ein ▁sehr ▁interessante s ▁Thema ▁ist . [p = -6.65]\n",
      "6. ▁Ich ▁finde , ▁dass ▁die ▁ maschine lle ▁Übersetzung ▁ein ▁sehr ▁interessante s ▁Thema ▁ist . [p = -6.70]\n",
      "7. ▁Ich ▁denke , ▁die ▁ maschine lle ▁Übersetzung ▁ist ▁ein ▁sehr ▁interessante s ▁Thema . [p = -6.87]\n",
      "8. ▁Meine s ▁Era chtens ▁ist ▁die ▁ maschine lle ▁Übersetzung ▁ein ▁sehr ▁interessante s ▁Thema . [p = -7.14]\n",
      "9. ▁Ich ▁denke , ▁dass ▁die ▁Maschinen über setzung ▁ein ▁sehr ▁interessante s ▁Thema ▁ist . [p = -7.23]\n",
      "10. ▁Ich ▁denke , ▁dass ▁die ▁Übersetzung ▁von ▁Maschinen ▁ein ▁sehr ▁interessante s ▁Thema ▁ist . [p = -7.51]\n",
      "11. ▁Ich ▁glaube , ▁dass ▁die ▁Übersetzung ▁von ▁Maschinen ▁ein ▁sehr ▁interessante s ▁Thema ▁ist . [p = -7.87]\n",
      "12. ▁Ich ▁denke , ▁dass ▁die ▁Übersetzung ▁der ▁Maschine ▁ein ▁sehr ▁interessante s ▁Thema ▁ist . [p = -8.20]\n",
      "13. ▁Ich ▁denke , ▁dass ▁das ▁Thema ▁der ▁ maschine llen ▁Übersetzung ▁sehr ▁interessant ▁ist . [p = -8.35]\n",
      "14. ▁Ich ▁glaube , ▁dass ▁das ▁Thema ▁der ▁ maschine llen ▁Übersetzung ▁sehr ▁interessant ▁ist . [p = -8.43]\n",
      "15. ▁Ich ▁denke , ▁dass ▁die ▁ maschine lle ▁Übersetzung ▁ein ▁sehr ▁interessante s ▁Thema ▁darstellt . [p = -9.08]\n",
      "Sanity check: log likehood of the best translation = -5.41\n"
     ]
    }
   ],
   "source": [
    "n_beams = 15\n",
    "english_tokens = tokenizer.tokenize(english_sentence)\n",
    "optimizer = BeamOptimizer(english_sentence, n_beams=n_beams)\n",
    "print('Optimizer initialized...')\n",
    "translations, probabilities = optimizer.optimize()\n",
    "print('English sentence:', english_sentence)\n",
    "print('Top', n_beams, 'translations:')\n",
    "for i, translation in enumerate(translations):\n",
    "    print(f\"{i+1}. {' '.join(translation[:-1])} [p = {probabilities[i]:.2f}]\")\n",
    "\n",
    "score = scorer.score_tokenized_texts([english_tokens], [translations[0][:-1]])[0]\n",
    "print(f'Sanity check: log likehood of the best translation = {score:.2f}')"
   ]
  },
  {
   "cell_type": "markdown",
   "metadata": {},
   "source": [
    "### Entropy of conditional probabilities for each word in different translations"
   ]
  },
  {
   "cell_type": "code",
   "execution_count": 7,
   "metadata": {},
   "outputs": [],
   "source": [
    "def plot_entropies(i):\n",
    "    plt.title('Entropy for each word in different translations')\n",
    "    plt.xlabel('Word number')\n",
    "    plt.ylabel('Entropy')\n",
    "    trans = translations[i][:-1]\n",
    "    logprobs = scorer.score_probabilities_for_each_word(english_tokens, trans)\n",
    "    probs = np.exp(logprobs)\n",
    "    words = list(range(probs.shape[0]))\n",
    "    entropies = [entropy(probs[k, :]) for k in words]\n",
    "    plt.scatter(words, entropies, label=f'Translation {i}')\n",
    "    print(f'Translation {i}:\\n{\" | \".join(trans)}')\n",
    "    print()\n",
    "    plt.legend()\n",
    "\n",
    "def plot_aligned_entropies(i, j):\n",
    "    plt.title('Entropy for each word in different translations (aligned)')\n",
    "    plt.xlabel('Word number')\n",
    "    plt.ylabel('Entropy')\n",
    "    \n",
    "    aligner = Aligner()\n",
    "    trans_i = translations[i][:-1]\n",
    "    trans_j = translations[j][:-1]\n",
    "    aligned_i, aligned_j = aligner.align(trans_i, trans_j)\n",
    "    \n",
    "    logprobs_i = scorer.score_probabilities_for_each_word(english_tokens, trans_i)\n",
    "    probs_i = np.exp(logprobs_i)\n",
    "    logprobs_j = scorer.score_probabilities_for_each_word(english_tokens, trans_j)\n",
    "    probs_j = np.exp(logprobs_j)\n",
    "\n",
    "    words = np.arange(len(aligned_i))\n",
    "    entropies_i = []\n",
    "    k = 0\n",
    "    for word in aligned_i:\n",
    "        if word == '[PLACEHOLDER]':\n",
    "            entropies_i += [-1.]\n",
    "        else:\n",
    "            entropies_i += [entropy(probs_i[k, :])]\n",
    "            k += 1\n",
    "    entropies_i = np.array(entropies_i)\n",
    "    \n",
    "    entropies_j = []\n",
    "    k = 0\n",
    "    for word in aligned_j:\n",
    "        if word == '[PLACEHOLDER]':\n",
    "            entropies_j += [-1.]\n",
    "        else:\n",
    "            entropies_j += [entropy(probs_j[k, :])]\n",
    "            k += 1\n",
    "    entropies_j = np.array(entropies_j)\n",
    "    \n",
    "    plt.scatter(words[entropies_i >= 0.], entropies_i[entropies_i >= 0.], label=f'Translation {i}')\n",
    "    plt.scatter(words[entropies_j >= 0.], entropies_j[entropies_j >= 0.], label=f'Translation {j}')\n",
    "    print(f'Translation {i}:\\n{\" | \".join(aligned_i)}')\n",
    "    print(f'Translation {j}:\\n{\" | \".join(aligned_j)}')\n",
    "    print()\n",
    "    plt.legend()\n",
    "    \n",
    "def plot_maxs(i):\n",
    "    plt.title('Max for each word in different translations')\n",
    "    plt.xlabel('Word number')\n",
    "    plt.ylabel('Max')\n",
    "    trans = translations[i][:-1]\n",
    "    logprobs = scorer.score_probabilities_for_each_word(english_tokens, trans)\n",
    "    probs = np.exp(logprobs)\n",
    "    words = list(range(probs.shape[0]))\n",
    "    entropies = [np.max(probs[k, :]) for k in words]\n",
    "    plt.scatter(words, entropies, label=f'Translation {i}')\n",
    "    print(f'Translation {i}:\\n{\" | \".join(trans)}')\n",
    "    print()\n",
    "    plt.legend()\n",
    "    \n",
    "def other_candidates(trans_idx, pos, N = 4):\n",
    "    trans = translations[trans_idx][:-1]\n",
    "    logprobs = scorer.score_probabilities_for_each_word(english_tokens, trans)\n",
    "    probs = np.exp(logprobs)\n",
    "    other_good_choices = np.argsort(probs[pos])[:-6:-1]\n",
    "    print('Best candidates on position', pos, ': ', ' '.join([vocab.itos[idx] for idx in other_good_choices]))\n",
    "    print('Coresponding probabilities:', [probs[pos][idx] for idx in other_good_choices])    "
   ]
  },
  {
   "cell_type": "markdown",
   "metadata": {},
   "source": [
    "#### Comparison of the best and the worst translation"
   ]
  },
  {
   "cell_type": "code",
   "execution_count": 8,
   "metadata": {
    "scrolled": true
   },
   "outputs": [
    {
     "name": "stdout",
     "output_type": "stream",
     "text": [
      "Translation 0:\n",
      "▁Ich | ▁denke | , | ▁dass | ▁die | ▁ | maschine | lle | ▁Übersetzung | ▁ein | ▁sehr | ▁interessante | s | ▁Thema | ▁ist | .\n",
      "\n",
      "Translation 9:\n",
      "▁Ich | ▁denke | , | ▁dass | ▁die | ▁Übersetzung | ▁von | ▁Maschinen | ▁ein | ▁sehr | ▁interessante | s | ▁Thema | ▁ist | .\n",
      "\n"
     ]
    },
    {
     "data": {
      "image/png": "[encoded data removed]",
      "text/plain": [
       "<Figure size 432x288 with 1 Axes>"
      ]
     },
     "metadata": {},
     "output_type": "display_data"
    }
   ],
   "source": [
    "for i in [0, 9]:\n",
    "    plot_entropies(i)\n",
    "plt.show()"
   ]
  },
  {
   "cell_type": "code",
   "execution_count": 9,
   "metadata": {},
   "outputs": [
    {
     "name": "stdout",
     "output_type": "stream",
     "text": [
      "Translation 0:\n",
      "▁Ich | ▁denke | , | ▁dass | ▁die | ▁ | maschine | lle | ▁Übersetzung | ▁ein | ▁sehr | ▁interessante | s | ▁Thema | ▁ist | .\n",
      "\n",
      "Translation 9:\n",
      "▁Ich | ▁denke | , | ▁dass | ▁die | ▁Übersetzung | ▁von | ▁Maschinen | ▁ein | ▁sehr | ▁interessante | s | ▁Thema | ▁ist | .\n",
      "\n"
     ]
    },
    {
     "data": {
      "image/png": "[encoded data removed]",
      "text/plain": [
       "<Figure size 432x288 with 1 Axes>"
      ]
     },
     "metadata": {},
     "output_type": "display_data"
    }
   ],
   "source": [
    "for i in [0, 9]:\n",
    "    plot_maxs(i)\n",
    "plt.show()"
   ]
  },
  {
   "cell_type": "markdown",
   "metadata": {},
   "source": [
    "Entropia z jakiegoś powodu jest bardzo słabą miarą (chyba, że bug). Entropia dla pozycji 0 w zdaniu 9 niewiele różni się od entropi na pozycji 1 w zdaniu 9, a te rozkłady są zupełnie różne (na pozycji 0 mamy tylko 1 prawdopodobną wartość, a na pozycji 1 aż 4). Przykład poniżej:"
   ]
  },
  {
   "cell_type": "markdown",
   "metadata": {},
   "source": [
    "#### Entropies of alligned sentences"
   ]
  },
  {
   "cell_type": "markdown",
   "metadata": {},
   "source": [
    "Best vs worst translation:"
   ]
  },
  {
   "cell_type": "code",
   "execution_count": 11,
   "metadata": {},
   "outputs": [
    {
     "name": "stdout",
     "output_type": "stream",
     "text": [
      "Translation 0:\n",
      "▁Ich | ▁denke | , | ▁dass | ▁die | ▁ | maschine | lle | ▁Übersetzung | ▁ein | ▁sehr | ▁interessante | s | ▁Thema | ▁ist | .\n",
      "Translation 9:\n",
      "▁Ich | ▁denke | , | ▁dass | ▁die | [PLACEHOLDER] | ▁Übersetzung | ▁von | ▁Maschinen | ▁ein | ▁sehr | ▁interessante | s | ▁Thema | ▁ist | .\n",
      "\n"
     ]
    },
    {
     "data": {
      "image/png": "[encoded data removed]",
      "text/plain": [
       "<Figure size 432x288 with 1 Axes>"
      ]
     },
     "metadata": {},
     "output_type": "display_data"
    }
   ],
   "source": [
    "plot_aligned_entropies(0, 9)"
   ]
  },
  {
   "cell_type": "markdown",
   "metadata": {},
   "source": [
    "Beam-10 vs Greedy translation:"
   ]
  },
  {
   "cell_type": "code",
   "execution_count": 12,
   "metadata": {
    "scrolled": true
   },
   "outputs": [
    {
     "name": "stdout",
     "output_type": "stream",
     "text": [
      "Translation 0:\n",
      "▁Ich | ▁denke | , | ▁dass | ▁die | ▁ | maschine | lle | ▁Übersetzung | ▁ein | ▁sehr | ▁interessante | s | ▁Thema | ▁ist | .\n",
      "Translation 3:\n",
      "▁Ich | ▁denke | , | ▁dass | [PLACEHOLDER] | ▁ | maschine | lle | ▁Übersetzung | ▁ein | ▁sehr | ▁interessante | s | ▁Thema | ▁ist | .\n",
      "\n"
     ]
    },
    {
     "data": {
      "image/png": "[encoded data removed]",
      "text/plain": [
       "<Figure size 432x288 with 1 Axes>"
      ]
     },
     "metadata": {},
     "output_type": "display_data"
    }
   ],
   "source": [
    "plot_aligned_entropies(0, 3)"
   ]
  },
  {
   "cell_type": "markdown",
   "metadata": {},
   "source": [
    "Similar translations:"
   ]
  },
  {
   "cell_type": "code",
   "execution_count": 13,
   "metadata": {},
   "outputs": [
    {
     "name": "stdout",
     "output_type": "stream",
     "text": [
      "Translation 3:\n",
      "▁Ich | ▁denke | , | ▁dass | ▁ | maschine | lle | ▁Übersetzung | ▁ein | ▁sehr | ▁interessante | s | ▁Thema | ▁ist | .\n",
      "Translation 4:\n",
      "▁Ich | ▁glaube | , | ▁dass | ▁ | maschine | lle | ▁Übersetzung | ▁ein | ▁sehr | ▁interessante | s | ▁Thema | ▁ist | .\n",
      "\n"
     ]
    },
    {
     "data": {
      "image/png": "[encoded data removed]",
      "text/plain": [
       "<Figure size 432x288 with 1 Axes>"
      ]
     },
     "metadata": {},
     "output_type": "display_data"
    }
   ],
   "source": [
    "plot_aligned_entropies(3, 4)"
   ]
  },
  {
   "cell_type": "code",
   "execution_count": 14,
   "metadata": {},
   "outputs": [
    {
     "name": "stdout",
     "output_type": "stream",
     "text": [
      "Best candidates on position 0 :  ▁Ich ▁Das ▁Die ▁Meiner ▁Meine\n",
      "Coresponding probabilities: [0.5988918, 0.060954917, 0.036728892, 0.024799734, 0.024179423]\n"
     ]
    }
   ],
   "source": [
    "other_candidates(9, 0)"
   ]
  },
  {
   "cell_type": "code",
   "execution_count": 152,
   "metadata": {},
   "outputs": [
    {
     "name": "stdout",
     "output_type": "stream",
     "text": [
      "Best candidates on position 1 :  ▁denke ▁glaube ▁halte ▁finde ▁bin\n",
      "Coresponding probabilities: [0.29839528, 0.25234625, 0.13621552, 0.10573821, 0.043860655]\n"
     ]
    }
   ],
   "source": [
    "other_candidates(9, 1)"
   ]
  },
  {
   "cell_type": "markdown",
   "metadata": {},
   "source": [
    "Zwróćmy też uwagę na niejednoznaczność tokenów: w miejscu, w którym wybieramy token _ prawdopodobieństwo jest małe, oraz entropia duża. Wynika to najprawdopodobniej z tego, że zamiast wybrać token _ , możemy wybrać cały token _ machinelle"
   ]
  },
  {
   "cell_type": "markdown",
   "metadata": {},
   "source": [
    "### Other probable candidates"
   ]
  },
  {
   "cell_type": "code",
   "execution_count": 154,
   "metadata": {},
   "outputs": [
    {
     "name": "stdout",
     "output_type": "stream",
     "text": [
      "Best candidates on position 1 :  ▁denke ▁glaube ▁halte ▁finde ▁bin\n",
      "Coresponding probabilities: [0.29839528, 0.25234625, 0.13621552, 0.10573821, 0.043860655]\n"
     ]
    }
   ],
   "source": [
    "other_candidates(3, 1)"
   ]
  },
  {
   "cell_type": "code",
   "execution_count": 153,
   "metadata": {},
   "outputs": [
    {
     "name": "stdout",
     "output_type": "stream",
     "text": [
      "Best candidates on position 4 :  ▁die ▁ ▁das ▁Maschinen ▁eine\n",
      "Coresponding probabilities: [0.4021218, 0.112477794, 0.079811126, 0.05037697, 0.028617628]\n"
     ]
    }
   ],
   "source": [
    "other_candidates(3, 4)"
   ]
  },
  {
   "cell_type": "code",
   "execution_count": 155,
   "metadata": {},
   "outputs": [
    {
     "name": "stdout",
     "output_type": "stream",
     "text": [
      "Best candidates on position 5 :  ▁ ▁Übersetzung ▁Maschinen ▁technische ▁Maschinenbau\n",
      "Coresponding probabilities: [0.4092544, 0.16365328, 0.06526854, 0.013711214, 0.0103740515]\n"
     ]
    }
   ],
   "source": [
    "other_candidates(3, 5)"
   ]
  },
  {
   "cell_type": "code",
   "execution_count": 156,
   "metadata": {},
   "outputs": [
    {
     "name": "stdout",
     "output_type": "stream",
     "text": [
      "Best candidates on position 12 :  . ▁Thema ▁Themen ▁Gegenstand ▁Subjekt\n",
      "Coresponding probabilities: [0.45098555, 0.357347, 0.021454206, 0.005650598, 0.0052555017]\n"
     ]
    }
   ],
   "source": [
    "other_candidates(3, 12)"
   ]
  },
  {
   "cell_type": "code",
   "execution_count": 9,
   "metadata": {},
   "outputs": [
    {
     "name": "stdout",
     "output_type": "stream",
     "text": [
      "Best candidates on position 5 :  lle llen ll ller elle\n",
      "Coresponding probabilities: [0.89663786, 0.026253838, 0.022556117, 0.012132816, 0.004152786]\n"
     ]
    }
   ],
   "source": [
    "other_candidates(0, 5)"
   ]
  },
  {
   "cell_type": "code",
   "execution_count": 15,
   "metadata": {},
   "outputs": [
    {
     "name": "stdout",
     "output_type": "stream",
     "text": [
      "Best candidates on position 0 :  ▁Ich ▁Das ▁Die ▁Meiner ▁Meine\n",
      "Coresponding probabilities: [0.5988918, 0.060954917, 0.036728892, 0.024799734, 0.024179423]\n"
     ]
    }
   ],
   "source": [
    "other_candidates(0, 0)"
   ]
  },
  {
   "cell_type": "markdown",
   "metadata": {},
   "source": [
    "### More difficult sentences:"
   ]
  },
  {
   "cell_type": "code",
   "execution_count": 3,
   "metadata": {},
   "outputs": [
    {
     "name": "stdout",
     "output_type": "stream",
     "text": [
      "Optimizer initialized...\n",
      "English sentence: Children begin by loving their parents; as they grow older they judge them; sometimes they forgive them.\n",
      "Top 30 translations:\n",
      "1. ▁Kinder ▁beginnen ▁damit , ▁ihre ▁Eltern ▁zu ▁lieben ; ▁wenn ▁sie ▁älte r ▁werden , ▁beurteilen ▁sie ▁sie ; ▁ manchmal ▁verz eihen ▁sie ▁sie ▁ihnen . [p = -11.66]\n",
      "2. ▁Kinder ▁beginnen ▁damit , ▁ihre ▁Eltern ▁zu ▁lieben ; ▁wenn ▁sie ▁älte r ▁werden , ▁beurteilen ▁sie ▁sie ; ▁ manchmal ▁vergeben ▁sie ▁ihnen . [p = -11.69]\n",
      "3. ▁Kinder ▁lieben ▁ihre ▁Eltern ; ▁wenn ▁sie ▁älte r ▁werden , ▁beurteilen ▁sie ▁sie ; ▁ manchmal ▁verz eihen ▁sie ▁sie ▁sie . [p = -11.72]\n",
      "4. ▁Kinder ▁beginnen , ▁ihre ▁Eltern ▁zu ▁lieben ; ▁wenn ▁sie ▁älte r ▁werden , ▁beurteilen ▁sie ▁sie ; ▁ manchmal ▁vergeben ▁sie ▁ihnen . [p = -11.73]\n",
      "5. ▁Kinder ▁beginnen , ▁ihre ▁Eltern ▁zu ▁lieben ; ▁wenn ▁sie ▁älte r ▁werden , ▁beurteilen ▁sie ▁sie ; ▁ manchmal ▁verz eihen ▁sie ▁sie ▁ihnen . [p = -11.83]\n",
      "6. ▁Kinder ▁beginnen ▁damit , ▁ihre ▁Eltern ▁zu ▁lieben ; ▁wenn ▁sie ▁älte r ▁werden , ▁beurteilen ▁sie ▁sie ; ▁ manchmal ▁vergeben ▁sie ▁sie ▁ihnen . [p = -11.85]\n",
      "7. ▁Kinder ▁beginnen , ▁ihre ▁Eltern ▁zu ▁lieben ; ▁wenn ▁sie ▁älte r ▁werden , ▁beurteilen ▁sie ▁sie ; ▁ manchmal ▁vergeben ▁sie ▁sie ▁ihnen . [p = -11.89]\n",
      "8. ▁Kinder ▁beginnen , ▁ihre ▁Eltern ▁zu ▁lieben ; ▁wenn ▁sie ▁älte r ▁werden , ▁beurteilen ▁sie ▁sie ; ▁ manchmal ▁verz eihen ▁sie ▁sie ▁sie . [p = -12.14]\n",
      "9. ▁Kinder ▁beginnen ▁damit , ▁ihre ▁Eltern ▁zu ▁lieben ; ▁wenn ▁sie ▁älte r ▁werden , ▁beurteilen ▁sie ▁sie ; ▁ manchmal ▁vergeben ▁sie ▁sie ▁sie . [p = -12.16]\n",
      "10. ▁Kinder ▁beginnen , ▁ihre ▁Eltern ▁zu ▁lieben ; ▁wenn ▁sie ▁älte r ▁werden , ▁beurteilen ▁sie ▁sie ; ▁ manchmal ▁vergeben ▁sie ▁sie ▁sie . [p = -12.35]\n",
      "11. ▁Kinder ▁beginnen ▁mit ▁der ▁Liebe ▁ihrer ▁Eltern ; ▁wenn ▁sie ▁älte r ▁werden , ▁beurteilen ▁sie ▁sie ; ▁ manchmal ▁vergeben ▁sie ▁ihnen . [p = -12.37]\n",
      "12. ▁Die ▁Kinder ▁beginnen , ▁ihre ▁Eltern ▁zu ▁lieben ; ▁wenn ▁sie ▁älte r ▁werden , ▁beurteilen ▁sie ▁sie ; ▁ manchmal ▁verz eihen ▁sie ▁sie ▁ihnen . [p = -12.38]\n",
      "13. ▁Kinder ▁beginnen ▁damit , ▁ihre ▁Eltern ▁zu ▁lieben ; ▁wenn ▁sie ▁älte r ▁werden , ▁beurteilen ▁sie ▁sie ; ▁ manchmal ▁verz eihen ▁sie ▁sie ▁sie . [p = -12.45]\n",
      "14. ▁Kinder ▁beginnen ▁damit , ▁ihre ▁Eltern ▁zu ▁lieben ; ▁da ▁sie ▁älte r ▁werden , ▁beurteilen ▁sie ▁sie ; ▁ manchmal ▁verz eihen ▁sie ▁sie ▁ihnen . [p = -12.49]\n",
      "15. ▁Kinder ▁beginnen ▁mit ▁der ▁Liebe ▁ihrer ▁Eltern ; ▁wenn ▁sie ▁älte r ▁werden , ▁beurteilen ▁sie ▁sie ; ▁ manchmal ▁vergeben ▁sie ▁sie ▁ihnen . [p = -12.54]\n",
      "16. ▁Die ▁Kinder ▁beginnen , ▁ihre ▁Eltern ▁zu ▁lieben ; ▁wenn ▁sie ▁älte r ▁werden , ▁beurteilen ▁sie ▁sie ; ▁ manchmal ▁vergeben ▁sie ▁ihnen . [p = -12.55]\n",
      "17. ▁Kinder ▁beginnen ▁mit ▁der ▁Liebe ▁ihrer ▁Eltern ; ▁wenn ▁sie ▁älte r ▁werden , ▁beurteilen ▁sie ▁sie ; ▁ manchmal ▁verz eihen ▁sie ▁sie ▁ihnen . [p = -12.55]\n",
      "18. ▁Die ▁Kinder ▁beginnen , ▁ihre ▁Eltern ▁zu ▁lieben ; ▁wenn ▁sie ▁älte r ▁werden , ▁beurteilen ▁sie ▁sie ; ▁ manchmal ▁vergeben ▁sie ▁sie ▁ihnen . [p = -12.62]\n",
      "19. ▁Die ▁Kinder ▁beginnen ▁damit , ▁ihre ▁Eltern ▁zu ▁lieben ; ▁wenn ▁sie ▁älte r ▁werden , ▁beurteilen ▁sie ▁sie ; ▁ manchmal ▁verz eihen ▁sie ▁sie ▁ihnen . [p = -12.63]\n",
      "20. ▁Kinder ▁beginnen ▁damit , ▁ihre ▁Eltern ▁zu ▁lieben ; ▁da ▁sie ▁älte r ▁werden , ▁beurteilen ▁sie ▁sie ; ▁ manchmal ▁vergeben ▁sie ▁ihnen . [p = -12.64]\n",
      "21. ▁Kinder ▁beginnen ▁damit , ▁ihre ▁Eltern ▁zu ▁lieben ; ▁wenn ▁sie ▁älte r ▁werden , ▁beurteilen ▁sie ▁sie , ▁ manchmal ▁vergeben ▁sie ▁ihnen . [p = -12.65]\n",
      "22. ▁Kinder ▁beginnen ▁damit , ▁ihre ▁Eltern ▁zu ▁lieben ; ▁da ▁sie ▁älte r ▁werden , ▁beurteilen ▁sie ▁sie ; ▁ manchmal ▁vergeben ▁sie ▁sie ▁ihnen . [p = -12.72]\n",
      "23. ▁Kinder ▁beginnen ▁mit ▁der ▁Liebe ▁ihrer ▁Eltern ; ▁wenn ▁sie ▁älte r ▁werden , ▁beurteilen ▁sie ▁sie ; ▁ manchmal ▁verz eihen ▁sie ▁sie ▁sie . [p = -12.76]\n",
      "24. ▁Die ▁Kinder ▁beginnen ▁damit , ▁ihre ▁Eltern ▁zu ▁lieben ; ▁wenn ▁sie ▁älte r ▁werden , ▁beurteilen ▁sie ▁sie ; ▁ manchmal ▁vergeben ▁sie ▁sie ▁ihnen . [p = -12.81]\n",
      "25. ▁Die ▁Kinder ▁beginnen ▁damit , ▁ihre ▁Eltern ▁zu ▁lieben ; ▁wenn ▁sie ▁älte r ▁werden , ▁beurteilen ▁sie ▁sie ; ▁ manchmal ▁vergeben ▁sie ▁ihnen . [p = -12.85]\n",
      "26. ▁Kinder ▁beginnen ▁damit , ▁ihre ▁Eltern ▁zu ▁lieben ; ▁wenn ▁sie ▁älte r ▁werden , ▁beurteilen ▁sie ▁sie ; ▁ manchmal ▁verz eihen ▁sie ▁sie . [p = -12.85]\n",
      "27. ▁Kinder ▁beginnen ▁damit , ▁ihre ▁Eltern ▁zu ▁lieben ; ▁wenn ▁sie ▁älte r ▁werden , ▁beurteilen ▁sie ▁sie ; ▁ manchmal ▁verz eihen ▁sie ▁ihnen . [p = -13.04]\n",
      "28. ▁Die ▁Kinder ▁beginnen ▁damit , ▁ihre ▁Eltern ▁zu ▁lieben ; ▁wenn ▁sie ▁älte r ▁werden , ▁beurteilen ▁sie ▁sie ; ▁ manchmal ▁vergeben ▁sie ▁sie ▁sie . [p = -13.10]\n",
      "29. ▁Kinder ▁beginnen ▁damit , ▁ihre ▁Eltern ▁zu ▁lieben ; ▁wenn ▁sie ▁älte r ▁werden , ▁beurteilen ▁sie ▁sie , ▁ manchmal ▁verz eihen ▁sie ▁sie ▁ihnen . [p = -13.17]\n",
      "30. ▁Die ▁Kinder ▁beginnen ▁damit , ▁ihre ▁Eltern ▁zu ▁lieben ; ▁da ▁sie ▁älte r ▁werden , ▁beurteilen ▁sie ▁sie ; ▁ manchmal ▁verz eihen ▁sie ▁sie ▁ihnen . [p = -13.37]\n",
      "Sanity check: log likehood of the best translation = -11.66\n"
     ]
    }
   ],
   "source": [
    "n_beams = 30\n",
    "english_sentence = 'Children begin by loving their parents; as they grow older they judge them; sometimes they forgive them.'\n",
    "english_tokens = tokenizer.tokenize(english_sentence)\n",
    "optimizer = BeamOptimizer(english_sentence, n_beams=n_beams)\n",
    "print('Optimizer initialized...')\n",
    "translations, probabilities = optimizer.optimize()\n",
    "print('English sentence:', english_sentence)\n",
    "print('Top', n_beams, 'translations:')\n",
    "for i, translation in enumerate(translations):\n",
    "    print(f\"{i+1}. {' '.join(translation[:-1])} [p = {probabilities[i]:.2f}]\")\n",
    "\n",
    "score = scorer.score_tokenized_texts([english_tokens], [translations[0][:-1]])[0]\n",
    "print(f'Sanity check: log likehood of the best translation = {score:.2f}')"
   ]
  },
  {
   "cell_type": "code",
   "execution_count": 4,
   "metadata": {},
   "outputs": [
    {
     "name": "stdout",
     "output_type": "stream",
     "text": [
      "Optimizer initialized...\n",
      "English sentence: Children begin by loving their parents; as they grow older they judge them; sometimes they forgive them.\n",
      "Top 1 translations:\n",
      "1. ▁Kinder ▁beginnen ▁damit , ▁ihre ▁Eltern ▁zu ▁lieben ; ▁wenn ▁sie ▁älte r ▁werden , ▁beurteilen ▁sie ▁sie ; ▁ manchmal ▁vergeben ▁sie ▁sie ▁ihnen . [p = -11.85]\n",
      "Sanity check: log likehood of the best translation = -11.85\n"
     ]
    }
   ],
   "source": [
    "n_beams = 1\n",
    "english_tokens = tokenizer.tokenize(english_sentence)\n",
    "optimizer = BeamOptimizer(english_sentence, n_beams=n_beams)\n",
    "print('Optimizer initialized...')\n",
    "translations, probabilities = optimizer.optimize()\n",
    "print('English sentence:', english_sentence)\n",
    "print('Top', n_beams, 'translations:')\n",
    "for i, translation in enumerate(translations):\n",
    "    print(f\"{i+1}. {' '.join(translation[:-1])} [p = {probabilities[i]:.2f}]\")\n",
    "\n",
    "score = scorer.score_tokenized_texts([english_tokens], [translations[0][:-1]])[0]\n",
    "print(f'Sanity check: log likehood of the best translation = {score:.2f}')"
   ]
  },
  {
   "cell_type": "code",
   "execution_count": 7,
   "metadata": {},
   "outputs": [
    {
     "name": "stdout",
     "output_type": "stream",
     "text": [
      "Optimizer initialized...\n",
      "English sentence: There is always something ridiculous about the emotions of people whom one has ceased to love.\n",
      "Top 30 translations:\n",
      "1. ▁Es ▁gibt ▁immer ▁etwas ▁Lä cherlich es ▁über ▁die ▁Emotion en ▁von ▁Menschen , ▁die ▁man ▁auf gehört ▁hat ▁zu ▁lieben . [p = -8.88]\n",
      "2. ▁Es ▁ist ▁immer ▁etwas ▁Lä cherlich es ▁an ▁den ▁Emotion en ▁von ▁Menschen , ▁die ▁man ▁auf gehört ▁hat ▁zu ▁lieben . [p = -9.00]\n",
      "3. ▁Es ▁gibt ▁immer ▁etwas ▁Lä cherlich es ▁an ▁den ▁Emotion en ▁von ▁Menschen , ▁die ▁man ▁auf gehört ▁hat ▁zu ▁lieben . [p = -9.06]\n",
      "4. ▁Es ▁ist ▁immer ▁etwas ▁Lä cherlich es ▁über ▁die ▁Emotion en ▁von ▁Menschen , ▁die ▁man ▁auf gehört ▁hat ▁zu ▁lieben . [p = -9.08]\n",
      "5. ▁Es ▁gibt ▁immer ▁etwas ▁Lä cherlich es ▁über ▁die ▁Emotion en ▁von ▁Menschen , ▁die ▁man ▁auf gehört ▁zu ▁lieben . [p = -9.32]\n",
      "6. ▁Es ▁gibt ▁immer ▁etwas ▁Lä cherlich es ▁über ▁die ▁Gefühl e ▁von ▁Menschen , ▁die ▁man ▁auf gehört ▁hat ▁zu ▁lieben . [p = -9.35]\n",
      "7. ▁Es ▁ist ▁immer ▁etwas ▁Lä cherlich es ▁über ▁die ▁Emotion en ▁von ▁Menschen , ▁die ▁man ▁auf gehört ▁zu ▁lieben . [p = -9.44]\n",
      "8. ▁Es ▁ist ▁immer ▁etwas ▁Lä cherlich es ▁an ▁den ▁Gefühl en ▁von ▁Menschen , ▁die ▁man ▁auf gehört ▁hat ▁zu ▁lieben . [p = -9.44]\n",
      "9. ▁Es ▁gibt ▁immer ▁etwas ▁Lä cherlich es ▁an ▁den ▁Gefühl en ▁von ▁Menschen , ▁die ▁man ▁auf gehört ▁hat ▁zu ▁lieben . [p = -9.44]\n",
      "10. ▁Es ▁ist ▁immer ▁etwas ▁Lä cherlich es ▁an ▁den ▁Emotion en ▁von ▁Menschen , ▁die ▁man ▁auf gehört ▁zu ▁lieben . [p = -9.45]\n",
      "11. ▁Es ▁gibt ▁immer ▁etwas ▁Lä cherlich es ▁über ▁die ▁Emotion en ▁von ▁Menschen , ▁die ▁man ▁nicht ▁mehr ▁lieben . [p = -9.52]\n",
      "12. ▁Es ▁ist ▁immer ▁etwas ▁lä cherlich ▁über ▁die ▁Emotion en ▁von ▁Menschen , ▁die ▁man ▁auf gehört ▁hat ▁zu ▁lieben . [p = -9.59]\n",
      "13. ▁Es ▁gibt ▁immer ▁etwas ▁Lä cherlich es ▁an ▁den ▁Emotion en ▁von ▁Menschen , ▁die ▁man ▁auf gehört ▁zu ▁lieben . [p = -9.60]\n",
      "14. ▁Es ▁ist ▁immer ▁etwas ▁Lä cherlich es ▁an ▁den ▁Emotion en ▁von ▁Menschen , ▁die ▁man ▁nicht ▁mehr ▁lieben . [p = -9.60]\n",
      "15. ▁Es ▁ist ▁immer ▁etwas ▁Lä cherlich es ▁über ▁die ▁Gefühl e ▁von ▁Menschen , ▁die ▁man ▁auf gehört ▁hat ▁zu ▁lieben . [p = -9.65]\n",
      "16. ▁Es ▁ist ▁immer ▁etwas ▁Lä cherlich es ▁über ▁die ▁Emotion en ▁von ▁Menschen , ▁die ▁man ▁nicht ▁mehr ▁lieben . [p = -9.71]\n",
      "17. ▁Es ▁ist ▁immer ▁etwas ▁lä cherlich ▁an ▁den ▁Emotion en ▁von ▁Menschen , ▁die ▁man ▁auf gehört ▁hat ▁zu ▁lieben . [p = -9.75]\n",
      "18. ▁Es ▁gibt ▁immer ▁etwas ▁Lä cherlich es ▁über ▁die ▁Gefühl e ▁von ▁Menschen , ▁die ▁man ▁auf gehört ▁zu ▁lieben . [p = -9.78]\n",
      "19. ▁Es ▁gibt ▁immer ▁etwas ▁Lä cherlich es ▁an ▁den ▁Emotion en ▁von ▁Menschen , ▁die ▁man ▁nicht ▁mehr ▁lieben . [p = -9.80]\n",
      "20. ▁Es ▁ist ▁immer ▁etwas ▁lä cherlich ▁über ▁die ▁Emotion en ▁von ▁Menschen , ▁die ▁man ▁auf gehört ▁zu ▁lieben . [p = -9.84]\n",
      "21. ▁Es ▁gibt ▁immer ▁etwas ▁Lä cherlich es ▁über ▁die ▁Gefühl e ▁von ▁Menschen , ▁die ▁man ▁nicht ▁mehr ▁lieben . [p = -9.94]\n",
      "22. ▁Es ▁ist ▁immer ▁etwas ▁Lä cherlich es ▁an ▁den ▁Gefühl en ▁von ▁Menschen , ▁die ▁man ▁auf gehört ▁zu ▁lieben . [p = -9.94]\n",
      "23. ▁Es ▁ist ▁immer ▁etwas ▁Lä cherlich es ▁an ▁den ▁Gefühl en ▁von ▁Menschen , ▁die ▁man ▁nicht ▁mehr ▁lieben . [p = -9.99]\n",
      "24. ▁Es ▁ist ▁immer ▁etwas ▁Lä cherlich es ▁über ▁die ▁Gefühl e ▁von ▁Menschen , ▁die ▁man ▁auf gehört ▁zu ▁lieben . [p = -10.00]\n",
      "25. ▁Es ▁gibt ▁immer ▁etwas ▁Lä cherlich es ▁an ▁den ▁Gefühl en ▁von ▁Menschen , ▁die ▁man ▁auf gehört ▁zu ▁lieben . [p = -10.04]\n",
      "26. ▁Es ▁ist ▁immer ▁etwas ▁lä cherlich ▁über ▁die ▁Gefühl e ▁von ▁Menschen , ▁die ▁man ▁auf gehört ▁hat ▁zu ▁lieben . [p = -10.05]\n",
      "27. ▁Es ▁gibt ▁immer ▁etwas ▁Lä cherlich es ▁an ▁den ▁Gefühl en ▁von ▁Menschen , ▁die ▁man ▁nicht ▁mehr ▁lieben . [p = -10.06]\n",
      "28. ▁Es ▁gibt ▁immer ▁etwas ▁Lä cherlich es ▁über ▁die ▁Emotion en ▁von ▁Menschen , ▁die ▁man ▁nicht ▁mehr ▁zu ▁lieben . [p = -10.26]\n",
      "29. ▁Es ▁ist ▁immer ▁etwas ▁Lä cherlich es ▁über ▁die ▁Emotion en ▁von ▁Menschen , ▁die ▁man ▁nicht ▁mehr ▁zu ▁lieben . [p = -10.27]\n",
      "30. ▁Es ▁ist ▁immer ▁etwas ▁Lä cherlich es ▁an ▁den ▁Emotion en ▁der ▁Menschen , ▁die ▁man ▁auf gehört ▁hat ▁zu ▁lieben . [p = -10.33]\n",
      "Sanity check: log likehood of the best translation = -8.88\n"
     ]
    }
   ],
   "source": [
    "n_beams = 30\n",
    "english_sentence = \"There is always something ridiculous about the emotions of people whom one has ceased to love.\"\n",
    "english_tokens = tokenizer.tokenize(english_sentence)\n",
    "optimizer = BeamOptimizer(english_sentence, n_beams=n_beams)\n",
    "print('Optimizer initialized...')\n",
    "translations, probabilities = optimizer.optimize()\n",
    "print('English sentence:', english_sentence)\n",
    "print('Top', n_beams, 'translations:')\n",
    "for i, translation in enumerate(translations):\n",
    "    print(f\"{i+1}. {' '.join(translation[:-1])} [p = {probabilities[i]:.2f}]\")\n",
    "\n",
    "score = scorer.score_tokenized_texts([english_tokens], [translations[0][:-1]])[0]\n",
    "print(f'Sanity check: log likehood of the best translation = {score:.2f}')"
   ]
  },
  {
   "cell_type": "code",
   "execution_count": 6,
   "metadata": {},
   "outputs": [
    {
     "name": "stdout",
     "output_type": "stream",
     "text": [
      "Optimizer initialized...\n",
      "English sentence: There is always something ridiculous about the emotions of people whom one has ceased to love.\n",
      "Top 1 translations:\n",
      "1. ▁Es ▁ist ▁immer ▁etwas ▁Lä cherlich es ▁an ▁den ▁Emotion en ▁von ▁Menschen , ▁die ▁man ▁nicht ▁mehr ▁lieben . [p = -9.60]\n",
      "Sanity check: log likehood of the best translation = -9.60\n"
     ]
    }
   ],
   "source": [
    "n_beams = 1\n",
    "english_sentence = \"There is always something ridiculous about the emotions of people whom one has ceased to love.\"\n",
    "english_tokens = tokenizer.tokenize(english_sentence)\n",
    "optimizer = BeamOptimizer(english_sentence, n_beams=n_beams)\n",
    "print('Optimizer initialized...')\n",
    "translations, probabilities = optimizer.optimize()\n",
    "print('English sentence:', english_sentence)\n",
    "print('Top', n_beams, 'translations:')\n",
    "for i, translation in enumerate(translations):\n",
    "    print(f\"{i+1}. {' '.join(translation[:-1])} [p = {probabilities[i]:.2f}]\")\n",
    "\n",
    "score = scorer.score_tokenized_texts([english_tokens], [translations[0][:-1]])[0]\n",
    "print(f'Sanity check: log likehood of the best translation = {score:.2f}')"
   ]
  },
  {
   "cell_type": "code",
   "execution_count": 3,
   "metadata": {},
   "outputs": [
    {
     "name": "stdout",
     "output_type": "stream",
     "text": [
      "Optimizer initialized...\n",
      "English sentence: I count him braver who overcomes his desires than him who conquers his enemies; for the hardest victory is over self.\n",
      "Top 10 translations:\n",
      "1. ▁Ich ▁z ähle ▁ihn ▁mut iger , ▁der ▁seine ▁Wünsche ▁über wind et ▁als ▁der , ▁der ▁seine ▁Fein de ▁erobert ; ▁denn ▁der ▁ härte ste ▁Sieg ▁ist ▁über ▁sich ▁selbst . [p = -9.36]\n",
      "2. ▁Ich ▁z ähle ▁ihn ▁mut iger , ▁der ▁seine ▁Wünsche ▁über wind et ▁als ▁er , ▁der ▁seine ▁Fein de ▁erobert ; ▁denn ▁der ▁ härte ste ▁Sieg ▁ist ▁über ▁sich ▁selbst . [p = -9.37]\n",
      "3. ▁Ich ▁z ähle ▁ihn ▁mut iger , ▁der ▁seine ▁Wünsche ▁über wind et ▁als ▁der j en ige , ▁der ▁seine ▁Fein de ▁erobert ; ▁denn ▁der ▁ härte ste ▁Sieg ▁ist ▁über ▁sich ▁selbst . [p = -9.54]\n",
      "4. ▁Ich ▁z ähle ▁ihn ▁mut iger , ▁der ▁seine ▁Wünsche ▁über wind et , ▁als ▁den , ▁der ▁seine ▁Fein de ▁erobert ; ▁denn ▁der ▁ härte ste ▁Sieg ▁ist ▁über ▁sich ▁selbst . [p = -9.68]\n",
      "5. ▁Ich ▁z ähle ▁ihn ▁mut iger , ▁der ▁seine ▁Wünsche ▁über wind et ▁als ▁er , ▁der ▁seine ▁Fein de ▁er ober t ; ▁denn ▁der ▁ härte ste ▁Sieg ▁ist ▁über ▁sich ▁selbst . [p = -10.36]\n",
      "6. ▁Ich ▁z ähle ▁ihn ▁mut iger , ▁der ▁seine ▁Wünsche ▁über wind et ▁als ▁der , ▁der ▁seine ▁Fein de ▁er ober t ; ▁denn ▁der ▁ härte ste ▁Sieg ▁ist ▁über ▁sich ▁selbst . [p = -10.46]\n",
      "7. ▁Ich ▁z ähle ▁ihn ▁mut iger , ▁der ▁seine ▁Wünsche ▁über wind et ▁als ▁der j en ige , ▁der ▁seine ▁Fein de ▁er ober t ; ▁denn ▁der ▁ härte ste ▁Sieg ▁ist ▁über ▁sich ▁selbst . [p = -10.73]\n",
      "8. ▁Ich ▁z ähle ▁ihn ▁mut iger , ▁der ▁seine ▁Wünsche ▁über wind et ▁als ▁der j en ige , ▁der ▁seine ▁Fein de ▁erobert ; ▁denn ▁der ▁schwer ste ▁Sieg ▁ist ▁über ▁sich ▁selbst . [p = -10.74]\n",
      "9. ▁Ich ▁z ähle ▁ihn ▁mut iger , ▁der ▁seine ▁Wünsche ▁über wind et ▁als ▁der j en ige , ▁der ▁seine ▁Fein de ▁besieg t ; ▁denn ▁der ▁ härte ste ▁Sieg ▁ist ▁über ▁sich ▁selbst . [p = -10.75]\n",
      "10. ▁Ich ▁z ähle ▁ihn ▁mut iger , ▁der ▁seine ▁Wünsche ▁über wind et , ▁als ▁den , ▁der ▁seine ▁Fein de ▁er ober t ; ▁denn ▁der ▁ härte ste ▁Sieg ▁ist ▁über ▁sich ▁selbst . [p = -10.77]\n",
      "Sanity check: log likehood of the best translation = -9.36\n"
     ]
    }
   ],
   "source": [
    "n_beams = 10\n",
    "english_sentence = \"I count him braver who overcomes his desires than him who conquers his enemies; for the hardest victory is over self.\"\n",
    "english_tokens = tokenizer.tokenize(english_sentence)\n",
    "optimizer = BeamOptimizer(english_sentence, n_beams=n_beams)\n",
    "print('Optimizer initialized...')\n",
    "translations, probabilities = optimizer.optimize()\n",
    "print('English sentence:', english_sentence)\n",
    "print('Top', n_beams, 'translations:')\n",
    "for i, translation in enumerate(translations):\n",
    "    print(f\"{i+1}. {' '.join(translation[:-1])} [p = {probabilities[i]:.2f}]\")\n",
    "\n",
    "score = scorer.score_tokenized_texts([english_tokens], [translations[0][:-1]])[0]\n",
    "print(f'Sanity check: log likehood of the best translation = {score:.2f}')"
   ]
  },
  {
   "cell_type": "code",
   "execution_count": 8,
   "metadata": {},
   "outputs": [
    {
     "name": "stdout",
     "output_type": "stream",
     "text": [
      "Optimizer initialized...\n",
      "English sentence: I count him braver who overcomes his desires than him who conquers his enemies; for the hardest victory is over self.\n",
      "Top 1 translations:\n",
      "1. ▁Ich ▁z ähle ▁ihn ▁mut iger , ▁der ▁seine ▁Wünsche ▁über wind et ▁als ▁der j en ige , ▁der ▁seine ▁Fein de ▁erobert ; ▁denn ▁der ▁ härte ste ▁Sieg ▁ist ▁über ▁sich ▁selbst . [p = -9.54]\n",
      "Sanity check: log likehood of the best translation = -9.54\n"
     ]
    }
   ],
   "source": [
    "n_beams = 1\n",
    "english_sentence = \"I count him braver who overcomes his desires than him who conquers his enemies; for the hardest victory is over self.\"\n",
    "english_tokens = tokenizer.tokenize(english_sentence)\n",
    "optimizer = BeamOptimizer(english_sentence, n_beams=n_beams)\n",
    "print('Optimizer initialized...')\n",
    "translations, probabilities = optimizer.optimize()\n",
    "print('English sentence:', english_sentence)\n",
    "print('Top', n_beams, 'translations:')\n",
    "for i, translation in enumerate(translations):\n",
    "    print(f\"{i+1}. {' '.join(translation[:-1])} [p = {probabilities[i]:.2f}]\")\n",
    "\n",
    "score = scorer.score_tokenized_texts([english_tokens], [translations[0][:-1]])[0]\n",
    "print(f'Sanity check: log likehood of the best translation = {score:.2f}')"
   ]
  },
  {
   "cell_type": "code",
   "execution_count": null,
   "metadata": {},
   "outputs": [],
   "source": []
  }
 ],
 "metadata": {
  "kernelspec": {
   "display_name": "Python 3",
   "language": "python",
   "name": "python3"
  },
  "language_info": {
   "codemirror_mode": {
    "name": "ipython",
    "version": 3
   },
   "file_extension": ".py",
   "mimetype": "text/x-python",
   "name": "python",
   "nbconvert_exporter": "python",
   "pygments_lexer": "ipython3",
   "version": "3.6.5"
  }
 },
 "nbformat": 4,
 "nbformat_minor": 1
}
